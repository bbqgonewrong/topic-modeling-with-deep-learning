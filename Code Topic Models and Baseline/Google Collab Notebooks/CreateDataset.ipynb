{
  "nbformat": 4,
  "nbformat_minor": 0,
  "metadata": {
    "colab": {
      "name": "test_train_resnet50.ipynb",
      "provenance": [],
      "collapsed_sections": [
        "CKXy6OroBn2o",
        "q45fWTUhOGSd",
        "qY5e1dcU341d",
        "kD6xCH6qksaL",
        "NANLvkYev21I",
        "yuUNa04h0Xko"
      ],
      "toc_visible": true,
      "machine_shape": "hm"
    },
    "kernelspec": {
      "display_name": "Python 3",
      "name": "python3"
    },
    "language_info": {
      "name": "python"
    },
    "accelerator": "GPU"
  },
  "cells": [
    {
      "cell_type": "markdown",
      "metadata": {
        "id": "eGONPFL_8k_u"
      },
      "source": [
        "#This notebook is used for craeting the EgoPlaces dataset from the EgoRoutine dataset as well as Sampling the Places365 dataset"
      ]
    },
    {
      "cell_type": "code",
      "metadata": {
        "id": "qRjCJsGMioGr"
      },
      "source": [
        "from google.colab import drive\n",
        "drive.mount('/content/gdrive',force_remount=True)"
      ],
      "execution_count": null,
      "outputs": []
    },
    {
      "cell_type": "markdown",
      "metadata": {
        "id": "vwPFtcGMBQP7"
      },
      "source": [
        "#Libraries"
      ]
    },
    {
      "cell_type": "code",
      "metadata": {
        "id": "HFf_z3YfruJQ"
      },
      "source": [
        "from tensorflow.keras.applications.resnet50 import ResNet50\n",
        "from tensorflow.keras.preprocessing import image\n",
        "from tensorflow.keras.applications.resnet50 import preprocess_input, decode_predictions\n",
        "import numpy as np\n",
        "from tensorflow.python.keras.models import Sequential,Model\n",
        "from tensorflow.python.keras.layers import Dense,AveragePooling2D,Dropout,Flatten,Dense,Input,Concatenate\n",
        "from google.colab.patches import cv2_imshow,cv2\n",
        "import os\n",
        "import pandas as pd\n",
        "from tensorflow.keras.optimizers import Adam\n",
        "from sklearn.model_selection import train_test_split\n",
        "import matplotlib.pylab as plt\n",
        "from tensorflow.keras.preprocessing.image import ImageDataGenerator\n",
        "import shutil\n",
        "from sklearn.metrics import confusion_matrix,classification_report\n",
        "from google.colab import files\n",
        "from keras.callbacks import ModelCheckpoint,EarlyStopping,ReduceLROnPlateau\n",
        "from tensorflow import keras\n",
        "import tensorflow as tf\n",
        "from sklearn.model_selection import KFold,StratifiedKFold\n",
        "from sklearn.utils import class_weight\n",
        "from sklearn.utils import shuffle\n",
        "import json\n",
        "import shutil"
      ],
      "execution_count": null,
      "outputs": []
    },
    {
      "cell_type": "code",
      "metadata": {
        "id": "uH3P4Wg56gzv"
      },
      "source": [
        ""
      ],
      "execution_count": null,
      "outputs": []
    },
    {
      "cell_type": "code",
      "metadata": {
        "id": "b5gQfIl0dQWe"
      },
      "source": [
        "from google.colab import drive\n",
        "drive.mount('/content/drive')"
      ],
      "execution_count": null,
      "outputs": []
    },
    {
      "cell_type": "code",
      "metadata": {
        "id": "PJUIPbq8ufcx"
      },
      "source": [
        "  user_1 = '/content/gdrive/MyDrive/images_routine_users/'\n",
        "  user_list = []\n",
        "  dirListing = os.listdir(user_1)\n",
        "  for files in dirListing:\n",
        "    if files.startswith(\"user_\"):\n",
        "      relpath = os.path.relpath(files)\n",
        "      users = os.path.join(user_1,files)\n",
        "      # print(\"A\",files)\n",
        "      #print(\"B\",users)\n",
        "      # print(\"C\",relpath)\n",
        "     # print(\"With paths\")\n",
        "    #  print(\"D\",os.listdir(users))\n",
        "      for u in os.listdir(users):\n",
        "        print(u)\n",
        "        user_folder = os.path.join(users,u)\n",
        "        if(not user_folder.endswith('Store')):\n",
        "          user_list.append(user_folder)\n",
        "        #print(dirListing2)\n",
        "      #users.append(files)\n",
        "      #print(os.path.join(users,files))\n",
        "      #print(userList)\n",
        "  #print(dirListing)\n"
      ],
      "execution_count": null,
      "outputs": []
    },
    {
      "cell_type": "code",
      "metadata": {
        "id": "fDOKQNGiygD0"
      },
      "source": [
        "#Reading images from each user folder\n",
        "\n",
        "def load_images_from_folder(folder):\n",
        "    images = []\n",
        "    for filename in os.listdir(folder):\n",
        "        # filename.sort(key = os.path.getctime(os.path.join(folder,filename)))\n",
        "        if filename.endswith(\".jpg\"):\n",
        "            images.append(os.path.join(folder,filename))\n",
        "            #Sorting images by creation date\n",
        "            #images.sort(key=os.path.getctime(images))\n",
        "            #print(os.list.dir(filename)\n",
        "    return images\n",
        "\n",
        " #img = cv2.imread(os.path.join(folder, filename))\n",
        "  #          if img is not None:"
      ],
      "execution_count": null,
      "outputs": []
    },
    {
      "cell_type": "code",
      "metadata": {
        "id": "Fuu8tA6bdEFQ"
      },
      "source": [
        "def read_labels_from_folder(folder):\n",
        "  labels = []\n",
        "  for filename in os.listdir(folder):\n",
        "    if filename.endswith('.csv'):\n",
        "      labels = pd.read_csv(filename)\n",
        "  return labels"
      ],
      "execution_count": null,
      "outputs": []
    },
    {
      "cell_type": "code",
      "metadata": {
        "id": "8nHlqwJ4liHd"
      },
      "source": [
        "#Getting the different subfolders needed\n",
        "#user_1 = '/content/gdrive/MyDrive/images_routine_users/user_01'\n",
        "#user_list = []\n",
        "\n",
        "user_images_all = []\n",
        "\n",
        "user_list.sort()\n",
        "for folder in user_list:\n",
        "  us = []\n",
        "  user_images = load_images_from_folder(folder)\n",
        "  user_images.sort(key = os.path.getctime)\n",
        "  \n",
        "  user_images_all.extend(user_images)\n",
        "user_image_data = pd.DataFrame(user_images_all)  \n"
      ],
      "execution_count": null,
      "outputs": []
    },
    {
      "cell_type": "code",
      "metadata": {
        "id": "pLB9wc0V480Y"
      },
      "source": [
        "#Responsible for building labels\n",
        "labels_path = '/content/gdrive/MyDrive/images_routine_users/Descriptors - EgoRoutine/places'\n",
        "#Read csv for labels\\\n",
        "label_path = []\n",
        "labels = []\n",
        "labels_all = []\n",
        "label_data = []\n",
        "for label_file in user_list:\n",
        "  #print(label_file)\n",
        "  \n",
        "  q = label_file.split('/')[-1]\n",
        "  p = label_file.split('/')[-2]\n",
        "  #print(p,q)\n",
        "  p = p.replace('_','')\n",
        "  r = p+'/'+q\n",
        "  s = os.path.join(labels_path,r)\n",
        "  s = s+'_labels_places.csv'\n",
        "  label_path.append(s)\n",
        "  \n",
        "  #print(s)\n",
        "for label in sorted(label_path):\n",
        "  #print(\"Reading \",label,\":\")\n",
        "  labels = pd.read_csv(label,header=None)\n",
        "  print(\"Adding to database\")\n",
        "  label_data.append(labels)\n",
        "  #print(labels)\n",
        "  print(\"Going to next one\")\n",
        "labels_all = pd.concat(label_data)\n",
        "labels_data = pd.DataFrame(labels_all)\n",
        "\n",
        "#Building the final data frame\n",
        "user_image_data.reset_index(drop=True, inplace=True)\n",
        "labels_data.reset_index(drop=True, inplace=True)\n",
        "final_data = pd.concat([user_image_data, labels_data], axis=1)\n",
        "  \n",
        "  "
      ],
      "execution_count": null,
      "outputs": []
    },
    {
      "cell_type": "code",
      "metadata": {
        "id": "zp5H3eBSP44d"
      },
      "source": [
        "#Not needed for now\n",
        "#Adding labels\n",
        "user_label_list = []\n",
        "labels_root_path = '/content/gdrive/MyDrive/images_routine_users/Descriptors - EgoRoutine/places'\n",
        "for label_folders in os.listdir(labels_root_path):\n",
        "  #user_label = os.path.join(labels_root_path,label_folders)\n",
        "  user_label_list.append(label_folders)\n",
        "  for user_label in os.listdir(os.path.join(labels_root_path,label_folders)):\n",
        "    x = user_label.split('_')[0]\n",
        "    y = user_label.split('_')[1]\n",
        "    z = x+'_'+y\n",
        "    print(z)\n",
        "    # y = '_'.join(x)\n",
        "    # print(y)\n",
        "  #print(user_label)\n"
      ],
      "execution_count": null,
      "outputs": []
    },
    {
      "cell_type": "code",
      "metadata": {
        "id": "jgR30WkKaxmg"
      },
      "source": [
        "#Checking for duplicates\n",
        "\n",
        "def checkIfDuplicates_3(listOfElems):\n",
        "    ''' Check if given list contains any duplicates '''    \n",
        "    for elem in listOfElems:\n",
        "        if listOfElems.count(elem) > 1:\n",
        "            return True\n",
        "    return False"
      ],
      "execution_count": null,
      "outputs": []
    },
    {
      "cell_type": "code",
      "metadata": {
        "id": "IRqo0tDZGRCX"
      },
      "source": [
        "#Running function to check duplicates\n",
        "checkIfDuplicates_3(user_image_data)\n"
      ],
      "execution_count": null,
      "outputs": []
    },
    {
      "cell_type": "markdown",
      "metadata": {
        "id": "-pLPP8wQELiv"
      },
      "source": [
        "#Data splitter\n",
        "\n",
        "Here lies the function which will transform the meta dataset into data frames made up of the classes in the format df_classname"
      ]
    },
    {
      "cell_type": "code",
      "metadata": {
        "id": "bOJgDmA0G5KU"
      },
      "source": [
        "#Performing the split using sklearn\n",
        "#Creating a function to do this for us\n",
        "def split_data(df,r_train,r_test,r_val):\n",
        "  train_ratio = r_train\n",
        "  test_ratio = r_test\n",
        "  val_ratio = r_val\n",
        "  #Creating the test set\n",
        "  df_remaining,df_test = train_test_split(df,test_size = test_ratio,shuffle='True',random_state=42)\n",
        "  ratio_remain = 1-test_ratio\n",
        "  adjusted_ratio = val_ratio/ratio_remain\n",
        "  df_train,df_val = train_test_split(df,test_size = adjusted_ratio,shuffle='True',random_state=42)\n",
        "  return df_train,df_test,df_val"
      ],
      "execution_count": null,
      "outputs": []
    },
    {
      "cell_type": "markdown",
      "metadata": {
        "id": "8e1vfbe5hrfY"
      },
      "source": [
        "![image.png](data:image/png;base64,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)"
      ]
    },
    {
      "cell_type": "markdown",
      "metadata": {
        "id": "pHstWA4EKXR7"
      },
      "source": [
        "#Label Creation"
      ]
    },
    {
      "cell_type": "code",
      "metadata": {
        "id": "DsJHxJH_9tCJ"
      },
      "source": [
        "#Make this into a function when time permits\n",
        "\n",
        "#Reading labels from the excel files\n",
        "metalabel_data = []\n",
        "metalabels_all = []\n",
        "metalabels_path = \"/content/gdrive/MyDrive/image_routine_descriptors\"\n",
        "for file in sorted(os.listdir(metalabels_path)):\n",
        "  print(file)\n",
        "  if(file.endswith('.xlsx')):\n",
        "    meta_labels = pd.concat(pd.read_excel(os.path.join(metalabels_path,file),sheet_name=None))\n",
        "    metalabel_data.append(meta_labels)\n",
        "metalabels_all = pd.concat(metalabel_data)\n",
        "meta_label_all_data = pd.DataFrame(metalabels_all)\n",
        "meta_label_all_data.to_csv('meta_label.csv')  "
      ],
      "execution_count": null,
      "outputs": []
    },
    {
      "cell_type": "markdown",
      "metadata": {
        "id": "--aa2d5RKmn0"
      },
      "source": [
        "#Creating data frames per class name"
      ]
    },
    {
      "cell_type": "code",
      "metadata": {
        "id": "xPUA1gZTjkLb"
      },
      "source": [
        "#Creating dataframes for each class\n",
        "#meta_label_all_data.to_csv('meta_label.csv')\n",
        "meta_label_all_data.head()\n",
        "test_labels_all = pd.read_csv('meta_label.csv')\n",
        "test_labels_all = pd.DataFrame(test_labels_all)\n",
        "#test_labels_all.head()\n",
        "user = test_labels_all.iloc[:,0].str[0:4]+'_0'+test_labels_all.iloc[:,0].str[4:5]\n",
        "test_labels_all.iloc[:,2] = '/'+test_labels_all.iloc[:,0].str[0:4]+'_0'+test_labels_all.iloc[:,0].str[4:5]+'/'+test_labels_all.iloc[:,0]+'/'+test_labels_all.iloc[:,2]\n",
        "test_labels_all = test_labels_all.iloc[:,1:]\n",
        "test_labels_all.columns = ['ID','Photo','Class']\n",
        "class_names_meta = test_labels_all['Class'].unique()\n",
        "sorted(class_names_meta)\n",
        "for class_name in class_names_meta:\n",
        "  class_name_rep = class_name.replace(\" \",\"_\")\n",
        "  class_name_rep = class_name_rep.replace(\"/\",\"_\")\n",
        "  class_name_rep = class_name_rep.replace(\" \",\"\")\n",
        "  class_name_rep = class_name_rep.replace(\",_\",\"_\")\n",
        "\n",
        "  #print(class_name_rep)\n",
        "  h = \"df_\" + str(class_name_rep)\n",
        "  vars()[h] = test_labels_all[test_labels_all['Class'] == class_name]\n",
        "  print(\"Created: \",h)\n",
        "\n",
        "\n"
      ],
      "execution_count": null,
      "outputs": []
    },
    {
      "cell_type": "markdown",
      "metadata": {
        "id": "ntUoJkSZoFVU"
      },
      "source": [
        "#Data splitter in action\n"
      ]
    },
    {
      "cell_type": "code",
      "metadata": {
        "id": "T44XWHhBhhDT"
      },
      "source": [
        "#Create loop to do this for all the dataframes\n",
        "df_Education_science_train,df_Education_science_test,df_Education_science_val = split_data(df_Education_science,0.6,0.2,0.2)\n"
      ],
      "execution_count": null,
      "outputs": []
    },
    {
      "cell_type": "code",
      "metadata": {
        "id": "N05B7HUqkftH"
      },
      "source": [
        "# # Use the torchvision's implementation of ResNeXt, but add FC layer for a different number of classes (27) and a Sigmoid instead of a default Softmax.\n",
        "# class Resnext50(nn.Module):\n",
        "#     def __init__(self, n_classes):\n",
        "#         super().__init__()\n",
        "#         resnet = models.resnext50_32x4d(pretrained=True)\n",
        "#         resnet.fc = nn.Sequential(\n",
        "#             nn.Dropout(p=0.2),\n",
        "#             nn.Linear(in_features=resnet.fc.in_features, out_features=n_classes)\n",
        "#         )\n",
        "#         self.base_model = resnet\n",
        "#         self.sigm = nn.Sigmoid()\n",
        "\n",
        "#     def forward(self, x):\n",
        "#         return self.sigm(self.base_model(x))\n",
        "\n",
        "# # Initialize the model\n",
        "# model = Resnext50(len(label_classes))\n",
        "# # Switch model to the training mode\n",
        "# model.train()\n",
        "# df_Sport_fields_train,df_Sport_fields_test,df_Sport_fields_val = split_data(df_Sport_fields,0.6,.2,.2)\n",
        "# abc = get_data(df_Sport_fields_val)\n",
        "abc"
      ],
      "execution_count": null,
      "outputs": []
    },
    {
      "cell_type": "markdown",
      "metadata": {
        "id": "5jOR3FUUNL0C"
      },
      "source": [
        "# Model Definition comes here\n",
        "## This is the base line model"
      ]
    },
    {
      "cell_type": "code",
      "metadata": {
        "id": "-WwguQ2GzlUH"
      },
      "source": [
        "#Defining the model\n",
        "base_model = ResNet50(weights='places', include_top=False, input_shape=(224, 224, 3))\n",
        "x = base_model.output\n",
        "x = AveragePooling2D(pool_size=(7,7))(x)\n",
        "x = Flatten(name =\"flatten\")(x)\n",
        "x = Dense(1024,activation=\"relu\")(x)\n",
        "x = Dropout(0.5)(x)\n",
        "preds = Dense(24,activation=\"softmax\")(x)\n",
        "\n",
        "#Activating the model\n",
        "\n",
        "model = Model(inputs = base_model.input,outputs = preds)\n",
        "\n",
        "#predictions = Dense(26,activation='softmax')(x)\n",
        "#Using softmax for base classification\n",
        "#model = Model(inputs=base_model.input, outputs=predictions)\n",
        "\n",
        "for layer in base_model.layers:\n",
        "    layer.trainable = False\n",
        "\n",
        "\n"
      ],
      "execution_count": null,
      "outputs": []
    },
    {
      "cell_type": "markdown",
      "metadata": {
        "id": "C9A2UB8AT-ft"
      },
      "source": [
        "#Declaring the optimizer"
      ]
    },
    {
      "cell_type": "code",
      "metadata": {
        "id": "4hwTJplUNBf6"
      },
      "source": [
        "#Checking the model statistics\n",
        "#model.summary()\n",
        "#Setting seed ...\n",
        "np.random.seed(7)\n",
        "lr = 1e-2\n",
        "num_epochs = 20\n",
        "opti = Adam(learning_rate= lr,decay = lr/num_epochs)\n",
        "model.compile(optimizer=opti,metrics=[tf.keras.metrics.CategoricalAccuracy(),tf.keras.metrics.Precision(),tf.keras.metrics.Recall()],loss='categorical_crossentropy')"
      ],
      "execution_count": null,
      "outputs": []
    },
    {
      "cell_type": "code",
      "metadata": {
        "id": "ZDTTsQudz64b"
      },
      "source": [
        "from PIL import Image\n",
        "import io\n",
        "\n",
        "\n",
        "#im = PIL.UnidentifiedImageError: cannot identify image file <_io.BytesIO object at 0x7f79a0ad8e30>\n",
        "# image = Image.frombytes('RGBA', (224,224), 0x7f79a0ad8e30, 'raw')"
      ],
      "execution_count": null,
      "outputs": []
    },
    {
      "cell_type": "markdown",
      "metadata": {
        "id": "hOAnisHiJBqU"
      },
      "source": [
        "###Loading functions to get the paths of the images"
      ]
    },
    {
      "cell_type": "code",
      "metadata": {
        "id": "XHXLqkT_Ra_X"
      },
      "source": [
        "def get_image_data(df,root_path):\n",
        "  image_paths = []\n",
        "  labels = []\n",
        "  image_paths = df['Photo']\n",
        "  labels = df['Class']\n",
        "  image_paths = ro+image_paths\n",
        "  return image_paths,labels"
      ],
      "execution_count": null,
      "outputs": []
    },
    {
      "cell_type": "code",
      "metadata": {
        "id": "Nwaabd-40a_0"
      },
      "source": [
        "#/content/gdrive/MyDrive/images_routine_users/user_01/user1_01/20171201_115957_000.jpg'\n",
        "def img_to_data(path):\n",
        "  im = []\n",
        "  image_path = path\n",
        "  image = cv2.imread(image_path);\n",
        "  image_reshape = cv2.resize(image,(224,224))\n",
        "  #image_batch = np.expand_dims(image_reshape, axis = 0)\n",
        "  im.append(image_reshape)\n",
        "  return im\n"
      ],
      "execution_count": null,
      "outputs": []
    },
    {
      "cell_type": "markdown",
      "metadata": {
        "id": "wzjU0kcrLEOc"
      },
      "source": [
        "##Get image as array and return along with labels"
      ]
    },
    {
      "cell_type": "code",
      "metadata": {
        "id": "PaIatiYLd_RK"
      },
      "source": [
        "\n",
        "\n",
        "def get_data(df):\n",
        "  ro = '/content/gdrive/MyDrive/images_routine_users'\n",
        "  test_paths,label = get_image_data(df,ro)\n",
        "  c = pd.DataFrame(test_paths)\n",
        "  d = []\n",
        "  for testpath in test_paths:\n",
        "    print('For image:',testpath)\n",
        "    image = img_to_data(testpath)\n",
        "    print('Path created for:',testpath)\n",
        "    d.extend(image)\n",
        "  return d,label\n",
        "\n"
      ],
      "execution_count": null,
      "outputs": []
    },
    {
      "cell_type": "code",
      "metadata": {
        "id": "M1WxZe34IWT9"
      },
      "source": [
        "b"
      ],
      "execution_count": null,
      "outputs": []
    },
    {
      "cell_type": "code",
      "metadata": {
        "id": "ql_lQ1UGLjQb"
      },
      "source": [
        "#a,a_lab = get_data(df_Office_val)\n",
        "#a = get_data(df_Office_val)\n",
        "a = pd.DataFrame(df_Sport_fields_val)\n",
        "b,b_lab = get_data(a)"
      ],
      "execution_count": null,
      "outputs": []
    },
    {
      "cell_type": "code",
      "metadata": {
        "id": "Jz6FHL8xJoTK"
      },
      "source": [
        "trainAug = ImageDataGenerator(\n",
        "\trotation_range=25,\n",
        "\tzoom_range=0.1,\n",
        "\twidth_shift_range=0.1,\n",
        "\theight_shift_range=0.1,\n",
        "\tshear_range=0.2,\n",
        "\thorizontal_flip=True,\n",
        "\tfill_mode=\"nearest\")\n",
        "# initialize the validation/testing data augmentation object (which\n",
        "# we'll be adding mean subtraction to)\n",
        "valAug = ImageDataGenerator()\n",
        "# define the ImageNet mean subtraction (in RGB order) and set the\n",
        "# the mean subtraction value for each of the data augmentation\n",
        "# objects\n",
        "mean = np.array([123.68, 116.779, 103.939], dtype=\"float32\")\n",
        "trainAug.mean = mean\n",
        "valAug.mean = mean"
      ],
      "execution_count": null,
      "outputs": []
    },
    {
      "cell_type": "markdown",
      "metadata": {
        "id": "vq58lEiP0Q-x"
      },
      "source": [
        "#Grouping the folders into directories and subdirectories"
      ]
    },
    {
      "cell_type": "code",
      "metadata": {
        "id": "J0QGMbAOidAW"
      },
      "source": [
        "# df_Education_science['Class'] = df_Education_science['Class'].str.replace('/',',')\n",
        "# df_Education_science.head()\n",
        "len(df_Office_val)\n"
      ],
      "execution_count": null,
      "outputs": []
    },
    {
      "cell_type": "code",
      "metadata": {
        "id": "X7mFh_kUjf5Y"
      },
      "source": [
        "# os.mkdir('/content/gdrive/MyDrive/data/val')\n",
        "#restaurant/bar,education/science left\n",
        "ro = '/content/gdrive/MyDrive/images_routine_users'\n",
        "len(df_Office_val)#9021\n",
        "missing_off_val = making_folders(df_Office_val)"
      ],
      "execution_count": null,
      "outputs": []
    },
    {
      "cell_type": "code",
      "metadata": {
        "id": "EmwLgWXk_gzv"
      },
      "source": [
        "#pd.DataFrame(missing_bed_test).to_csv('missing_bed_test.csv')\n",
        "pd.DataFrame(missing_off_val).to_csv('missing_off_val.csv')\n"
      ],
      "execution_count": null,
      "outputs": []
    },
    {
      "cell_type": "code",
      "metadata": {
        "id": "EprYuvbJz_NE"
      },
      "source": [
        "\n",
        "# for image in image_list:\n",
        "#   imag.append(os.path.join(ro,image))\n",
        "# imag\n",
        "def making_folders(df):\n",
        "  rd ='/content/gdrive/MyDrive/'\n",
        "  testing = pd.DataFrame(df.iloc[:,1])\n",
        "  test = ro+testing['Photo']\n",
        "  labb = pd.DataFrame(df.iloc[:,2])\n",
        "  pd.DataFrame(test)\n",
        "  labbb = labb.iloc[1,:].tolist()\n",
        "  labbb = labbb.pop(0)\n",
        "  print(labbb)\n",
        "  dest = rd+'data/val/'\n",
        "  missing = []\n",
        "  for t in test:\n",
        "    des = dest+labbb+'/'\n",
        "    if(os.path.exists(des) == False):\n",
        "      os.mkdir(des)\n",
        "      print('Created :',des)\n",
        "    p = t.split(\"/\")[-1]\n",
        "    print(p)\n",
        "    dest_rest = dest+labbb+'/'+p\n",
        "    if(os.path.isfile(t)):  \n",
        "      if(os.path.isfile(dest_rest)== False):\n",
        "        shutil.copy2(t,dest_rest)\n",
        "        print(p,\" copied to: \",dest_rest)\n",
        "      else:\n",
        "        print(dest_rest,\" already exists...\")\n",
        "    else:\n",
        "      missing.append(t)\n",
        "      print('File ',t,' not found in source...')\n",
        "  return missing\n"
      ],
      "execution_count": null,
      "outputs": []
    },
    {
      "cell_type": "markdown",
      "metadata": {
        "id": "C5bdC-MEaxul"
      },
      "source": [
        "#Defining the train test and val generators"
      ]
    },
    {
      "cell_type": "code",
      "metadata": {
        "id": "jIi9BbhjJrS6"
      },
      "source": [
        "#Initializing the image data generator\n",
        "datagen = ImageDataGenerator(rescale=1./255)\n",
        "\n",
        "#For training data\n",
        "trainGen = datagen.flow_from_directory('/content/gdrive/MyDrive/data/train',\n",
        "    target_size=(224,224),color_mode='rgb',batch_size=32,shuffle=True,class_mode='categorical',seed=42)\n",
        "num_train_samples = len(trainGen.filenames)\n",
        "num_train_classes = len(trainGen.class_indices)\n",
        "\n",
        "#For validation data\n",
        "valGen = datagen.flow_from_directory('/content/gdrive/MyDrive/data/val',target_size=(224,224),\n",
        "         color_mode='rgb',batch_size=32,shuffle=True,class_mode='categorical',seed=42)\n",
        "num_val_samples = len(valGen.filenames)\n",
        "num_val_classes = len(valGen.class_indices)\n",
        "\n",
        "#For testing data\n",
        "testGen = datagen.flow_from_directory('/content/gdrive/MyDrive/data/test',target_size=(224,224),\n",
        "                      color_mode='rgb',batch_size=32,class_mode=None,shuffle=False,seed=42)\n",
        "num_test_samples = len(testGen.filenames)\n",
        "num_test_classes = len(testGen.class_indices)\n",
        "\n"
      ],
      "execution_count": null,
      "outputs": []
    },
    {
      "cell_type": "code",
      "metadata": {
        "id": "z8fJHYe-ccF-"
      },
      "source": [
        "# train_labels = trainGen.classes tr 75502 va 24504 te 19604\n",
        "# train_labels = to_categorical(train_labels,num_classes=num_train_classes)\n",
        "STEP_SIZE_TRAIN = trainGen.n//trainGen.batch_size\n",
        "STEP_SIZE_VAL = valGen.n//valGen.batch_size\n",
        "# trainGen.labels\n",
        "# valGen.labels\n",
        "# testGen.labels\n"
      ],
      "execution_count": null,
      "outputs": []
    },
    {
      "cell_type": "markdown",
      "metadata": {
        "id": "TLzAs3oAMCni"
      },
      "source": [
        "#Training the model\n",
        "\n",
        "Starting with fitting the model with the data obtained previously."
      ]
    },
    {
      "cell_type": "code",
      "metadata": {
        "id": "dLEibYcsWu0D"
      },
      "source": [
        "weights = \"/content/gdrive/MyDrive/model_weights\"\n",
        "if not os.path.exists(weights):\n",
        "    os.makedirs(weights)\n"
      ],
      "execution_count": null,
      "outputs": []
    },
    {
      "cell_type": "code",
      "metadata": {
        "id": "TQG9uNeRWULo"
      },
      "source": [
        "dir = '/content/gdrive/MyDrive/ckpt'\n",
        "callbacks = [\n",
        "    ModelCheckpoint(\n",
        "        \n",
        "        # Path where to save the model\n",
        "        # The two parameters below mean that we will overwrite\n",
        "        # the current checkpoint if and only if\n",
        "        # the `val_loss` score has improved.\n",
        "        # The saved model name will include the current epoch.\n",
        "        filepath=os.path.join(dir,\"mymodel_{epoch}_{accuracy:.3f}.hdf5\"),\n",
        "        #save_best_only=True,  # Only save a model if `val_loss` has improved.\n",
        "        monitor=\"loss\",\n",
        "        verbose=1,\n",
        "        save_freq = 1000\n",
        "    )\n",
        "]"
      ],
      "execution_count": null,
      "outputs": []
    },
    {
      "cell_type": "code",
      "metadata": {
        "id": "yqCW2lYCUILG"
      },
      "source": [
        "import tensorflow as tf\n",
        "tf.test.gpu_device_name()"
      ],
      "execution_count": null,
      "outputs": []
    },
    {
      "cell_type": "code",
      "metadata": {
        "id": "Z2eNZTyNXQ-R"
      },
      "source": [
        "model = keras.models.load_model('/content/gdrive/MyDrive/ckpt/mymodel_1_0.504.hdf5')"
      ],
      "execution_count": null,
      "outputs": []
    },
    {
      "cell_type": "code",
      "metadata": {
        "colab": {
          "background_save": true
        },
        "id": "Z2l6-nwsuHUr"
      },
      "source": [
        "\n",
        "history = model.fit(trainGen,steps_per_epoch=STEP_SIZE_TRAIN,epochs=1,validation_data=valGen,validation_steps=STEP_SIZE_VAL,use_multiprocessing=False,workers=4,verbose=1,callbacks=callbacks,shuffle=True)\n",
        "model.save('model_train')\n",
        "\n",
        "\n",
        "\n",
        "\n",
        "\n",
        "\n",
        "# print(\"Training the model\")\n",
        "# #total_train = len()\n",
        "# H = model.fit(np.array(b),b_lab) #Add validation data here\n",
        "\n",
        "\n",
        "\n",
        "# processed_image = preprocess_input(image_batch.copy())\n",
        "\n",
        "# prediction = model.predict(processed_image)\n",
        "\n",
        "# label = decode_predictions(prediction)\n",
        "\n",
        "# label\n",
        "\n",
        "#numpy_image = image.img_to_array(image_reshape)\n",
        "# create a data generator\n",
        "#datagen = ImageDataGenerator();\n",
        "\n",
        "\n",
        "#model.summary()\n",
        "\n"
      ],
      "execution_count": null,
      "outputs": []
    },
    {
      "cell_type": "code",
      "metadata": {
        "id": "pCl9nu5fTjH_"
      },
      "source": [
        "history.history['loss']"
      ],
      "execution_count": null,
      "outputs": []
    },
    {
      "cell_type": "code",
      "metadata": {
        "id": "GwMYP4iK1HH4"
      },
      "source": [
        "plt.plot(history.history['loss'])\n",
        "\n",
        "# # summarize history for accuracy\n",
        "# plt.plot(history.history['accuracy'])\n",
        "# plt.plot(history.history['val_accuracy'])\n",
        "# plt.title('model accuracy')\n",
        "# plt.ylabel('accuracy')\n",
        "# plt.xlabel('epoch')\n",
        "# plt.legend(['train', 'test'], loc='upper left')\n",
        "# plt.show()\n",
        "# # summarize history for loss\n",
        "# plt.plot(history.history['loss'])\n",
        "# plt.plot(history.history['val_loss'])\n",
        "# plt.title('model loss')\n",
        "# plt.ylabel('loss')\n",
        "# plt.xlabel('epoch')\n",
        "# plt.legend(['train', 'test'], loc='upper left')\n",
        "# plt.show()"
      ],
      "execution_count": null,
      "outputs": []
    },
    {
      "cell_type": "code",
      "metadata": {
        "id": "GqkA5yWhYxiy"
      },
      "source": [
        "good = test_val_images('/content/gdrive/MyDrive/data/test')\n",
        "g = pd.DataFrame(good)\n",
        "g.to_csv('test_names.csv')\n",
        "len(g.index)"
      ],
      "execution_count": null,
      "outputs": []
    },
    {
      "cell_type": "markdown",
      "metadata": {
        "id": "HOBPJ8Q519lh"
      },
      "source": [
        "#Using k-fold cross validation\n"
      ]
    },
    {
      "cell_type": "code",
      "metadata": {
        "id": "025B2yaO2H-B"
      },
      "source": [
        "num_folds = 4\n",
        "\n"
      ],
      "execution_count": null,
      "outputs": []
    },
    {
      "cell_type": "code",
      "metadata": {
        "id": "X1sHyE4t7mVT"
      },
      "source": [
        "#Making data frames to feed into the network\n",
        "\n",
        "train_meta = pd.read_csv('/content/gdrive/MyDrive/train_names.csv')\n",
        "val_meta = pd.read_csv('/content/gdrive/MyDrive/val_names.csv')\n",
        "test_meta = pd.read_csv('/content/gdrive/MyDrive/test_names.csv')\n",
        "\n",
        "train_meta.columns = ['ID','Image']\n",
        "val_meta.columns = ['ID','Image']\n",
        "test_meta.columns = ['ID','Image']\n",
        "\n"
      ],
      "execution_count": null,
      "outputs": []
    },
    {
      "cell_type": "code",
      "metadata": {
        "id": "Ej4degIC-FMZ"
      },
      "source": [
        "train_meta.head"
      ],
      "execution_count": null,
      "outputs": []
    },
    {
      "cell_type": "code",
      "metadata": {
        "id": "XpemJgMPQPCg"
      },
      "source": [
        "def get_model_name(k):\n",
        "    return 'model_'+str(k)+'.h5'"
      ],
      "execution_count": null,
      "outputs": []
    },
    {
      "cell_type": "code",
      "metadata": {
        "id": "b5U7xior7mNa"
      },
      "source": [
        "#Function to get labels\n",
        "def kfold_label_maker(meta):\n",
        "\n",
        "  meta['PicName'] = meta['Image'].apply(lambda x: x.split('/')[-1])\n",
        "  meta['Label'] = meta['Image'].apply(lambda x: x.split('/')[-2])\n",
        "  #meta['Image'] = meta['Image'].str.replace('/content/gdrive/MyDrive','/data/s4133366')\n",
        "  kfold = meta[['Image','Label']]\n",
        "  return kfold\n",
        "\n"
      ],
      "execution_count": null,
      "outputs": []
    },
    {
      "cell_type": "code",
      "metadata": {
        "id": "embOIpR3C0iY"
      },
      "source": [
        "#Getting the data points required\n",
        "train = pd.DataFrame(kfold_label_maker(train_meta))\n",
        "#val = pd.DataFrame(kfold_label_maker(val_meta))\n",
        "#test = pd.DataFrame(kfold_label_maker(test_meta))\n",
        "train.to_csv('train.csv')\n",
        "#test.to_csv('test.csv')\n",
        "#val.to_csv('val.csv')\n",
        "# files.download('train.csv')\n",
        "#files.download('test.csv')\n",
        "#files.download('val.csv')\n",
        "\n",
        "#datagen = ImageDataGenerator(rescale=1./255)\n",
        "#acc_per_fold = []\n",
        "#loss_per_fold = []\n",
        "Y = train[['Label']]"
      ],
      "execution_count": null,
      "outputs": []
    },
    {
      "cell_type": "code",
      "metadata": {
        "id": "gosHyk4lZwEy"
      },
      "source": [
        "base_model = ResNet50(weights='imagenet', include_top=False, input_shape=(224, 224, 3))\n",
        "x = base_model.output\n",
        "x = AveragePooling2D(pool_size=(7,7))(x)\n",
        "x = Flatten(name =\"flatten\")(x)\n",
        "x = Dense(1024,activation=\"relu\")(x)\n",
        "x = Dropout(0.5)(x)\n",
        "preds = Dense(24,activation=\"softmax\")(x)\n",
        "\n",
        "#Activating the model\n",
        "\n",
        "model = Model(inputs = base_model.input,outputs = preds)\n",
        "\n",
        "\n",
        "for layer in base_model.layers:\n",
        "    layer.trainable = False\n",
        "\n",
        "#Setting seed ...\n",
        "np.random.seed(7)\n",
        "lr = 0.1\n",
        "num_epochs = 20\n",
        "opti = Adam(learning_rate= lr,decay = 0)\n",
        "model.compile(optimizer=opti,metrics=[tf.keras.metrics.CategoricalAccuracy(),keras.metrics.Precision(),keras.metrics.Recall()],loss='categorical_crossentropy')\n"
      ],
      "execution_count": null,
      "outputs": []
    },
    {
      "cell_type": "code",
      "metadata": {
        "id": "qWtWNwrUZ0VX"
      },
      "source": [
        "datagen = ImageDataGenerator(rescale=1./255)"
      ],
      "execution_count": null,
      "outputs": []
    },
    {
      "cell_type": "code",
      "metadata": {
        "id": "flFc53fjaEiu"
      },
      "source": [
        "datagen = ImageDataGenerator(rescale=1./255)\n",
        "trainGen = datagen.flow_from_directory('/content/gdrive/MyDrive/data/train',\n",
        "    target_size=(224,224),color_mode='rgb',batch_size=250,shuffle=True,class_mode='categorical',seed=42)\n",
        "STEP_SIZE_TRAIN = trainGen.n//trainGen.batch_size\n",
        "class_weights = class_weight.compute_class_weight(\n",
        "           'balanced',\n",
        "            np.unique(trainGen.classes), \n",
        "            trainGen.classes)\n",
        "\n",
        "train_class_weights = dict(enumerate(class_weights))"
      ],
      "execution_count": null,
      "outputs": []
    },
    {
      "cell_type": "code",
      "metadata": {
        "id": "pXO5Kx24Bjrr"
      },
      "source": [
        "train_class_weights"
      ],
      "execution_count": null,
      "outputs": []
    },
    {
      "cell_type": "code",
      "metadata": {
        "id": "ZWtkaufBJdsS"
      },
      "source": [
        "images, labels = next(datagen.flow_from_directory('/content/gdrive/MyDrive/data/train',\n",
        "    target_size=(224,224),color_mode='rgb',batch_size=250,shuffle=True,class_mode='categorical',seed=42))"
      ],
      "execution_count": null,
      "outputs": []
    },
    {
      "cell_type": "code",
      "metadata": {
        "id": "vnz7wFO6JsH3"
      },
      "source": [
        "images.shape,labels.shape"
      ],
      "execution_count": null,
      "outputs": []
    },
    {
      "cell_type": "code",
      "metadata": {
        "id": "HHsTtp9nI0Yr"
      },
      "source": [
        "ds = tf.data.Dataset.from_generator(\n",
        "    lambda: datagen.flow_from_directory('/content/gdrive/MyDrive/data/train',\n",
        "    target_size=(224,224),color_mode='rgb',batch_size=250,shuffle=True,class_mode='categorical',seed=42), \n",
        "    output_types=(tf.float32, tf.float32), \n",
        "    output_shapes=([None,224,224,3], [None,24])\n",
        ")"
      ],
      "execution_count": null,
      "outputs": []
    },
    {
      "cell_type": "code",
      "metadata": {
        "id": "jKWaPMBKKkp5"
      },
      "source": [
        "a = next(iter(ds))\n"
      ],
      "execution_count": null,
      "outputs": []
    },
    {
      "cell_type": "code",
      "metadata": {
        "id": "9V89CT4WPNfJ"
      },
      "source": [
        "a"
      ],
      "execution_count": null,
      "outputs": []
    },
    {
      "cell_type": "code",
      "metadata": {
        "id": "u3-LIOafbqM8"
      },
      "source": [
        "fold_no = 'test'"
      ],
      "execution_count": null,
      "outputs": []
    },
    {
      "cell_type": "code",
      "metadata": {
        "id": "8unU6_m6Z2WS"
      },
      "source": [
        "save_dir = '/content/gdrive/MyDrive/saved_models'\n",
        "callbacks = [\n",
        "    ModelCheckpoint(\n",
        "        \n",
        "        filepath=os.path.join(save_dir,fold_no),\n",
        "        save_best_only=True,  # Only save a model if `val_loss` has improved.\n",
        "        monitor=\"accuracy\",\n",
        "        verbose=1,\n",
        "        save_freq = 302,mode = 'max'\n",
        "    ),\n",
        "    EarlyStopping(\n",
        "    monitor=\"loss\",\n",
        "    min_delta=0,\n",
        "    patience=2,\n",
        "    verbose=1,\n",
        "    mode=\"auto\",\n",
        "    baseline=None,\n",
        "    restore_best_weights=False,\n",
        "    ),\n",
        "    ReduceLROnPlateau(monitor='loss', factor=0.1,\n",
        "                              patience=1, min_lr=1e-6)\n",
        "    ]"
      ],
      "execution_count": null,
      "outputs": []
    },
    {
      "cell_type": "code",
      "metadata": {
        "id": "fsy6pNJm1A-d"
      },
      "source": [
        "model = keras.models.load_model('/content/gdrive/MyDrive/saved_models/train_final_2')"
      ],
      "execution_count": null,
      "outputs": []
    },
    {
      "cell_type": "code",
      "metadata": {
        "id": "_N8IP8xobK-I"
      },
      "source": [
        "history = model.fit(trainGen,epochs=10,callbacks=callbacks,verbose=1,steps_per_epoch=STEP_SIZE_TRAIN,workers=10)\n",
        "model.save('/content/gdrive/MyDrive/saved_models/train_final_3')"
      ],
      "execution_count": null,
      "outputs": []
    },
    {
      "cell_type": "code",
      "metadata": {
        "id": "vVgO_gnj0JNC"
      },
      "source": [
        "model = keras.models.load_model('/content/gdrive/MyDrive/saved_models/train_final_5')\n",
        "history = model.fit(trainGen,epochs=10,callbacks=callbacks,verbose=1,steps_per_epoch=STEP_SIZE_TRAIN,workers=10,use_multiprocessing = False,class_weight=train_class_weights)\n",
        "model.save('/content/gdrive/MyDrive/saved_models/train_final_6')"
      ],
      "execution_count": null,
      "outputs": []
    },
    {
      "cell_type": "code",
      "metadata": {
        "id": "HYyOBdDp4sX6"
      },
      "source": [
        "model = keras.models.load_model('/content/gdrive/MyDrive/saved_models/train_final_9')\n",
        "history = model.fit(trainGen,epochs=10,callbacks=callbacks,verbose=1,steps_per_epoch=STEP_SIZE_TRAIN,workers=4,use_multiprocessing = False,shuffle=True,class_weight=train_class_weights)\n",
        "model.save('/content/gdrive/MyDrive/saved_models/train_final_10')"
      ],
      "execution_count": null,
      "outputs": []
    },
    {
      "cell_type": "code",
      "metadata": {
        "id": "Q583D_D0Ds3Q"
      },
      "source": [
        "#Declaring the K-fold cv\n",
        "num_folds = 4\n",
        "skfold = StratifiedKFold(n_splits=num_folds, shuffle=True,random_state=42)\n",
        "n = len(train.index)\n",
        "fold_no = 1\n",
        "datagen = ImageDataGenerator(rescale=1./255)\n",
        "VALIDATION_ACCURACY = []\n",
        "VALIDATION_LOSS = []\n",
        "VALIDATION_PRECISION = []\n",
        "VALIDATION_RECALL = []\n",
        "\n",
        "save_dir = '/content/gdrive/MyDrive/saved_models'\n",
        "\n",
        "for train_index, val_index in skfold.split(np.zeros(n),Y):\n",
        "  training_data = train.iloc[train_index]\n",
        "  valid_data = train.iloc[val_index]\n",
        "\n",
        "  \n",
        "  ktrainGen = datagen.flow_from_dataframe(training_data,'/content/gdrive/MyDrive/data/train',x_col=\"Image\",y_col=\"Label\",target_size=(224,224),color_mode='rgb',batch_size=151,shuffle=True,class_mode='categorical',seed=42)\n",
        "  kvalGen = datagen.flow_from_dataframe(valid_data,'/content/gdrive/MyDrive/data/train',x_col=\"Image\",y_col=\"Label\",target_size=(224,224),color_mode='rgb',batch_size=143,shuffle=True,class_mode='categorical',seed=42)\n",
        "\n",
        "  STEP_SIZE_TRAIN = ktrainGen.n//ktrainGen.batch_size\n",
        "  STEP_SIZE_VAL = kvalGen.n//kvalGen.batch_size\n",
        "\n",
        "  print('Adding class weights....')\n",
        "\n",
        "  class_weights = class_weight.compute_class_weight(\n",
        "           'balanced',\n",
        "            np.unique(ktrainGen.classes), \n",
        "            ktrainGen.classes)\n",
        "\n",
        "  train_class_weights = dict(enumerate(class_weights))\n",
        "\n",
        "    #Create model\n",
        "  base_model = ResNet50(weights='imagenet', include_top=False, input_shape=(224, 224, 3))\n",
        "  x = base_model.output\n",
        "  x = AveragePooling2D(pool_size=(7,7))(x)\n",
        "  x = Flatten(name =\"flatten\")(x)\n",
        "  x = Dense(128,activation=\"relu\")(x)\n",
        "  x = Dropout(0.5)(x)\n",
        "  preds = Dense(24,activation=\"softmax\")(x)\n",
        "\n",
        "  #Activating the model\n",
        "\n",
        "  model = Model(inputs = base_model.input,outputs = preds)\n",
        "\n",
        "\n",
        "  for layer in base_model.layers:\n",
        "      layer.trainable = False\n",
        "\n",
        "  #Setting seed ...\n",
        "  np.random.seed(7)\n",
        "  lr = 1e-1\n",
        "  num_epochs = 20\n",
        "  opti = tf.keras.optimizers.Adadelta(learning_rate=lr, rho=0.95, epsilon=1e-07, name=\"Adadelta\")\n",
        "  model.compile(optimizer=opti,metrics=[tf.keras.metrics.CategoricalAccuracy(),keras.metrics.Precision(),keras.metrics.Recall()],loss='categorical_crossentropy')\n",
        "\n",
        "  callbacks = [\n",
        "    ModelCheckpoint(\n",
        "        \n",
        "        filepath=os.path.join(save_dir,get_model_name(fold_no)),\n",
        "        save_best_only=True,  # Only save a model if `val_loss` has improved.\n",
        "        monitor=\"accuracy\",\n",
        "        verbose=1,\n",
        "        save_freq = 442,mode = 'max'\n",
        "    ),\n",
        "    EarlyStopping(\n",
        "    monitor=\"loss\",\n",
        "    min_delta=0,\n",
        "    patience=2,\n",
        "    verbose=0,\n",
        "    mode=\"auto\",\n",
        "    baseline=None,\n",
        "    restore_best_weights=False,\n",
        "    ),\n",
        "    ReduceLROnPlateau(monitor='loss', factor=0.1,\n",
        "                              patience=1, min_lr=1e-6)\n",
        "    ]\n",
        "\n",
        "  print('------------------------------------------------------------------------')\n",
        "  print(f'Training for fold {fold_no} ...')\n",
        "\n",
        "  #model = keras.models.load_model('/content/gdrive/MyDrive/saved_models/train_final_9')\n",
        "  history = model.fit(ktrainGen,epochs=1,callbacks=callbacks,verbose=1,steps_per_epoch=STEP_SIZE_TRAIN,workers=8,use_multiprocessing = False,shuffle=True)\n",
        "  model.save('/content/gdrive/MyDrive/saved_models/train_kfold_'+str(fold_no))\n",
        "  \n",
        "\n",
        "  model = keras.models.load_model(\"/content/gdrive/MyDrive/saved_models/train_kfold_\"+str(fold_no))\n",
        "  results = model.evaluate(kvalGen,steps = STEP_SIZE_VAL)\n",
        "  results = dict(zip(model.metrics_names,results))\n",
        "\n",
        "  VALIDATION_ACCURACY.append(results['categorical_accuracy'])\n",
        "  VALIDATION_LOSS.append(results['loss'])\n",
        "  VALIDATION_PRECISION.append(results['precision'])\n",
        "  VALIDATION_RECALL.append(results['recall'])\n",
        "\n",
        "\n",
        "\n",
        "\n",
        "  tf.keras.backend.clear_session()\n",
        "\n",
        "  fold_no += 1\n",
        "\n",
        "  print('Going to next fold................')\n",
        "\n",
        "\n",
        "\n",
        "\n"
      ],
      "execution_count": null,
      "outputs": []
    },
    {
      "cell_type": "code",
      "metadata": {
        "id": "QKo6QZYtRN1U"
      },
      "source": [
        "val_results = dict(zip(VALIDATION_ACCURACY,VALIDATION_LOSS,VALIDATION_PRECISION,VALIDATION_RECALL))"
      ],
      "execution_count": null,
      "outputs": []
    },
    {
      "cell_type": "markdown",
      "metadata": {
        "id": "CKXy6OroBn2o"
      },
      "source": [
        "##Trying training using TPU model"
      ]
    },
    {
      "cell_type": "code",
      "metadata": {
        "id": "khHsp78lHDB4"
      },
      "source": [
        "#Defining the model\n",
        "def create_model_for_tpu(batch_size,stateful = True):\n",
        "  base_model = ResNet50(weights='imagenet', include_top=False, input_shape=(224, 224, 3))\n",
        "  x = base_model.output\n",
        "  x = AveragePooling2D(pool_size=(7,7))(x)\n",
        "  x = Flatten(name =\"flatten\")(x)\n",
        "  x = Dense(1024,activation=\"relu\")(x)\n",
        "  x = Dropout(0.5)(x)\n",
        "  preds = Dense(24,activation=\"softmax\")(x)\n",
        "  for layer in base_model.layers:\n",
        "    layer.trainable = False\n",
        "\n",
        "#Activating the model\n",
        "\n",
        "  return Model(inputs = base_model.input,outputs = preds)\n",
        "\n",
        "#predictions = Dense(26,activation='softmax')(x)\n",
        "#Using softmax for base classification\n",
        "#model = Model(inputs=base_model.input, outputs=predictions)\n",
        "#\n",
        "\n",
        "\n"
      ],
      "execution_count": null,
      "outputs": []
    },
    {
      "cell_type": "code",
      "metadata": {
        "id": "HqHpb7lHRm6m"
      },
      "source": [
        "from google.colab import auth\n",
        "auth.authenticate_user()\n",
        "\n",
        "project_id = 'topic-modelling-317402'\n",
        "!gcloud config set project {project_id}\n",
        "!gsutil ls"
      ],
      "execution_count": null,
      "outputs": []
    },
    {
      "cell_type": "code",
      "metadata": {
        "id": "oPOW3qoQRzev"
      },
      "source": [
        "bucket_name = 'data-topic-modelling'\n",
        "!gsutil -m cp -r /content/gdrive/MyDrive/data/* gs://{bucket_name}/"
      ],
      "execution_count": null,
      "outputs": []
    },
    {
      "cell_type": "code",
      "metadata": {
        "id": "k6Z1oznXBrix"
      },
      "source": [
        "tf.keras.backend.clear_session()\n",
        "\n",
        "resolver = tf.distribute.cluster_resolver.TPUClusterResolver(tpu='grpc://' + os.environ['COLAB_TPU_ADDR'])\n",
        "tf.config.experimental_connect_to_cluster(resolver)\n",
        "# This is the TPU initialization code that has to be at the beginning.\n",
        "tf.tpu.experimental.initialize_tpu_system(resolver)\n",
        "print(\"All devices: \", tf.config.list_logical_devices('TPU'))\n",
        "\n",
        "strategy = tf.distribute.TPUStrategy(resolver)\n",
        "\n",
        "with strategy.scope():\n",
        "  training_model = create_model_for_tpu(batch_size=128,stateful = False)\n",
        "  training_model.compile(\n",
        "      optimizer=tf.keras.optimizers.RMSprop(learning_rate=1e-4),\n",
        "      loss='categorical_crossentropy',\n",
        "      metrics=['accuracy'])\n",
        "callbacks = [\n",
        "    ModelCheckpoint(\n",
        "        \n",
        "        # Path where to save the model\n",
        "        # The two parameters below mean that we will overwrite\n",
        "        # the current checkpoint if and only if\n",
        "        # the `val_loss` score has improved.\n",
        "        # The saved model name will include the current epoch.\n",
        "        filepath=os.path.join(dir,\"mymodel_{epoch}\"),\n",
        "        save_best_only=True,  # Only save a model if `val_loss` has improved.\n",
        "        monitor=\"loss\",\n",
        "        verbose=1,\n",
        "        save_freq = 200\n",
        "    )\n",
        "]\n",
        "training_model.fit(\n",
        "    trainGen,steps_per_epoch=STEP_SIZE_TRAIN,verbose=1,callbacks=callbacks,shuffle=True,\n",
        "    epochs=10\n",
        ")\n",
        "training_model.save_weights('/content/gdrive/MyDrive/model_weights/tpu_weights.h5', overwrite=True)"
      ],
      "execution_count": null,
      "outputs": []
    },
    {
      "cell_type": "code",
      "metadata": {
        "id": "Hgg71_UkMjbv"
      },
      "source": [
        "\n",
        "latest = tensorflow.train.latest_checkpoint(checkpoint_dir)"
      ],
      "execution_count": null,
      "outputs": []
    },
    {
      "cell_type": "code",
      "metadata": {
        "id": "oMaEgaIsBvkK"
      },
      "source": [
        "def test_images(dir,ign):\n",
        "    import os\n",
        "    import cv2\n",
        "    bad_list=[]\n",
        "    good_list=[]\n",
        "    ignore = []\n",
        "    good_exts=['jpg'] # make a list of acceptable image file types\n",
        "    for klass in os.listdir(dir) :  # iterate through the sub directories \n",
        "        if klass not in ign:\n",
        "          class_path=os.path.join (dir, klass) # create path to sub directory \n",
        "          if os.path.isdir(class_path):\n",
        "              for f in os.listdir(class_path): # iterate through image files\n",
        "                      f_path=os.path.join(class_path, f) # path to image files\n",
        "                      ext=f[f.rfind('.')+1:] # get the files extension\n",
        "                      if ext  not in good_exts:\n",
        "                              print(f'file {f_path}  has an invalid extension {ext}')\n",
        "                              bad_list.append(f_path)                    \n",
        "                      else:\n",
        "                          try:\n",
        "                              img=cv2.imread(f_path)\n",
        "                              size=img.shape\n",
        "                              print(\"Checked: \",f_path)\n",
        "                              good_list.append(f_path)\n",
        "                          except:\n",
        "                              print(f'file {f_path} is not a valid image file ')\n",
        "                              bad_list.append(f_path)\n",
        "          else:\n",
        "              print(f'** WARNING ** directory {dir} has files in it, it should only contain sub directories')\n",
        "    ignore.append(klass)\n",
        "    return good_list, bad_list,ignore"
      ],
      "execution_count": null,
      "outputs": []
    },
    {
      "cell_type": "code",
      "metadata": {
        "id": "fSniocX9YOJV"
      },
      "source": [
        "# g1 = pd.read_csv('gl.csv')\n",
        "# g2 = pd.read_csv('gl2.csv')\n",
        "# g_final = g1.append(g2)\n",
        "# print(len(g1),len(g2),len(g_final))\n",
        "# g = pd.DataFrame(g_final)\n",
        "# if(f_path not in g_final['Path']):\n",
        "g.columns = ['ID','Path']\n",
        "g.head()"
      ],
      "execution_count": null,
      "outputs": []
    },
    {
      "cell_type": "code",
      "metadata": {
        "id": "qPWtBy2sdhPE"
      },
      "source": [
        "def test_val_images(dir):\n",
        "    import os\n",
        "    import cv2\n",
        "    bad_list=[]\n",
        "    good_list=[]\n",
        "    ignore = []\n",
        "    good_exts=['jpg'] # make a list of acceptable image file types\n",
        "    for klass in os.listdir(dir) :  # iterate through the sub directories \n",
        "          class_path=os.path.join (dir, klass) # create path to sub directory \n",
        "          for f in os.listdir(class_path): # iterate through image files\n",
        "                      f_path=os.path.join(class_path, f) # path to image files\n",
        "                      ext=f[f.rfind('.')+1:] # get the files extension\n",
        "                      if ext  not in good_exts:\n",
        "                              print(f'file {f_path}  has an invalid extension {ext}')\n",
        "                              bad_list.append(f_path)                    \n",
        "                      else:\n",
        "                              # img=cv2.imread(f_path)\n",
        "                              #size=img.shape\n",
        "                              print(\"Checked: \",f_path)\n",
        "                              #sizee = os.stat(f_path).st_size\n",
        "                              good_list.append(f_path)\n",
        "          \n",
        "    return good_list"
      ],
      "execution_count": null,
      "outputs": []
    },
    {
      "cell_type": "code",
      "metadata": {
        "id": "Vyv1UBnI1bTA"
      },
      "source": [
        " ignore_list = []\n",
        "\n",
        "gl,bl,ig = test_images('/content/gdrive/MyDrive/data/val',ignore_list)\n",
        " bad = pd.DataFrame(bl)\n",
        " bad.to_csv('bad_images_test2.csv')\n",
        " ignoree =pd.DataFrame(ig)\n",
        " ignoree.to_csv('ig2.csv')\n",
        " good = pd.DataFrame(gl)\n",
        " good.to_csv('gl2.csv')\n",
        " files.download('bad_images_test2.csv')\n",
        " files.download('ig2.csv')\n",
        " files.download('gl2.csv')\n",
        "\n",
        "#/usr/local/lib/python3.7/dist-packages/PIL/Image.py\n"
      ],
      "execution_count": null,
      "outputs": []
    },
    {
      "cell_type": "code",
      "metadata": {
        "id": "2veI9LjxgJIk"
      },
      "source": [
        "#22\n",
        "val = test_val_images('/content/gdrive/MyDrive/data/val')\n",
        "v = pd.DataFrame(val)\n",
        "v.to_csv('val_images.csv')\n",
        "files.download('val_images.csv')"
      ],
      "execution_count": null,
      "outputs": []
    },
    {
      "cell_type": "markdown",
      "metadata": {
        "id": "dn5NSopsPCA2"
      },
      "source": [
        "#Making predictions on the baseline model"
      ]
    },
    {
      "cell_type": "markdown",
      "metadata": {
        "id": "scfwQgfFgbdK"
      },
      "source": [
        "###Creating python script for peregrine"
      ]
    },
    {
      "cell_type": "code",
      "metadata": {
        "id": "UM-A94a4Gf7h"
      },
      "source": [
        "\n",
        "import matplotlib.pyplot as plt\n",
        "import numpy as np\n",
        "import pandas as pd\n",
        "import matplotlib.pyplot as plt\n",
        "from tensorflow.keras.preprocessing import image\n",
        "from tensorflow.keras.applications.resnet50 import preprocess_input, decode_predictions\n",
        "from tensorflow.python.keras.models import Sequential,Model\n",
        "from tensorflow.keras.preprocessing.image import ImageDataGenerator\n",
        "import shutil\n",
        "from sklearn.metrics import confusion_matrix,classification_report\n",
        "from tensorflow import keras\n",
        "import tensorflow as tf\n",
        "from sklearn.utils import shuffle\n",
        "########################\n",
        "model_name = ''\n",
        "predictions_csv_file = str(model_name)+'_predictions_csv'\n",
        "model = keras.models.load_model(model_dir,model_name)\n",
        "cr_name = 'Classification_Report_'+model_name+'.csv'\n",
        "cm_name = 'Confusion matrix_'+model_name+'.png'\n",
        "num_classes = 24\n",
        "test_csv_name = 'test.csv'\n",
        "pred_dir = os.path.join(model_dir,'predictions')\n",
        "cr_path = os.path.join(pred_dir,cr_name)\n",
        "cm_path = os.path.join(pred_dir,cm_name)\n",
        "#############################\n",
        "#In case data generators work\n",
        "datagen = ImageDataGenerator(rescale=1./255)\n",
        "testGen = datagen.flow_from_directory('/content/gdrive/MyDrive/data/test',target_size=(224,224),\n",
        "                     color_mode='rgb',batch_size=116,class_mode=None,shuffle=False,seed=42)\n",
        "num_test_samples = len(testGen.filenames)\n",
        "num_test_classes = len(testGen.class_indices)\n",
        "STEP_SIZE_TEST = testGen.n//testGen.batch_size\n",
        "print(\"Predicting the model\")\n",
        "testGen.reset()\n",
        "predictions = model.predict(testGen,steps=STEP_SIZE_TEST,verbose=1,workers = 4,use_multiprocessing = False)\n",
        "################################################\n",
        "\n",
        "\n",
        "\n",
        "#### CHANGE THIS WITH RESPECT TO THE TYPE OF DATA AUG USED #############\n",
        "y_true = testGen.classes\n",
        "y_pred = predictions_test\n",
        "labels = testGen.class_indices.keys()\n",
        "#########################################################################################################\n",
        "\n",
        "#Try using the other workflow i.e from csv ...\n",
        "\n",
        "\n",
        "\n",
        "\n",
        "\n",
        "\n",
        "\n",
        "\n",
        "\n",
        "\n",
        "\n",
        "\n",
        "############### PREDICTION PLOTTING\n",
        "print('Saving the predictions as a csv for reference ...')\n",
        "pd.DataFrame(predictions).to_csv(predictions_csv_file)\n",
        "predictions_test = np.argmax(predictions,axis=1)\n",
        "#print(testGen[0].shape)\n",
        "len(testGen.labels)\n",
        "class_report = classification_report(testGen.labels, predictions_test,target_names=labels,output_dict=True)\n",
        "df_cr = pandas.DataFrame(report).transpose()\n",
        "df_cr.to_csv(cr_path)\n",
        "print('Classification report saved to: '+cr_path)\n",
        "print(classification_report(y_true, y_pred,target_names=labels))\n",
        "\n",
        "print('Plotting the confusion matrix ....')\n",
        "cm = confusion_matrix(y_true,y_pred,labels =  list(range(0,num_classes)) )\n",
        "\n",
        "df_cm = pd.DataFrame(cm,index = ['Balcony','Bathroom','Beach','Bedroom','Buildings','Education,science','Forest, field, jungle', 'Garden', 'Hospital','Kitchen','Living room','Mountains, hills, desert, sky','Museum','Noise','Office','Other rooms','Others','Pathways','Recreation','Restaurant,Bar','Shop','Sport fields','Transportation','Water'] ,columns =  ['Balcony','Bathroom','Beach','Bedroom','Buildings','Education,science','Forest, field, jungle', 'Garden', 'Hospital','Kitchen','Living room','Mountains, hills, desert, sky','Museum','Noise','Office','Other rooms','Others','Pathways','Recreation','Restaurant,Bar','Shop','Sport fields','Transportation','Water'] )\n",
        "# plt.figure(figsize=(10,7))\n",
        "sn.set(font_scale=1.4) # for label size\n",
        "sn.heatmap(df_cm, annot=False, annot_kws={\"size\": 20},cmap=\"BuPu\") # font size\n",
        "plt.title('Confusion matrix for Baseline Full DS')\n",
        "plt.savefig(cm_path)\n",
        "print('Model predicted ....')\n",
        "print('Job ended ...')"
      ],
      "execution_count": null,
      "outputs": []
    },
    {
      "cell_type": "markdown",
      "metadata": {
        "id": "9xYj7xTKwcsj"
      },
      "source": [
        "###Using image data generators"
      ]
    },
    {
      "cell_type": "code",
      "metadata": {
        "id": "HTRol9uufzJZ"
      },
      "source": [
        "model = keras.models.load_model(\"/content/gdrive/MyDrive/saved_models/baseline_full_ds\")\n"
      ],
      "execution_count": null,
      "outputs": []
    },
    {
      "cell_type": "code",
      "metadata": {
        "id": "aqDbvA4AmaI9"
      },
      "source": [
        "lr = 0.1\n",
        "num_epochs = 20\n",
        "opti = Adam(learning_rate= lr,decay = 0)\n",
        "model.compile(optimizer=opti,metrics=[tf.keras.metrics.CategoricalAccuracy(),keras.metrics.Precision(),keras.metrics.Recall()],loss='categorical_crossentropy')"
      ],
      "execution_count": null,
      "outputs": []
    },
    {
      "cell_type": "code",
      "metadata": {
        "id": "_sUjNfN9Ftc6"
      },
      "source": [
        "datagen = ImageDataGenerator(rescale=1./255)"
      ],
      "execution_count": null,
      "outputs": []
    },
    {
      "cell_type": "code",
      "metadata": {
        "id": "SsAip2gwFp8j"
      },
      "source": [
        "testGen = datagen.flow_from_directory('/content/gdrive/MyDrive/data/test',target_size=(224,224),\n",
        "                     color_mode='rgb',batch_size=116,class_mode=None,shuffle=False,seed=42)\n",
        "num_test_samples = len(testGen.filenames)\n",
        "num_test_classes = len(testGen.class_indices)\n",
        "STEP_SIZE_TEST = testGen.n//testGen.batch_size"
      ],
      "execution_count": null,
      "outputs": []
    },
    {
      "cell_type": "code",
      "metadata": {
        "id": "CO6c-8h4JZD7"
      },
      "source": [
        "#19604/116\n"
      ],
      "execution_count": null,
      "outputs": []
    },
    {
      "cell_type": "code",
      "metadata": {
        "id": "dkXUd8QrPSj6"
      },
      "source": [
        "print(\"Predicting the model\")\n",
        "testGen.reset()\n",
        "predictions = model.predict(testGen,steps=STEP_SIZE_TEST,verbose=1,workers = 4,use_multiprocessing = False)\n"
      ],
      "execution_count": null,
      "outputs": []
    },
    {
      "cell_type": "code",
      "metadata": {
        "id": "WWrIMcHOd6_i"
      },
      "source": [
        "pd.DataFrame(predictions).to_csv(\"predictions.csv\")"
      ],
      "execution_count": null,
      "outputs": []
    },
    {
      "cell_type": "code",
      "metadata": {
        "id": "PXW8SMJ_5jSQ"
      },
      "source": [
        "predictions.shape"
      ],
      "execution_count": null,
      "outputs": []
    },
    {
      "cell_type": "code",
      "metadata": {
        "id": "qNrhjm_ub1sa"
      },
      "source": [
        "predictions_test = np.argmax(predictions,axis=1)\n",
        "#print(testGen[0].shape)\n",
        "len(testGen.labels)\n",
        "#First 128 images\n",
        "#testing = testGen[0]\n"
      ],
      "execution_count": null,
      "outputs": []
    },
    {
      "cell_type": "code",
      "metadata": {
        "id": "3zqyPC_95vw8"
      },
      "source": [
        ""
      ],
      "execution_count": null,
      "outputs": []
    },
    {
      "cell_type": "code",
      "metadata": {
        "id": "d2p7-lBHkm7w"
      },
      "source": [
        "test_labels = testGen.labels\n",
        "test_labels = test_labels[:128]\n",
        "test_labels"
      ],
      "execution_count": null,
      "outputs": []
    },
    {
      "cell_type": "code",
      "metadata": {
        "id": "re9Qcw3mjRsH"
      },
      "source": [
        "testGen."
      ],
      "execution_count": null,
      "outputs": []
    },
    {
      "cell_type": "markdown",
      "metadata": {
        "id": "fPR6Ce6R1naY"
      },
      "source": [
        "### Using the original tf data workflow"
      ]
    },
    {
      "cell_type": "code",
      "metadata": {
        "id": "p_6nT0KS1sjX"
      },
      "source": [
        "model = keras.models.load_model(\"/content/gdrive/MyDrive/saved_models/baseline_full_ds\")\n",
        "lr = 0.1\n",
        "num_epochs = 20\n",
        "opti = Adam(learning_rate= lr,decay = 0)\n",
        "model.compile(optimizer=opti,metrics=[tf.keras.metrics.CategoricalAccuracy(),keras.metrics.Precision(),keras.metrics.Recall()],loss='categorical_crossentropy')"
      ],
      "execution_count": null,
      "outputs": []
    },
    {
      "cell_type": "code",
      "metadata": {
        "id": "EMnhvGi918MM"
      },
      "source": [
        "data_dir = '/content/gdrive/MyDrive/data'\n",
        "#test_csv_file = \n",
        "test_csv = pd.read_csv('/content/test.csv')\n",
        "#test_csv = test_csv.sample(frac=1,random_state = 42)\n",
        "test_dir = os.path.join(data_dir,'test')\n"
      ],
      "execution_count": null,
      "outputs": []
    },
    {
      "cell_type": "code",
      "metadata": {
        "id": "aTPcZgB621V_"
      },
      "source": [
        "def get_label(file_path):\n",
        "# convert the path to a list of path components separated by sep\n",
        "  parts = tf.strings.split(file_path, os.path.sep)\n",
        "  # The second to last is the class-directory\n",
        "  one_hot = parts[-2] == class_names\n",
        "  # Integer encode the label\n",
        "  return tf.cast(one_hot, tf.int32)\n",
        "\n",
        "def decode_img(img):\n",
        "# convert the compressed string to a 3D uint8 tensor\n",
        "  img = tf.image.decode_jpeg(img, channels=3)  \n",
        "  # resize the image to the desired size\n",
        "  return tf.image.resize(img, [224, 224])\n",
        "\n",
        "\n",
        "def process_TL_Test(file_path):\n",
        "  label = get_label(file_path) \n",
        "  img = tf.io.read_file(file_path) \n",
        "  img = decode_img(img)\n",
        "  img = preprocess_input(img)\n",
        "  img = tf.cast(img/255. ,tf.float32)\n",
        "  return img\n",
        "def process_TL_Labels(file_path):\n",
        "  label = get_label(file_path) \n",
        "  img = tf.io.read_file(file_path) \n",
        "  img = decode_img(img)\n",
        "  img = preprocess_input(img)\n",
        "  img = tf.cast(img/255. ,tf.float32)\n",
        "  return label\n",
        "class_names = np.array(sorted([dir1 for dir1 in os.listdir(test_dir)]))\n"
      ],
      "execution_count": null,
      "outputs": []
    },
    {
      "cell_type": "code",
      "metadata": {
        "id": "HH1ijeni2-Hk"
      },
      "source": [
        "class_names"
      ],
      "execution_count": null,
      "outputs": []
    },
    {
      "cell_type": "code",
      "metadata": {
        "id": "iyAMouDJ2sMB"
      },
      "source": [
        "\n",
        "\n",
        "\n",
        "\n",
        "\n",
        "print('LOADING THE DATA ON TO TENSORS......')\n",
        "\n",
        "testing_data = test_csv\n",
        "testing_data['Image'] = testing_data['Image'].apply(lambda x: x.replace('/data/s4133366','/content/gdrive/MyDrive'))\n",
        "print(len(testing_data))\n",
        "\n",
        "test_data = testing_data['Image']\n",
        "test_labels = testing_data['Label']\n",
        "print(len(test_data))\n",
        "\n",
        "#steps = int(len(train_data)/t_batch_size)\n",
        "\n",
        "\n"
      ],
      "execution_count": null,
      "outputs": []
    },
    {
      "cell_type": "code",
      "metadata": {
        "id": "edd1NHn93VoY"
      },
      "source": [
        "test_tensor = tf.data.Dataset.from_tensors(test_data)\n",
        "label_tensor = tf.data.Dataset.from_tensors(test_data)\n"
      ],
      "execution_count": null,
      "outputs": []
    },
    {
      "cell_type": "code",
      "metadata": {
        "id": "FH-mH0oz3W_4"
      },
      "source": [
        "test_tensor = test_tensor.unbatch()\n",
        "label_tensor = label_tensor.unbatch()"
      ],
      "execution_count": null,
      "outputs": []
    },
    {
      "cell_type": "code",
      "metadata": {
        "id": "jUb9sShs3t__"
      },
      "source": [
        "for element in test_tensor.take(1):\n",
        "  print(element)\n",
        "for element in label_tensor.take(1):\n",
        "  print(element)"
      ],
      "execution_count": null,
      "outputs": []
    },
    {
      "cell_type": "code",
      "metadata": {
        "id": "qP6WRDZD4pKX"
      },
      "source": [
        "test_tens = test_tensor.map(process_TL_Test)\n",
        "label_tens = label_tensor.map(process_TL_Labels)\n",
        "\n",
        "print('test_tens:',tf.data.experimental.cardinality(test_tens))\n",
        "print('label_tens:',tf.data.experimental.cardinality(label_tens))\n"
      ],
      "execution_count": null,
      "outputs": []
    },
    {
      "cell_type": "code",
      "metadata": {
        "id": "-ty_J54X5KVX"
      },
      "source": [
        "abc = test_tens.take(1)\n",
        "for element in abc:\n",
        "  print(element)"
      ],
      "execution_count": null,
      "outputs": []
    },
    {
      "cell_type": "code",
      "metadata": {
        "id": "jYdgPOAV4wv8"
      },
      "source": [
        "# for element in test_tens:\n",
        "#   print(element)\n",
        "for element in label_tens.take(1):\n",
        "  print(element)"
      ],
      "execution_count": null,
      "outputs": []
    },
    {
      "cell_type": "code",
      "metadata": {
        "id": "ZYv5G_U96PrZ"
      },
      "source": [
        "test_cache = test_tens.cache()\n",
        "lab_cache = label_tens.cache()"
      ],
      "execution_count": null,
      "outputs": []
    },
    {
      "cell_type": "code",
      "metadata": {
        "id": "VUYPmEB465Du"
      },
      "source": [
        "#for element in lab_cache.take(100):\n",
        "#  print(element) "
      ],
      "execution_count": null,
      "outputs": []
    },
    {
      "cell_type": "code",
      "metadata": {
        "id": "jdoI3_gQB36C"
      },
      "source": [
        "from sklearn import preprocessing"
      ],
      "execution_count": null,
      "outputs": []
    },
    {
      "cell_type": "code",
      "metadata": {
        "id": "hwqjk48w9OsD"
      },
      "source": [
        "\n",
        "\n",
        "le = preprocessing.LabelEncoder()\n",
        "test_labels = le.fit(test_labels)\n"
      ],
      "execution_count": null,
      "outputs": []
    },
    {
      "cell_type": "code",
      "metadata": {
        "id": "Cg-FG5o1Lvu7"
      },
      "source": [
        "test_labels = testing_data['Label']\n",
        "test_labels = test_labels.map(label_dict)\n",
        "test_labels = test_labels.to_list()\n",
        "y_true = test_labels\n",
        "predictions = model.predict(test_ds,steps=STEP_SIZE_TEST,verbose=1,workers = 4,use_multiprocessing = False)\n",
        "predictions_test = np.argmax(predictions,axis=1)\n",
        "y_pred = predictions_test\n",
        "label_dict = {'Balcony': 0,\n",
        " 'Bathroom': 1,\n",
        " 'Beach': 2,\n",
        " 'Bedroom': 3,\n",
        " 'Buildings': 4,\n",
        " 'Education,science': 5,\n",
        " 'Forest, field, jungle': 6,\n",
        " 'Garden': 7,\n",
        " 'Hospital': 8,\n",
        " 'Kitchen': 9,\n",
        " 'Living room': 10,\n",
        " 'Mountains, hills, desert, sky': 11,\n",
        " 'Museum': 12,\n",
        " 'Noise': 13,\n",
        " 'Office': 14,\n",
        " 'Other rooms': 15,\n",
        " 'Others': 16,\n",
        " 'Pathways': 17,\n",
        " 'Recreation': 18,\n",
        " 'Restaurant,Bar': 19,\n",
        " 'Shop': 20,\n",
        " 'Sport fields': 21,\n",
        " 'Transportation': 22,\n",
        " 'Water': 23}\n",
        " labels = label_dict.keys()"
      ],
      "execution_count": null,
      "outputs": []
    },
    {
      "cell_type": "code",
      "metadata": {
        "id": "WhMLE9-4CEza"
      },
      "source": [
        "test_labels = testing_data['Label']\n",
        "test_labels = test_labels.map({'Balcony': 0,\n",
        " 'Bathroom': 1,\n",
        " 'Beach': 2,\n",
        " 'Bedroom': 3,\n",
        " 'Buildings': 4,\n",
        " 'Education,science': 5,\n",
        " 'Forest, field, jungle': 6,\n",
        " 'Garden': 7,\n",
        " 'Hospital': 8,\n",
        " 'Kitchen': 9,\n",
        " 'Living room': 10,\n",
        " 'Mountains, hills, desert, sky': 11,\n",
        " 'Museum': 12,\n",
        " 'Noise': 13,\n",
        " 'Office': 14,\n",
        " 'Other rooms': 15,\n",
        " 'Others': 16,\n",
        " 'Pathways': 17,\n",
        " 'Recreation': 18,\n",
        " 'Restaurant,Bar': 19,\n",
        " 'Shop': 20,\n",
        " 'Sport fields': 21,\n",
        " 'Transportation': 22,\n",
        " 'Water': 23})"
      ],
      "execution_count": null,
      "outputs": []
    },
    {
      "cell_type": "code",
      "metadata": {
        "id": "6_oBa_hrD4pd"
      },
      "source": [
        "test_labels = test_labels.to_list()\n"
      ],
      "execution_count": null,
      "outputs": []
    },
    {
      "cell_type": "code",
      "metadata": {
        "id": "xchaLoNaDlDs"
      },
      "source": [
        "y_true = test_labels"
      ],
      "execution_count": null,
      "outputs": []
    },
    {
      "cell_type": "code",
      "metadata": {
        "id": "cz6cvhJRDLbh"
      },
      "source": [
        "print('Created cache ...')\n",
        "#normalization_layer = tf.keras.layers.experimental.preprocessing.Rescaling(1./255)\n",
        "test_batch = test_cache.batch(116)\n",
        "#lab_batch = lab_cache.batch(batch_size)\n",
        "\n",
        "test_ds = test_batch.prefetch(buffer_size=tf.data.experimental.AUTOTUNE)\n"
      ],
      "execution_count": null,
      "outputs": []
    },
    {
      "cell_type": "code",
      "metadata": {
        "id": "wBFw8QzcEo5Y"
      },
      "source": [
        ""
      ],
      "execution_count": null,
      "outputs": []
    },
    {
      "cell_type": "code",
      "metadata": {
        "id": "B9SA1jPf3MYR"
      },
      "source": [
        "\n",
        "#print(tf.data.experimental.cardinality(test_cache))\n",
        "#print(tf.data.experimental.cardinality(val_cache))\n",
        "#y_pred = lab_batch\n",
        "#predictions = model.predict(test_ds,steps=STEP_SIZE_TEST,verbose=1,workers = 4,use_multiprocessing = False)\n",
        "pd.DataFrame(predictions).to_csv('pred_tensor_baseline')"
      ],
      "execution_count": null,
      "outputs": []
    },
    {
      "cell_type": "code",
      "metadata": {
        "id": "5SD9sF9GCYDw"
      },
      "source": [
        "y_pred =  np.argmax(predictions,axis=1)"
      ],
      "execution_count": null,
      "outputs": []
    },
    {
      "cell_type": "code",
      "metadata": {
        "id": "EyOOpovTheGE"
      },
      "source": [
        "print(len(y_true),len(y_pred))\n",
        "label_dict = {'Balcony': 0,\n",
        " 'Bathroom': 1,\n",
        " 'Beach': 2,\n",
        " 'Bedroom': 3,\n",
        " 'Buildings': 4,\n",
        " 'Education,science': 5,\n",
        " 'Forest, field, jungle': 6,\n",
        " 'Garden': 7,\n",
        " 'Hospital': 8,\n",
        " 'Kitchen': 9,\n",
        " 'Living room': 10,\n",
        " 'Mountains, hills, desert, sky': 11,\n",
        " 'Museum': 12,\n",
        " 'Noise': 13,\n",
        " 'Office': 14,\n",
        " 'Other rooms': 15,\n",
        " 'Others': 16,\n",
        " 'Pathways': 17,\n",
        " 'Recreation': 18,\n",
        " 'Restaurant,Bar': 19,\n",
        " 'Shop': 20,\n",
        " 'Sport fields': 21,\n",
        " 'Transportation': 22,\n",
        " 'Water': 23}\n",
        "labels = label_dict.keys()"
      ],
      "execution_count": null,
      "outputs": []
    },
    {
      "cell_type": "markdown",
      "metadata": {
        "id": "U7T68TT1GBhA"
      },
      "source": [
        "###Making the confusion matrix and deriving the classification report with data generators"
      ]
    },
    {
      "cell_type": "code",
      "metadata": {
        "id": "uno_qfYKXypm"
      },
      "source": [
        "#preds = np.argmax(predictions,axis=1)\n",
        "#len(predictions)\n",
        "#preds\n",
        "print(classification_report(y_true, y_pred,target_names=labels))\n",
        "#ecode_predictions(predictions, top=3)[0]\n",
        "#print(\"[INFO] saving model...\")\n",
        "\n",
        "\n"
      ],
      "execution_count": null,
      "outputs": []
    },
    {
      "cell_type": "code",
      "metadata": {
        "id": "sdihH4T7ZAmc"
      },
      "source": [
        "import matplotlib.pyplot as plt\n",
        "import numpy as np\n",
        "\n",
        "#y_true = testGen.classes\n",
        "#y_pred = predictions_test\n",
        "\n",
        "#print(list(labels))\n",
        "cm = confusion_matrix(y_true,y_pred,labels =  list(range(0,24)) )\n",
        "\n"
      ],
      "execution_count": null,
      "outputs": []
    },
    {
      "cell_type": "code",
      "metadata": {
        "id": "7KF_N9fFEFSH"
      },
      "source": [
        "import seaborn as sn\n",
        "import pandas as pd\n",
        "import matplotlib.pyplot as plt\n",
        "\n",
        "\n",
        "df_cm = pd.DataFrame(cm,index = ['Balcony','Bathroom','Beach','Bedroom','Buildings','Education,science','Forest, field, jungle', 'Garden', 'Hospital','Kitchen','Living room','Mountains, hills, desert, sky','Museum','Noise','Office','Other rooms','Others','Pathways','Recreation','Restaurant,Bar','Shop','Sport fields','Transportation','Water'] ,columns =  ['Balcony','Bathroom','Beach','Bedroom','Buildings','Education,science','Forest, field, jungle', 'Garden', 'Hospital','Kitchen','Living room','Mountains, hills, desert, sky','Museum','Noise','Office','Other rooms','Others','Pathways','Recreation','Restaurant,Bar','Shop','Sport fields','Transportation','Water'] )\n",
        "# plt.figure(figsize=(10,7))\n",
        "sn.set(font_scale=1.4) # for label size\n",
        "sn.heatmap(df_cm, annot=False, annot_kws={\"size\": 20},cmap=\"BuPu\") # font size\n",
        "plt.title('Confusion matrix for Baseline Full DS')\n",
        "plt.show()"
      ],
      "execution_count": null,
      "outputs": []
    },
    {
      "cell_type": "code",
      "metadata": {
        "id": "yFNjHNinCHsE"
      },
      "source": [
        "cm.shape"
      ],
      "execution_count": null,
      "outputs": []
    },
    {
      "cell_type": "code",
      "metadata": {
        "id": "3E4H-cUJ_uzM"
      },
      "source": [
        "labels = ['Balcony','Bathroom','Beach','Bedroom','Buildings','Education,science','Forest, field, jungle', 'Garden', 'Hospital','Kitchen','Living room','Mountains, hills, desert, sky','Museum','Noise','Office','Other rooms','Others','Pathways','Recreation','Restaurant,Bar','Shop','Sport fields','Transportation','Water']"
      ],
      "execution_count": null,
      "outputs": []
    },
    {
      "cell_type": "markdown",
      "metadata": {
        "id": "VJrIgcB8GRx8"
      },
      "source": [
        "#Testing something"
      ]
    },
    {
      "cell_type": "code",
      "metadata": {
        "id": "V8QuUgrRAULZ"
      },
      "source": [
        ""
      ],
      "execution_count": null,
      "outputs": []
    },
    {
      "cell_type": "code",
      "metadata": {
        "id": "tcsLb1zbYCap"
      },
      "source": [
        "model.save(os.path.join('/content/gdrive/MyDrive/saved_models','model_predict_full_ds'))"
      ],
      "execution_count": null,
      "outputs": []
    },
    {
      "cell_type": "code",
      "metadata": {
        "id": "cT8WI6M-Hmyf"
      },
      "source": [
        "# # test_path = '/content/gdrive/MyDrive/images_routine_users/user_05/user5_10'\n",
        "# # #t = os.path.getctime(os.path.join(folder,filename)\n",
        "# # # test_folder = load_images_from_folder(test_path)\n",
        "# # # test_folder\n",
        "# # # time = os.path.getctime('/content/gdrive/MyDrive/images_routine_users/user_05/user5_10/20160623_141445_000.jpg')\n",
        "# # # time1 = os.path.getctime('/content/gdrive/MyDrive/images_routine_users/user_05/user5_10/20160623_141849_000.jpg')\n",
        "# # # time2 = os.path.getctime('/content/gdrive/MyDrive/images_routine_users/user_05/user5_10/20160623_141749_000.jpg')\n",
        "# # # print(time,time1,time2)\n",
        "# # user_image_data\n",
        "# # '/content/gdrive/MyDrive/images_routine_users/Descriptors - EgoRoutine/places/user06/'\n",
        "# user_image_data\n",
        "# # labels_data\n",
        "# #final_data = pd.DataFrame()\n",
        "# #final_data = pd.concat((user_image_data,labels_data),axis=1)\n",
        "# #pd.concat([df1, df2), axis=1, ignore_index=True)\n",
        "\n",
        "# #frame = pd.concat([user_image_data.reset_index(drop=True),labels_data],join=\"inner\",axis=1)\n",
        "# #frame\n",
        "# # final_data\n",
        "# # user_image_data.reset_index(drop=True, inplace=True)\n",
        "# # labels_data.reset_index(drop=True, inplace=True)\n",
        "# # df = pd.concat([user_image_data, labels_data], axis=1)\n",
        "# # final_data = df\n",
        "# # final_data\n",
        "# #user_image_data_val\n",
        "# #labels_data_val\n",
        "# ro\n",
        "\n",
        "cv2.imread('/content/gdrive/MyDrive/data/train/Bedroom/20180313_125858_000.jpg')\n"
      ],
      "execution_count": null,
      "outputs": []
    },
    {
      "cell_type": "code",
      "metadata": {
        "id": "Zu1p7kh0Wt8r"
      },
      "source": [
        "path = '/content/gdrive/MyDrive/data'\n",
        "folders = os.listdir(path)\n",
        "for folder in folders:\n",
        "  class_folder = os.listdir(os.path.join(path,folder))\n",
        "  for classs in class_folder:\n",
        "    for f in classs:"
      ],
      "execution_count": null,
      "outputs": []
    },
    {
      "cell_type": "markdown",
      "metadata": {
        "id": "ZcasvP0A8f57"
      },
      "source": [
        "![image.png](data:image/png;base64,iVBORw0KGgoAAAANSUhEUgAAB8gAAAJUCAYAAAB5WHwMAAAgAElEQVR4Aeyd68t9Rfn/f/9Kz3vYk+D7JehB0IMIIoKEiCRCKQzDDKVIKdGUzlqeikzLQ1SSlGZaIVme0jQrK0XLzmpmechO+8dr972212ectfY67r3u+34N3Pfae+21Zs16z2tmzVzXzKz/9+c//3n1pz/9afXoo4+uHnzwwdV99923uv3221ePPPKIfyM0eO6551b+qYEMyIAMyIAMyIAMyIAMyIAMyIAMyIAMyIAMyIAMPLf68Y9/vP5TC8uDDMiADMiADMjAvhn4fzrI5xkIsO+M9fpWLjIgAzIgAzIgAzIgAzIgAzIgAzIgAzIgAzIgA0thQAe5LC6FRdMhizIgAzIgAzrIR8wSb5tlb+GycMmADMiADMiADMiADMiADMiADMiADMiADMiADMjAfxnQQW5ZsCzIgAzIgAzIwFIY0EGug9yl4F0OXwZkQAZkQAZkQAZkQAZkQAZkQAZkQAZkQAZkYFYGdJDrFFmKU8R0yKIMyIAMyIAOch3kszZ8rWSsZGRABmRABmRABmRABmRABmRABmRABmRABmRABnSQy4D1gAzIgAzIgAwshQEd5DrIdZA7OlgGZEAGZEAGZEAGZEAGZEAGZEAGZEAGZEAGZGBWBnSQ6xRZilPEdMiiDMiADMiADnId5LM2fK1krGRkQAZkQAZkQAZkQAZkQAZkQAZkQAZkQAZkQAZ0kMuA9YAMyIAMyIAMLIUBHeQ6yHWQOzpYBmRABmRABmRABmRABmRABmRABmRABmRABmRgVgZ0kOsUWYpTxHTIogzIgAzIgA5yHeSzNnytZKxkZEAGZEAGZEAGZEAGZEAGZEAGZEAGZEAGZEAGdJDLgPWADMiADMiADCyFAR3kOsh1kDs6WAZkQAZkQAZkQAZkQAZkQAZkQAZkQAZkQAZkYFYGdJDrFFmKU8R0yKIMyIAMyIAOch3kszZ8rWSsZGRABmRABmRABmRABmRABmRABmRABmRABmRABnSQy4D1gAzIgAzIgAwshQEd5DrIdZA7OlgGZEAGZEAGZEAGZEAGZEAGZEAGZEAGZEAGZGBWBnSQ6xRZilPEdMiiDMiADMiADnId5LM2fK1krGRkQAZkQAZkQAZkQAZkQAZkQAZkQAZkQAZkQAZ0kMuA9YAMyIAMyIAMLIUBHeQ6yHWQOzpYBmRABmRABmRABmRABmRABmRABmRABmRABmRgVgZ0kOsUWYpTxHTIogzIgAzIgA5yHeSzNnytZKxkZEAGZEAGZEAGZEAGZEAGZEAGZEAGZEAGZEAGdJDLgPWADMiADMiADCyFAR3kOsh1kDs6WAZkQAZkQAZkQAZkQAZkQAZkQAZkQAZkQAZkYFYGdJDrFFmKU8R0yKIMyIAMyIAOch3kszZ8rWSsZGRABmRABmRABmRABmRABmRABmRABmRABmRABnSQy4D1gAzIgAzIgAwshQEd5DrIdZA7OlgGZEAGZEAGZEAGZEAGZEAGZEAGZEAGZEAGZGBWBnSQ6xRZilPEdMiiDMiADMiADnId5LM2fK1krGRkQAZkQAZkQAZkQAZkQAZkQAZkQAZkQAZkQAZ0kMuA9YAMyIAMyIAMLIUBHeQ6yHWQOzpYBmRABmRABmRABmRABmRABmRABmRABmRABmRgVgZ0kOsUWYpTxHTIogzIgAzIgA5yHeSzNnytZKxkZEAGZEAGZEAGZEAGZEAGZEAGZEAGZEAGZEAGdJDLgPWADMiADMiADCyFAR3kOsh1kDs6WAZkQAZkQAZkQAZkQAZkQAZkQAZkQAZkQAZkYFYGdJDrFFmKU8R0yKIMyIAMyIAOch3kszZ8rWSsZGRABmRABmRABmRABmRABmRABmRABmRABmRABnSQy4D1gAzIgAzIgAwshQEd5DrIdZA7OlgGZEAGZEAGZEAGZEAGZEAGZEAGZEAGZEAGZGBWBnSQ6xRZilPEdMiiDMiADMiADnId5LM2fK1krGRkQAZkQAZkQAZkQAZkQAZkQAZkQAZkQAZkQAZ0kMuA9YAMyIAMyIAMLIUBHeQ6yHWQOzpYBmRABmRABmRABmRABmRABmRABmRABmRABmRgVgZ0kOsUWYpTxHTIogzIgAzIgA5yHeSzNnytZKxkZEAGZEAGZEAGZEAGZEAGZEAGZEAGZEAGZEAGdJDLgPWADMiADMiADCyFAR3kOsh1kDs6WAZkQAZkQAZkQAZkQAZkQAZkQAZkQAZkQAZkYFYGdJDrFFmKU8R0yKIMyIAMyIAOch3kszZ8rWSsZGRABmRABmRABmRABmRABmRABmRABmRABmRABnSQy4D1gAzIgAzIgAwshQEd5DrIdZA7OlgGZEAGZEAGZEAGZEAGZEAGZEAGZEAGZEAGZGBWBnSQ6xRZilPEdMiiDMiADMiADnId5LM2fK1krGRkQAZkQAZkQAZkQAZkQAZkQAZkQAZkQAZkQAZ0kMuA9YAMyIAMyIAMLIUBHeQ6yHWQOzpYBmRABmRABmRABmRABmRABmRABmRABmRABmRgVgZ0kOsUWYpTxHTIogzIgAzIgA5yHeSzNnytZKxkZEAGZEAGZEAGZEAGZEAGZEAGZEAGZEAGZEAGdJDLgPWADMiADMiADCyFAR3kOsh1kDs6WAZkQAZkQAZkQAZkQAZkQAZkQAZkQAZkQAZkYFYGdJDrFFmKU8R0yKIMyIAMyIAOch3kszZ8rWSsZGRABmRABmRABmRABmRABmRABmRABmRABmRABnSQy4D1gAzIgAzIgAwshQEd5DrIdZA7OlgGZEAGZEAGZEAGZEAGZEAGZEAGZEAGZEAGZGBWBnSQ6xRZilPEdMiiDMiADMiADnId5LM2fK1krGRkQAZkQAZkQAZkQAZkQAZkQAZkQAZkQAZkQAZ0kMuA9YAMyIAMyIAMLIUBHeQ6yHWQOzpYBmRABmRABmRABmRABmRABmRABmRABmRABmRgVgZ0kOsUWYpTxHTIogzIgAzIgA5yHeSzNnytZKxkZEAGZEAGZEAGZEAGZEAGZEAGZEAGZEAGZEAGdJDLgPWADMiADMiADCyFAR3kOsh1kDs6WAZkQAZkQAZkQAZkQAZkQAZkQAZkQAZkQAZkYFYGdJDrFFmKU8R0yKIMyIAMyIAOch3kszZ8rWSsZGRABmRABmRABmRABmRABmRABmRABmRABmRABnSQy4D1gAzIgAzIgAwshQEd5DrIdZA7OlgGZEAGZEAGZEAGZEAGZEAGZEAGZEAGZEAGZGBWBnSQ6xRZilPEdMiiDMiADMiADnId5LM2fK1krGRkQAZkQAZkQAZkQAZkQAZkQAZkQAZkQAZkQAZ0kMuA9YAMyIAMyIAMLIUBHeQ6yHWQOzpYBmRABmRABmRABmRABmRABmRABmRABmRABmRgVgZ0kOsUWYpTxHTIogzIgAzIgA5yHeSzNnytZKxkZEAGZEAGZEAGZEAGZEAGZEAGZEAGZEAGZEAGdJDLgPWADMiADMiADCyFAR3kOsh1kDs6WAZkQAZkQAZkQAZkQAZkQAZkQAZkQAZkQAZkYFYGdJDrFFmKU8R0yKIMyIAMyIAOch3kszZ8rWSsZGRABmRABmRABmRABmRABmRABmRABmRABmRABnSQy4D1gAzIgAzIgAwshQEd5DrIdZA7OlgGZEAGZEAGZEAGZEAGZEAGZEAGZEAGZEAGZGBWBnSQ6xRZilPEdMiiDMiADMiADnId5LM2fK1krGRkQAZkQAZkQAZkQAZkQAZkQAZkQAZkQAZkQAZ0kMuA9YAMyIAMyIAMLIUBHeQ6yHWQOzpYBmRABmRABmRABmRABmRABmRABmRABmRABmRgVgZ0kOsUWYpTxHTIogzIgAzIgA5yHeSzNnytZKxkZEAGZEAGZEAGZEAGZEAGZEAGZEAGZEAGZEAGdJDLgPWADMiADMiADCyFAR3kOsh1kDs6WAZkQAZkQAZkQAZkQAZkQAZkQAZkQAZkQAZkYFYGdJDrFFmKU8R0yKIMyIAMyIAOch3kszZ8rWSsZGRABmRABmRABmRABmRABmRABmRABmRABmRABnSQy4D1gAzIgAzIgAwshQEd5DrIdZA7OlgGZEAGZEAGZEAGZEAGZEAGZEAGZEAGZEAGZGBWBnSQ6xRZilPEdMiiDMiADMiADnId5LM2fK1krGRkQAZkQAZkQAZkQAZkQAZkQAZkQAZkQAZkQAZ0kMuA9YAMyIAMyIAMLIUBHeQ6yHWQOzpYBmRABmRABmRABmRABmRABmRABmRABmRABmRgVgZ0kOsUWYpTxHTIogzIgAzIgA5yHeSzNnytZKxkZEAGZEAGZEAGZEAGZEAGZEAGZEAGZEAGZEAGdJDLgPWADMiADMiADCyFAR3kOsh1kDs6WAZkQAZkQAZkQAZkQAZkQAZkQAZkQAZkQAZkYFYGdJDrFFmKU8R0yKIMyIAMyIAOch3kszZ8rWSsZGRABmRABmRABmRABmRABmRABmRABmRABmRABnSQy4D1gAzIgAzIgAwshQEd5DrIdZA7OlgGZEAGZEAGZEAGZEAGZEAGZEAGZEAGZEAGZGBWBnSQ6xRZilPEdMiiDMiADMiADnId5LM2fK1krGRkQAZkQAZkQAZkQAZkQAZkQAZkQAZkQAZkQAZ0kMuA9YAMyIAMyIAMLIUBHeQ6yHWQOzpYBmRABmRABmRABmRABmRABmRABmRABmRABmRgVgZ0kOsUWYpTxHTIogzIgAzIgA5yHeSzNnytZKxkZEAGZEAGZEAGZEAGZEAGZEAGZEAGZEAGZEAGdJDLgPWADMiADMiADCyFAR3kOsh1kDs6WAZkQAZkQAZkQAZkQAZkQAZkQAZkQAZkQAZkYFYGdJDrFFmKU8R0yKIMyIAMyIAOch3kszZ8rWSsZGRABmRABmRABmRABmRABmRABmRABmRABmRABnSQy4D1gAzIgAzIgAwshQEd5DrIdZA7OlgGZEAGZEAGZEAGZEAGZEAGZEAGZEAGZEAGZGBWBnSQ6xRZilPEdMiiDMiADMiADnId5LM2fK1krGRkQAZkQAZkQAZkQAZkQAZkQAZkQAZkQAZkQAZ0kMuA9YAMyIAMyIAMLIUBHeQ6yHWQOzpYBmRABmRABmRABmRABmRABmRABmRABmRABmRgVgZ0kOsUWYpTxHTIogzIgAzIgA5yHeSzNnytZKxkZEAGZEAGZEAGZEAGZEAGZEAGZEAGZEAGZEAGdJDLgPWADMiADMiADCyFAR3kOsh1kDs6WAZkQAZkQAZkQAZkQAZkQAZkQAZkQAZkQAZkYFYGdJDrFFmKU8R0yKIMyIAMyIAOch3kszZ8rWSsZGRABmRABmRABmRABmRABmRABmRABmRABmRABnSQy4D1gAzIgAzIgAwshQEd5DrIdZA7OlgGZEAGZEAGZEAGZEAGZEAGZEAGZEAGZEAGZGBWBnSQ6xRZilPEdMiiDMiADMiADnId5LM2fK1krGRkQAZkQAZkQAZkQAZkQAZkQAZkQAZkQAZkQAZ0kMuA9YAMyIAMyIAMLIUBHeQ6yHWQOzpYBmRABmRABmRABmRABmRABmRABmRABmRABmRgVgZ0kOsUWYpTxHTIogzIgAzIgA5yHeSzNnytZKxkZEAGZEAGZEAGZEAGZEAGZEAGZEAGZEAGZEAGdJDLgPWADMiADMiADCyFAR3kOsh1kDs6WAZkQAZkQAZkQAZkQAZkQAZkQAZkQAZkQAZkYFYGdJDrFFmKU8R0yKIMyIAMyIAOch3kszZ8rWSsZGRABmRABmRABmRABmRABmRABmRABmRABmRABnSQy4D1gAzIgAzIgAwshQEd5DrIdZA7OlgGZEAGZEAGZEAGZEAGZEAGZEAGZEAGZEAGZGBWBnSQ6xRZilPEdMiiDMiADMiADvKFOMhvuummlX9qIAMyIAMyIAMyIAMyIAMyIAMyIAMyIAOHhwGNrxpfZeAFBnSQv6CFXKiFDMiADMiADOyXAR3kOsh1zDs4QQZkQAZkQAZkQAZkQAZkQAZkQAZkQAZmYEDD534Nn+q/LP11kC8rPywf5ocMyIAMyMBRZkAHuQ5yO8AzdIAd7X94Rvubl+alDMiADMiADMiADMiADMiADMjAUAaOstHRe9foXjKgg1wmSib8LhMyIAMyIAP7YkAHuQ5yHeQ6yGVABmRABmRABmRABmRABmRABmRABmRgBgb2ZfDzuhqbl8iADnK5XCKXpkkuZUAGZOBoMqCDXAe5HeAZOsBDR5Z7nrMSZEAGZEAGZEAGZEAGZEAGZEAGZODwMKDB9WgaXM33er7rIK/rIi/qIgMyIAMyIAO7Z0AHuQ5yHeQ6yGVABmRABmRABmRABmRABmRABmRABmRgBgY0du7e2Knmy9VcB/ly88ZyY97IgAzIgAwcNQZ0kOsgtwM8QwfY0f6HZ7S/eWleyoAMyIAMyIAMyIAMyIAMyIAMDGXgqBkavV+N620M6CCXjzY+/E0+ZEAGZEAGdsmADnId5DrIdZDLgAzIgAzIgAzIgAzIgAzIgAzIgAzIwAwM7NLI57U0Ki+dAR3kMrp0Rk2fjMqADMjA0WFAB7kOcjvAM3SAh44s9zxnJciADMiADMiADMiADMiADMiADMjA4WFAI+vRMbKa19vzWgf5do3kSI1kQAZkQAZkYDcM6CDXQa6DXAe5DMiADMiADMiADMiADMiADMiADMiADMzAgAbO3Rg41flg6KyD/GDkk+XJfJIBGZABGTgKDOgg10FuB3iGDrCj/Q/PaH/z0ryUARmQARmQARmQARmQARmQARkYysBRMC56jxrRuzKgg1xWurLicbIiAzIgAzIwNwM6yHWQ6yDXQS4DMiADMiADMiADMiADMiADMiADMiADMzAwt2HP+DUeHyQGdJDL60Hi1bTKqwzIgAwcbgZ0kOsgtwM8Qwd46Mhyz3NWggzIgAzIgAzIgAzIgAzIgAzIgAwcHgY0rB5uw6r52y9/dZD300u+1EsGZEAGZEAG5mNAB7kOch3kOshlQAZkQAZkQAZkQAZkQAZkQAZkQAZkYAYGNGrOZ9RU24OnrQ7yg5dnljPzTAZkQAZk4LAyoINcB7kd4Bk6wI72Pzyj/c1L81IGZEAGZEAGZEAGZEAGZEAGZGAoA4fVoOh9aSwfwoAOcrkZwo3nyI0MyIAMyMAcDOgg10Gug1wHuQzIgAzIgAzIgAzIgAzIgAzIgAzIgAzMwMAcxjzj1Eh8UBnQQS67B5Vd0y27MiADMnD4GNBBroPcDvAMHeChI8s9z1kJMiADMiADMiADMiADMiADMiADMnB4GNCYeviMqebp8DzVQT5cO7lTOxmQARmQARmYlgEd5DrIdZDrIJcBGZABGZABGZABGZABGZABGZABGZCBGRjQkDmtIVM9D7aeOsgPdv5Z/sw/GZABGZCBw8SADnId5HaAZ+gAO9r/8Iz2Ny/NSxmQARmQARmQARmQARmQARmQgaEMHCYjoveiUXwsAzrIZWgsQ54vQzIgAzIgA1MxoINcB7kOch3kMiADMiADMiADMiADMiADMiADMiADMjADA1MZ8IxHY/BhYEAHuRwfBo69BzmWARmQgcPBQKODfGUYpcA///nPlX9qIAMyIAMyIAMyIAMyIAMyIAMyIAMyIAMyIAMyIAMyIAMyIAMyIAMyIAPLYUAH+Sg3uCergAqogAqogAqogAqogAqogAqogAqogAqogAqogAqogAqogAqogAqogAocFAV0kB+UnDKdKqACKqACKqACKqACKqACKqACKqACKqACKqACKqACKqACKqACKqACKqACoxTQQT5KPk9WARVQARVQARVQARVQARVQARVQARVQARVQARVQARVQARVQARVQARVQARU4KAroID8oOWU6VUAFVEAFVEAFVEAFVEAFVEAFVEAFVEAFVEAFVEAFVEAFVEAFVEAFVEAFRimgg3yUfJ6sAiqgAiqgAiqgAiqgAiqgAiqgAiqgAiqgAiqgAiqgAiqgAiqgAiqgAipwUBTQQX5Qcsp0qoAKqIAKqIAKqIAKqIAKqIAKqIAKqIAKqIAKqIAKqIAKqIAKqIAKqIAKjFJAB/ko+TxZBVRABVRABVRABVRABVRABVRABVRABVRABVRABVRABVRABVRABVRABVTgoCigg/yg5JTpVAEVUAEVUAEVUAEVUAEVUAEVUAEVUAEVUAEVUAEVUAEVUAEVUAEVUAEVGKWADvJR8nmyCqiACqiACqiACqiACqiACqiACqiACqiACqiACqiACqiACqiACqiACqjAQVFAB/lBySnTqQIqoAIqoAIqoAIqoAIqoAIqoAIqoAIqoAIqoAIqoAIqoAIqoAIqoAIqMEoBHeSj5PNkFVABFVABFVABFVABFVABFVABFVABFVABFVABFVABFVABFVABFVABFVCBg6KADvKDklOmUwVUQAVUQAVUQAVUQAVUQAVUQAVUQAVUQAVUQAVUQAVUQAVUQAVUQAVUYJQCOshHyefJKqACKqACKqACKqACKqACKqACKqACKqACKqACKqACKqACKqACKqACKqACB0UBHeQHJadMpwqogAqogAqogAqogAqogAqogAqogAqogAqogAqogAqogAqogAqogAqowCgFdJCPks+TVUAFVEAFVEAFVEAFVEAFVEAFVEAFVEAFVEAFVEAFVEAFVEAFVEAFVEAFDooCOsgPSk6ZThVQARVQARVQARVQARVQARVQARVQARVQARVQARVQARVQARVQARVQARVQgVEK6CAfJZ8nq4AKqIAKqIAKqIAKqIAKqIAKqIAKqIAKqIAKqIAKqIAKqIAKqIAKqIAKHBQFdJAflJwynSqgAiqgAiqgAiqgAiqgAiqgAiqgAiqgAiqgAiqgAiqgAiqgAiqgAiqgAqMU0EE+Sj5PVgEVUAEVUAEVUAEVUAEVUAEVUAEVUAEVUAEVUAEVUAEVUAEVUAEVUAEVOCgK6CA/KDllOlVABVRABVRABVRABVRABVRABVRABVRABVRABVRABVRABVRABVRABVRABUYpoIN8lHyerAIqoAIqoAIqoAIqoAIqoAIqoAIqoAIqoAIqoAIqoAIqoAIqoAIqoAIqcFAU0EF+UHLKdL5IgUsvvXT1qle9avWzn/3sRb+5QwVUQAVUQAVUQAVUQAVUQAVUQAVUQAVUQAVUQAVUQAVUQAVUQAVUQAVKBXSQl4ocwu//+c9/Rt3V2PO5+BRx5Jt45JFHVi95yUvWf1/60pfyT62fp0jHFHG0JrLDj0tIQ4dkeogKqIAKqIAKqIAKqIAKTKrAYWkHL+U+lpKOSSHZUWT//Oc/14O1f/zjH6/y3+9///sdpcDLHFQF9lXuprjuFHEc1Hwz3SpwkBSwrE6bW+o5rZ7GpgIqoAJLUUAH+VJyIqXjmWeeWd1yyy2rD33oQ6tXv/rVq9e85jXp124f77vvvtV73/ve1ctf/vLVS1/60tXb3/721de+9rVuJ//fUd/4xjdW73jHO9bnE8/pp5++uvvuu3ceR+2C3Fs4yJ966qnaIet9f/3rX1cXXHDB6vjjj1+97GUvW5/z2te+dnXuueeunn766cbz8g+/+tWv1sczWz2uSRyf/vSnV3//+9/zoS/6/Le//W118cUXr84+++zGv0suuWTVdg8RKek45ZRTVq985Ss39/GBD3xg9Zvf/CYOcasCKqACKqACKqACKqACh0qBf/3rXysGxL7zne9cveIVr1i3g2kPv/vd717RPt5lePzxx1df//rXV6eddto6LWeddVavyz/xxBMr2u/07+hX0E97wxvesGJlrOeff75XXEMPRk/uIfeP6OudcMIJq/vvv781WozDn/nMZxr7NbnP89WvfrU1rsPwIwxG/zBvyVfDfhWYwqYy1R1Qbr797W+vPvKRj6ze/OY3r8s9vFDuuvTlH3744dUXv/jF1Yknnri2adxwww29kvbAAw+s68+wI2AXectb3rK68cYbO8dz0003rc8JmwpxnXTSSa7m11lBD1SB3SjAwC3aFG9605vWzydsytiWf/e73+0kAbTXzjnnnMZ2wnnnnbd68MEHO6VlbJuLi4ypP8e0lzrdoAepgAqogAosQgEd5IvIhv8m4g9/+MO605E71/GZB3PX8MMf/rDaUSeuCy+8sFM0l112WWMcP/jBD3YWR+1Cf/zjHzdpo6HXFL75zW9unOKhY97SIf3FL37RdPp6P4MK8jnlZzqGf/nLXxrjoCNcnlP7Toe3LXznO99pjAcDzD333NN2+qS/0UiFo4997GObPwYBYIQwqIAKqIAKqIAKHF0FML598pOf3LQPaCt8/vOfX/3jH/841KLQTr/iiiuOue/cTmr6fOuttx6jC06MT3ziE73iOf/881f0IXJgpaWyrUYaiPuuu+7Khy7+M5owMLXWfo59OHvnDnfcccfGqR3XZfvGN76x86Vvv/32jWMsxxGf6VeUedk58o4H0m8hzXHN2vYLX/hCY2w///nPW8/N8dHXOuwBh2e+5/z5sN/7Uu9vKpvKVPfHgHkmHWQ28udf/vKXjZfiuUI5ysfzmeds18CAlvL8/J2BMW22Jn5jskU+p/yMLcCgAiqwfwUor031DQMM517dhIk/Zf1Q+87gmrYwRZtrbP05tr3Udn/+pgIqoAIqsCwFdJAvKD+YsV1rPLCvrdOSbwHDZMSB4/TjH//4Cmd3nv28bSb5t771rU0cGGroVGF8I76IG8NbW5gijqb4P/zhD2/S0WREYjZJpJVtzKDHYc3sk/iN0ZRtszXyPb/tbW9bXXPNNavrrrvuGAMZ8TWF7CCnQVr7Y9ZIm6OehllOxwc/+MHV9ddfv87buA+2TVo0pW3o/k996lMb/fL1SyPv0Pg9TwUOmgKPPvroepQ0M6W2rSpx0O7N9KqACqhAHwUY8JfbBvGZlZEOc2Bp5bjXPtvSgYijos/5cSyrGuXw/ve/v3xYpQkAACAASURBVDEe2pSssHRQQsxW5F6ZdX3llVeuvve9760++tGPHnOP2/omY++3SdOuDnJmjuf2PHmG859Vv973vvdt7oV+Qdd+35B7wvkd3NAvYbAx/bbS0fuzn/2sGj1lOc5/3etet6r9xe/HHXdcNY7DtpP8okzhGGDWXtz/YbvPg3I/U9hUprpX+vjYU4IJbDLYZnhm0H/YVtbzubku7Oogv+222zbX5nzsQMzc/P73v3/MQBnKf1NgsFWk//Wvf/26/n3ooYfWq1Bk5/1hf8436eN+FViSAqxqE+WVGeS0mc4444zNPuqUbfXOmPvBdhnXp86p2T+xwWLPbAtj21zEPbb+HNtears/f1MBFVABFViWAjrIF5QfzK5h6So6MszG/dznPrdpXHRtxOAQjwbJzTffvLm7P/3pT5vZ1NuWbMcwQxwYcfKSX3SkIu62mdtcdIo4NolPHxiBHcYlljZsCiwPGGn97Gc/+6LD8nJ4bY0zRh3SYUS/HJ577rljGlxNTrHsIM/n9/nMbJ+4l8svv/yYU3Ont+8Sj8dE1ONLZozlkeCUZZTaBhr0iN5DVeDAKZBX3KAjiNGbzqFBBVRABY6aAjgBaTvRNuC1MNF+oX17mAPtQIx5LFkb7VS2GCdrfzFwlWNyiJm9OB3yeaEjz5i8P65VtstZWYiBnRyLcTLOjy0G04MSIs3MNirb27Q/43cMwHOGP//5zyscbzi26JehL9fu6iDPab322mtflFQGwMa9cI25wq9//es1qzjFy3dpfuUrX9mkockBFzPI3/Oe9zQmEeM398LqEUct5EFCR+3el3K/U9hUprgX6okoC5QH+tB9A45obBUxACjqiKbyWcb/rne9a1OmWWY4B5ZhzqtzNNmbeO5wXZ5bZR3829/+dvPMo040qIAK7E8BbKVRRzB4La/elG142CjnCtlBfu+99w6+zNg2FxceW3+ObS8NvnlPVAEVUAEV2LkCOsh3Lnn3C/Z1kNOpiQ4M77YqA87VaDA1GV5oRMQx5WwU4ovltTDIlR2kuN4UcURc5TYvEdb23ppnn312bbjCuVwLP/3pTzf3yYz0ISGPpm6aAT6Fg/ytb33rOq1oTke2DPE7+bYLp1xuXNNoNKjAUVfgySef3NSNUX+y5T2cGI4MKqACKnAUFeBVN1EnHnYHec5fnOTcN9um8N3vfnfTtsvHYNDk3LJtGu+rfu9735sPX7/LluN5p3VTYGl1jolZPHzGaXNQwrnnnrte/Ym2fRn+/e9/b5wzaLfL0NdBzsBetOev5oiiLxG/s2LVPgLpijSwRGtTqPVH4tjcx9rV+07j2kvYjnWQwzQzixnkUg7Q7nJ/OEjoI7OcP4MZ4hVYlJ/SQVqLj0ETDHRiBQHiwDEbThb272rFslrahu7ra1MZep3yPFaWivI0xDlexsf3iK+rgzxmeDNYqhbyDElsOGV47LHHNtdkFblaiOWcsUMdpYA2lBOWgsa2Rn+wb6BsUffz6hP6jPnZwISMLuHpp59e4Yjkj1fh5YFPTfa6LvFOcQz1xd13372qPb/L+JeiZ5mug/T96quv3pRXXruZA2zFoMo5B7NM5SDPaedz3zZXeT7f+9aftThiX9f2UhzvVgVUQAVUYNkK6CBfcP707czR+IyHfm3Efl52HGNZLVx00UWbOGpL6335y1/e/N60pPYUcdTSxgzlGADAEpRjQtaiNDZ2jZfzQu+mDswUDvKY+dNk+MtLIpYN4a730ue4IQ5yOjzw2eevHHQwRRwYefqkgWPze5poCGP46xsHHdcIGKrowPaJg+U3c4d5Ci2miEM9I1f/u8UgmeuFqB+YRVmrT489228qoAIqcLgU0EHe7CCPZaoxVuYQsw0vuOCCvHvzap+yzRpLspf742TaDtF2ZuBrHmjad2YPzk76JsyEHuIIiDRNvY37o73cJaAJ+vP6KJyQ2ZnQ5fw4pq+xlln+0S7IbbqIj+XW4/cbb7wxdrduWTELVuhvTLGSU35VV5MzrDVBq9X6lTPcR1O/Zdv5B/33oQ7yH/zgByuWrw4GYksdQTnf5tyG5eOPP/5F5xNPXmaWFeGaAstvRx0U149t3h9O96Z4Yv9S6oy+NpVI/5gttoGom9g22Qr6XiPyo6uDPGaINznIWfEl4mQARBmys6s2eYLjYwIFM8wPe2BwEBMwwj4T2sWWMoytYFtg8EnkTZzLlvLOgLd4JSCvbKgFBtKwEkwtHexjIkesVJPtQ1ddddXGScr1ypUWy34s6cFuVgZWqgy+I/2sgkLAdsI95HqHY2rL+O9TT1Zy4f4i/Wz5fvrpp29uFwd/6JiPK1ft2Zzwfx8YqMQAGdpcNf3K46f6HgM0uY9aOyOvotll0MKQdOU6o287s+16fdtctbgiD7vWn7U4Yt8U7aWIy60KqIAKqMD+FdBBvv88aExB387cDTfcsGngNTXMoyFL46gWzjzzzHUcNKpqBqPsWMZZXgtTxFGLNy9NiHNxTMhLIg+ZpZGNWMzgbgrZQX7nnXeuMDbR8WA5dBrN2fnaFEcYJJoMfyxzHo29be+Xb7pGn/19HeRwVHY+Ir3btrHSwRRx/PKXv9zotO26+ffcwaAjmn/r+jmP0o0Ob9dz47jowE6hxRRxqOdL1rMFamWHGT+8G7Xknk5rm2GyFpf7VEAFVOCgKqCD/FgHOQ4KDOKEmC2MATmHMChjVM2haQb5ySefvG6XsIxuLfCu7mhH8NoklqyM79kIXDs37/v617++OS/Ob1vJKZ875+f8SqUmDfL1MRiXxm4GsQ0JfY21+VVVLGVehug/oW+XAQjl+zmZKVoziJfXafrOTMMcZ7TBm46v7ef60deMdmvtuMO8r6+DHN3zMthRvmrbpkELrOhVtjmj/1jG0/R6hVxfcw75GPVRGQd9gG1hSXVGX5vKtnvr8vt3vvOdTZ2JE5rAgGkGF48pp5EXXR08ud9e1tnMXo5nS9sr+OLVefBQOvphL9J0zjnndJHmQB9DvRb327ZtWmmBvH/f+97XKQ7ir63kwSD3eB1LWxrit+AP4cmj2M/21FNPPSY/amW+tgIQk3FyPHzmmchAn7IuyseVuuxTz1w2chpzWci2z3wMZaIpsAJIPpbP2DF3ESL/miYT5clOcznus4McOyt2VwZMwD0sNtmpt+nTt81Viy/ypWv9WYuDfVO0l5ridr8KqIAKqMB+FNBBvh/dO121b2cuN1TLxmdcMDpBTaOITzzxxHWDrskZ+9e//nXT4GsaRTxFHJHe2DJKNhp8bQ3SOL5tS6ciGu5sacR1CRzHMmSxjBgNLM5nxH5TyA7yaJCV220N5jzSk6XycqCTlQ0gTXmSzxn7OXcmui6xHnlX3vu273mpt7FxYBjedr3a7xgc4Y9QM/bUzin35fc0ZuNjeVzb92xMHasF9zI2DvV8yfq9Vm3liRk21MuxvGHkL/UwLAVXbXH4mwqogAocVAWyw6VmYD2o97Ut3TGDp1xiPZ4BzPSl/sd5Xc4KjedFfuZzvWi/lzPFMToSb25n5PSFAz2/Jzu/G552fZcQ1497YMu19xloA+cZt8zI2xaa2uVDlrLua6wl37NzHmcnq8swwyrP2msbeBv3lwc65DzpOvM84mHL8sC07cOxTXz0PYa0UeLVAcRBO/Eohr4O8ijDaEa/EgcGA6jhG2cqKx3kPKb9WAZerRbHsDpCLIFPHjIgO/q9HEP6ykB7NY7BBpAd4MwyzKuVEUe5ylcZH9+XVGf0tanU7qfvvjwYnwHs8fqMyKeTTjppPWCpb7xxflcHD3kZeUsZZ9YsjnIG7ITjmzjLQVk5XaQ/rst98OwiDliMZxa/j53AkK+51M88m7lXygl5QP1J+aHMMoM6dKK/XwuXXHLJ5hiOpe6nrcQsbzgtOSmfBwxyL1eKoI6g3JOn1OU5T7hGzlvSSprDDlBOmsFpSj3OsyTuhUk4ZcBByCAqWDjuuOM2x8Y5MIdDlPoHJzz7ubfyubJPPanbaDfkZx95UdoGsb/lZzSz+tvaTnm1mNCDZ/8uQlwP7WshD9zJKwvUjh26LzvIIz3llrJSDrbZdr2+ba5afJGOrvVnGceU7aUybr+rgAqogArsVwEd5PvVv/XqfTtzvK8wHvpNS+aE0Y5GcS1Eo5xtLdAoj2ucccYZtUM2DfsxcZQRY1iN69KwGxoYKZ1H3NaWom+KO+sbackO3Np5eeYO59A4xjBZLqnV5iTP9855YcTDcMJM9EgL26U6yEkrxrw+fyXDU8RBnH3SwLFhZIr8pUPUNw7KTQ7MDOoTx1NPPZVPXxvN+pzPser5An9z6HlMBhVfYPe66657kbEQA4dBBVRABQ6rAkfdQZ7bZ/lzfu1KmfcYVhn4WDrOw9lUOshx+GKor7Ujs5Eyr/qEUTTSU3OWlWnie3ZEx7lDZ17X4h+yL6+gxODcLqFsl8e9lHp3iWuIsZZlV6MvFtfOW5yl8b7ntjTkAcv5/BoHbfHgLMnn87lpsEVbPPFbrJIUKyXE/qO07eMgv+222zb646SJPl6pF4MoIp9wPP3xj3885pBwgKJ/LTCjkXqCOGqDKPKqUCzBXAt58AP9im1hSXVGX5vKtnvr8jt2ksizpi15ziCIPiHi6uPgwV6RnYARR2zLAVm19LCkdhxfbomb14EdlVA6UOO+6e8H97U6MJczNKwNKMDxnAe8lA5y6vjQH7tSbVIM7zLPTvLsII+0xuCI0kEev+O8jOvUHORxHFueGXEsW1bEqNkdSntIxLFPPUnD5Zdfvkk/y+eXgXRHGwwbKv36tsAqclkPPlNG5g75eV5bzp7rw1yk7frrr58lSeR9XCPunWdT5pr9XVb9yQkc0ubK5/M50tWn/ow4sr4Rz5j2UsTrVgVUQAVUYBkK6CBfRj5UU9G3M5dHoDc13KJhQaO5FmJmQ55pUh63rUEwRRzlNcNxT9xNjevynPI7I1ZzA56lh8pRrOU5+TujZHFo5Q4mBolsdMzH85nZ6hjCcFzzOQcapaEl8TQZRTgn3jEZx9P5yumI/bVZBfmaU3weMoN8iusahwocZAXoVOVVPiizlPtyAMZBvkfTrgIqoAJZAR3kL9m086KdxrbNQZ71y5/DOFs6yPMx5WccXXHdPNuJdnS01XHGdwkxyyviYztkCe4u1+pyTF4mlD5NlyXJiZf+UXYccB+lA6LL9Tkm+lRtfaYyLhyb4UDJWsZnnGpdHOTEG7Py4lzaFKVTorx+7ftFF120Mf5HXGhSc7zUzo99DD6M82sOmTjusG/7OMjPPvvsjWYMdmkLOG5C3/KVWtFPpm+II7vmcGJwxje+8Y3qu+qpkyJuZoPikK/N7sOZy0zVLmFJdUZfm0qX+9t2TOkMokwxW5VXrsU7u9GcVf362DYin/o4eH70ox9V7QYRV5eBNXkWeZwXW7jjGkcp4GhEN8olNjgmUrB8dOQ79XEZeC94aMaqhE2Bejye+eWgl4ifeFiBpCkwKII0cFzttQpzOcjRYkjYl56klUEJYVdDs3IgfV55hjp0W6CejHyO7S6eiQxcius11Q+02+IYZvfPFRh4wSoK5WojMBuDtUhH1+cJ6RzS5irvL+69SZ/y+PL7VO2lMl6/q4AKqIAK7F+BRTnIeWcNI6m3hamP23a9ff3etzOXG91NI7vDKNM0uzsa3U0GMxqQ0bBoGpk4RRxZczqScc3SIJCPa/tMxzMvbY1hMBsL284tf8O4dvXVV286HaStNgK4PK/2PedZm6Md51ppCAtN8jJbuzBWDnGQ4xhkphEjRbv+8S5G7jvC2Dgw9GCI6nr9OI6GcAQ6PBin47eu22z0oiNAXnY9l+MY2JGXOxyrBfczNg71PJbPYKTcPvHEE+vl7sJIkctt2Wksz/W7CqiAChxkBXbpIOeZFvVrly11Mu3LOULMEKY9TJsx/iJdNcfTtnSEsbyPgzxWK2LGE+2Q/BeGRtKEM6xLwLD5sY99bL1c6z6Xzy4dNX3fZ4kzkDhY4pM22dCBaqFhVwc5fbMwwqM7WsIgs9oxJgcf9NW6OMzg6tZbb12vJoWhuzTqd8nTfAxt3HhNFmmB3z4hz2yc692mkZ4llfdIU2z7OMijjKI3+dkWaDMGI6w0kQPOl/gtb6nn6PNSJzFLssk+QFw4cPO58RlmqX94xRiDu/vUX0upM/raVLK2Qz/HICR0ZNBBHpRP+c7997vuuqvzZSJfujp4sJvFOeQlzlJeD8dKAmEX4nfqo6bAktIRB8wyo5g4KPO5Tuvj7Gq6Vm3/kso79XU8j0OTpm15LyyrH8dus0MxQIn7pl7OIfqTpGFbwC6EI752rTkc5F2fXTnd+9Yz0kK5iLzh9ScRKKuR35TpXI7jmNqWJfd5zQL20l3Y50gDaYt7oH1TCyzDH8eg/T5CXsWoaQWDWrr6trlqccS9d60/a3Gwb2x7qSle96uACqiACuxPgUU4yH/yk5+s/vd//3fzsOYz+8ow9XFl/Ev73rczh3EkHvplYzruLd43xMjlWogZ1nR2aoGZD3ENRsnWwhRx5Hijw86MjyFGLBqL2TmOBuVs7ny9rp8ZQRpa9DFY5viZNR5x4LzdFhidTWeJRi8j83/3u9+tTjvttE0ctRkD2+Ls+3tfBzkdi7jHvtt4n+QUceTlCfumI2bzZANBnziy8TQbRPrEEQ35KbSYIg71fMl6JkhT+cE4XFtekQEPbSP+m+JzvwqogAocNAV26SDPy213fbZ2mQk0RPNwkLPNgcGpzJyJgKO2a7s2DLRd25vZmbZNj9NPPz2StPht6Ryf6x2aXYToa6zN/bTaMtf5VU6883RfIfqKcEM/o2sIh0sXx03XOJuOW1J5L9PYx0Eezi4cL9tCXrYWZ3UOtOvhJ+JrK/M4SGqBGeZ5gERTHNgI+q4uULveLvf1talMkbaYMICOtdfD5QkATTaVWjoiX6JfWDsm7wu7DGyUA5sYlBFOcn5vGqQRq27gHC+fWbAQ3JVc5nSM+byU8p6di+QDz3Pe9YxtBEco5Se04PcyMAGF/RwzJGDnifwvZ5b3jS/q6yYHJQNh4lpdl1jnmdgn7FvPnFZsPcE5+RMr/eRXC2zTIce3r89xD02vwMn2ywceeGBfyVxFO6NpUlYtYX3bXLU4gumu9Wctjrwv7oN4+7SXchx+VgEVUAEVWIYCi3CQ/8///M+mARYPLZzkZZj6uDL+pX3v25ljFGDoR2OuDPm9KU3LH9G4jzhqo8zzKGQMn7UwRRwRLwaiSA+O4b6Bjl50DImHjsxUnfqsZ3aA9kkj6Yv7O/nkk/ucuj6WJSWjI0YDbRehr4OcNOFYpiPX548OZ3ROpogDwxIOyz5p4Ng8iph3VNKR7BtHNoRiJOl7Pp2cPNtYPW/coL4UPSNBjBInf6Ncx5YVEX7961/HYW5VQAVU4NArsEsHOTN1or7tup3LudrkIKfNFwPueEco6ezafuzrID/33HM3enBu7S/P/KvNMFsaoHmGMtp1WXVsznvoa6zFeUS68yCJnD76XcEu7bx9hdzOj4Gq29LCoMBI+8UXX7zt8NG/L6m8lzfTx0EeTiq02zYzkSWTQ+OmgTI4L3E68Q5cBocz+IVB8eE04XzKPQ71pkBdwCu7zjnnnLXzj340g9Wjv0kctHMPUuhrU5ni3ujHRn7VVrnIkw6aZnvW0hFxdnHw8MyJfGti5lvf+tYmnbXVRLItpmklP9If6YpnXC3tQ/ctpbzHqwy4V8pIrRzlwfTl/eal9fMqeeVxTd+5XuRn02qQTeeW+6PuaXKkZjvXNsdw2Nr6Osj3rWepSW5jsIIgekfbC0futjq6jG8f30PTJsdzfr6zyt2+AqtqUI6aJmXV0tW3zVWLI+qpLvVn7fxyX9aza3upjMPvKqACKqACy1Bg7w7y7HCNB1Zs+S3C1MdFvEve9u3MMSs6tKNTVgYcSfF7UwcHR14cU3ufNUu6xe/lKOS43hRxRFyx5CCdgb4dCTqFcT5pZnR+23u+45pdtxghQgveHzYksGx2xJEdsV3jwngR52cnbNfzhxyXG4I6/IYo6DmHUYE77rhj/R7BKI9sqbdYsvDxxx8fdMt0XKlz6TxSf336059+0cyNbREzW516kLTQGb3uuuu2nfKi32+66ab18pzcE0bRvu8ZxKDA8p901rkXBmix9FyfMEUch0VPdFtCnqjnCwTL5wta5E+7dJBzXfKh61/NsJ3TPuZzk4M8x8nS2PGcyPubPoeRtsnJkc+j/UtdS/w4yptCHliLU68tTFHe2+Lf9lt+nzrPszGDG8bWn5HWvsbamKnZNKAVxxJ5xl+tHxfXje0Uz/eIK29pa0Q6uuqMsTnOaVrFLF9jis9dyzrHzVney3vp4yCnPRS6ZbtHGSffL7nkks2xrCKWA4MwqRt4FVotoEHUIVzv0UcfPeYwBhEzWKftPbkMMI+04nDfFvZdZ+T09bWp5HPRbkgbloEioVdt1v6DDz64+b3PoJKIs4uDJ88CZsBELTDQKOKs2X7yLN+mVVd4D3fEMdVEhDKt+y7v2e7T9hxmUEpoUd4Dtp74rckWl8+hji/tX9icIo5tr7KgLcDAbbZliHiabFicF9eZw0G+FD2zLqSJAWzcN+2MvGIN7YauYWid0TX+tuPyM6XW147nAPfZ5bk4VXsppxl9oo1arrSUjys/921zlefzPZjuUn/Wzi/3DWkvlXH4XQVUQAVUYBkK6CBfRj5UUzGkMxcjU2nUlTPATzjhhE2Dj45wLWCc4VwaDzSYacBEYER5l8bMFHFwTZapiUYMTtk+gQYfnZc4n8ZgqQezdzimaQYKxgMGFTz//PPVS7McWsQ/tJEVeUI8fd8DhHEkro/RbVdBB/mulPY6B0UBDAdRFtlST372s589ZgWEIfeSZ2RE/E3GqVr81IM4pePc2NY6zLXz2ZdnuMT5GPe7dKojzjw7JeJoMtTFOeV2ijgOi55LyRP1fIFS+XxBi/xp1w7yfO19fu7iIP/ud7+7rptpc3cJYdRsM8xHPHlAbNsrPWjjhzG4abZRxDm2vEc8Q7Z5aXL0Kt/niVGbAaPbnPxce4r6M+6hr7E2v3aldFASZ58BC0Of7zhKeE8wKyLVAstsBxM8r5v6i/lc0hLnbOMon3dYP/dxkOc8R8Om98iXr0ygD5tDtK1wjuS+ez7m/PPP37QHy3qhqzMsZv11qbf2WWfk++bzEJtKxDH0+c5EgsiX2oz7PKjk29/+dlxu6zbi7Gp7iCWAGWhLXVmGvPJfXq0sjsuvg6s9f+AtBv/ARZ/+QVzjIGzzAKam2dvXXnvtJs/JpzKwkkDkH1qV5TiOZ5BROLDLZeuz/Yny2FRHU7dEvcx7yMuQX9HHioQ5kIfxikPSO4eDfCl65vvmc25vRF7R/urD9dA6o0zLkO/U7ZFu6vwccj3fZVDOlO2lnI68IgSvBuka+ra5avGGNl3qzznaS7U0uU8FVEAFVGAZCuzdQY4MtaXT2VeGqY8r49/3dzotNGoYrc9ffm82S7awj4ZN2yxojB7x4MdAx+htRpPn0W10nttCfs8Tsx8ZfUzDOZzvxN+0vHrEO0UcvJM77oX76BPoCMS5bEkPI+/zXzT8eSd0LUSHEmcXhjcMjrz7iQ5vdhITf61DSaOSd3XRecFYcv/996/zggY2HZ+sJx3L2ujeWrowap111lnH3N99991XO3SWffnenUE+i8RGesAUuP7669flkQ70l7/85c0SumNvIy+JGfUZg2q6BgzwcV7e9nldRc1QQFy15SKb0hVL7+U08LlPmCKOw6LnUvJEPV8gWD5f0CJ/OmoOcgYf3XPPPZuZmjwTok1fbi+88MJ1/dzkaKJNmPsEYeimzRpx8Xs22uKoYBlmjon6lmNpc5ZOM9qzLKcby35zPLOlysGkkZ9jy3vE03ebjb2kEUdTbsvzmdmzcb9Zj9q1xtSfDBSmvR36x1KmOJ5iH+nFyVwLeeAC/YM80/ruu+8+Zhns/FstrqHP9/z+UTjB2UIfhntjBnMMxEDPpqV3y/Rw76E/XB+1QJmL/GebZ/Dl/Xzm2DLkAd30OXFGUT4JzMbNzgR0vvzyy8soNvrzO441OIx+JTNQYY+6ht/ZljPN4TrykC33gPMuyhO2B9qOcQx96G1hX3UG6ZrCphL3N+b5nmcTX3DBBev+AXUxM7VDS/K8nCUc12YLA6zcFCzFeawOxT7qDlakw+FYC3n1v1NPPXVTP5G3ebA9+VU+JyK+XC/AQbCFczbzjlaHOWQdKLesBEP9ST8wBo9E/rAlb8pZ3tmOwjHoybugyWfaD3kgFb+TfzmQR/latA24Ps8Myiy2wLBxRVpqAzDyoBGWW4clJqdgcwznfJzPCgFl3UV7J5h885vfvOaZZ2Lsiy1L9DeFJehZpg22wwYY91/Trzwvfx9TZ+R4hn6mfRFpZwY4zMBHtCP5DTvltjCkvUS9cuKJJ65toNR5d95552bgF+1LXv8RaeNZ1GbXHtvm4v7G1J9ztJe2ae7vKqACKqAC+1NgEQ7yn/zkJ8c4yXGEs68MUx9Xxr/v77nBEA2H2pbGRNOsZhpAuaNdns/I/nKUaHnfjF7PDasyDjpk0TEqz43vY+MgjXHdbQ79uGbe1jrlEV+5LUfmRjxlB6U8L75feeWVccoxWzpMcUzblvxsczTTaWKwBAMeMMLluPjOEm27DLlj15buXabJa6nAvhVgINHUIY/uj3LfZcR3pIPnQe4MRxwYYLqGmhGeOqvNmFfGXc6oIB19llQjviniOCx6LiVP1PMF0uXzBS3yp6PkIC8duVHfbttSn9ZCNl63xZHfeZiXAy3P4d2aEXAelb/HdwzvtTC2vNfi7LIPh06kbdu2Sct8nTH1Z8yS3JaONudheT/0V3CQ5TjblrmOexn6fM+rc+Vrlp9xEDQ5+iMNsc39ztKJEscc1m2eAV5qPBWzBAAAIABJREFU2PS9nL1PeypWnWg6J/bTJw6nddY0fi+3tf7w1VdfnU9df2YQd3ku3ylTJZ/s5/htYV91BumawqYS9zfm+Y4TsXS2lTq3zc7FAV0e3/S9qd4gjjIN9A3I2xxXW98gLwfPOZxb9i9gLQZ2hHaHbYujNGtW+1x7TmQnOc/fk08+eWs8xE0Zqs0Qh6vsXK6lI/YxCKoWnn766WrZjvNKPtgfr1fMqwrE8W3bpvpiKXqW+uS2FDbRWp1bnpO/j6kzcjxDP2M7rOVf5NE111zTKeoh7SVsxLVnRlw7b5lp3xZqZSmfH5+b2lxj68852ktt9+tvKqACKqAC+1VgEQ7ykICR69vev8WxUx8X19/3NjfG4oFf29JQa3NQNznJOa/rTGw6OLVGCYadtmtnDcfEkWe8D3HCljOsazrGviYHN4MQSEdTBwTndO2dYlkDRl6WHci4LlsGGzTN1ol4suEpzqXhiQO/1mmK8+ba6iCfS1njVYFjFcDQnGcJsOoEo6n7BEaOx8AaOsusptE3MAI8OrsY2fq+x5yZSsz6i/qLmQp9ZqCT3iniOCx6oscS8kQ9XyhJ8vmCFvnTUXKQP/bYY5t6Muq6LtumQZo33njjps5sioc6PQ+SxMFRM4pSf998882brMHYW2vjcx3anLUwRXmvxbttX55p2aRD7K8tY1yLf2j9mWeqxzVrW/ogTYFZnhdddFE1b8kn+oJdjfFDn+84K1iNpsYK98MKXn3aGuGEPYrLq1P+mnSssUEeM6OtFpgF2tRnZGZmmwMzHKBso71WXp/+bK4Hchqov+J4jmu6J7jB+dIl7KvOIG1T2VSIa+zzHXtIzLANjdmiMTP72wI2F8pVPq/pc9srmLD/NM1qxT7EaiLbAoPAmp4b1L1NXG+L96D9Dlu1Msasa8rG448/fszv1I+1WbI4h6PclnlKOWPwTVuAjUsvvbSxrGInYmWBtsBkjlqeMjEDZvJ9ch9hs2JQeFNdVd4LceQBAmV6lqJnTleeOc3rcPqGsXVG3+vVjuc5n/Mv8qVpwEQtDvYNaS/xrKpxFWngedblOTK2zTVF/Tl1e6lJZ/ergAqogArsX4FFOcj3L8fhSgGzuGl802FqesfRtjtmhCoddowwQ0cFD4mDjgGNqKUs1cXo/rvuumt11VVXrY0LdPq7DhRAY7S744471uczcp/PXQcrYLSg88Cy8Syb1WVJpG35OuZ3HeRj1PNcFeivAPVH15lcTbFjuOpTZ5XxcC51+ZhAPbptBZNt8U8Rx2HRcyl5op4vUCufL2jBp6PkID/2zg/vtynK+xLUmaL+HHMf6MgStMzsp43PK7SGDnod+nzHEY/jgkEIvB6G9Ax5RtMnYinhsW2EMXoepnNp78EDfXgcWDhbtgUccJzDIHkC31k2/bbbblsvz03fcdvAC5bgjQE3xMMAdfKVOHCOwuyQcFjqjLHPd/rz5CllHgfS0PI+JA/iHMoojlfsGQzCwoHap28AF5R37EJMMMAuMdTGFGk6iFsmUbB0OPlJ2Wha3r7LvTEYiXLGYAni6jM4KeKnfDNpg7wlf7rUGXEuWxzfDFymvunDQ45jzOcl6ckM/3D+48gdE8bWGWOuzbnU+XDKjHZsj325iOsPbS9xPZ5LvMoBOyaDDZiVHs+piP8gbKdqLx2EezWNKqACKnBUFdBBflRzfuH3TQOdGRZDO+MLv70DnTwd5Ac6+0y8CqiACqiACuxEAR3kO5HZi6iACqiACqiACqiACoxUgAEsMdN52yz+kZfydBVQARVQARVQgQUpoIN8QZlhUlTgICigg/wg5JJpVAEVUAEVUIH9KqCDfL/6e3UVUAEVUAEVUAEVUIHtCrASQLwyhCXCDSqgAiqgAiqgAkdHAR3kRyevvVMVmESB7CBnhC3vUGMpqocffniS+I1EBVRABVRABVTgYCrA0qu897B8hy37DSqgAiqgAiqgAiqgAiqwbwVYqfL4449fveY1r1n/le+EP+6441b33nvvvpPp9VVABVRABVRABXaggA7yHYjsJVTgMClwww03bJaeiiWo2PLeLIMKqIAKqIAKqMDRVYD3Kee2QXzm1TkGFVABFVABFVABFVABFdi3Arz7PdqoTVsmhhhUQAVUQAVUQAUOvwI6yA9/HnuHKjC5As8+++zqqaee2vw999xzk1/DCFVABVRABVRABQ6eAs8888ymfUBbgWUrDSqgAiqgAiqgAiqgAiqwBAX+9a9/rb7yla+sPv/5z1f/eB/5k08+uYSkmgYVUAEVUAEVUIGZFdBBPrPARq8CKqACKqACKqACKqACKqACKqACKqACKqACKqACKqACKqACKqACKqACKrAMBXSQLyMfTIUKqIAKqIAKqIAKqIAKqIAKqIAKqIAKqIAKqIAKqIAKqIAKqIAKqIAKqMDMCuggn1lgo1cBFVABFVABFVABFVABFVABFVABFVABFVABFVABFVABFVABFVABFVABFViGAjrIl5EPpkIFVEAFVEAFVEAFVEAFVEAFVEAFVEAFVEAFVEAFVEAFVEAFVEAFVEAFVGBmBXSQzyyw0auACqiACqiACqiACqiACqiACqiACqiACqiACqiACqiACqiACqiACqiACixDAR3ky8gHU6ECKqACKqACKqACKqACKqACKqACKqACKqACKqACKqACKqACKqACKqACKjCzAjrIZxbY6FVABVRABVRABVRABVRABVRABVRABVRABVRABVRABVRABVRABVRABVRABZahgA7yZeSDqVABFVABFVABFVABFVABFVABFVABFVABFVABFVABFVABFVABFVABFVABFZhZAR3kMwts9CqgAiqwKwX+9a9/rf7whz+s2BpUQAV2p8Cll166etWrXrX62c9+truLeqXFK0B9/NrXvnZ15plnLj6tcyTwT3/60+rvf//7HFHvNU7L+zj5//KXv6z++te/jotkgWcf9fI+dZao59SKGp8KqIAKqIAKqIAKqIAKqIAKqECpgA7yUhG/71WB//znP6uHHnpo9eMf/3j9hxFtaYE0jgljz+faS4ljjA6eO60Cf/7zn1cve9nLVi95yUtWp5xyyrSRG9toBZ577rnV/fffv6nbfvGLX4yOsymCf/7zn2tHbdSjsf3973/fdIr7RyjwyCOPrMsdZe9LX/rSiJg89bApcOqpp67ZoG7eR3j00Uc3dQ71wFNPPbWzZLzpTW9a3/vLX/7yQzVoy/I+DqELLrhgU1/+8pe/HBfZws6eu7w//PDDm/L8wAMPrP79738vTIFpkzO3ntOmdrmx7bL9iQq5Hx/tzwcffHC5Au0wZVP033eY3EN1KfpAwePvfve7We5tbJvrH//4x4q0kc6f/vSnq8cee2yWdBqpCqiACqiACqiACqjAsQroID9WD7/tWYErrrhiYzjD2fD2t799zyn67+Xvu+++1Xvf+94Vht6XvvSl63R97Wtf65W2b3zjG6t3vOMd6/OJ5/TTT1/dfffdO40Dxxkzn8Jw/epXv3r1oQ99aN0Z65qQZ555ZnXLLbesz+P817zmNV1P9bgZFYAlygx/5IthWQq88Y1v3ORP5BOzK+cI7373u190La5J3WWYXgGeDZGnu3RATn8nxjilAr/5zW82XHz84x+fMupOcd1+++2b6wefZ5xxRqdzpzgorsn2ySefnCLKRcRheR+XDW95y1s2XN50003jIlvQ2XOX969+9asb3aJs3XrrrQtSYNqkzK3ntKlddmy7bH8ySDD4LLf7cJIvpc86hQ1gKGUMrKENcvbZZzf+feELX+gU/RR6Pv7446uvf/3rq9NOO231ile8YnXWWWd1uvaYg1jdKfM4R39oTJvrO9/5zqpWTknzpz71qeqtU9bOOeecxjw977zzVvsoc9XEulMFVEAFVEAFVEAFFq6ADvI9ZxBLIeMU/tjHPtbr77AaRb71rW8d04E5/vjj95xDq9UPf/jDY9KUO1gXXnhhp/RddtlljXH84Ac/2EkcsIaDPqc/PtNB3Ta7lKUOs2EzzmXrkt6dsnDWgxhpHnnioIVZpR4Uec1pPdcMho985CMbFoKJ2A5K/IiTrrnmmvWAje9973sjYlnuqX/84x83WjPY6KgEnISvf/3rew2uWqI2P/rRj9aDvC655JLJk/fBD35ww8YTTzwxefzbImSViij3sSXfdhGYJRfXZHtYBo60lXccB3AU7fnPfOYzq7/97W9VuX/7298ec+yVV15ZPW7oTpwPkY5y+/nPf371/e9/f28z00444YQNG9/+9reH3uLizpu7vPMMzWWKzzhV9hkOc/25T12nvvYu25/f/e53X8RpcLvLV9Asqc86hQ1gDBO0TSMP2rZtK1tNoecdd9yxbm+VacAxPHfAxlFed+prDm1z0U8q05a/11Ygok2Vj2n6fNJJJ019m8anAiqgAiqgAiqgAodSAR3ke85WllBqatS27WcG8mEN2ZG7bwc5DqzIB0YbMwKbji7vmo3922aSZ6f/K1/5yhVG0/PPP389mzPiYMnOtjBFHIzQjusxgxyDLLPJYh9pa3N0M/o9ji23bee13Ze/TacA73l95zvfuaLMbGNyuqsaUx8FWDoPh0CUn7kc5KSJMsk7XjGisGpEXLNPeqc49g1veMP62rucuTpFurvG8eEPf3ijLQbEoxCef/75zT1ff/31B/qWeaZTNnj+TRl45UWUuQ984ANTRt07rqeffnoV5XBXDnISibZvfvObVwzYOSyhrbzjrIw8j21T3vNe+jgmtlPVHyynHHFu2771rW/duaP8hhtuWHPB7MF9DByZg8VdlXeWVGdwReTrvh3kR6H+nIOXfcS5y/YnA6R47tD+zIPMd+kgX0qfdYr++1hemGUcdQYD4mt/J5544urZZ59tvNQUer7//e/fpCPSw3YXDnJujPqTAWJx7cabHflDnzYXfTXsS6SJLbYZygl/1O/xvUwSryCM+8CBXstTVpM76G308r79rgIqoAIqoAIqoAJzKaCDfC5lO8aLU4sOAzNzcwMZB2btLxyzHHuYQ4x237eDPIw/dEJuvvnmjeQsjRzve942WzcM0+QZSwZGYAZPdG62zTwcGwezmOJar3vd61YYSiLke2ybzcM5LId52223rZgp9bnPfW4Tpw7yUNOtCrQrcNddd23KzZwO8pyKL37xi5tr5v27+MwsY+oenCGHLVCvxnP7MN5fU35lB9y1117bdNiB2M/sWvicetBhfs/yr3/9671rEa9V2aWDfO83PXECtpV3BiRlRwRcUT8woCQH3rsd7bFg7+KLL570fdLnnnvuetBHXAdH+Nve9rb1ah6xL7akkfaoYbgCuyzveebgvh3kR6X+HE7Gss7cR/szz6rdpYN8KX3Wsf33KQiK59IYm8oUejKQCEc7k0OwG/BM4jm0Kwc5WuZXAEyhbVMcXdtceaLM5Zdf3hTdi/ZnB/m99977ot/doQIqoAIqoAIqoAIq0E8BHeT99Jr16Fi+mm1TiKXLMGjtIjAK9v7771/RwS2NfF2v/9hjj63olNMxxoAYgc4R78SuhZqDnI4V8fzqV79qnelci2/IPtIXTnBmQZWBjkwYGOng1MJDDz20OebTn/70iw7hHevEQX4yWKIWpojj6quv3qSD0fw5cJ9cn3TQWe0aDrqDnBkOzF6CS94bxiz+GDjA/q6zueCbOFg6Dg4O+rtW4QEDPu80pwN+0AJOZ4z9LIUbgXuKPOqaP9R36ECe5nor4hy67WugpN4jLziP9/YNCYfFQT5XngzRlHNYDSSeAX3e80c9wzOVPGU2IHxGwPncJTAT5tFHH13dc889qzHvsh9S3qd0kFMPU2Z51QhljTbH0EA8d955Z+e6m+vM4eBhFlY8U08++eShtzPpeV2NtU0XhVmMsLS/DlKYov6M++1a3mMga9QNeXAlcX3iE5/Y1Bscc+qpp8YlJt3mZVvLeoVnW17qnLbu0OccbSWeUW2zDye9sQkio+9B25ply9Ei2n5Doh5T3of0jw67g3yInpxz3333rVjyPfcrKf+0B3k+5+fskHzucg7tS/oCXI9nWwSe1aSj66DIqZ7vcf3Y7qP9uS8HedxzbPfRZ52i/x7pH7OdwkFeXn8KPZfiIKf+oO544IEHBtu6Sn26trluueWWTXugj6NbB3mpuN9VQAVUQAVUQAVUYJwCOsjH6Tfp2V0c5NGQzg5y3kcejlyMbTiXMQR84QtfWOGAZWYUx9NYZ1YJBpm2wCwZOlM5zjD0sQwpjuFthgZmGPM+vjASx/lsmVEYhkZ+59gyZAc5DgCWicpxkDZmM88ZMPjFNVmSqwwYiuN3jOy1cNFFF22OwUFXhi9/+cub35veKz9FHMEWetfyLvTmfugodgljO8dw9tWvfnXNwq6N7ixBXjIVeZn319hEGwxwGLlZ0izOy1sY553gZeC9oGWZ4Dvvho9A2mplj2uVOqFfGR/puOKKKyK6xi3L6cW5bBkIA8exL+4HI3oXxyzLCLLEO3UE56LBeeedt8JA+Z73vGejE/dWDtJoTGTLDzjScl4Rbww4ibSzvC1Gj/KeauWZS1E2rrrqqs09RDxsiZ/4ME5vC2hBmQpHCcvpslIIDsAuBkrKYC0vSAf3Qv2ZjcDb0rNrBzmGG5wOP//5zzcaYAjje/m3bSDKVHmyTaO+v+Osj3JKGekSGIhTW1qZPIUtyg95zJL4TQFHcszKz3wSB+l4+OGHq6dOUd7JK4zdGPHi2p/85CdflKccs62cEFfcb8QVW+qQptVMeMdzlGe2PEOpVyMvIg7KHnVaLeAsxHANi1E3EVfJJt8ZOJUdHbX4yn3Uv5GO2nOgPJ7vY+tP6lmWMmcwH/eCHvBAXYHzr8lYiyMmfos0c36sdsPziNnH8Rtb2pQM7CgDxmV+y8fymXxuC7Q3uWY+j++5nm5rT5ZtmqnrT9Lep7xHuyC0KO8/npG132Eu9mc94DnX+eRJqRn1AvkZoc1BHsd89rOf3ehOPuSAY78sV+QDgfe5UmfFvURaa8vpM/izVu+hU9PAUK5BGQ0tI3627Iu2Gc+ZMg0cgzYs5V4G2gO1+pNzKAfUXX1D3/I+tn/U5CCHs5IJWMrtxnBIhUbwhjP3zDPPXLG6FPth7V3velfj0rz7rj9pz+T7pJ7L3/kMO1G3c0/8sdpXtDcoz3G/8TtbeEeTCKwMkOPmmNA095s4Bs1yXDCPQ5zr5v0c1zQgY+jzPdLLdmntz6PsIJ+i/57zduhnHeQvKJdnkFMf5DoxyikTGsp2xQsx/PfT0DYXZ9OuJE/oF9Jmi+vSh2Vf/sPWUgs6yGuquE8FVEAFVEAFVEAFhiugg3y4dpOfGU7McgY5Rhs62oToaGIQipCdrDSy6eDHkl7R6M5bOvIscVULzKYoDWL53PhMh7/JEI9Du2bgi3PLbTZGRJqy4aE8Pn9nue+5Asa1uFaTkTu0Ir21gNGJONC8ZmTPTnbysRamiCMMiE2OnMxQNqbV0hP7xjjImU0R2saWTusuwje/+c1jrk0ehj6RlthifK2FbFSOY2vbMMZFHHS6a8dRXiLk90WXx5aDKDBGl8fw/eyzz47oGrd9yijlvclYgLGXWZK1dLCvNC6yD8P92IDTvumaXfbDYA4sg1wz4pdxcT9Ny5oye6jJ6Rfx4KiMz7XZRDjRa06BOCe2GLHzLPl8L+XnXTrIuadIY9ctjrVamCJPavFOsS8b2RhM1RYoO+973/s665IHzES8OJJKA3yTvp/61KfitM12bHnHCd10vdp+yklTncHAnto55b6TTjrpRXGcfvrpnc6NuMo6GEG6lK84n22XAUchNPccWpdtuTgmb6eoP3GI1OrZuAccQZGmcol10ls7F6bRP+Iot7RLykD7sTyO7wxkagvZQJzPJ68jsDRs/i1/zqsOzFF/koY+5T3ahXnZ7UgjgzZCk3hW5HYZs0zzveXPGOQjRH7m3/kcjmOO6+IgJ/+zAy8PkMzvao3r4EzAiVdjJo4pyxwz0+O3ctu2Sk1+d3F5XgzgyIN1ymPywFXa3zj0y2Nq99HkkAjt87ZveZ+if9TkIG/q9zGzOkKwGTqUg19if2xx2GTuiGff9SeDNCJ9fbdRpzBAt+ncPDirdLLHOZSBPEAz9nfdMvAoh7HPd+Jaavsz7BZoUxsonnWY8/OYPuvQdE3Rfx967XxeOMgZHMTkgo9+9KPrASTUkdg68nMjn9f2eQo9wzm9ryXWa/V/lGEGwTeFMW0u4mSySlyny5YBaWXIDnKe9Zdddtn6GUdfgzZrk92qjMfvKqACKqACKqACKqAC/1VAB/mCSGhykEfjmRHvzA7BCJmd0xho6HTG+XE8W4yKdIQwKJSd+dK5jDMidxZw5GBsxGBGQxzDXTakER9pyoEOejbAYEhhJjtLztGhqBmouEYZSgc5o2kxLNHg533dcY8xcKA8f4rv2ThYGvwi/tCDQQy1EM4wdKiFbDisLcHOOVPEEXrRcaoFHH5xTNfZvWM6xzkP47o4/OYOGAGCcfIkO8DhvHQ4N80m+spXvrLWiziYQQnfxE0nNhvv4DYHZt6wBHAuIzjsswGSMoVz4vzzz9/kCXqR1nKQBfFRjnn1An9hNO/iICet11133eYa5APpwnnFfbNaBXkS+dM0qAaHSxyDtpRxZk2wDa3jd+oonKHUWVMEZj5lJwQDHUh3ntHFtdnP7N28tC0zKyMwmyc7x7lv6lnqMzSm3glnRtwLMwByIG9yHRxakBa4qg3CKB3kGG0jD7kODlHynXofzUhHnu3J5y5a7tJBjmZlvodmtS3Hllqi6xR5kvNnys/kR+QnToltgVnP+d4pM5R76lrq0XImG06LMuRnJ5oxqIkyTP6jX64vuBYO7RzGlvcm52e+r/wZfWpshoMwjv34xz++WSKeug/nBPVq/F4aKXlmUpZzHcqxPD+JmxmieSWJsg5Gk6YZpHHNcls6M7Ku5ec8kAAnyrYwtv4snYg4m9GCQVy1ARWlg5z04WxE0/wqlqwvemF8heNoR9KeKwN1IM64eB6F8Ztz2gKvNMnPIvgmH7Ozlmckz9ns0CNf4DrCXPVn3/Ie9R9lJp6hwRCrqsAXz8ho5/LciICGOH3zs4Tnf/ms4L7zQBOeT1kL4uviIC+Py4OVcNrRPuc+jjvuuE2ZjPLBfdKmJB0sE89+6jL0KgN1VHBBnyTiaHOQEwfXz4MjzjrrrPWrJXL8PBfhMeJEO87L/ZP8SiTYpg0XgxbghvZ+5Bvx0N/pEvqU96n6RzUHOXHneo2yR5utZAKOYDG0ii3tDuoG6tuyrUPe5zzN14nz27bB/lR60tamLsjPiQ9/+MPrPMvtI9LE/cBv1Fvsi3Y0s8xzX4RnOW3f+J308ryhHo/747kWZYR+Ye47cQxlgWd7Thv74YTfgrHyGT/2+U6ac53BdYhzCe3Po+wgn6L/3qXcbDsmHOTBcbmF120DPctrjLEBRFzRRtiXgxwdqDMYfA6nrCCWtaFeLcMUbS7qntNOO229elyus3h+MkA2/1GH5Top0pMd5DnN+TP2CPqwBhVQARVQARVQARVQge0K6CDfrtHOjsid29zAjc9hzGlKEIbgOJbOcekAx1gdS5tzHB2iPGqYDkqcX5uBxnWJg4Z7HIexL4dskOVzrWEey8RHHNsc5Bi2ypANNHnZyfK4Md8xuEQas6E2xxl5htGkFsLxwbYW6PTENc4444zaIRvnydA4yOO4Rm35Sy5KxziOuf7666vpKHeO6RxnA2lcF6Pl3AFnY1yPjnAtYMSNY7Ljujy2ybBLngafTQM4Lr744s01MGDVQhjPKcu5nNaOjX0xYKOLg5xzeN1C3Cv6l0upMyglfseQWAac/fE7RtRSL75nw3oT42W8fb5j2Ig05Nkp2ZGSl1oNxyaG9ggYICIOjPFNy19m5svymGcYYmgtX2WBsyHX0VyvdHrk35vKKnVw1rTLygu7dJCjKXUyzyv+YuABz4PYl7c1JypxTJEnkb9Tb5mBE7w0rSYQ18x1DufUjJCwkWfRlsZznuVxPcpp0zvH82xK6o1yhYGx5Z3nOXmX44GtnJ/xOe4/b6kbo/xxP03a4XjgPuOe84DAiC/Hg7MkBxxjcS51Yhlw9kQ6w3DM9WJf3mYnWxlP+Z37C0dMU92fzxlbf5IfWYeaIwqHdday5iCPNDFIMnRjC0M1R2HXNldou81BHteP9hTXDidU/MaWuiIGEHFsGeaqP/uUd9IUGjLoIFaNoUzDR6SflXpicETNOcCzLOKp/c51Ql+Oqy1539VBnh2A+VmZ9S1n0lKfl+1i8od73BYYBBP31tSOynHkdgiDX2ohP385Poe8YhFlIWaf52P4nNsSHLftXvqW96n6R6WDHGdLdsg2DWaM++W5EPqzZXBD2cZkQEO0JznmyiuvjNPXzvKoI4PBfdSf0c7GCRmB+i7uLQ+6RZPYn51e1KFRP1Lf1XjMvJYDzzg/4s2vhMh9bRzVEaKOynXiFM/3zP/S2p9H2UE+hQ0g2BmzLQd/wwgrf+V6A47Jq64h94ea2vHb4tq3g5znSVnPZ/sEbbQcpm5zETf1d9Qh2B+6Bp6/cR5b6jEGN+W+BPt57hhUQAVUQAVUQAVUQAW2K6CDfLtGOzsiGwdzozc+Y5BoC9Hx5viyE5/PC6Mcx8UsIAwGcR0Mu22dHZxeGBI4ns5VBIymEQdGwNLgEsexzbMucCCUIZyDNPhr4cILL9xcq1wquXb8kH15RH+THtG5435rIWYPNRk4OSc0wwBZC2PjIL/iGsx2rgUGKcQxzHLoEsZ0jjG+xfVim2f0drn+kGMoQ3E9nIw4lOjwloH0MZBjW8DZhWEKZx68MKgCh3d0UCkntZBHfmcjXhzLrJ9IZ14mNH5v2oZBc4iDnBmHZYD7KOs1w3TMhiOt5UyliCvfy9wO8uygD8dstQOBAAAgAElEQVQEacvO6qhns9EgnFoc27RaBPeDISU7p7ODO8fRZICnjszH5fOJPwy11CdNdQ7H5fKKcXtb2LWDPKcnjNjMlugTsk5D86TP9focG0ZPym5pXCvjyc8qVlNpChi7ovxi5MqB8hz1QV7+NR8Tn/PAgtJhmh3bQ8p7XCM7Ba699trYvXWb632e8W0hv8aC2Z5lCMcwz+BaiIF8TXVwnEP9irZNz/A4rss2z7JvcjTmeMbWn9lxW1vyPK5FWoKfrg5ydMNwOyaE84yy3CVkB2V2KsW5+T44tgxz1Z99yjuDL0JrZprl1+hEfsXgKp6HHBvfy/sJhjmmHATCIJm4Dm3/WujqIM9pZJWAWsgO8lre1M5p2pcdjjWHZO28eI5wz+XAH+rgaCdzXBmy87DpVUZxTrTpuc621w31Ke9T9o+yg5y8jzYa/OdBgnFP5TY7yCmbTQMCc33dVIb3WX8GE8ySjEC7KcpFrhPzIOBywBVt9jiHlVhygK14LsNY2S7Lz8LoT3N+nmWanwXxTurct53i+Z7bS0trfx5lB3nUS2NsAJnHoZ9x9NIvpX+fbTPUS7kdQpnKq0W0XW+MDSDijfq2TZ84dqptfh6UdQHXyHVFaQ+JZzj1Ra5fyrTltkpbm4vzhjrIOZd2NM+AcmADz4E8+KGLPaO8B7+rgAqogAqogAqowFFTQAf5gnI8HDd0YuiEx1903GuOvJz8cJBvMwjzzu+IM4wBeZm4JgNZvlZ+NyXGGkKe8VKbbZrP5zPL0JUG/DgmHORoUQt33XXX5h5qHZzaOX33ZcdGdrzleMJA02TgDEdpk3GJmYORF00zRsfGkQ222ZCU7yO/9xKjX5cwtnOM45RlW7nv2ioCXdIw5Jg8szi0Z4vBCkMYRmlm0beVNzQKo1mOo/a5KY15KXaMaTnk1QuaZovm4+NzpGmIg7ypAx1LBNYcUbH0KU7jthAM79JBXjNEksZYfjmckNnYzP1sC9nZHDNgMTBH3sNPW8jG2OwgzwMJiIs6o+0vrocBblvIad527NS/Rx3Zx0E+RZ5MfR8RX5712/T8imPZ5mcly7W2BQYCMAsNx0QOMQufPC8N9Pk4PmdjdPkczg7yIeU9rpWdAn0c5OgV3G5jPJw+HFdzyIWDnLqyFvIrUmq/x74pHTwxeAbD5LZ84vpj609W+gk9SwNp3F9sQ882Y22eQd61HRDx17Z9HeQ4o8LRQ3qzIZ/4w1HNMeXAlLnqz77lPZeNePdzpDvyKmaasopJlIOafrksswxrDtmpxr3XQlcHOUuUR9pwHtRCOMipz0vta8e37RviIM9LqDP4LQfqskh/dlLGMXlQMGWzy3OV+OijtIU+5X3K/lF+PsZ9s21a+au8h+wgbxu0xXl5kEZtNY191p/Rtij7NaFJHliV9S8HZXNfDJDiPOodltyPcPPNN2/Yyo7u+D2X98xedrLlgRax1D/XiTD2+b709meux8iHfYWxfdYh6Y6+D3VOLXSxAdTOm3pf2J8oA5nXtutMoee+HeS1wQC03aIOKZ+HU7e50HeMg7wtf/IgnW0DUtvi8TcVUAEVUAEVUAEVOCoK6CBfUE5HB4VtDhjX8kxtZsEy6rcM4SBvctbG8XlZpnAS5XdP1owAcW5s83JdONwJ2YCVl+OLc/psw0He5LDi/ZTRgZnLQc7I4bhG6bCIewkjfW12LceEUTHPFohz2WZDVdNS21PEEcafU045JV9+8zkvP1hb2nRzYPowRec4Rbezjxi/wukb+Vvbkme1mat5MAHnUTZ5Dyfv0qVcEHc4I/i9KWRnRO684hSI808//fSm06v7xzjIa0vpchHqCO6j5iAPw94JJ5xQTU/sDCfhPhzk5czQ0kGejRM1R1zcQ2zzrLEos7wLPRgqnZJxXmyzMT87yPOgn4iry7bLzIuD5iCfIk9C76m3McAGrmrP4fJ62eFX/tb1e9QHXQZD5Od7OVgjO8iHlPdIb3YK9HGQZ+NiF7bjGGbFlyGevThoaoE2SJxf+z32TeXgyUv70p7qEsbWn1E3c5/kSVuIa3V1kPM+97Ghr4Oc68FT5Fue7ZsdTrWBKXPVn33Le3Ze4ngm5MEa3Fu0K84999z1vcJyU8jLcsdAujx7vO2Z1dVBnme70bauhWiH1toBtePb9g1xkOO0oK2FftS9eQBKOKH4Pe+PNOR3vAZbXbbla6oiPrZ9y/uU/aPMWHkf21YYIe2539E0UCruNQ/WpJ1Thn3Wn9sc5LmeoF8TWpUOcu4pl5UYgJFnj/McrznT8rOwyUGeX38QAySzg3zs833p7c+j7CCPenOMDaAsc3N8Z1B4lA8GhXQJU9gA9u0gb7rP0KJ0kE/d5uL6ub/TZ4n1prTn/dFObhqgkY/1swqogAqogAqogAocdQV0kC+IgCYHOQafWAKPjjYN95pTJBzkTR2xuFUcytH4D+NadvrVll6Nc2ObjXbh5MkGiKZZXXH+tu0SHOTZEVbrMOLILHUs7ysPJKjNQs/vfmyarTJFHDGDqamThHM37uWJJ54ob6P6fYrOcTXiHe1kNidL/WPEx8GNIQNjeBir0CMGkOQkhZb8zvm12VSXXnrpRs98bvk5HMfEFUuNhgGNfdtmBZbx7dpBHuW0NFjndGXD9hId5NnA2cX4nw2pYYDNBudtM6Xz+VF3old+TyrPAurkbX84jbbNSibuJTjI8yCQzEft8xR5Uot37L68+krMAt0WZwzIoDyXM2K3nRu/875IzuevZqSP49hmY1vpDJ3DQV4aEHNays950BkDSbbxzfOR1UVqAxHC8DeVg3xbu6m8l/J7zLQkHmaFdQlj689o88FF07K6kQ7SxXElE/E72zxoa18Octq6kdY82DPrG+3hnPY56s8h5T2XsXh+82yPdkV+tUe0u8pBXPm+cnmOwbN59ng42/M58Tk/a9oGUMRABvhoep6Eo6fLMzKu37Qd4iAnrvwcC8du7nc0DcyNtHN/DAbYVu/w7viaEzXfT+axS3nP6RzbP8oOcsozDMTgAe6RwSJtIbdXttXfua9X6xuEg3wf9eeUDnLqFMoh+lFWeVbn2eM33nhjVdLcVhnqIB/7fM/5ucT251F2kE/Rf6+CN/HOvFJK1wF+U9gADpqDfOo2F9mYn/FTO8hjlZOx9fPEuBmdCqiACqiACqiACixSAR3kC8qWJgd5TmK8o5EOfBlywx3DclMIoxyGgDCOYPjgO38432tOv4gPA1oYMHOjGwNDxMFMt5oRM+Jgi9EwDIh5P5/DcLzPGeTZ0IkDtQx5WfpwlJXHYFQJTWrvhcdJEL83GbiniIOBEHGd2nKc4VjFyNaW9/n+xnSOcfLwznEc9jBE+mrpyteb4jOzK+G77X3nGBtDq9JwjaMmfmtzNDDzO45rS3deCQGHW3Ym46zvGyIfhyyxjtG4FmLEfM0wnt8TfPHFF9dOX+VjluggJ9HxnkDq1dpAlnxjsSwy+ZuXIgwHCMw0OUIpW3k2W3aQUyaCmewYytce+jk7FobGMfS8MNA01eVN8U6RJ01xD90fz6UwoHeJJ8+abnpO5HhYgrTkJ9ffbc924uEVKcFRXmKW3/IzbUh5j3RST8U1GAzUNeB0jfMwHI8JUznIec1MpGloevK7enm1Q9eQ68Yh9Wcu1yzd2xTy7Oq259YSHOTcQ2aY8kA9G3nU9Oyeo/4cUt5jECvpxfAdgZWfuI/cvoq6odaej/PYnnrqqZv7z+1BlmhvC10c5HnALI66phBO5lo7oOmcpv1DHeS03+I5y0o9hEgX+/m9FnJbdYpXBwwp71P2j7KDPF7zAlvRL0OLtqWss0O1rb9HvzD0zn29rPE+688pHeTcE8/LqGeoj6M9zTaX23z/UzjIp3i+Rz4tsf15lB3kub4eagPIvFEmsRtQHmkjs9pBbQBhPqfL57zizrYBNhFfrldpEw4JYxzkQ7XA7hXlvCnN8XvYyOK4qdtcxDuXg5w2UTwTYnBd3IdbFVABFVABFVABFVCBFyugg/zFmuxtTxcHOaNLabjTGS5DdpDj6KwtC56dusSDQTRCnhnbZGylwZ2NdVwzhzxbjuUja0YF4uDd09GhrznJwzDZ5FTJjsW5lljnvuJ+SGvpOGNZ6ciLJsMcRrG4Txxj3HuEPNCgrfMyRRwYy6LDF++dj3QwQy9+azLSx7F5O6ZznJebjGuXLOVrTfU532vbqwTCqVeWs2zkbHJi5iViubdtIWaP4PDJxpS25T2b4gyD3q4c5Jlh7hXnC7PuWMaecp3rJH5fqoM8z/JgVn+TsScbVsivHGJGGffJLJ5aHNkhxnHZQU5cYSzit7y8cL4On6lHMPRTx8ZMuvKY/D0bdfL+XXyOehJDTU0T6k7KIuUmPy+myJMp74+8Il/4Y5BZ15Df70t9kpdbzXHwvI7BE7CUQ17NhGc7DpJayIZo0lleayoHOdcOLU4++eRaUtbL+FJecj2GMyGeh5zfNksTLmACY3DtGT+Vgzwvf50dmnFTMMugBN7V2zS7lgF0oUdT3kR8eTu2/syzUrl+zSmGMyy04piD4CBn8GToyTODdwzH9zZ9p6w/h5b37HDO7euc7/E5DwSIfbVtHiAQOrBlqfW2sM1BDi/RZiC+eF1SLc5wRO/TQU668gDfvMx57TUMcR+53UdZaGqvczx1JIMwuE45UCniG1reoz+B1mP6RzUHOWkjP6N+5XkLN7WQHeSkhXstn81cIw8GrA0SJu591p9TO8jRIM/ERxv+aiuIha5TOMineL4vuf2Z2yW1Z1RoOfd2TJ91aNqm6L/na+dnYfDJK9LGBNohsXoCcTbVe+U1ptAzntm1VRHL65Xfh2qR+3FlnPE9tC0d5FO3ubjeXA5y7GxxH2NXLQld3KqACqiACqiACqjAYVZAB/kCcpeZs/fcc8/GUIXBincN1v4uvPDCdYO3dNxxG6UzioYxI9MZGcyyzdk4w2/lzK88K4LfMYjRcMdogBHg3nvvXc++jQY3HarSYPz4449vDDQch+OXmWoYGzEcMoMuZgZGPIwCjsC1OC4cBbw3E6NdHiHNNbLDByP6XLOPcT5FOrkX0spyiozajv1o3BbOO++8zbEsR4iWTz755DH50bS8esQ7RRzxDlLSfdNNN62dbOR5NghhOGsK5AHGjeAy88aSlOzHELnNaEv8YWwNDWPbdO2p9meDKtck73AihWOOtGeDX20WdzYo42xgVQcMQLzDLRzrcT9sWQa7yVDJfZEX+Xg+c41tgZnukRexjbykrMe+2JZLsVJ2Y8AN18QonNNJWeS+MFzwO/xQBzz//PPHJC3HUd5H+X1qBzl1QTbSkJZYqp6ZnFyfupKZq1GHRD3IfXF/BMp0rpcwvJJvGNLRgXJCXuf7gfUcWAEi/04esqQ0+mPACkdxPob9ucyVccAn1ybt/PGuSeqeyGfiIq1loN6OfGdLPHHdvJ/PNadgGd+Y79mhwYxHlkKmTr/qqqtWeflW0peNp1PkyZh0l+fmZY3zM6s8rvY9a8B9UsdgaKNM8uynXET+sMUpXIbMH84PBhUE68STjWHEUQ5ym6q8R7piYA/XYuYdz2DKDE6/GOzHb2VbhWcd++M30kn6GfRBeSMOeA1HD8flZdSpf+AnZsbAENzkwWeUo2w8JU6eubWA8zvSQ7uDuKkHme1FvmTDcakp8eX3QdfyrXbNvG9s/XnmmWdu0s99xKAZ7os6PevI7zi9qLuo1wgY8PlOXXDddddt4qJ8lnVF2d7L98EMaXTO54TTBg3zfj5H3ZvjyJ+pKyJfYrtN36nqT9IxpLxTHmnjRnrRs2STuKnLGRySyzRtkzbnfz6W+LdpwYBOjom0kDfUOfDGYI9TTjll8xvHwE0ZKNORb/GebwYGxr7YUmaaAvfK8zeOZRsz57kus8nzb+gQbNbizOUt7o0tbYG2kJ+BPOtxekadQL7xPb/yhjhp25UhX39bHpTnju0f0U7l+ZnrjJhBHteivxW60E6gHoDBrGnpIOd48pW6G4cQz6uoX/mNz01s7qP+jPITA39YTQDG4h7j/j/60Y9u+obZsUUZjWdn6BbbXH6Jh3Zv9A/imNjiSITduB6Dj2MwF+Ut9vPMC/3yK5RIM/UvIZfvIc/3su7bZ/sTvnKZZrBnaMGgnfwbfYrIt9B1qi2cwH5cb0yfdUyapui/x/VzeyQ0pW/RFqgTKCvUb7RrYBTN+WNpdVZyi7jaHKlT6Ekbgjo+8iQmZlAnxz7yjEHW28IQLXim5eci7e94DnA9yjTtodCD14+UbZWxbS6ug5Zcm/ozD2SjDmFf/DHANKcvNKFOot6jfrrgggvW+Rh1DM9+6r64B9qAPLcMKqACKqACKqACKqAC7QroIG/XZ/Zf6QhEI7bPtjQ6k9Do/NG5zsbrWrwYj2udUozupUG1dj4dEzr3tUDDPhtXauezj2PuuOOOY6LIzsl8HgY1Qp7Bm3/nM47nqQNG92y4KK9Jx7LWecnpoNOSndNlHMyWr+XF1HFgIGrLWzppbSF3uMp7yN+5RulELeMtZ1lzftss+vL8od9hNqc1PpPmGrM1xvPyoHF+uY2ZLXl/dj7n9JP32eHJObWl+PI5MJfj7vKZ+8uhdr/EE4bDPAglx19bGpl6LBtZ8vEYHGPgwJQOcowA+TrxmbqJgHMo9rHlfgixZHz8hrGGgMMiDK7xW9MWx3ct5HcsN51b5jX5kA2wOM2bzi33wy3G8hzybKTy+KbvYdTN8Uz1GcNMF10x6IaxOK49RZ5EXGO2ubzhaOkbMIYx07pJ/7yf1QdqMxwx3GXHcz6n/EwaM1Okd8ryTnwYM8vr1r7Xynx2PtbOyfswnOa6M69gk48LRxHGzLw/Pjet+EH9G47cOLa2pawxQKUM+blYDkIqj236Pqb+xJDc1r7gXmp1czzvs+Owdt95X5shnvKbj+3yuW1wTn6neMRVrohQ03Ns/UmcQ8s7jERa85ZnYA5NbcpYNjwfG59LB1ibQzjPas3paPrMs7Jsg2ZHcNN5eX+trUTac/nIx7d93vYO3FK/ptnNoR1b6s8Y7Nd27fgN1mvvFs/3M6S8j+kf1diOei/utdQm7ifPhMwO8pjBGceVW9or0UaKa+TtPurP7ODK6Y12Wd5HmaQfR92d99cGv3Jf3E9ur5T65ntvqvNYOSI72bguzkkCA49yOih7hLHPd+JYQvsTB2i+vy6fM5trMSb6l8tqWzpgZFufdUySprABxPVpH5b3sm3lt6a+XBkPbaSyDR7XZTuFnrW+cZkOvjeVz5yevlo02dsYGBkhBoKVaWLAS4SxbS7iwaldXqPpO/VMGainmtr0ZTys2GdQARVQARVQARVQARXYroAO8u0azXoEy/l1beTmRm+5BCuJDAc5znEaz8x2wsgT8WNoxkifG/q1myNNscR5viaf6Ugym6tmwM9x4WSrdV6IAwcWDu9yyXLOzzO287WjA43RPxsv4hg6ENzzHKHJSY5RuutMQvSodQwx9ndN9xRxYMQMHkI7tsxq2BbKmRX5/PwZXbbdE4bH7KiEWZYinjvkJYZhpsmgTblhQEFTQIuajnS0OQ/jdf4d5ttGcOeZezgztumHEYPynHXf9hmNc+Aey3MoW8wEJOTl3uM49MLAVwuUExxZdMbRBwNhDFoJB80Q52LtWuxDg9LZTDpxxhNY1SDSzZaBDYQ8OIP7yc43jGTUTU1cwOy21SowwtQMp+QXxnEGIeV0RXrXifu/fziCcJbk4/JnZoHCDEbVMmAIbkp/jiM+w+kQQ3953bbv1PUYvMp08f30009f1/tNzE+RJ21p6/JbXjFk27LJbfHBYO35RV5QHhncsC2wUkWNe+LAwMmslFqYurxzDRwnNecs6WMmUludjoO9Vk6CS1YZYeZTyUX5mgKOh2HiI1A+S844hviaAtdg0GCusyMd6IbjoVbW2BfXguMxYUz9yQAM2mWR5tiSNhxmtNfK50W8miG/ezTOa9q2vfO6qb3XFBdab6tLs7OPWVtdw5j6k2sMLe8xECzfM/cZWkf6y9Ue4vi2Gck8p+K42mzviJstLLWVLeLhmUyfoWnQAc/upnom0hFb7jE/R3NaaLvHcV23bUtaE3fWgjgZTNEl0H9gNmutnBMP+5nt2TQjfqryPrR/RJsq6hvSy+eyDNUGH3EcdWmE7CCnTcKgIliIupzjYZnZjNv6esS56/qzxhRpjsGC2ckVK+yQxmiHol1TXcZxwT3P03KgWWjIttZPhiHa+jiKSRPX4i8GlqJ13s/zPIehz/eIY9/tz1LnuP+2bbTN4x6m2k7ZZx2bpin676SBQWX5OcOKWG0ru3AOfSXqtcxdmR8882hHtIUp9CxnX5fpiO9N5TOnr68WTfa23DYMO1qkgy1luhzMN6bNxT2U/cB8vfIzq73UAm39ml0pzqf+arNj1OJ0nwqogAqogAqogAocZQV0kB+i3I+GfekI4xbptPYNnIPhCaM9ziaMKn0DcWDMYhQ+S3kxC2ZIWvped47jGQVOR55ZHE1GxW3XxZiFAYRltekwDwlj48DggwEQRyEz+GuzZIaka8g5GBy3zcAfEm/bOSxZHTMBMSTj8GLQCEuZYVzqmi847tARJjivbeR9W3riN7jAWVEaPOP3g7qFtzDMtDkAlnZ/GFOos3BuUIf1rbfgiHqTv20GrKZ7xwjD7G7qT+KB1bGcNV1rF/thIWZXYUSm/PUJY/Okz7XyseFczoa0/Hvfz/BAnUO+UncM4YNZLDhMqH8wuu+zHodT0oAxrmv9GZrhgEED7gODH4M1+pa1iGuKLYObcPzzjN+WjrwiCc+VOUKf+pP0YsiFK7Z9y9cc6R8TJ+0DZrrTVuniqCuvNbT+nLq8l+ka8j2vnFAbXLotTthAQzQ5DIG6ghWnmmaub7tHNIw6mIE8XTSduryTJ/voH5UO8qzV2DpjafVnvrcun3ldSDiYyoEtXc6f6pixz3fbn1PlxLTxjO2/R2rIXxjpG7g+7QMGxTPwjzYkz9mDHIZqMcU9L6HNRduffKTu4vUpDBTCdje2Lp9CH+NQARVQARVQARVQgYOkgA7yg5RbW9La5iDfcqo/q4AKqMAsCuD4CoPjpZdeOss1jFQF5lQA5y/vtO/r/J0zTca9fwVwXodBcq7UWH/OpWxzvEsr7wySimcoy9wa9qPALsr7Lu6szUG+i+vHNZamJ4NHYvZ4zDyPtLpVARVQARVQARVQARVQARVQARU4vAroID9EeauD/BBlpreiAgdMgRhJz8xgZtczU4EZCjF7HAM/75Q2qIAKqIAKHKuA9eexevjtBQXe9a53bRzku15x54VU+OmwKLAUB/nS9MxLt996661LS57pUQEVUAEVUAEVUAEVUAEVUAEVmEkBHeQzCbvLaJnt8ra3ve0YRxTvH4y/pvcX7TKNXksFVOBwK5Dfixez3fK2zztkD7dS3p0KqIAKHKuA9eexehzlb2ecccam/V6+S5yZrTjyDCowRAFec5OZevnLX75hjXfW8qqhoxIoR7x3PfrKeTAn+22zHhUSvE8VUAEVUAEVUAEVUAEVUIGjroAO8kNAAO/hy46o2uch7zg9BNJ4CyqgAjtSgEE6tbrnZS972eqb3/zmjlLhZVRABVTg4Clg/Xnw8myOFLOSQO05mve94Q1vmOPSxnnIFWBJ8+wEzkzFZxzoRyW85S1v2VrWnn322aMix17v87nnnlvddNNNo/949/KY8NOf/nR0GngHtEEFVEAFVEAFVEAFVEAFVOBgKaCD/GDlVzW1f/vb39YzSnCU1/6+973vVc9zpwqogApMpcAzzzyz4n25V1999eqaa65Z3X777SuWWzeogAqogAq0K2D92a7PUfr1lltuqbblad9fccUVq4ceeugoyeG9TqjA3Xff3cgW7baj1GZ74IEHVpdffnmjHrRhDbtR4JFHHtk6WCEGcbRtL7vsslEJfve73z1JOkYlwpNVQAVUQAVUQAVUQAVUQAV2roAO8p1L7gVVQAVUQAVUQAVUQAVUQAVUQAVUQAVU4Ogq8OSTT66XtGdZ+zF/d9555ygRv/a1r426Pmk/SqswjBLbk1VABVRABVRABVRABVRgQQroIF9QZpgUFVABFVABFVABFVABFVABFVABFVABFVABFVABFVABFVABFVABFVABFVCB+RTQQT6ftsasAiqgAiqgAiqgAiqgAiqgAiqgAiqgAiqgAiqgAiqgAiqgAiqgAiqgAiqwIAV0kC8oM0yKCqiACqiACqiACqiACqiACqiACqiACqiACqiACqiACqiACvx/9s71Vb+q2uN/i2/P6dWhN70KehF0IIIQIUFCEVEUJTFFSVJUtJ+U97uGeSsNLyj681aJeNfUVNTSsMz7JfNSmlrr8Hk638exx2/Odd97P3vv74C913rWmpcxv/M25hhjzmUEjIARMAJGYP0QsIF8/bB1ykbACBgBI2AEjIARMAJGwAgYASNgBIyAETACRsAIGAEjYASMgBEwAkbACBgBI7BCCNhAvkKVYVaMgBEwAkbACBgBI2AEjIARMAJGwAgYASNgBIyAETACRsAIGAEjYASMgBEwAkZg/RCwgXz9sHXKRsAIGAEjYASMgBEwAkbACBgBI2AEjIARMAJGwAgYASNgBIyAETACRsAIGAEjsEII2EC+QpVhVoyAETACRsAIGAEjYASMgBEwAkbACBgBI2AEjIARMAJGwAgYASNgBIyAETACRmD9ELCBfP2wnT3lzz//vDnssMOaffbZp/nHP/4xe/pbLcFLL720+frXv94899xzW431bcnvZrVP8n3jjTcarqtEbp+rVBvmJSOwGe1zVftqxsa/jcAqIfDAAw80X/va15obb7xxldgyL0ZgNgQ2Yz6ajXknVERgs9YERWb8cIEAa6VvfetbzYknnrjlEPnb3/7WfPDBB1uO7y6GPb93Ia9inBgAACAASURBVLT+79GpvfPOO+uf0Q7JwXjukIp2MY2AETACOwCB7Sp/7oCqG1VEG8hHwbY5kW644YZmr732Wvy99NJLm8PEiuT6pz/9aYnFL3/5yyJXH374YfP000/v8ff+++8Xw2/nh5999tnCkSDj8frrr89W7D7tE+VM5uGZZ55pPv3001F8/PWvf22+/OUvL9rCUUcd1ZoGyjqcKcifPNfTyaRP+2xldou8pP2oPl977bUtwvUwNv/9738Pi7AFQk9pn//617+aP/zhD8t6py8xvnTRkL7alZbfbw4Ccfxe7zF0c0q4erkyb331q19dzHFHHnnk6jFojgYhgKzDXMm8+eyzzzZvv/12Nf5OkWGnzEdV8FbwxU6QlyLsbWuCjz76aClD0BfefffdGNX364TA0UcfvZhLWDdtJTrvvPOWa/4XXnihF+tbYfz0/N6rKtc10P33379sWzV90roysM0SH4PnRuiothnMW7I421GfsiUrwkxvGwSwB0kP+/zzzzfo6EzzIjBG/pyXA6e20QjYQL7RiI/Mj0UUO4gwkLODfKfTD37wg+WCpmbwluFUTgW6HnHEETsOvu9///tLvIQD1y996UuzYNGnfUYlaOSB+1/84hej+Hj88ceX5frGN77RmsZxxx23DEueF1xwQWv4KS/7tM8p6a9CXJwNYj3O1ZY2u2x//vOfm127di1Op1D52HFDe/nkk0/WnT1w/dGPftSceuqprX+EwWA5hqa0z3POOWdNvYPR7t27O9kY0lc7E3OADUfg5Zdf3qPezzzzzA3nY6dleMsttyxxf/DBB3da8bdNeX/zm9803/nOd5Z1qbmF6/nnn18s506RYafMR0XgVvDhdpWXalB3rQm+8pWvrOkLe++9dy0pP58JgVdeeWWJ+VlnnTVTqhuTzP7777/k/e677+6V6VYYPz2/96rKdQ100UUXLdvWKaecsq557YTEx+C53jqqnYD7RpRRTm+c3nnVVVf1yvLvf//7QqfxzW9+c9HPcPg95phjmkceeaQzPo71rDO79CG8/+1vf9uZngMYge2EAKfKxbUk9zgomeZFYIz8OS8HTm2jEbCBfKMRH5nfXXfdtRwEUbTtZHrzzTeXWGAkqhEKlzxx8PuQQw6pRdm2z3/yk58UsQCPOahP+2SHCEbUUp1cccUVo9hgB5bSQ/huo7PPPnsZljjrpSDq2z7beN3od9ddd12Dg8F9993XO2t2Qwl7XXtHXtGAN9988x5lUtm44qTEMTvrSXxGI+bZdg+/Q2lq+2SHReapDx9D+urQMvUJjxGGOWG7nnTQB4MpYVBU5PG7bf6dkpfj/gcBdlswLtPfcNJpIxwF991338VneOxB3obUxr9jfs1jZvxd2825E2TYqfPRxtdm01he6ka9a02Ao3fsA13ye3eODtGFwMknn7zEfCN27M8pcx188MFL3n/96193FXXxftXHzyHze68CO9AoBNA/aCzaqTLtnH11DJ7rraMa1TAcaQ0C77333po14IEHHrjmfekHGw50Apb6WLx2bY7BCB/Dt92zCWYrELt92Whw0EEHLU7ARP5nrjrjjDMaHKaY6y677LKVL8qcY8ZGFpY2iT4Yxwv+rr/++mr2Tz75ZHPuuecuww7RkVYTnfEF/OQ+McRGdPXVVy/LJjxom5wSGemee+5Z6MwVRted4rQ/Rv6M+Pn+PwhgN2Bs4zRE9OnoFFn7MZawZuR512nAG4WlDeQbhfTEfL797W8vBkG89nb6ETU//vGPlxNC1w5KjrNEccwfwggTyU40kNP82NHB99vAgu89alKd2DQX0Ye0T442V53I4DLWQM6OXk4EOOCAA5o+RjrCS1hfLwP5kPY5B/ZzpCFl5QknnDAoOQwxcTE8KPIKBlZ7pG8wXqAIZ8Eiz2eer/cJFBjCyId2Sr/KfzKYEaaPB3aGeY72yViCowA88Ne37w3pq5nvKb//+c9/Lnnts9t9Sl7bPS67AZBDqPedqkzcqDq+9957l+329ttvb82Whar641tvvdUa1i83DgHGSs0rXH/+858vPvXCjmIUGfpd42i7y7BzzEc17NbrueWlbmT7rAmQx3/4wx8uxi0byLsxnRICBzfNDyeddNKUpHrFnVvmYv777ne/2xx77LGDjuNf5fFzyPzeC3QHGoUAR/Zj7MM5+Xe/+92oNLZypLn76lg811NHtZXrZ1V4Rz+kOYRrHwM5Y7biEB59CkbveLpH24kgp59++iI+snPWhei30seQucpE+y6dwCf+4xXj0SrT3GPGRpYVvUXEmvvS+vqdd97ZI9wq1gt62FdffXXJa18DOU6SGQf95lM8kbSG1Xtdd4rcPlb+jBju9Ps777xzqQtR+6ldu2x7G4GlDeQbgfLEPB599NHlIHbTTTdNTG1rR+ebYhqoWSgPocMPP3yB4041kEesrrnmmmWbis/H3E9pn6rLsQbyMfwi4DAor4eBfEr7HFOWueJop8XQPkX+cUfxXPxsVjos3PBkzwamjz/+ePmJC9rOeh61jgcdeWQPTmGinVn0HRZcQ2jO9olQLuGmj4F8CJ9zh6X+xOtOn0PnwFYOIzaQz4FmPQ12hNNucZbp6uvxu48cpWtaDQTYLaKx58orr5zE1HaTYeecjyYBOzCy5aV2wIasCaSs3CmKtnbk1u9t/IYin0tZb1pFmWvVxs8h8/t615fT37kIrGJfnVNHtXNrdr6Sx0/EyOjdZSB/6KGHlrLvoYceumZzF8ZH6f+Y+2sbv3T6Eke7l+jtt99e5sEpdatKOGrFTyzxiRl24d5xxx0NbV0buLRW4P0q0yqOGX3x4jvd+ZMOpbaM87LqgyuOsau6wYJNZ+K1r4EcvC688MJlPNocO3lxoHzqqafWwEn/4x1/cm5Bl/6rX/1qTTj/MAIlBKIjPO2UNobemD8+t6G5QG14I9YoJT7jMxvIIxores/ATaNh8Prss882hEuEFbyLEIoefvjhhu9HM8FDPJ/q3UF8vknLbuIhxNEM6kAvvvjikKjN1MUxHnN4xqLwZCf2GEKYe+yxxxa4xjRQfvep248++mhhOONbO/yBY02wbONvzsXHlPapQXG7GMintM+2+lrvd3MrfOnXHE2EIEq/GUosnojPJNllGGpLm+O0UdZOHa/IIwqSNeN1Gy9D3rWNBTrqB0F1KM3ZPjfaQI4xhTGf+ej3v/99w05miLb20ksvtUKxlRdzpYIx5v/lL39ZzEUoIWiPQ+dS0mU+YccMf/S5OJe0OYHMaSBnTkTO4DQE5laO8dsMos/98Y9/XHxmgnle8k5fXqa0z1IeLFAl61x77bWlIGuezWkgn4pFZGzsGDwXnrTxZ555ZtFHxsxFsSy6p5/QRlDIdc1PcZfg1N1pqyDDCoM5rnPOR3Pw0zeN7SovcSoM6xPWe13tug2rIWuCuQ3k7JRmbUk5mNPmoCH9nfymzmnMvRwDyhqPOZEyQdQJc/3QukE20Frre9/73hyQdKaxijLXlPFzrvlIwA2d3xVvjivtmXmZU2doX8yRY2ns/E5+yPDMoQ888ECDUx9rijlorH5pbN7wzVoVGZa1SJSdkTnmKtdY/rrirWJfnaKjmnv87MJvu79nvNCpORwDfvzxxy/WJiWjYsQiynfI4Jni+7ajq9v0ITrBECfiVaaLLrpouZ7jxMvSp/riyZ61zy7NWcYpc9rcY8YUnR9zEHMIn2sSISNJr1DSKZCf1te6Ss5SGtGhgTA1Jw2F17oZ3SV6KmS4trareLrSz8baXcYayMlb5cRJow/Jsa9tkxllmUNHVeKHdotsnOurFFbPmBOQuWgTtN3Noiny0mbxPDVf1mPqY4zT6G8zxTCEZQ26ntRHRrCBfD1rYIa0aUhqWDUjIoIHxnOFw4ASiR2eWhwThvtbb701Bllzj0dHPMZX6XKNz2WgiJHxJpJ3keLx3TOIbw/gNaIdvHrPjs0+xEJDaecy9ok/ZnHMJMs3cjLP8A4vlIeJqY3ACQxiHajsKNokJPK+hClpcyyRjl5WXF3ho3Q8TBtPUxYfMd0+7TOGz/fCpNa2c3h+33jjjUUs2f3bh1SXTO4ITvFbQAzeHLMGP0MNJH3aJ4oz5U/9aWcg33fhSBsdXczRUSxCUF5kYgescFMb4Hf8/hIKAqWlMFzjjk8EdJT81KHCIiDxO/+1GZjjDnLCZU9Y8r3gggs6lXoIk3gZ57IRHzxqC6hLLrlkGYe4fE+I8U1jhcpPGUuLtIxv7TcGaaW1WQIWAqF4qOFR479P+8xxESY5AlUGAdou34fBi7aPgXxqX4WfJ554YvEJBZU7XmNfYoGUifaIQhnDlOLR33P7JkzXOJ7T7vN7jv4e82EBSD8v9RHKh1d0l1GAesMzmrFHmOjKMxxBNB6wCClRyUD+s5/9bA++4LM0N7Fo5BtgJR7ghfbWZzcA/YExjQUeeSEHMYbgQc3YFnGqfRqBxazat3DQdb/99lu0nxIGejalfSqN0pV5CD4Yx6LCNYZFPmHcpP3yLTHxTflLbbxrThuLxZxj8Bx4soA+7bTT9pgDwIcxg53cNSMT7TK2G+KoDbOIY/yLcwthsxc9izvyZ+zUbhvSoW3yLP5dfvnlsUpb7zdKhkUWUVvSlTKXHJFwAIh4EB5MunYx9J2PojxBurRrHKVOPPHEhVxAfoxXnLxS2t1B+Lg+UnmIE5VXKHtzvTMuyLixXeQl5smIB977jLV5fQEWbevEWkMFb2HcR64vGcgxbkcelV6UX2P+GIDZjZXrj3g8Y40V6zrGnaO/k94ccxpr5Chnqtxc6WPqZ22KyVg23cfvuNbmVda5Eb+f/vSnir64Zr4Iy9yTaS6Zizkvt0lwQGaozYeZl/x7zPg5x3yU+eB3n/k9x+P0KOQYyb2MTxxBjBxEP1Z7oZ2UZDfqhvgKF6+kWfu2+5zzO4pzdEw12Y92VjJogMWc+iXm4NjewYLfpTV3rgf9xiguh+WIJffU765duxZYdxkSlV7f61w6v7n6KnzPgWcs/xgd1XqNn5Gv2j0OqhqfqX/WYsiYyOXIfcxntC/WFLQL1oaZkGlymyRN1tEi5K08NxKHnchtRJvhFBH6OLLXEEL/qP6BbN3XQB7njJIDd3QeRUc0hrQW7atHJg+MVMjd6K5qY80YXmpxcP7R+MC4V1uHIWvKEYE6Fc3V35XelDltzjFjqM4PR65og6Bv0LeELVd08qxjcz/KsihtQPHUn5CBRIwlvI99Gr1JiTC8yilUacYrbburz02xu8BTzUDOfJ+xoLxRdlN/Zk0U6eKLL16sqzgaO5LwgudMU3RU9JMsF9C/IXSu4Jh1NRjrtZYHg9g+kGngR7JWrBPWC7V+SH5T5M855SV4mUPPtQCxaRrGb+YT1kSxDej93FfqJtYJm1BqRJ2ojrQBlnlDYzzv6I9R/57HRsIwBtRoiIxgA3kNxRV5rmNAGOBqxlMEHjUqNaDIPoJrfM/9KaecEoMs7xGyYlgaoxZj8Tn3KKAzMQnlcCi48FTOg3QMx6TbRdEQh6JyKA1dHLP4KS3QI9/cU66aMhBBRJNJjlf6jXIpEwu2Utj8rLa4zenxe8zio5ROn/ZZiqdnahNZeNH70hVBOJed36eeemop+B7P1J6ZWNvqhkEdA2Ff6tM+UZxn3oVhfq7fKMMkAMALv/UuXiVIEIaJL77TPcI3FIVDveu6shu8RLHcqs9SWigiaxQ9Z0tx9QxBJy+0MBjqfZ9rn7Em80nZlfbcyo6cV9tvKTrBuabwrcWP9dQ1ftLezj///GWZVfZ4jQq5kqAMH1P7KmNwblNR2Ir85MULyv34vuuefGI/q+E45Pkc/T3mF41FtfIwZ9XKgVJG3sK1+PF5zelIAms0WMQjXGMaWdFOeXgWw9Tu2/oqTkVx8ZrTyO/4HQlFLYJ0jpfbG+9rRswp7TPyku9ju2HnQY20sM1lqP1GmVCiqVjMNQbPgSeOQ7nuS3jQhksG35LCm/qXI2MpLWSKSFKMl8KWnrFo60MbJcNKRsq8lpyQON0gh+N3l0zXdz7KddmmiCJf2jgKBRE8l/jjWQxXkwVZd20neYm5uoZH6Xl2/hCutavkWcbR2po1xi0ZyOPRrJEn5r9MrI+yUi3G0T3Kv7jDSOnM0d9Ja+qchrIurzeRdUrzUc3ZS2WKV2QBte39998/vlpzj0OPsOKav0FZGhPyt2PnlLk4YS3yE+9Lu+/WFKbyY8z4mfHvK39WWFg87ju/Kw36ETv/IwbxPvPIO44mjoRSNMap3YNRlh/nmt8xRmn3WS1/nlMeduBlmlO/hNN1iYe+412cv0rpxGeUZ06aQ+c3Z1+lbFPxzPgM1VGt1/iZ+ar9xjE/1jlyi4yd8bnuaRO33XbbmuRq4RmbRexiVRrx2uY0lXXAzAe5jyv9fGXskQwmA6LWHV26EHRy4rG0losGcozpQyk64/V1bCm1exljhubfN3ycW2u6EqWlcZp5RjRHf1daU9ZYJexUv6UrbbzWzsbo/Eq7vkv51p6xo1kU52DpLqQfJQwO/6QTN7fxLBP6SMpZy1PPo64kpzHV7kJ6NQN5bUzBqC9ifSs+5RDM2kjPkK9F1Keel/SIU3RUOG8q7Xhl/VWTuwgnB3bqN8bjvq1u2mwGU+TPueQlMJ+q51K9cS3hgxyznhTHrq4xPtotOEkBiu1QdRsN+8yheq5rHDtj2YbKCDaQR/RW7P7VV19dVnyb8MOAhseUFn8IM5FYTCKI0NGkSCh5WCAIaTAhXDSAMwlkYwe7ljLhdYOggpKytBAifYQrhADtUkGw1qCc09Nv3muBHicxve9zFT59vkGeOxLKFcrEAg/vFQby7InNhBuJsBIs6bhgijcpx3DhCV5SzpeEPIQ34oMdcVjAMWhQr3GRlpW0kZd8P3TxkePzu2/7LMXVM7W3LmWqwnMFfxRotGf+pPxpm+xifLUjDabCFWMQbTy+550G6phGvh/SPhnc8fpX/rqisKcM8BB3nfGeXa8i+iLKg9i2ELCy0ojFQ/TgRSDVsf60TWGv/NuuhM3tW/zENkgaeEjjTc34wIIqpku+mbJwyBFeeJkhiLGoYkERy8r4EYkyZTzIE29DvMsYG6OXKYvFPgSe9NfofQgOOL1sFkmBOvRb8UPaJ2WLx8mDJUpvhGgwLY3rtUXf1L4a+wFzmJwCKA9zSGzDjGmRGK9j2+u6p9/XFnMx3aH3U/t7zE9zJl607IJlHgJj+nrEKiteSAMjKEe7RRzOPffchWyAEQkZQ2OpwmAULFE2kIMbC0nFQ0ClPkoOX6QnJQ9zImMbcyLyB4bCmE6tr0ZBmjxR/FMW0uJefOgKHnkcBz+9Z3yBJx01ipctc1JsXyXjYMR8aPss4apnUkDBX9vJBtHjVmVpu7JwK9FULOYag6fimZU/yHrIVMyZjOfUodouONFOs2c/cxQLf+pT9R/nH9osuDO3qT9hEI/E/MUYzdzBfKg6QdblWfzDcYy+2Yc2SoYFx9iPwIJTOEp8MiYzz0bjBUZzZOgaDZmPUI6UjLqMVcg34JdlceYo8oDgGd5jeVBWkW4kxh4pJ6kv0pTjwnaSlxirad8RD8qLwxu7TnEKjU6YQ9YVY9YEJQN5rG/6HuM6vOX5mXE6zlmcIsC6lbonLPNj7H/c5zTm6O+0o6lzWpS5cE7UXETa1FdUEDIO9KWo1MZRvUbMv8zDWv8g80VizmW9xW4ijWdSTCrc3DIXaw6t81gXKN+81lH+Xdch4ydpTZ2Pavz0nd8VP67jmJPQA+A4x1VzlLChX+PQG9s547Pec6V/v/XWW4vkmf9QYjKvKUx2Zp5rfo/rMOZC2qPmCcZadtCKB/p93mU7p34JHQrzGu0r9pE+BnLGIvHJlXGFMYt+yjgQ14wKp7qc48r4NlXnN3dfnYJnCZOhOqr1Gj9LvJWe0d+YO/O8Sv0jJzJ+sbaJ4zjv0GWJaO9x7uM9hqx4Ygb50M6kCyAMdal+pLR0LRkYiJN3hSp8vurbsehANaZo/OoykEfdUF6fk88JJ5yw7Ef0oaEkR1RkgJJsWkovyv/gwB/j6HpSnEfyeiPnC8Y4nkVd8Bz9XflEXoauWecaM6bo/NCHy6BN3SGvUA5tHlGd8hy9IHOZnkV9RnSuiPoErQvUv+hrWv+VnNWpL8mgjPuc8El6rDnRg8Z5VesJ1QXXOewupFMykCPbxh3XGK/RhWQ+2OAnjPQuj0PI0hD4KGyen3k/RUdFfGQX1un0SeUjmZTfrOkZV1g3UC/8RccH6lXjguKDAW2EtQHzc5SZVN5F4dK/sfLnXPJSbJeUhbllqJ4rFklrLeHCNZ8aEMPPcY/OWPnFua6WNv0NeTQSfT6mAy4i9A/Ikchxki9rZRoqI9hALpRX8MoubzWsrNwtsSulBgNGjTRYlgQCBg/lJ0/BnA6NUGEQvNoo7jAkDsoLJo1ITC59BBsEBuVb260d0y3dD1kcx0kV4bYmfEbPKxZ8kSiveOYeQ0YmBm2F4RqFohgWRZCE0/ic++i4wGTbh4YuPkppDm2fpTQ0UQ0xkOd0JPCOMZDjbCFFgdJFgI2Tcx9l1ND2mb2eMFBIoSs+EEaFD20j7+CORo2s0CAN+pWwQcDI7YeJBSUcfxIGaad6Fq85rnjkGhdBTFC5P0fFFt8Dj5QVz6VdA4RnrImCJv0mUxSiUPRFok7Vz8CkD2lhqHhc246H6ZPmlDBxfGYcHkJD2mfMh7kE5Vqm7C2PMN2H1B779lW1/9qOKQRjtYvSgp8xl3aMIK96ZOyLbVv3ffgfG2aO/k7e9K2awTQqQnDAyRT7KQJkyaMfA4cWe+AVF5QxPdUjAjdzkwyFxKG/y5Ehxsn3NSU3ZZScwrhUomj0QLmZKeOdx/joSUsb52ivEsXvehMuj21T22cpT3hVWwXfLmLOpw1HwwVzhdq1rln2UrpzYUF6U8fgqXjG0xEwMpWIuSwqsEt9RfFiX1B/yG2gq60zZ6g+h47b4kPXjZRhOa5cfMd5j7UIBhv6ecSCHYsKX5OXVY4h8xFx2PmrtLmihMmyLsoMjUuEySeKoLxWGrSTEsWdPoyFkbabvBSNUaW+EhX9KHz60Jg1gZQ21B0ycHT6QQHfts6MO+NYB5WI/h6d+pgHazS1v0+Z0+TkwTxTkrcxkmieLa3fS2Wif8ogU5tLczztOMoGcoVDplI/ygZywqyXzBV3otRwFo+165DxkzSmzkclPobO76yZhDftOPcHfsf2jdEpEm0gzss1/QnyIG1PeZVOV4npDF1jRSM0/NYMRdJjwUetDVK+OfVLtCeVu8tATj/UmoM46C7iPCjsYzkItx6kPKi3GkmWLo0Z69VXh+BZ43uojmo9xs8ab23P45zE+JGNAozt8TQi2lKWZaTop93k+OQdx5C8YSDzxtytth2vbfOg0kCmUpwou/Y1kGN8UnywwKlDFMcDwgw1kIOjxqvsoKo8Slf1B/HFlc8mrSeJT+SLKTS1v5P31Dlt6pgxh84vrsvjKZ/xdKkom2jeiifn4niiNkBbkuMAfVOGSeqLsV3jfdyoFOuROaG2vo5OBSW9ZdS3TbG7ZAM5azbxTTnRidQo9nM+bwTRJ4QPV9oeFJ3DFg/SP/Aaq6OKSUVnZfJnfRAN4YSl3vjLRN2Ld+o1h+HoeL2vyUM5zTHyp9odeQ2Vl8h/qp4rlyHq4lX+Ntkhxx/zO9rB8pp6SHoYwcVzNJDHNLR2rBnIh8oINpBHdFfonklEjaEk2JZYnTp5okhVnixg2HXBZJiJwbQ00OdwcQHTtww5Df3G+AxvNPzSYkTh2q5DFsdSKpBnyZCgfOAlLk7lfYYyTVgyyWYBWPG5RkGRybJG4I4hCi8Y8ESxxK5g7pVXaVd/Kb2hi4+cxpj2mdPgt4S1zTKQ1wZsJlQZjcE2KyVyWYa2z2jAaVvgRC8+vI8jIZRJ8AbHLJTECb1NOCJNLRqG7kwmbjS8lZQqeISpfSL0REIZoXddxiAWigqLgj6ThJHSMZyElVEErPoQziooJIUxeRMX4/BmkBxh4KHLAJH5G9I+o5I7LjJymlHBvl4GcvFNHbBALylGMdDSvmsKN/hmHlPbwcN3o2mO/i6eqXuwwGMaJw7GfwRDPGPVVmnrmbQABIe4qMzhWFjRxgiXjUwKK0MUx9MyJwvbvu1A6TA2MH7g4EM5KA/lEq+lvhrlFOLUCCcM8ZUN5HHM6urP8ciwLJjP1T5jGdTP4b1N9ohxuI9Kg5rBP8fh91xYkNbUMXgKnlEmYe7Oi+JYduZztXGUCDWKBrPS961r8eLzzTKQT5VhGVfVf6J8FhfZ0dNbSt0+DoWq577yfDSQU67a/BcVPYTLJBmAcmWFRVQ6106uUHrbQV6K83epr8QdOdk5UzjEa+x/beNyjMO9DOSMHbF+SKPEV4yv+Y5+2hYWWU5tGeeKGs3R38fMafATHTJRlDL2Z6dZfiOTcdRoH4rK2TZZLqY11UCutOaWueJ6piQHKt+26xAdAOlonJoqf0aehs7v8bSx2m6naIjKBvI4JrYZnOExfiYAeTLTlPk9KtzhqUboTjQ3g3uN5tQvDTHoxvVsSc6O/MqQWJJjY7ix91N1fsp37r46BE/xkK9DdVTrMX5mnvr8jgbykvOu0oinQnCiZCTmW81X6BczRUc+6RxzmPhbuzqVJu2xZtCL8eSQxXosktp11w5y4uioauXN2jGuGfW8S+aK+XMf57Z4XHQOl38zrilPXWsbk3LcMb+jg8LY00+V7xz9fa45beyYMYfOL651o2427jKNu5vl7ImxToQhWPXPM236oH2yU5x3jCmQ5j39VhrxivzLGpE5lP6JHo2d7nF9zYmUmaI+Y4rdJRrI6UtxDm3T98BPtFego0WWVnytA8AAkk4anGo0VkcV04sGctZbbTaUGI/7aCAv9e14egDl60Nj5E+1mzE66dgu1PkbhQAAIABJREFU2tZTbXquXK4oC6rt1zbB5Lhjf0tXSH60s7E0h4F8qIxgA/nY2lrnePEIEY477ENzTJ7RA0sdiCsLFRo6CwImASbHLtIChsFtrFGbPKIH9VAFfOSx7+I4TjQIiF0UBXl5I8XdKl2GP9LnyJla2RjUSt/Ji/Wj+9JuzxL/kefS+65nY9pnKU1NwlEBWwrX9kwDcN9dqZq0uhS5UbApefGKpzHtMxrMupwahFFpoYQBS3UfdwHR34QLi5GsaBPvus6l8C3lg7AlHsE0kpSjvI/exTFMvBcWlC2T6rUmxNLGxEeO2/Yb/jkyVnmTBkqSjSR4kDK4TcFb4mlo+5TXIuVtoyhk1sauHF9tsm9fjZ72qjuu8Ea7ZuHDSQpxkZTz5PfYxRxxo9I+8lC7p56yMD9Xf0eYVzuo5c9z5otMar+lvpPDsqhgMVfbOah6jDzQbvrO8yg3SmnE9HSfeWOc0Lts5IphoyIzG8ijcgoDKca02p/y4so8HWmu9qk0MUqqnmrHoStsvkalwRAD+VxYwM/UMXgKnsheqqtLLrkkw7PHb8mDxMnOZQosg1ltd6rCtV03w0A+hwxLmbQeiArSqNyUwSUqVLrmgqHzEXxEA3lJyRTxj+N1dppC1lIbyTuWoqKhZohSPttBXpKBHIVpieIapqRkynHGrgmiDKi6YQyszT3KNxoFiVcbv/VcadN+azSlv0+Z0+AnzlfilStYMK5y6gHOKYwnfUnO28xx9NE+ZAP5FyhNmY++SOWLuzHzu4xUpfXfFyl/cRx8NpAzHsf2pP5Qukr2IHxJKTtlfo+72Up5x2eR39rpiXPpl8BwiEE3riOl74n1EO9xYmeNzpy3HjSHzg++pqyPSuUagmcpPs+G6qjWY/ys8db2XAZy+lIbxfUzx+Zm0m43+oJ2dRImOvIxh/chxn7WBxjtMDzV5N2YVjRAZwNbNJCTdps+GJ1QdLyJfVtOlTwjzBDSzkTm7L7rTqVPeXAqZ3wfslZS/CFX8FGZGT+n0Bz9fa45beyYEeW9sTq/uNaNuh8ZttGRRFI7o0+JYho8i2OW6kvHijM38SzuQFc64MBcqTht19I3zElH66wcl3KgJ+ljd4lrvphO1AuL59JVczttjM9IkgayYMSFDXxyQohYxvSm6KhiOtFA3rUWiPG4jwbyrItTWMk6fcedKQbyMTrpOfRcKmu8sm6iHaLT6LOui3HH3GuzC+1pyIaPnNccBvKhMoIN5LkWVuA3nn3qvN/73vd6czTH5MkCjm88xAG2dM/A3dXYtYCpec/0LZgmDwShKR4oUoh2fYM8KjRLi8TMdxQk5Y2ER6hwq+3Cy+mUfqMYjAYR2gVKSQY36htjmZQ65LcRBvKx7bNUPrXzzTCQ1yYt8clx36rD2tE3hB3TPqPBrMuTVx6fYJUJTz3VP+/xOoOil2afnSNzKXwzf/otHLOBnPFN7/rsimnDQgIeC58SRWeC0vuuZ7HOSjvYu+JPec83eYRTl1Im5zO0fapPdhlSETzFU5dRRDzJKNrXQM7Cl34qnpRf6Vr6RrTyHbuYI348SaKUb+kZ43ak2HbG9veomCNP+izzE8oVFp1ShvMuG8jjIqe2sIn8dt2rHnPZ4aOLYlsmPopTFC7MZ8xrzM+xvnN60RCqBWwOw+9oDMsGcjmBZP67fmdHqbnap/iPygu+uzSE4oJ/iNJnLizgdeoYPAVPnJhUf33mPNqawqOsLJHmVj6lM5aiPBmPqRyT3kbKsPAXnQQZ73HWFWZc6acoAOPCMyqsSmUcOh+RRjSQd51exXwhHkt9SIpVwnBcIBSVzn1k/u0gL8lATllKFI9+7FKkTFkTRIWp6o0rBuE2xXvcARTjdd3XjtcHg7H9feqcJvzZcSge2sqBM0IXxSNEGRv7kg3kXyA1ZT76IpUv7sbM75I/s0z3Rar/udPckA3kKMjb2lLtXemzXWPn92gkquVXe641bS7vXPol0o3ycdcR65zkJl7bTvzL/K7H7zl0fvA1ZX1UKtcQPEvxeTbUQE6cOcfPGl9dz2UgrzmeKT5zptpRaU2G7KL30UFxiCOf8hpzRc+o/NF3xD85u6CblGNLVx6cvoU8iZGRtSxrN05zUx5d/S6mH0836rPmjHE3414GVsrKWDiW5ujvc81pY8eMOXR+ca0b1xsykCNDRSoZyKPBU2Gj7YO5TqQ5OJ9yQF1Gh1zqF3sHbRK9DHNxrPuagXwOu0vNQA5PlLWLVHbWR/rELMZwSEZOfsuhvqRnnaKjyvxFA3l+1/U7GshxUiuRdEwbYSAvYQVPbTrpOfRcpXJv9LMoL2m9PYaHOQzk5DtERrCBfExNrXMcdkhIaGhTAGc2+kyeGui7lEB47NCQOCoE5TWLERRbGlTgryTURZ7mWMBEL8spRlT40gKyy0AeJ/4+xv347UUZiuIRSV2G2IhZvo9KXCbdvCOG8ByFr/ayEQbyse0zl43fak9T6lbGmr5GNy3y43E7Jd6i531NwBjbPqPBrHQseeRHDhK1nS9RiY2AiAAsTBDOSru6Y/rcS+GrHWH5fdvvmH8tnNonYSNpzOJ9lxKWeMKCBVom1esYYSSnVfodDcJtStZS3KnPtFilv9QEvlIeY9qncMyLjJx+NPxo3Mth8m+1y759VfFxjEIJzQ4qFinsrmXRE5XJtA3afonimJ7bYCl8fNb39A61ceooe61O7e84wih9ypw9+sWvdhtlZSq4aKztUtworbar6hF5gh0+zJPij89+tJGcXAiPjFGqM9JQejktfR+M9211GZUv2UAu2YQ0WEzRttr+cJZqU4ZObZ+Ukbld41uuv4xB6XdUGrQdYZrjzomFxo6pY/AYPKORqs+iNxpKa8dUanzZagbyON6NlWFpJ9FwzIJdsh/rB40nLHr5Nh99qesIyTHzEXxEA3lbnydsrNfS7sM4b3ECCRSVzl2Ov4TfDvLSnAZytQvawJA1K1jKQE57Yt0Uvw/IOFhTKPM9QvLjj3psG7/1DkeOtt0oY/v71Dlt0QjDP+Z3lJH0MxSSrLU156rMJeePkMRSccucMkRmlIG89l3WKAe3OSLFMairz0a+a/dRoY0Bbgz11QHktMfMRzmNsfO7ZH/aZq0v8FxGq2wgj4pm+pr6Qu2KIpK1GGXONGV+V9+iPdbyjs9xgGk7yUNyS5/5LZcj/x5i0GUThPpgl7NWzmfu31o/g2mN+uj85u6rQ/Cs8T3GQK605hg/ldbQqwzkbXVCmuh91I5q+tj4WQLmriiP1eIM5bcWXo6M4rHtytw0hjTXkHZbX89p6zhs4rHbddUpGoWnjBlz9XfwmjqnjR0zVAbqbqzOL651xxrIZURF7hTF063Q64vUTplzIsXvceNoHnmJ4dR3agZyhZ1id4kGcmRG1jGSCcg/nkKh/OJVjsXIspozVD8y5KJPlrEcuSLSVB1VTIv7KLfkd12/VbeUuyb7av3aR1dAfmPkzyny0hx6ri6cNuJ93LjA54LGUjSQ1/Rb+hxRzVYS8+4jI9hAHhFbgXsWOlpISHnTl63oKVxaSPFMA3VJuMKjEcMPXs41YtBVGvDZRnMsYLQ4ZDDLRoe2vEvvhiyOdYwk+dYmPeUhowS46BulcbIgLX63EQuK0lHb2hVYMggqvWjIXW8D+ZT2KX7jVZPUZhjIyZvvxtQoGn1q3yof2z6jwQyBsUZxUqgprBB0JQhRptge7r777lrSa56rnfX5pMCaiGmXWX6n3xozsqKMI4v1rg0H0olHzpSOGZ8ijIjPtis4i9d8PGspHo4JjKUIlSyWGXOHLAKVZlRI0t6G0Jj2qXGSstYMsfAQ55v1MpCjxEfYrwm5YBwVxyjNSxTnvi4Dbik++fT9Kxl8p/Z3FipqezWsyVfjQMnAGncKa54qlZVn4EWeXEskzFG4QsgOWkTCZ+273rEPUa81wgFC5c1hYl3Sr0rKchaLkqNIJxvIMXgqfU6AGUtztU/yj0oflGFDiePmVSac5vrSXFiQ39QxeAqeGENVfuTYUj8UJigiaDuEb1Nkqg1tNQM55ZwqwworGYMxvEjWZSe85HsWpQrTNbaOmY/gIxrI2+qWNiCZsq1e4zc577zzzmW7KR2hKBzidTvIS3MZyBmP1U+GrlnBVAbyqGTXM/on7azUl5mP1d/ncPqCF5VjSH+fY04jbxSCtKuasw5h4m6MrKDkvSh+axCn2SEkOaEm40ZZpM1AHufprnGhD39jFJQ5Xcm2XU7yijdlPlIauo6d31Hgqp3jPFKiGCYbyNEJKD4O91Noyvwe19PsmJtKmn822kAeT65ok2FVPtYkfZyuFH7INa7BSrJ67IMlnZ/yiuHm6KubYSCfc/wEF+aXMet3Gcjpc+hvahQNhVkvojhxHEf2io58+ZQyxSldWccjeyEbMcfccsstpWBrnjFeIWuV/iRjceV9bU26JsH0I47nbW0zRVv8JE/wRcajnoYQMiLyBXGRkXFEYw5fT4rfPe+zaYUylXiao7/PNaeNHTPm0PnNYSCXnjSvE9AV5PFaMlHeFBhPhMlx1J44zU3zb8lAPpfdJRrIdcokeh7KR/701TZ9XpRPFF5zSrT7qCx5N3CUC2vjQZeOSphx3ekG8ti/qMMxeq6IJ/dj57SczpDf0RGMtlPrJzHN0kbQKHfVnD0kYzKul2iojGADeQnFTXzGjioNQG3CVYnFuGMKT9xMCL5KuySQxAGubeEr5RADbhtNXcCgKBC/XcazNj70bsjiOO7cJp4mCqWlK4KteGTxGEnHuvB+165dVSUPk6YEzmwkF9akUTLUs/jVBEiY9TaQT2mfERvdq9ybYSAHL+oIASVT9BKPirsYbkr7jAYz+Ch5lTKxSGFHGLCvURQmCMsffJcUi6U0MKgRh7ZUautgxJjAGJPTjH2glDbPxFNeCHKsutoAYWrtl2P2pPAnHPhlmqK8IS0UGQiWpcmZ97FNsGOui+JnFlT+fERTVxq8j+P6kGPIxrbPuBuMNlRyIolH6lK2mkCcy0d6hO+7g1y4MV/VFsIcZaVwbQsAhal9tgSFA+0zH6OdyzDm99T+Hj2bSyeS0GfBSGUsGchj+2VeKY17lA2DsQzttIUSqR5lICcMCzQW/+Kh5JwTHcdqRo3Y3kmrRHFhyhjJ2MTC9u23324weIl/8ZIN5FHWYdyoYUHepEl+yCDZSU/pT22ftG2NXzgajCF2boqf2pG67OClHUQP3LmwgGeVYewOcvE/Fs+4k/PKK68swgjW0UDaNiZr/h1iMMuZxh3LG3XEOjzMIcOSjvpanKfpB7t37160t/g8y68Ri7HzEWlEAzlthL6Y5RTGHxnwCcPJVzWK3vlqc1zzOFGLvx3kpbkM5FPXBDKGM6eIkDFjH43zjMJwlUKEukPBVyP6PPMa67CSrK14Y/r7XHOayoKzSe1Y6egEVRvfKIu+EQsu9IshdOyxxy7nkSz7US9xZ2GbnoA81bfmkLmiQaWkLOxTxiE6gMj/2PlIPE2Z36MzF3hilGUex8jMeBsNcrzPBnJ2+sUxuu0kHOQg5C/6W+lksynze3TE63L0pXwc84qsUqOp+qWY7hCDLhhpnABvGSNietzTh1U34E8bmJuirDxG5xf5mbOvDsEz8hDvh+4gn3P8hI+x63fVOXiyDomytspHmxHeXPl0TY3UzmP4vutn0mTMjusypTPGWV88an5hLhhD6Hk0JnEt6TZr6caTY4bgoPSik5mwKOmTFH6OK30/rk1oI7VNU+gfqC9wyXU0R39XmafOaeCitIbM73Po/OYwkEtvyVjeRVpXZL0Kn7oRBiW5knYtZw7ClQzkcf3dJk/JFkC7KFHJQE44dGLqa+h3a5sj4m54eM0nrMb2y/vsoDOHjiqWK+q04/M+9+CoeqltrhEmq7qDnHJq7U1ZaKdD9VwZq7FzWk5n6G/WXaoP9Fu1dTbzoObxrOuOjiYl/VLUSdcM5Eq77xrLBvKhNb2O4RFkpHjmiIuhhNChRkhnwlOLRsXzKLQRhoGexVUU2uM3ywjDBMrOWfiCaNQYMpVHSThiQmeg5U9HcTCw6pmuLIC6KHpLlo5KbIuP8oxyKz+umqjoHPE591kQYVCNBjni0AFZHJE2Qi8LVWHBlYkuUhYEdAwgikIWnxiVYh6kkcvJEffKAy82lFEoXFH2RAWSwqAYB9usPCROLDN1qzjxOfeELdHU9olSleOQYn7igUV9fM59ycsc76McTsYQjN35XfRWwvAJNtGhgPxZ9NOuMeigZIsKIN7XlL5T2mc2mJEPyhsUAiwMpbwUPqW+FuuI+pbyQnFQKPWl6M3MLioWIWDFt9fjkaWkHY2Q9BspOHlH/UalGnUeBUDac8ZTnpzi+5JLLln0R9obC23qJSokqOdIuV7hFx7j2MY4GBdG9OXIJ+kJP9oHfLKIJX/iRnzgM5ch8qP70sKWuENJ3qvERdnVl8a2T9pSXFCDB4I9x0yDCe1DdaUrRts8bkzpqyqj0ucKDtSrxjbaFvxI0OVaE4ZJL+5wxqObtks7oL0xNisv0pmbpvb3qHCCTxw06FfMcRix1XZVBuZcTlxgDhLRH7TIIhzjJkYu5jLmeRZ4eezLYwjpsTtZY242XGRDFjsVwDiO5ZJx4IE5lMUu/QleIn8qC/Hzoo42EOtTYWvXkkAe50DmYQRyjQngzW8p1JUuvEbSc65T2id5KS3a9BiiPygNxkscLGnj1CvG0oh7HkOnYjHXGCz+x+JJW45pMAYzLtFeGDtpu5IDCQdO8chl5hwMCJIjNLYgP+uZrshxNWL3B3MhdRA/wYMzD8/0hzJMbS6nBc+bLcPCU8aUPgrlMYkxoY3GzkekmccV6o4xjrEbRRfzc5TruO8yDGb5PY9lbWWJ8sBWk5eYB6hTKQuYO1j7RSchFHtRQYUciKNQpilrAgxIOPXoG47RQE4+eYwHc/peXKtFpQltgnGMstH/+OMYcnaIab4iDGs50Vz9PY6tY+e0OPfCL2s81QlYMHZFJSV1ViLmOsrJ35A2rbSiIZM5FswZ65D/oixK+hgxs9yndLjGOXqIzEXd5bEv7p5DLtE4zBUswCjS1PGTtIQj182c33Gsiry03WcDOeWIu/aY03CuQD5nLKCNIWPRdzTfkX5UQs4xv1OnsZ/Q3mnT5A8f8MNYHtsMfKgPUA76vup9rH6JPk+bVTpckbmEKe0svgOb7LDC/K3wXMGO+Z4ysEZhXopY5rEtttMp9/QR8TFG5xfzjrgP6atz4AkfuU6iTBrrg/vSmDPX+ClMxq7fs65V7YNjitHvIHurzrh27djHaBDDc1+ai8V3vkaDckxnzKYU5lbwF9boqVmHxj6a84+/kSuiDhl+2pxgYlzdM5+rHPTNoRR1SUonGz6HptknfOyr5MtcjsGbtS+4YvyKegjC8DxSTGNsf1eZuU6Z0+Br7JgxReeHDiLKKMyNrEUgfYOcsResmHMg9TnWfuDNPKL1CGFp01nHQDzW1KSjI8eps5hudNpDZqMtkz7tkvkzzgHgzdhAfNIVTbW7MP7Sx6OMkHUIOE+p3uGT+Svq0uAFXBWGK20zEnNafE++kfJ6cIyOirU42FEf0ajK7/iH3KC6jTxwz1pRn/yCXwz3Uf/EWBV10jj7gEUsz1T5cw55ibLkNVDEv3Rf0nNFfMbOaTGNMfe097w+p6+go2QNR/vMvCELRgKL2J8YAxgfkQXiCUrgQl7UcdYHa94iTJ81lg3ksQY2+Z4FsRp9mydRG5uxASittmscBBm4S2FplLFxKwzhI8WFucK0XXP8mBZKQ8VFUB5KLNwVv8+V8mVCUZoND7W0UCaViImohF1OhzDsDsiEYiIOCjkev0tGhbibIrarUvzSs5L3eExnTPuMiulSnvlZ9mCLbSKHrf2O9ZoH4Fqc+Lx2FFXkZUz7jAazkqND5AFFQDR05Tai31HoRKCLE77C1K703T5tnYW+PF8RKiKfukfoFkmJoXe65oWNvh2i97UrbUjCsPKo4SchEYG1lB7CbiQUS6Vw+RkL3T4UvX2VxtAjSOn/ipv7QxsPU9sndds1bmXnHviU4iLmL/67rrGvqmy1OKVFbm3XrNJCwK6lF5+XFIxKY+x1jv4eHVEiv7pnnsh1kjFlYRiVlIpbumbFBcq/HC4r4OMYFMPGHUNxURnDxHuMGPE393kByyKmNs8z7kTMSwsHhPYhcxJKlCxwZx71e2j7VHmpvyHjdm6POLKIh7ZrntemYjHXGFzjeQieyCZdMhP5kGaWQaMhocaLnpNHNsqoPuLOAoWvXWvK81rbrqWT+zq8zCHDkk4cVy688EIVc42CrO148jgfjJGXooFcht0aDix8a8bDJeNNs1iYxzT6yFiKv5XlpXjcZyy/xvKsiIhhstPBlDVBljezU3jJMAAvuZ3HcT7yWrqnz8ZTHObq73PMabV2TXlzWWo7tmifZ5xxxjI8c/ZQwhhYylM8lMZWlFwlGitzxTIo365rlv/mGD9reQ6Zj8BljvkdmTw6rkbekLukB6jJrzIIxHi1e8b7KG/NNb+zFithV+MDY7VoLv1SNIbX8s3PS/0tGmly+PibdWbtE20q25TrFJ1fzHdsX50DzziPROza7rOOaq7xU5iMXb/LQM4YGg2IpbLgtF+TIcUH1+jMp3k6vm+7x/kEmSjnj0PHEKrNx6QLfyVCV4Nuh7qRkVF8MI+UThkrpaNnrI1UFvClbEMpnpAiXmqfrhiadld42nnb3Cp+uNZOjJza32Me8b40Luc5NZdv7JhBOmN0fjhYRJ51D+9Q3HHLOzYbQRyNrrBt1yzHqK3lOHIuQQfB+J7fx9/MpVlmYj4VTbW7lORf6T6VRxw/Im/ZCBn5ZM0VCd2e4tbWrFN1VHGdqbxq19JufGSWUvi4tqjNE/RN0VT5cy55CX6m6rlUJq5j57SYxth7jNl5DijVFc9wjijNi7l/1+LrOWN9pFrdl8ZkZD4byCN6m3wv72wG5VLj6MMeiqhS50RhzAAXJwoGw3gsE16JalgMgHGw1HOuKIqff/75Pdhhh05tQonxuadBxgVYTix6CSKYDaWaoj7zod8oykuEJxCLtBoW4Bl3NJTSQEgsCWXkzcRO+kz8NULZVzJqMJlwnCwUDZHwGo97YRdFjX+VP16pm5JiZWr77GuAFC/Rg50yYpgdMoGSDgsUUfYywmCO0qEk4NDGs7CkdLhObZ9RqKFcKNj4xriUhrQLBnMcL/oaTOKOn6gEjHy33dMGEb5zW+E33wSmTcVxifGiNLGAq0iLRdUpV+LIkKpwXBEUawtK8GByL2GR61V5ILxD9M9cJsJEPglHX6deS32N8LS9OF4uEm/5hzEtjreUjR1TQygKNEMWk1PbJzzSHuR5S/n1R/0hnGaDKc/l2T61rwoj9QeupbYGT9RXPo5H8fOVsbQkpDFvsQt+aP3k9Gu/5+jvYMqYqHrQlbZNW6a+4tFjvGdeyEQfZtdCqU8Qh3G6dAxnaX5n3IpUMzjk76AyP5fqkzkG2QJjVXxP/y8Zuckb72AcbkgTfjQf01+EUc34xXiCM1nMS3G48pyFfO3EmznaZ1QyUIapxKJXfMWyoKRnrBQ+OZ8pWMw1Bovvqf2dcUjfu44YcE+7px+Vdr3gdVzrFzkdxpGagg4jfQ5f+828X6JVkmHjwjTK/vEYVM23pbJMnY+igRynUwwtyBYay6kzDETs0C/Va4mnqExhQT6Utqq8FMcbtUnwiwon4ar3XJln484X8JqyJqDdx/QZZyNhVCr1RWTUTITlu9IxvXjPEZk4BWX+5+rv8DN1TtOpUcw5GgdjGbjnHfWE0qxElE+YIbOPJfqXjLqRB/ocp5zF+ZK5mb5QozEyF3NYzLfPfZYB5xg/VQ9T5qPY36bO78w3jFsclUlatF+dKiXjeZsDErzU1jdgjBzJGieu86jXueZ30qKNxt1huW7hjzaeFfQl+TPH1W/aZ02/xPylPqLwXdfat9uRk+WYkNNgDKUd1/pqrb8MfT5F55fzGtNX58BzDh3VHONnxGPs+l06D9b79CNOa0CfpDETPQLK97xJIOad7+mXal/5lMkctvSbtZB0Z7T9PNeW4uRn6DFr/Qb5rkTMueI7XpnD2/RrpbR4Rhyl0+aQWYvPc3RPsc+i44inSLXFneMd9ZdPJlOZwJe1SVsdT+3vc8xpEYcxY4biD9X5oQMp2RioT4hTboQlV+knoh7tv//7v5v/+Z//WROOsKSb55yS/ouwzL8i4pTqk/6OMzHjf3aYZp0immp3yTIsbSiv8UvOcYTL+kwdJS88xaOu0s/WHGKm6qjymiDWZb5Hp5YJXRDyaA4b19glIz5xwFE0Vf6cU14ST1P0XEpj7Jym+FOv9AWcD2rzCPXE2qNGzKc4M+X6ZUzDPhH1EYSJzvykOVRGsIG8VhOb8FyVXtuNPIQlFiEY//jLSoG2dPDyQFiFWIxhnEaQ4yhI0sq7N9vSmvIOgRI8shFrSppT4zKRcVwHHZHFV15EdqVPeOLh3UU6CHt909DCmLxZ5OYjv7rynuP9nO1zDn7mTAPjKO2b+qkpvWN+U9tnNpjFtPu2iRiHiUeCY94ZHcP1ucdQQr9HYMAo1QePPun2DUNdoHignyB8b+TiRTwyZj722GOLI+ZRvLGoGlMvpEdaLGrGEMp+PL05UmhI/lPbZ+QVxRRtgbGn5DgTw859T/sjb7VBftMmmI84nofFSclpoosP+guCGMqdjZjT5uzv9AfaA/2j73hVwwP8WCThPUsbzzuka/HmeE4/x/DMIpaxl8XVnIRiSnNW3vlYygclP7IOuOIo0ab0V/w52ifKYPhEyKddzkWMOygg2GnT12iovMdgobhTrnPgGfNnzOT4Odo3ypOsAIlhd8L9WBmWcQFHEvpGJPos65Uu562p8xH1pr6MgTyS5ob4rM99dCTu09drae6Uk1UTAAAgAElEQVRkeUl1MseatYbvkOeMn4x3tFP6O3Ls3PNKGz9T5jTkLOYfjdUoxJiHOFkMWZRxrEsGjLuR8vGsbXzX3tEv4AFZqSvvWhp6vtEyl/Kdcp1jPlqv+T2WizFISsc+O0xpY8hcyF46Gnxq/UZ++tzDM4p8yZ/onYboqvrksVFhmB9ZS4Ansjnz7EYT2FGn/E3FcSv21TnGz1KdgeWQ9Xs0kOf0xvQxxnHNszhxTyHW72N4GJsncy/OohguuFKWsfIaPDBmoA9gnmR+nEKs+6emMSV/6gFZBVwYN9B5DVl/j+3vc8xppXJPGTNWQedXKtOQZ6xRkNVYa4LxEFoVu8sQntvCzqmjasvH75qFA5bmhz56LjAbOqetB87MRWzk49OKrFuG6PkZa+gzzAVtzkSZ76Eygg3kGcFN/E1j4XuiCAE7nViQs+tsI4wXOx3rvuV3+/wCqants81g9kUu/e+ix1s8KqZ/Cg65nRCY2j63ExarUJa5+/sqlGmVeUCGijulpihl1rucKN+QdeizJiOwHRGYOh+1GcjH4IViUkoFPNpN4xDwmmAcbusVi3kPHQL1YloNBDZifsfAovGs65vGq4GKuTAC2xOBNgP5mBLHk5CmOPKNydtxjIARMAJGYDUR2Ep6rtVEsJ0rG8jb8fFbI2AEjMDsCMxpMMNLV8fKcCyiyQgYgdVCYM7+vlol23xu2K3DTnp2A8ir/rDDDlsqjPnMgckIGIGti8DcBvIjjzxyOT4M2R22dRE050bACGx1BNh1yEk/7FBj1x07sDm9QbvHMZKXPo+z1ctt/o3AVkFgTgM5fV2OL/mTg1sFD/NpBIyAETAC0xCwnmsafmNi20A+BjXHMQJGwAiMQIAjlFDOyqDN4odvx7HbkT++6YgyuI04VYFvxSiOvimkhRTfj+GYN5MRMAKbi8Ac/X1zS7DauXM8p8a90hXFsT4Zs9olMXdGwAiUEODI4HgaBLKTZB8+J8PnNrrohBNOWMaJaTFm4FTICTwmI2AEjMAqIxC/nVuSd/jGoskIGIGNR4BTcg466KA1ziqSU7jG7+DWuOOzYXznV/H03XL6OnIP3+7ue4xuLQ8/NwJGwAgYga2DgPVcm1NXNpBvDu7O1QgYgR2IAN8HKyk24rP8nc8ME99fiuFL92eddVaO5t9GwAhsMAJz9PcNZnlLZdc2FuKI5CMJt1R1mlkjsAYBjpCLuyNLsk7XN3fZdVmKF5+hlDYZASNgBFYZAQxwcdzSPYa0O+64Y5VZN29Ns9jxf/fddzdT/zgpybRaCFxxxRXFvqk+yrXrO6t8aimGL91jLDEZASNgBIzAzkDAeq7NqWcbyDcHd+dqBIzADkQAhe/u3bsbFlOlv5tvvrlh12kbofC94YYbivFJk91QPja0DUG/MwIbg8Ac/X1jON26uTz77LMN4+ZVV13V3H777YtveXeNoVu3tObcCOwsBFAOlGQlnl133XWL44a7ELn33nuraTBucJSpyQgYASOwyghgGOV749dee+1i7Hv44Yd7jX+rXKadxBtr85LRc+izZ555ZifBtiXKyieeqN+arHLfffd1luPdd99trrnmmmoat956a4P+x2QEjIARMAI7BwHruTa+rm0g33jMnaMRMAJGwAgYASNgBIyAETACRsAIGAEjYASMgBEwAtsUAT59xjH4U//eeOONbYqQi2UEjIARMAJGwAgYgc1FwAbyzcXfuRsBI2AEjIARMAJGwAgYASNgBIyAETACRsAIGAEjYASMgBEwAkbACBgBI2AEjMAGIWAD+QYB7WyMgBEwAkbACBgBI2AEjIARMAJGwAgYASNgBIyAETACRsAIGAEjYASMgBEwAkZgcxGwgXxz8XfuRsAIGAEjYASMgBEwAkbACBgBI2AEjIARMAJGwAgYASNgBIyAETACRsAIGAEjsEEI2EC+QUA7GyNgBIyAETACRsAIGAEjYASMgBEwAkbACBgBI2AEjIARMAJGwAgYASNgBIyAEdhcBGwg31z8nbsRMAJGwAgYASNgBIyAETACRsAIGAEjYASMgBEwAkbACBgBI2AEjIARMAJGwAhsEAI2kG8Q0M7GCBgBI2AEjIARMAJGwAgYASNgBIyAETACRsAIGAEjYASMgBEwAkbACBgBI2AENhcBG8g3F3/nbgSMgBEwAkbACBgBI2AEjIARMAJGwAgYASNgBIyAETACRsAIGAEjYASMgBEwAhuEgA3kGwS0szECRsAIGAEjsJUReOutt5pPPvlkKxfBvBsBI2AEjIARMAJGwAgYASNgBIyAETACRsAIGAEjYASMgBFobCB3IzACRsAIGIEti8Dnn3/ePPfcc83TTz+9+Pvzn/+8Zcuyyozvt99+zV577dV85StfacDcZASMgBEwAkbACBgBI2AEjIARMAJGwAgYASNgBIyAETACRmCrImAD+VatOfNtBIyAETACzTHHHLMw3GK81d8//vEPIzMzAsKW63vvvTdz6huT3L///e+Nyci5GAEjYASMgBEwAkbACBgBI2AEjIARMAJGwAgYASNgBIzASiNgA/lKV8/OZu79999v9t133+awww5r/vWvf+1sMLZZ6e++++7mRz/60aJ+v/SlLzVf/epXm+9+97vNz372s+aqq65qDjjggOb+++9f6VJv5fbJLuuzzz67OfPMMxd/119/fRXrJ598sjn33HOXYe+7775q2M14cdZZZy0N4zLifvDBB71Y+fDDD5sLLrhgWTbhceGFFzZ/+9vflmmwY/q6667bIxx574Qd6xiWhS1X2v5Wo08//bRhrDn66KObzz77bKuxb36NgBEwAkbACBgBI2AEjIARMAJGwAgYASNgBIyAETACRmBGBGwgnxFMJzUvAg8++ODSKMO3b01bHwGMjoceeuiyXqPRLd//8Ic/XOkCb+X2iXNCxvv222/fA+933nlnj3Bf+9rX9gi32Q/4LvbNN9+85LWvgfyOO+5Yxsl43HDDDcticYR7fq/fYLkTCGcAnFh+8pOfbNni4ohDvf3gBz/YsmUw40bACBgBI2AEjIARMAJGwAgYASNgBIyAETACRsAIGAEjMB0BG8inY+gU1gkBdhDLCPXKK6+sUy5OdqMQYKct3y9Wne69997NJZdc0vz6179e7OL99re/vXxHGI7OXmXayu3z+eefb77//e+vwfvAAw/cA+6f//zna8Lss88+ze7du/cItwoPaEdqW30N5DhsYCxVPNogv3ft2tW8+eaby2Kxg5zd5byL4ffff//m97///TKcb1YbAU6nUF0//vjjq82suTMCRsAIGAEjYASMgBEwAkbACBgBI2AEjIARMAJGwAgYgXVDwAbydYN2eyT89ttvN4899ljDDspodMJg1OeY2o8++qj5wx/+0Pz2t79d/L3xxhtN3+/AzmmAhNc//vGPDcdDv/DCCw3H7W4GgcczzzyzwOSf//znbCyAKwafVf72MsZEGafYhUobikS7wEirMBhw15PI791331207Ycffrj505/+tGwXPAfTNpqzffIJgb/85S/NE0880Qw9LQEcadMPPfRQQ/sS0Rbod0899VSxXZR2h//1r39V9MX1O9/5zrI+qJe4q3pNwP//MaW/kwRlef3115vf/e53C9651+cVcLD4+9//Xsp28WyMgZyI9EO1ucsvv7yavl7Ao8JzikCNNOZwRD3tC/77jJm19OLzMf0dZwDGctp57nsx7fW8V1tlrIpH2K9nnjFt2g/HrFN/7IY3GQEjYASMgBEwAkbACBgBI2AEjIARMAJGwAgYASNgBIzAzkTABvKdWe+tpcaIcPLJJy8NCTIGcWXX72WXXbYwMGBoqBmsbrnlluZb3/rW0pAU0/jyl7/clI5zhikMKBiSMKpfffXVy/i/+c1vFjs12a2pP8J0GboxTsFzzF/3++233yKfVjCapmG37XHHHdd885vfXKTzjW98ozn22GMXcTEYyuDClW9oZ+I7x6eddlpDuZW3rhxXfeWVV1YNVr/61a/2iEfdQBgPTzrppIY0lB5XHYGM4S/vyuY9fMRdr+edd96yDEqHnd7UA0QdY7DEqNX3D6NsNMJR30r7qKOOWqRb+oeBVuGOOOKIZRCcCuLu84MPPnj5jptf/vKXa8pAXdx6661rwsQfHMdNPSqveI3Pc/ueu31iYC21T/injC+99FJku6E9RxzY0R35pRxgnXd+k96jjz66Jq3XXnttWX6l+Ytf/GIZhvZFerHdkm6JxvZ3pcUR6XznPOYV60RtnPLWqGQgxwib8SFdMI/tU0dv059E8HT88cc3tFccEESvvvrqEjfuM9H2o6NHLAf3fPO85hwzpb/DxwMPPLCmfXAKw7PPPrvHWNzVP0iLcU/tIpYh9stcdv0+5JBDlv2RvOi/7MDnPqZFG8dRo4umjsEx/fh5AcYzkxEwAkbACBgBI2AEjIARMAJGwAgYASNgBIyAETACRsAI7DwEbCDfeXXeWmJ2sJaMItGoEe+joVUJP/3002uMIDF8vMeglQmDVAzTdc/3rEvE7mCMXTl+NtDwvm3X6IUXXrhHGjHNnN6RRx65hh12rNeMfjEdjO/ZGEpCV1xxxR75H3TQQQ2G1Zx3TI8dphjm47N4H7HHiBbf6V67YzGI6dmQ609/+tMlFnIuIP7LL7+8fF66ET9yBCBMNH6SBphG4nvlmbdTTjklBlne5+9Ok5YMsDmNaBglgbnaJ8ZX2krOr/T7/PPPX/J+11139YpTSgcjsHZjkyA7iRUOJwnuowEaZw+eRWeZkgPIlP6uguW+Sn2U+g1tvkaxjei0CwzkpX7CM+pARJ+irAcccIAeNRFrHGRE7MIWbtHIznt27ZfyU3hda98tn9LfyT9+h115tV0xyNeIsasUF4eDLhoyhzA2ZBxj+lPH4JgW9xjFVS5OtTAZASNgBIyAETACRsAIGAEjYASMgBEwAkbACBgBI2AEjMDOQ8AG8p1X59USv/fee2uMUhjU2MX9yCOPLIxF2YiFkQHjWKYXX3xxYYDAUEQcjDDsDMZYxU5fGScwgmVil6He97lGw1VMi13Zio+hjZ3eOn4awzGGqGjIYudlJnbFKg2uHPnN7k92aH/9619f8448cC6IR5xjCI55sKsSvAgDFuQZDccYnvLOUox4xMFYte+++67JE55IH6PtjTfe2Bx99NGL9+walyGUY+XjjkkMoOy8j8fcY0zEGK6yUi/s2BSVjM8K23bVcdwYvxSOI7u7CH4w9LGDWUR52D19+OGHL9IC70jgee+99zb33HNPU9oNrLDsCFedEC4awKkX6la8cgWrSHO1z9iX4Of6669flBesMFyzmzryod3wvAeHww47bPke4y5HeMc0iUt744h1nEiUVuyvOLfoOacF6J6d5ZBOgMCgKGP1RRddFOFY3E/p7yQQDZbwHI+2pw3wTLyBVY1KBnI+DSHeSYO2TDthDIikPkKbEMVvjZOvjLgyQpfGL8LIOEwd3XTTTYuTGGhbHMmvtgkvsX0rz6n9nfzBM37OgLxwOqEtgMdZZ521xLNUBvHCGMFuePoUf3Ii6GMgp2x5/KQeGKfoU9RBHENvu+02ZbvmmtMYOgavSez/f4CRxgCweeWVV0rB/MwIGAEjYASMgBEwAkbACBgBI2AEjIARMAJGwAgYASNgBLYxAjaQb+PKHVq0uKOV+48//niPJDBsYFTQXzS4xcAYoGRQis+5j0bIfIQ173mGMfvOO+9c5oPBlmfxD6NTifiWs/jDKFMzgMRvSBMuGo3jzlPe5Z3yfEv41FNPXeZTMjTF7zfHXcCRZzCKxs7TTz89vl5zr53VKht1lDEgvVgOEqAeKQPxMAxRtkzRuChjbAyD8wRODn3/3n///WV0dsaL55pDwzJwx42Me5SnRjqyHINxJgzi4iUeJx7DYQxUGMqbaWr75FvhSp9y1L45zrH2Cke9vfnmm0tWZKgnvtoAbTIa/nR0NfGUzt13371MA+OnntNu+CYzv/mEggzmGHtpTzLsnnPOOcv48WZKf4/HwePQUaKzzz57wRtG1RrFNoyTBWVV+eifGIdrFB131IfUZ5SGnGhwkuFZPuZfaWPkVp3oma5xVzZjaRuN7e+keeKJJy7LXhp7ogFdu+3beOEdn4mg3H0M5IR/++23lzyApdqj8sGhSNiWdtTPMQYrr3yN2FInJiNgBIyAETACRsAIGAEjYASMgBEwAkbACBgBI2AEjIAR2FkI2EC+s+q7WlqMazJWYBQrGa4VGQOqwsYduHqvKzth2W3JEbkYKzGCXHrppWt2uuYduorLNRqwa0buGF730djFztw20q5IyqNvbhM+OgJgqC8RhjTtss0GcgzKwogwhK0RRlgZNuMO1hw+GnVKxt8cPv6+6qqrlvywOzkSBlDtZMcA2cZrjNf3nu/HCwsM3FNoqoEcBwvxwo58jNAlRxDabpcBc2z7jI4VGHXbSIZheKYviWQgz8bK/fbbb1G+2B6pX5WZviGKR4XzjL5CONoCO8W5//GPf7wITnrxt9KI17H9PfY12jVG8lIb5Bvq8WSDmDf30UC+a9euZZk5NaHkFBLjRyxwsMGYTnnpu9pJfsIJJyyi6HfJqKs06f+7d+9u+MwAhmWO++cY+zg2cTpHG03p79FAXsIyjgdtmEb+phjI4+cWlCZ8adwrfSojtosxY7DyKV3jUfZgYTICRsAIGAEjYASMgBEwAkbACBgBI2AEjIARMAJGwAgYgZ2FgA3kO6u+q6WVQQijUJvhRwnwHedosNNzrhjK2F1JWl1/zzzzTIy65n6sAVIGLPLG4IwRsfYX+aNMoksuuWTJez72XGG46vu40SDJ82gUJq0u0tHh8BN3X8d4MpixQzrvEo/hSveUQUc/Y5SKR0xzBL5wuP322/eIjqGK49vZsd73D17lPBGP0OaI6yk01UBO3gceeOCyvCo3V3a5YhxmRz/GzZLhPPI+tn3KqYI8S8bLmAcOJOIx9suagVw7g6mvSDJEsltbFPnnGUZk5aXrs88+uwhO/+FZ6bvuU/s7O5jzbm3lT5ulvdOnMZDr0wEqQ7xGA7nic+VI+i5iF7/i8LmBiy++ePGb9qa+DI/Ul3bal04goM1g5FdabdfS99wjn1P6uwzkfG6hRHG8r50CkuNNMZDXnE10fD6OSpmmjsE5vfib/q26GepsFNPxvREwAkbACBgBI2AEjIARMAJGwAgYASNgBIyAETACRsAIbE0EbCDfmvU2O9d33XXX0mAQjWhDM+I452jswjDHd2M5Vh1jE4Y7GWoxUKyHgVy7aGUA6Xvl6GsRxkjF07PS9ZprrlmEywbya6+9dhm/ZHTOacVj5/Nx7gorg1nJmKQwbdfrrrtuyRPHRENx9zhG0JIB8oADDljGEyZ9rjqOmx3yCk/dTKE5DOQ4B8gwJ75KV9px/B525jsamIeccCBjddtx4cqLo7rFG4Z7UZeBPB9lrzxj344GZaUbcYltWkb97OAwV3+nzSsPlbd0xQGg5lQQyxPjUo/xdAiVNV7pB8KIXd76PALf7ebIdKXHbx03ryPXlQ58xc8lEIe+yljCqQ3sQJejAe/6GsjH9HcZyHEuKFH81MBGGMgzVuLpiCOOWGBbKuPUMVh5lK7xxAAcHkxGwAgYASNgBIyAETACRsAIGAEjYASMgBEwAkbACBgBI7CzELCBfGfVd7W0HLMrI5COVa4GbnkRDb0YOEq7r+O3lfsayNml2pdkSKY8GKcxzrT9Pfzww8vdzspDx02TRlvexx577AK3aEwkDfITnqXjhZWPruzMVvjXXntNj9dcVa6SMWlNwMqPTz/9dOmcgDGQY/Tj7vHaMcbsoMWQNeTvqKOOauLx+TI+UsZ33323wmH34z4Gchlau3aGsnOZzwWwM/b4449vwJfd5ZFXylyjaCBvayM5Pkd+q65LDgkxPMeNKyy7qEVzGMjpG6RNeUXs0lZ+OFSIxDMYRZqzv5Pu66+/3nD0+Mknn7zYNU474ih88cS1tHObuNFAftNNNzWPPPLIMh5G7dq33lUedluTvk6gABcZ42XIjbvDOYo9EsZz8YkjSOn79YRXGBvIm8WYAh6lMW3qGBzrJt/jFKB6YLwwGQEjYASMgBEwAkbACBgBI2AEjIARMAJGwAgYASNgBIzAzkLABvKdVd/V0mI8lcGAna38biOOY44GUIWVMavtW9ocza682gzk0cCFUb0vXX755cv077vvvr7R1oSLBhSMpiVDZjT0ZwM5RmCVkd2obUeixyOm2e1ao6kGctK94YYblnxxjLS+Pc61jccaT32fc3KA8OgyXJPmZ599VsT8/PPPX6Yj42XkgWdt+bAjm/q47LLLYrQ19+waVxqcdlCjse0zGlk5zruN4jHT1J1oDgO5+mFucxiS8855ncqQHQbm6O+MARgp4wkOKqeu8YSLbKRXmGggp09Bd99997Iu2b1d+3wBYTnpQvXONX4XG0eK+I773P5oUwqT8ROPnDSgMDaQtxvIp47Bwrx0jW0lt+lSeD8zAkbACBgBI2AEjIARMAJGwAgYASNgBIyAETACRsAIGIHthYAN5NurPieVBoOQjDe7du0qGkwxFGPY0S7bbCSXwYx0SjsoMYZhkFM+bQZyvn+scBxZXiKOZr7qqqvW7PKOhhUM1xhFa/T2228vjKXsTGZHdaT4rWqMquwQxTHg5ZdfXmAg3rhmAznpaEcq76+88sqY9PIePKPxOB9hvQzYNIsdzqRV2m0Zw7XdY9TTEdGRf3aSrydxFLfaDPlyjHWJwIMdwoTFaJqN9uwMFt+lY5svvfTS5fuSIT62jbaj79WO4aNGY9snThsqA3VRM9rG748T/tVXX12yMoeBnDog3TYnAGWoY/YPPvhgPVpchRPpjO3vnLBAfLCu7cTHYYIw/EXDdWQmGj1lIOe9yklcdsLXxgM+O6A8uMYd9NRRfFfq7+edd94yTOmb2+Cjo9tJywbydgM5dTd1DI7tI97zqQHVJ33JZASMgBEwAkbACBgBI2AEjIARMAJGwAgYASNgBIyAETACOwsBG8h3Vn23lvadd95ZY8Tke78YITny+6WXXmrYccruchkWuObjsjmuWu/ZdcrOS46JxigYDcEKg+EbI3fejQmjGKwVDiMeu205ghnjE0c7a/czYbLRLO7ShWcMwO+9996i/Bi5+X344Ycv0ycNjsyORF7RqCteSteSwQxjXwzLzlewoKwff/xxww70aDCjjNGwBy/wgGGeP76VS3oY3vVM19p3y2N5dK+dw+KtZIhW2DmvV1xxxRo8OFaencF8Hxr++Z57bF84UuSd+zhUiG/wuuOOOxp25fIc5wK944oxFyNzTOOpp55aE4Z2guFZhnh2T0c+MdDVaEr71DHe8Ek5MdbTLiF2H2M8jWWRgwV8crS3juQHA8pOe4Los8Tj+uKLLy6e8U/t+NRTT120KdoV94TlHe2o9J1uykj6tBHC0vb4jcEamqO/x53X5IGDRDS202ciXnn3P6ddUNZo4M79SA4FpI+DCeXNzj06cp4w/OXvystJQGkswf3/m2igx/EBxx3yePzxxxvyVx0ofdorWEbHnKn9nbbOuEMZyYdxiTYfnQLA9sYbb1y8Jwx44ygU6aOPPlrwrfGFq76vTpuLz0tYgv8999yzzIM6i+2LMRBsNP7RvhgP8yc5po7BsUzxPrYHjnI3GQEjYASMgBEwAkbACBgBI2AEjIARMAJGwAgYASNgBIzAzkLABvKdVd+dpcUIHXd4y5iTr4ThiOlMGNOzISjHjbtO9a5mpMiGQoXP11tuuWUNKxidZHzJYUu/MaZ+8skna9LgBw4AMgzleHxjXYaWkoGc+BjduvAgXRk6IwMYa3Oebb8xtvUhjFPwq7T4xvhGEMa7bAwVD/mKgfG5554rshV3leZ4pd/sOheBUSkMdVRq912YTmmfMmaX+InPMOLLgB+NsDGMjh3P2MgIHNvgf/3XfxUxIL1sFC6dNkA4nAigOfp7/CRCLBP1EfnmHe0277jPjhGE+/DDD1XlC+xie495xB3rzz///BKXUn/GmUdxcQzIhNNAPDVCYeMVB5BcJhyHoDn6e/yEQsyXsQqi7+f8FS7iGp2P9L7riiODqNSXiC8nEJxhSunh+JRp6hic0+P33nvvvcz/scceKwXxMyNgBIyAETACRsAIGAEjYASMgBEwAkbACBgBI2AEjIAR2MYI2EC+jSt3bNEwYhx77LFLA0I0ZGDI5TvQcYdnzocdiyUDC8ahO++8cxFcu6FJG4NN6UhipcsRySUDF0YOjmdml2GJMCpieK8Za3h++umnL3Yvl+LHZxwRzg5zdl4+/PDDS0PPKaecssCJstWI3Zn5+8bClLJjZI87PJUOu4JrBkrF15WyxB2aSqN0xUimdDHoyfhaCrsezziavGZIhC+Ots47SSMfnARQOo2ANoWRjm8KCxfwjUexUxd6RxutGQtxmMBg2ofGtk/S3r1797IuxJeuYPTEE0+sYQGngRLPfCIAiruoCae+EY3I//u//1vsE2BPO48UP7sgvriy8180tb/HndulcUP5nnzyyXucWAEP8bhswrIbORLtu5QuY1kcx3CQEbbnnHNOTGJxj6FW7zmFoUTgl0+mgCf654UXXrjYeR+PYufdueeeu0hqjv7Obm7hpSs8x+PcdRqA3nMFn7iTvTb+xzjxnvKprVEY+k98zz1jODvTIeaB/B4+2c1eoyljcEwTPpU3bYDx0GQEjIARMAJGwAgYASNgBIyAETACRsAIGAEjYASMgBEwAjsLARvId1Z9DyothgOMruwwfvTRRxe7S/saE9gtTFwM3xhtZBgZxEAKrOOeOe69ZFBOwdf8xBDGUceUBQNtNIytCTjwhwyIGJi6COw4Hpvj5jGyZ2NkV/y53sddpm2OCXPlV0sHgyQ7tNn9jxEbbPq2L5pT+d8AACAASURBVNKkPWAw5i8a92r56Tm7hnX8OO2Ub8rTNh566KFFWtrlqvB9r1PaJzue+T46O8TZ9V06zaAvH5sRbkp/x4BN2dlBDXFk+gsvvLA4oYJxB6eHof19MzCIedK3OWGDvq5yxfe+nw+BIWMwufK5AhnIOb3AZASMgBEwAkbACBgBI2AEjIARMAJGwAgYASNgBIyAETACOw8BG8h3Xp27xDMhEHcj833irUAcA63d4+zANxkBI2AEtioCY8bgffbZZ2kgj0fxb1UMzLcRMAJGwAgYASNgBIyAETACRsAIGAEjYASMgBEwAkbACAxHwAby4Zg5xg5EgN3wfG+ZY5DZfc6O53hsc9vRwKsEF8eBa/ckR8abjIARMAJbAYE5xmBOD9H4p++yb4Wym0cjYASMgBEwAkbACBgBI2AEjIARMAJGwAgYASNgBIyAEZgXARvI58XTqW1DBM4+++ylUUXGlXjlm74YzleRMIjDH8Z8/vQNZfjn+YknnriKbJsnI2AEjMASgbnG4KOOOmoxlnOKhnePL+H1jREwAkbACBgBI2AEjIARMAJGwAgYASNgBIyAETACRmDHIWAD+Y6rchd4KAIXXXRR1UB+/vnnNxxbvqq0//77V3mXkX+rfd95VbE2X0bACKwPAnOMwZ9//vlyLHzuuefWh1GnagSMgBEwAkbACBgBI2AEjIARMAJGwAgYASNgBIyAETACWwIBG8i3RDWZyc1EAMPKgw8+2Nx4443N1Vdf3dxzzz0Nx/3yfNXp+eefb6688srmiiuuKP49/PDDq14E82cEjMAOR2CuMZgTNd54440djqaLbwSMgBEwAkbACBgBI2AEjIARMAJGwAgYASNgBIyAETACNpC7DRgBI2AEjIARMAJGwAgYASNgBIyAETACRsAIGAEjYASMgBEwAkbACBgBI2AEjMCOQMAG8h1RzS6kETACRsAIGAEjYASMgBEwAkbACBgBI2AEjIARMAJGwAgYASNgBIyAETACRsAI2EDuNmAEjIARMAJGwAgYASNgBIyAETACRsAIGAEjYASMgBEwAkbACBgBI2AEjIARMAI7AgEbyHdENbuQRsAIGAEjYASMgBEwAkbACBgBI2AEjIARMAJGwAgYASNgBIyAETACRsAIGAEjYAO524ARMAJGwAgYASNgBIyAETACRsAIGAEjYASMgBEwAkbACBgBI2AEjIARMAJGwAjsCARsIN8R1exCGgEjYASMgBEwAkbACBgBI2AEjIARMAJGwAgYASNgBIyAETACRsAIGAEjYASMgA3kbgNGwAgYASNgBIyAETACRsAIGAEjYASMgBEwAkbACBgBI2AEjIARMAJGwAgYASOwIxCwgXxHVLMLaQSMgBEwAkbACBgBI2AEjIARMAJGwAgYASNgBIyAETACRsAIGAEjYASMgBEwAjaQuw1sWQQuvfTS5utf/3rz3HPPbdkymHEjYASMgBEwAkbACBgBI2AEjIARMAJGwAgYASNgBIyAETACRsAIGAEjYAQ2DgEbyDcO6y2b07///e+V4/1Pf/pTs9deey3+fvnLX/bmb46yzJFGb4YrAVeBhwprfmwEjIARMAJGwAgYASNgBLY9AttFHp+7HP/617+2fd2rgJ999tnCWfvpp59u4t/rr7+uIL4agSICY/rdmDjFzCc+XBU+JhbD0Y3AtkfAffWLKp4DiznS+IIj3xkBI2AEjMCqIGAD+arURODj73//e3Pvvfc2P/rRj5pvfOMbzTe/+c3wtn7717/+tTnzzDObU089tfPvt7/9bT2hpmkeeOCB5rjjjlvkjSH6y1/+cnPggQc2Dz74YGs8XrKjG967+CDMG2+80ZleKcAPfvCDpYH8/fffLwVZPPvggw+a8847rznggAMWZaAs3/rWt5pdu3Y1H330UTVefPHnP/95EZ7d6jLKk8YFF1zQfPLJJzHoHvcffvhhc/HFF7dicckllzRtZVCi8HHUUUc1X/va1xZ8wMNJJ53UvPLKKwriqxEwAkbACBgBI2AEjIAR2HYIfP75583vfve7hfz9ne98ZyHX/+Uvf9nwcj711FMN65CvfOUrzZe+9KXm0EMPbW6++eZBfLz00kvNNddc0xxyyCGLctx+++2D4k8NDJY4GB9xxBHNV7/61cW6gvXF97///Yb1xlDCGHzVVVc1xxxzzOJ0L9ZLYMNab7sTmGl9GK+U37S5CIzVqawH1xhVfv3rXzc/+clPmu9+97uL/kF7YRzpWstP0cuUyvLCCy8s8qfvH3vssaUgezxDV/Gzn/2s+fa3v73kHd3I8ccf37z11lt7hPcDI2AENg8BHLc4bXO//fZbzE/olJmPX3vttQ1hCvnitNNOq+pATz/99ObFF1/sxcs777zT3HrrrYuxijHrlFNO6RUvBrrtttuaww47bDF2Meai53788cdjkNb7559/fiEvSQ+Lbnz//fdv7rzzztZ4fmkEjIARMAJbBwEbyFeorjAWM9HGxbXuUWR0EYoJhe+6IhSUCCP7kUce2ZpOl1CC8NGVv94PVSjB85tvvrlMv03xcscddyyN4sovXhGO/vCHP5RgWD6Dvxgn3yMk/e1vf1uGzzcshHOc0m+UZG30m9/8ppoOCpgnnniiLfqs7xBSL7zwwoUzBg4Z/OEEgBLCZASMgBEwAkbACOxcBFC+nXPOOWtkhCuuuKL59NNPtzUoyOnI4ZKL+l7vv//+NbighDv77LMHpXPuuefu4XDKSUtZVoMn0n7sscfW5LnqP9iNzLoFeTfL0A8//PCGso+DceZBv8G7i2gjrD8UR1f6zEYRbQwnW+VduqKM7kusUUp1Q7oYzLc7YfAsYcgz0+YgMFWnMjfXOMy36UcwWJdoDr1MKd199913TZsthYnPnn322eK4pXZP/8dxyGQEjMDmI4A8WhtvMDCv9+kmONNobGi7Hn744a1gPfLII8vNWjEdHCSHEI49MX6877P567LLLqvGJ62DDz646aOrH8KzwxoBI2AEjMDGI2AD+cZjXs0Rz7Y4Ycf7PpMunnjEYZGCd2/pT2miTCvR0UcfveSBdDB8spsdA25UfrQpTqR0QQAr8YAHo/hA8BlKP/7xj5fxazvQ2f2gPLhqdwcGa3ZL6B28/POf/6yyEMt80EEHNdddd11zyy23rBHWSK9G0UAOHqW/ffbZp9VQjwE+8nHyySc3u3fvbs4666xlOShPDYsab2Ofn3/++WvyFZZZyTs2fcczAkbACBiB/yDAKSUYtVic45xkMgKrjgDyouSCeEWW3M7E0cqxvH3vMZZGQtHWN24Mx6lGkX74wx9W00Gm5ISlrULRMZYyR5l4Iw3kOH8Ic3hADkfxGk+Y6nL81e4j0mEHktLbSAN5zJdTyn7+85839913X3PGGWcs+YEvnCzaiB2x2TjMbmr6Og7IbQ7EbeluxXes0+lTGAbYtad63Ypl2Q48T9WpzIkBfSH2e8YLxg3mDE7AaNPxzKGXyWVBh6D2qWsOk39HY9vee++90A+xczLqVNBx/OMf/8hR/dsIGIENRoDNTOrb7CBnjj/hhBOWzxiP2sadqewy9yt/5I2S/hMdLGNRG9Xk2CEG8rvuumvJC+VmPY0ePMqRbbLOQw89tIxPWZDx2PnOqR7woXIiC5mMgBEwAkZgayNgA/kK1R+7a+6+++6GiZjduJdffvly0u0jxGC8ZZK+4YYbiqV6++23l+nhCVwiKeYQILLBFWFAQgDva6Qd6LXd2RJUEEz6lCvmgwe2BJq2I8GeeeaZJa8//elPYxKL+3gcXptwxk4PBJ58dNjHH3+8ZrFbO2o9Gsj3YKLnA3b7CPcrr7xyTawotHXt7F8TccKPaJjHKYN2yjFKbY4GE7JzVCNgBIzAjkUgzmXMAygL2hbyOxYoF3xlEHj33XcXO6mRDfgsjOQX5NvtTMiB9E9OgpKcyhXlZOlPRlXCRJLCDcN5jCccUdDF58orn6jEyUI4dhIW5aTi64rCdCsRDrXI1DgKxXFxIw3kUf791a9+tYSPNYKMzl2fxfrjH/+4UAprHFd9bKSBXHmyeyuvX5Dn9R6FehtxUpfC0sbGHM3elv5WfRedhLZqGbY631N1KnOVHz1H3BjAGDKE5tDLxPwwYOsECz6dp/4bw5TuMQYxHjD2ZopG/I0cjzMf/m0EjEDToCtVv2ajUjy9KcowyFPrRdFAzmdxxhInaODshDMRYykyLWUbYiBnIxJxkJXjpywY04RTlp8jv9JrE5ZP40TiGHttDOP9UL12TMv3RsAIGAEjsPkI2EC++XVQ5WCogZyEmKhrxBGXTN4oMWqEEMJ3sVDglEgLNdJpO1K7jQ+lwff7hlI84qbtuzUsABGiMC6XCAcBysAfO9LHEEcpKo2aM8AcBnItYBHsSrjqPbxsxG6NKFy//PLLY6BzHCNgBIyAEeiBAEcL5x16jPWcivLkk0/2SMFBjMDmIRANaNvdQB5R1ueSuNbonnvuWciQ2UCOQrMkm2J45XmWnZHZeX7SSSfVslqcQkEY7eLhHqPNVqXNMJCj+JQRHMwz4cAKrvyhzO1LirORBvJdu3Ytdn6Wdnsy58jpgrZYI9YjcrwgPLv8Tf9BYKqBnDpgZzFOLtlBuw/GGEhYI2Os/P3vf79cr1PfWcFfSo+TAXB0eu655xZp4MwhIwvPswN9KY1VezZGpzJHGW688cbluDDUOE7+c+llVBat4dkFzol4Gn/0fsyV7/gqHdr+TiI2n9BPcOBi3H/vvfcGF5++hR6JT5+8+uqra4xsbMjoQx999FGDIZI/nMjow6LsBKXnG3VlvKCNlOabzMOq4Jn52kq/r7322mV/5JMwkZBjNL+jJ10vmstAnvkbaiBHn62xKZ+yRNqspXkPJrV+IocinE1LdPXVVy/zqOnPS/H8zAgYASNgBFYPARvIV69OlhzNvZiTcm3KETBx5zVHDQ4lPAElqHCc3xBih7KUUxjZp1A8gj0rG/umSzyVpbaAmcNALgVUTVEVjSdZEO5bliHhtLim7H0N5Cx4WBwN+ctOB3OkgZJnCA+Ejd9pYmGBc8XQNFi4inAsYQE7JA2+6xa9UufAYo40jKdqtWmM5+dLMObAYo40tkv7BFjmznwkHGMwnvF8/xWFuskIrBoCNpDXDeQcQ00fRjEXSbsNzzvvvPh4+WmfLLN2OZ1Gwy4KwuhoOnRnD3I/axN2GY8xBKwp0IQfUw3kYAL+jKkYIaMxocYWMptkfhyOM8V1BZ/F6EtKc6yBHCxoK6w35jrJSWutNofqqBTm3vQFAmMN5HwLFcOl2oSujBH08y7jNm35gAMO2CM+6XDym9Jj51yNOD5WY5DC6xqftznJx7RXZcyYW6cSy1i7RzegvsS1piuoxe/zfIheJo5RtBU+l6e67ZNXLQxtRulg5N3uhHMQGzCkn1HZdaUP105qjNjgwBJ3nyo+/R2HNx1fzycbSoTcz0kwJT54xkYOnVQT9UO/+MUvlkZS8swnLUb9Fu/hp3Q6CKeoqH2Ldz4DCKE7oQxx3CFMSQe5mXjedNNNa7BQeY877rgl5Bj4haPKybVt1zGRcVTCQQaZq4TfMoOZb+SgSb1F3ZGyiWNGH6cFxRtyXRUD+UUXXbQcm3BkyXT99dcv39c+Fak+WjOQc9qo2gUOZCYjYASMgBHYugjYQL7CdTfnYg4Pck3eQ3Y2RHgQoiQIc+2jUIrxuZcQgdBW2g2dw8ff8dg/FFVTiG9/CQ+Oph9Kzz///DI+O7hrFA3kjz76aMP3u1l4cBw6QnM0vtbSkEKipqjSt+cpT9e3D2t5DHk+1EBOO6G+hfeQq9rqHGm88MILo3iICwwWokP4V9jopasFr971vWoBOwcWc6RhPL/YJWY8v1CwzIHFHGlsl/aZx2bm4ZJCDOUNn1eZy0CS8/VvIzAGARvI1xrIUbChbINwAmT+z58skkIZpWokOblmA/n3vve9RTocA1kinFElZ3C8ZHRUjUrgUtz4LBpTlF7bSU4x7tz3UwzkKIyzsptPAXTR7bffvsSxZvzQGgkFdF8SlmMM5Pn7nOx0KinE+/JCuIhtrU0RTu2RMrOeY97GCLARJ1kNKc9mhB1qIGfnWjzGVW2idGUdWSIclvNaS+vHnE7t8wpxvCYOdavxKKeBjNVFqzRmzKlT6Sq33uO8KNzQf0A4TOO8ObWfktZQvYycqViHQrF+Fg9G/GO3sk49GaPbGZHlpkdhPa56bbvWTlqg7o8//vheaZA+33/PhBOxPsfSxoPeqf2RzmmnnbYmb47Ij1Tq86UTgHQypfLgir4DR588FsUwGZfNxDPqtCKPzG+i6FgSw+CgXCNOAIlhuUePuRGk+qttJopG4fUy3EcDOXpW9K44TNDuaYs1GaoLn6E7yE888cRFPdAekVEyxboFlxLFNpJlXk5/kCwU20wpHT8zAkbACBiB1UfABvIVrqM5F3Mcp4dwhvKkJCD0gSHuVB6jyCEPeeG1fT+8xAteshL42gTSUtz8jEWFBHeufZU5hGOXBAsVCb3Exwu7RtFArjj52iUwR09PHB0isciKCpDS8UEx/Bz3UVDsu4NcdZfL3vU7HlU0NQ0Uw135ld7TZ7Q7MyoTSmFrz4455pgl9FmhWYuTn2P8Ek3FgnSmpmE891rzKQrj6fapPjt3f1e/j1fG/jvvvHOpmFTeKLTZbdJ3d1dM0/dGYG4EosGlpGCdO79VSU87ePIR6+qnOLIgV2C8zrtCdZxjnPMpl5Rw2UCO0pF047gTcZABPX6zMX4b/oMPPojBq/fKX2XgSt6bQdGIO/SbtzW5vOso62gMyAp+YSCMajuNFC5ehefQdVV0dFAaXJkXxhLzStzBXMOWdaTyZE2Eo66cA3iOQy/y8k6loQZy9WGwY12Joh4HauoDYyonHQhvriVs9akF3nM6gpzQGWdwyNa6l/elY7CRGRSG+osGcAyxUQdAGvmUr1Jdqz8QXn+bNWbMqVMplbX0LDrj48AuQ7KwOPzwwxcOS6W4fZ7FOukaP3RiCXljvIPimrZPfgpDuyRubLekW3O8ULztcmVuprz0E3DneHX6D32WHdSqX9b7JbrkkkuWYQjLnI6sxC5v2mluJ3kjBuNvPimCMYI65nQI9DSSI8RLdLiDV3jWujU7dGE05BMwzCWKj4NYJhx72MiAHLPvvvsuwyoO4wkGUcYffaeeskmnovQ2E0/GNua5OH9RF1k3iP6NelLZWGe1yU7sLldYXXHM2whSfmBfoui4E08WKIUd+ywayMVPvtJXhp6qMdRAfsghhyzqobbJiDoUXzUdKnOh5kbaCacOYCinr+n75qQR+9hY3BzPCBgBI2AENhcBG8g3F//W3OdazLGQkeCHoXwMRWGKtMYo3+OOPgTvIYRiVQIMvIwlPP2ix23pmMRa2nyrXDzoGg24pXhx5w5xEI5RTMpRQOm0Gclj2YknJR71yk50pcG1JtyVeBv7bIyBHF5R5g35Y9ESaY40SHMID4SVkkm8IEwPTSM7pXA06ZA03n//fWW/uM6BxRxpGM8vqsV4zouF8fwCz647FBzaGaT5gHl6M49A7uLZ73cGAjvdQK7+mK/xsyu5JaBYxfExG85lbMoGcgy+KP9KcmRUUsbdMYwZ4qlkLMs88TsaThW3z87rUlpTn00xkGe5XGXJeGce4xogy6cKK8cIDA99Sfl3GbhyelGxqzS4ltpBjlv7HU+kQrFcI9YhMc/afdcRtLX0t/rzIQbyhx56aIkl87bWeBkDPocgnFHW52++S4Gv3cE5PkZRxgnSKDlRxDU6RzCXiLW7eGAN00WrNGbMpVPpKnN8f8IJJyzxEm75Sp3jBDGUhuhl0H3IGBr1QGMN5NHYrvLwPfOdRNmAqrKz3le712kxesc19jOwK52IiOE5OrxkAzljvHBHr1Ry2OJb5tFIXjLeybiXDeTiF+Ol8ikZyBWOKw56CsuVEzHyPMm6LutDlMZm4gkPV1555ZJ/js/PBN+SwehLlKWNzjjjjGV6woW+vt6Eflb5lY6zJ//4uZjdu3evC0vUvfjgStmZm2K75nnbKTUlxoYayOVswrVE1Kv4ZLyuEfpeyqCw+ZodWmvp+LkRMAJGwAisNgI2kK9w/cy1mIvKIL5lPJT4ZksUBNp2TLelLU9nFvEs1oaQBBwWAjXhuis9PFajAI9BIXuxtqWBlyweu1FAoixR6Zjjs1sdhRmGa+4jIZQKV9KpKUWIk40fLL4iH0qntKsg5jnH/RgD+Rz5Og0jYASMgBHYEwEUNSi8pSDXfFD63tqesf3ECKwfAjaQf7FzUv2Sa5uBvFYbUs5mA3ktPM8xdCnfuNsJORp5mncY4/uQdnkpPa76DE6f+HOGmWIgZ7yMhgPKkQ0QJV7jbsmaclzKW9LvS8JzqIGc9LUrT2kwB2SjRF8+WMsoHfhvc7CKCnbFYfco9YLxJs5FfF5qp9EQA/mpp566xB1nlzbCcCO88ye1tE5mbYghu2Rw4pu4t912W/FTLIxJSpvdoBjkS7v7MOZiIO1DqzRmzKVT6VNuhcnGIMYZdqvSJw499NAl3pw4MUS3MVQvw25X6pZ+GR2uxxrIGRswbMnornaDQwzG3Z1CjIOMd/RL5gecqDg+WvUO3pn4Lrjw4lTCGjGOa87PTi9Kn3Ta5HyMehqLS7v718tAPvaUiM3Ckzqg3UqvlvsJ7+PJM4yhXcQ4qXrWteSk0JXO0Pc4Lim/mkyB3KYw7O5fL8LxglMU8mkjtFk5a8FH3/kEPiVjxROR2viXnNsWXljUTmEi/SeffHLZPhQ+Xqc4Jrbx73dGwAgYASOwsQjYQL6xeA/Kba7FnL5rhsJjyAIMZjlSSMI1gsBYAQBlkgTP/K2jLlBYSEoIyQqBrrh6T7nj0dYITFFZqHB9rpTl2muvXYMLQv0YigulNkM7HqFZESZM4jFbG6GsHGMgZ6c+O41oi33/+G5QPKlgahooelBE9c1f4S666KJl1bLgQTmtd32vUenFQoC67BuXcAjteJ2LpmJBOlPTMJ5un2rDbp9rx7W5+7v6fb6i0GFOzkpK5rfIQ47n30ZgoxDYSAM5c5rkoj5XZNv1Mt5pJzGKbGRG/YmvkuGpq06kLB9iINdpRYwRjAnxT4pGeMIY1odQbJ555pmLoyT5zMpm0RQDOTxjDGQ9wRGfyGT5pKBSuaK8Xts9q52Dtd1KpXTVJmrK7FIcPaNd3X///YvTpFB0R+OXwvS5goX44Nr1fdDYrwnPLuhIOFIrvSHHzcc0uu5Xqb9nXocYyNVHwYv6bCMMDcI1787H+KJ38co4h0zAmMQuyVrbJV8MuDGu7lm/M/5wnD7O3UPGr1UZM+bSqbTVT34n4ww44nQQnfLRS8T1+2OPPZajF38P1ctEg1n8DjWJZwN5XHMXMy885JjhjfjU2yr1dzaeaD5WH6ldM2Qcq6+wXXoodoZT7nzCgPRy8NBF6IUwxJfyWg8DOXPgUF3jZuMpDHEiUN2cf/75erwoj+qbPh378TJQ4YYj9/nMAhuENkI/BwvwpjIg35SIPqswYL8ZFE8xqp1gUOJLcmubwTvGkzNJzRGUdbSwqO24f/DBB5dhmAtpJ8g4OKZL5iMNZGOTETACRsAIbG0EbCBf4fqbYzGHt7gm/ryY7ip6XoTBz1iKwtjQI9K1YMfA30eJlXlEWIzGcRSFeTd3jtPnNx6kwnaIwjKmHY8pxHjbRXgwslhC6MUz/7XXXmv4nrv4KO0Y6Epz6PuhBnIWSuJv6FXfP5wjjXg84VA+dOKBvPCHxo+CfFSIDElHytM5sJgjDeO512InCP3HeO61+A7fXFgYzy/wLI3PGEEuvvjipdOZxhEW6syvfZU3pbT9zAjMiUA0pK33N8jj8dDqE13XPjuBxuAhAznXSBhO47cQMdT2lWuloO0rb0ZjWhcOxx13XGRz5e+nGsjHFBADtHDMBgulJ2cldof2JaUpGa9vvLnCZeN4n2+Sxh3kpWOE4U3fpMWYsx60Sv09l2+IgVzGLgwvXRSPrcVY/X/s3XezPVlVP2DfoG/A/9QqS62yCKVlSSkUAgpjYEgSRQlKkixBCcKQZ4YsyOCoBNERGHIWvb/63Pqt45qm++S+d9/vfbrqVp97zul9dj97ddqrQx+y35QrWKu8iqu5cY7J54b0GdQzW+emq/eSJJi7rfNcmaO8d44+lUPnpZIzcZvr++gXAEyT13O/dUy/TL8zRE7Ozvaj/ipBmvrVsekx/SOJhYqNvn2bm4dj3xtlee/9WZnnzG+e9Zy+kSTYsvz0ZXA6v3UywbHrxfTzlPX0yvLpb+36v9p/KUGZE2Hqt/a9xXoSmIcM1+3Z65q+nvQ1Zp7TPnWnn3e96117O/Tyrut1zcPSI3B6/+XnPve566rm5uTupeT1XMUOTZDXnUOzzZob8qiSivGldXCVkZiYnhiak9oqSZ7Pd53kNlcH7xEgQIDAOAIS5OO0xc/U5BwHc/3A6JBbo+dMx2zoa6chnfGnDNn5rh3OQ26/lYPBqkMSw4cO2VGpHZuUkwOZcx3U9+f89AToIXVM/Wr+HvOYxxwy6eV3c5uzaqd0zF3FcGiCPHVKYjkHcof85YCzDk7OUUY6lvJ8oUPqkO/2s4jzjMrE8qFl9Of9pZPk0OlzkNNvUcXz7zehzvP/znIXn/+3zriTlvcK9my7cqJbbTNqnA6DfZIaVY4xgasSuMoEea7UqWVi3/Fay81Sgjz7fHXCXZ4Rmnruu/94aII8z5oth0w795dOw/rO3BVmVxUnh/7OdSTI++Oq0mE+HfoxwSG3mC3/60iQ5w4k9fsZT68En85j/d8TYnkE1NzQT0zedtXy3LT7vDfS8j6t7yEJ8kpSxX/XyW25ZXK119KJMjnhJkmnPAM3bZCTX3LCRiVNMn2W+yTUl4asC3J18VOf+tTL5F+Oo3Oyeh1vpowcIeRo8QAAIABJREFUx9yk4Rx9KofOb45jq73m7srQkzNLV3vWbx7bL7N0Z4Gq13R87In2PY73Pemr5m2f8SjLez3KIG5ZRuaWo34y/XTe+q31j7liP79Xy+EhdyqZ1iP/V5stJVL7Nm2tBPl1e05d+jYxdxCMd+17JZG7ax09Le86/i/TpcRz78d7+OGHr6OKl79ZJ9EtJa/nKnZogrwe75nldW4/pF8dnuOV6ZB99lrelra573jHOzbr+X3vxjT9Hf8TIECAwBgCEuRjtMNsLc5xMJeOt+wUZOdj35266UFYbsl2ytB3sJfOUl0qvyfWDz2QyE5NTR+DnJ2/7TnfS3VYej8HgCk3f8feQjC3za4yeiJ26Ten76fzoqbvSdjp9875f9+x/tKXvnTOopVFgAABAhOBL37xi4840avW+dm+9RNnJpNt/Tf7A+k4TQdK9g+S0MntAA8Z0rGShH2mz/b1uc997t5Xw9bv5ParmY90QKSz5M1vfnN9tPc4VyZXQjKd9rnTyqHDqWXwnBe/ygR5apB22PdvrmN7fi4Of7ficXoFeS8pt8bOspzY32eoTtqlTrpeRvZ/s1ym/CTKl4ae9E1Sb9twjuV9W/mHfHZqgvyY5T1XVta6N4mv6ZCT9erzQx4HVdMckyA/Zf3Zn0+fGDzkZJHEV9U7V0/NDVkX13fy/TWGfZf1fG/N5X06b4ckyLPtLad01m8bXvjCF26+m7uI9SGPpcq6Yekk9BjUOiS/9+Uvf7lPfvns+vQZbHtObj8xIgn3XcNI64xT+lRid8z+Ui4uqLadu2r/wQcf3Hy+7UKEU/plMm32rdK2079cNFD1y2eH3mmwt3+/Wn6NBHl+67qX997vs207nJNSyrUb5XX6euqzfbYTWcdP+7/S51Rl5Phg25B1b2Jgbh1c5Sz1YWW6+p01EuSjeHa/1KmWi2wX+x1WDrkL0rHrjF6XY1/3bcrccV1tBzKf+2wXj9lf2lX3+NQ+6rb95Gk5hybI0zdaMZwTWqZDP+l8enV4vtvvopATzuaGnFi47TfmpvEeAQIECIwpIEE+Zrtc1uqUg7kUkIPf2mDvc/vuTJMd8ewQ1nRzzxzPs1ee8pSn7N0R/oY3vGFT3txVF0tNkNuHVz2SlD1kyA5fDl5q+uwMTs8czNU7+c7SFRPxS4fXj3/849mfzq14qvxjOrZSaK68qDIOfQ5QOkdq2qUOqtmKn/imBPmJgCYnQIDAngLp3Kj1fI1zpVG2X6cM/Yz3Knfp4H/pd1KPmrbGh9yyOtvpJOhr2hrPdegs1aFfgVXT524q+3T6VJnnKINnaT5yfNUJ8kf++vX9t0+C/D3vec9l7K+RIO/J2uzXLw3ppKzO4KWrjWraU5f3Kucc41MS5Kcs73X1X9psekxR+/P5LHcw2Xeo9dahxxGnrD/77eJT3yRC+pAkQU7A3XbSRD/Gmp6olatQU27mLcdft204JEHeT1LJsrj0HPnpIxOm+wAVR0mOZLmeG5797GdvtrfT9cK+ybC66i/tu2sYaZ1xSp/Ksdv3JFyqXeauuM8yX5+/+93vnuVco1+mfmj6DPJ6fzpOTCZJNl3n1fdydXzNRxLtd+qQu7/UfC5dvd37vPLd6dCtsgxNl+P6fh7jUQns6eMUev9Tlsel7U3WLbV9z3PIp0N/RF/uSNiHbF/qEYeZjzUS5KN49vnO6759rPbOduyQ44pj1xnTuhzzf9YZVe+s8/vQ1/PbTsqpaU7ZX6oy5sb9jhB5NMi+w6EJ8sRY7YtkeerbxtwpZZ8kfT06JyeCZ99oOvSr1Kf7QtPv+p8AAQIExhaQIB+ofbLRzU5NzuLPX789XZ7FnPeyY7PvVdC5mqt2kPK8uF1DdrD7LdiyQ5Cz1ftfPxt639vI1A5+6pIz8fYdktSv+h96C6AcCNS0GefZVX0+8rp2/PPcrbmhdoiy85SOonQ4ptMnB7w9SZzy53aIslOZZ/Pl4CWdJenQy5n92cHOgU91tGX6JLjnzu6dq1duo5wTFPr8fepTn5r76irv9Xl3BfkqxAolQIDApUB1sGY7lI6OpQ7KQ7n6o0f6tuSQcvr+QpWxdLvduXL7SXw1fcaHPE5lriMrZczdznSuDnnvHGXwnNe9bQnynNyRxxnVFToZ1z79dPy85z3vcj9uKdGUfcJ+TFAd3dlnrbLyee+0TedfbsNcz5PNspDvZp+zdwymtbI/m/34dL7X8perpZbWMacu7/MRsv+7ma8cy2R++tXPSXzlvbjvupouv3bK8n7PPfdsrHISRI5Nsl/fj7eSoNw25Crc3OWi2rDscyeNvJd5zN2l6lb8S2Udu/7snef57STupsdHuRq56tXjq9cl+//1nRwv1XFQTOoEkXx+yPq8l3+TXic2qz0z7lfw9ffzOt+dDv1kg2zrk4yqW10nXnoyIaZzd3artsg4x91p5zquzBWoOYatREHG0yvNcxzZy8g8JHlX7Z++h7RlfSfH0LuG61xnnLNP5ZTte7+a+DnPec7lcp11cU9Op82nVwnHdq1+mSyjicW77757055Zfy71tfT+qDzHPNuJbOu+/vWvX65PU/+Ki7kLK3bFyU36vLbtmd8st7kTTNZ9b3vb2y77e8qhxlmfT7dLvR8l38tylWdBZ1lPO+RxcDV9xtMr+xM/daJKPs++QX4/2/kss9lOVR9XlTN3AkY/aSS3W09M5OKU9Dn2vruU8cxnPvNn1l2JgVq/1R0EcuJAvVfjPC5xaRjBc1q3rDerD3Cb33S6/v8p64xezrGv0/9Ydc/JLYmZxEftR+az9FPuGo7ZX8o249d+7dcu+0Czzrvvvvs2J35l/zKP/6i6ZVu0rV87SexsmyqW6vbxSVbXe9nWffe7312clfQB1+9lnZe+6JwQ0vth526vXgX2q8yz/qvfynz2i5WyvZvuZ1cZxgQIECBwMwQkyAdqp77DUBvyuXF2Jpauaq7ZyUa7doJy4LLPBrtv5Od+d/reth3eqke/Cvyxj31svb1znB2X+r1dnU1zhc0dlFd50/H0zNwqb3qAMp2u/s8V9XNDDpjqO9vGac9tieYcNOXgNB1O2SHsZeX/3KLtKod+YLet3ldZJ79FgACBO1Ug2/vqpD7XPE6vcsl2JduYQ4Z+9Ultl/a5IqF+I/sltZ9S02ecDsJ9h7kkUbapc53NS2Weowye87q3KUE+TTz2mN72OvE6N/TO623TpzO7hn470Ok0PXGR5NH08/o/He9zw6nL+1yZ+77Xr7Ktei6Np1dDT3/jlOU966yezJzWIVfhT6/E67+fhNd0mqX/t93qOmUeu/5MB+/Sb07fX4rNmqck1vs0+X7/P8mPStLWNHfa+JDYLJuc6NyHbK/6SQX1vblxjonn9gfmvpv35o6HX/WqV/Wfv3zd78rQy0qb9gRofZbv7xquc51xzj6VU7bvSSJOk21lWOOlq3PX6JdJm83FROqS/bG5IcnXquu28dxV8nPl3eT3kmjeZpDPctHD9Ds9SZ7t72Me85if+c50mvyfZWjuCvHEVU8uz01b7+WK87nhe9/73uyyXdNN1+d5v25DnaRmfW+f8dL6YhTPqU/fl0qyeW6dO52m/3/KOqOXc+zr9B3OtV+11atf/eq9ij5mfynb/LltRv12H+dK+23D3LLUp6/X207Yyh0w+gkDNU2Nc3Litv2ULH/TdXjWlVPfQ45dt82zzwgQIEDg+gQkyK/P/md+ue+M1UZ7bpyN/LYNeQquq84yfa423mfIAfu+OzQ5uJqefT73G30H8ZBn9/SrMY5Jwk6vsJ5zrPeWEtxJSqQeSwcgSU7PPVOsO+TMy7kEQP12dsqWrtapcuY649JOSeDPHTTVdGuNJcjXklUuAQIErkYg2+/+jNhcPXLIVdepZa6E61ex5Gz8nO1/yJD9gjrxK50NOdP/0CFXKNS+SzoxjnmO+all8JxvtduUIM8zqisOax9vn/HSSZr92YlL5WSZ6SdJpoNu2mmXaVOv/oijdPYudTxmn3NuOMfyPlfuPu/lt+fma+qS+cxVUruGU5b3pSR5js2WrsCs+uTYbe6xEtP5yP/7PK7imPVnv3J17nf7e/skvJbKSwLo0O1BOd2kcZa/fWKzXBOjuVJ0bkgicumYMVfObeuArw78jJfWQzme7euBXoesv6qO+d7SPOUuMUm+7DNc5zrjnH0qp27fczeAusK2jDOOca7sXxrW6JfJb+U26L0e9XrpjnqZJuujpekyH+lL2dU3tTSfN+39xNbcMparrrNs5Mr6/nn6zOaukk1yuJbbaoMaZznLyTfbhni/6EUvWlxW00+Uu5FsG3Ixx9y+QC7MyPZsOh/VZ5WrcJfWVTUPNU4Z/QSBaX1G8ez16ldO53E4hw6nrjMO/b257+ekhN5+1R5LJ0zMlZH3jtlfyrZqLq6qDtme7bMd6XezqWnnxrv6urMOnqtPThjcZ72VZWHprgDZ99v3rqpLxt4nQIAAgTEEJMjHaIez1yKdX7mKIrd2qlvBnP1H9igwCdzsJGXHYZ8dkCqynuWXnZERhpzdf//991/e1jGdCznoP2R+smN27733Xk6fM/fzeldHWs13Oi1y8JDbxue2WfvcEqmmXWMsQb6GqjIJECBw9QLZtm274nGfGmX7dup+RhIGh2xTp/XKtLmi5pThHGXwfGQL3KYE+SPn/M797xzL+wg6py7vuSopCY4kjpaeI3tV83nq+vPUeuaKyHTG5y4FSdrnqjPD8QLZnuYYPvGVBFaSLbuGJOAyTU7gyJD/c2vaD3/4w5e39M+x466rIHNySZ1wk3Jygnr6EVJG7pCRZf+Y4U5ZZ5y6fc/xfNo0y0n6Rq7jJPdj2q9Pk/VmYuG1r33t5W3is9zfxPno83TM61xEkTsppj3jseuRGNt+IycSZTnLyRIp65gTi7J856KNJNXTR7XPOqPXKYnvnCSb9U3a+KqHkTyzPavkfxK5pwynrjNO+e1Mm3V+4jQXLKXv8dC4qN8/dn8pv5ftUu6GkX7MnGyQ/YPaTlX5VzXOcWJORMt+yjHbs0yfZSyP+clJrDkB5TqWl6vy8jsECBC4bQIS5LetxW/I/GYH/fnPf/5ROy83ZBZvbDUlyG9s06k4AQIECBC4MgEJ8iuj9kMECBAgQIAAAQInCOQElrpKeddV/Cf8jEkJECBAgACBwQQkyAdrENUhMLqABPnoLaR+BAgQIEDg+gUkyK+/DdSAAAECBAgQIEBgu0DuBJBb4idBnltyGwgQIECAAIHbIyBBfnva2pwSOItAT5DnACLPHsutqPKsNAMBAgQIECBwewVy68I893D6DNu8byBAgAABAgQIECBw3QK5zfYv/dIvXfz8z//85d/0mfC/8Au/4PnS191Ifp8AAQIECFyRgAT5FUH7GQJ3isDb3/72za2n6hZUGee5WQYCBAgQIEDg9gq86U1vmt1HyKNzDAQIECBAgAABAgSuWyDPfu99WXOvc2GIgQABAgQIELjzBSTI7/w2NocEzi7wgx/84OLb3/725u+HP/zh2X9DgQQIECBAgMDNE/j+97+/2T/IvkJuW2kgQIAAAQIECBAgMILAT3/604vXve51Fy996Utn//I88m9+85sjVFUdCBAgQIAAgZUFJMhXBlY8AQIECBAgQIAAAQIECBAgQIAAAQIECBAgQIAAAQIECIwhIEE+RjuoBQECBAgQIECAAAECBAgQIECAAAECBAgQIECAAAECBAisLCBBvjKw4gkQIECAAAECBAgQIECAAAECBAgQIECAAAECBAgQIEBgDAEJ8jHaQS0IECBAgAABAgQIECBAgAABAgQIECBAgAABAgQIECBAYGUBCfKVgRVPgAABAgQIECBAgAABAgQIECBAgAABAgQIECBAgAABAmMISJCP0Q5qQYAAAQIECBAgQIAAAQIECBAgQIAAAQIECBAgQIAAAQIrC0iQrwyseAIECBAgQIAAAQIECBAgQIAAAQIECBAgQIAAAQIECBAYQ0CCfIx2UAsCBAgQIECAAAECBAgQIECAAAECBAgQIECAAAECBAgQWFlAgnxlYMUTIECAAAECBAgQIECAAAECBAgQIECAAAECBAgQIECAwBgCEuRjtINaECBAgAABAgQIECBAgAABAgQIECBAgAABAgQIECBAgMDKAhLkKwMrngABAgQIECBAgAABAgQIECBAgAABAgQIECBAgAABAgTGEJAgH6Md1IIAAQIECBAgQIAAAQIECBAgQIAAAQIECBAgQIAAAQIEVhaQIF8ZWPEECBAgQIAAAQIECBAgQIAAAQIECBAgQIAAAQIECBAgMIaABPkY7aAWBAgQIECAAAECBAgQIECAAAECBAgQIECAAAECBAgQILCygAT5ysCKJ0CAAAECBAgQIECAAAECBAgQIECAAAECBAgQIECAAIExBCTIx2gHtSBAgAABAgQIECBAgAABAgQIECBAgAABAgQIECBAgACBlQUkyFcGVjwBAgQIECBAgAABAgQIECBAgAABAgQIECBAgAABAgQIjCEgQT5GO6gFAQIECBAgQIAAAQIECBAgQIAAAQIECBAgQIAAAQIECKwsIEG+MrDiCRAgQIAAAQIECBAgQIAAAQIECBAgQIAAAQIECBAgQGAMAQnyMdpBLQgQIECAAAECBAgQIECAAAECBAgQIECAAAECBAgQIEBgZQEJ8pWBFU+AAAECBAgQIECAAAECBAgQIECAAAECBAgQIECAAAECYwhIkI/RDmpBgAABAgQIECBAgAABAgQIECBAgAABAgQIECBAgAABAisLSJCvBPzQQw9d+GMgBsSAGBADYkAMiAExIAbEgBgQA2JADIgBMSAGxIAYEANiQAyIATEgBsSAGBgnBiTIJcgl8p3MIAbEgBgQA2JADIgBMSAGxIAYEANiQAyIATEgBsSAGBADYkAMiAExIAbEwK2IAQnylRLkP/nJTy78MRADYkAMiAExIAbEgBgQA2JADIgBMSAGxIAYEANiQAyIATEgBsSAGBADYkAMjBMDEuQS5BL5TmYQA2JADIgBMSAGxIAYEANiQAyIATEgBsSAGBADYkAMiAExIAbEgBgQA2LgVsSABLkE+a0IdGfljHNWjrbQFmJADIgBMSAGxIAYEANiQAyIATEgBsSAGBADYkAMiAExIAbEgBgQA9cVAxLkEuQS5M4GEgNiQAyIATEgBsSAGBADYkAMiAExIAbEgBgQA2JADIgBMSAGxIAYEANi4FbEgAS5BPmtCPTrOgPF7zr7SQyIATEgBsSAGBADYkAMiAExIAbEgBgQA2JADIgBMSAGxIAYEANiQAyMEwMS5BLkEuTOBhIDYkAMiAExIAbEgBgQA2JADIgBMSAGxIAYEANiQAyIATEgBsSAGBADYuBWxIAE+TUnyL/xjW9cPPDAAxcf//jHLz74wQ9evPe97/XHQAyIATEgBsSAGBADYkAMiAExIAauLQZybJpj1Byr5pjVVQ7jXOWgLbSFGBADYkAMiAExIAbEgBgQA2Lg9BiQIL+mBPmPfvSjiwcffPDinnvuubZOD8l4JyOIATEgBsSAGBADYkAMiAExIAbEwLYYyDFrjl1//OMfS5S7kkQMiAExIAbEgBgQA2JADIgBMSAG7ogYkCC/hgT5t771rYt7771XYtwVIWJADIgBMSAGxIAYEANiQAyIATFwI2Lg/vvvv8ixrCsVTr9SgSFDMSAGxIAYEANiQAyIATEgBsTA9caABPk1JMhz9v22M/R95goOMSAGxIAYEANiQAyIATEgBsSAGBgtBnIsqxPnejtx+PMXA2JADIgBMSAGxIAYEANiQAycHgMS5FecIH/44YfdVt0VIk6QEANiQAyIATEgBsSAGBADYkAM3LgYyO3WXUV+ekeMziyGYkAMiAExIAbEgBgQA2JADIiB640BCfIrTpA/8MADN64TZLSrFtTHlTRiQAyIATEgBsSAGBADYkAMiIHriYEc0+rIud6OHP78xYAYEANiQAyIATEgBsSAGBADp8WABPkVJ8g/9rGPSZC7UkQMiAExIAbEgBgQA2JADIgBMSAGbmQMfOITn5Ag/8lpHTE6sviJATEgBsSAGBADYkAMiAExIAauNwYkyK84Qf6BD3zgRnaCuDrjeq7O4M5dDIgBMSAGxIAYEANiQAyIgZFi4EMf+pAEuQS5GBADYkAMiAExIAbEgBgQA2JADNzoGJAgv+IEeToTRurcUBedbWJADIgBMSAGxIAYEANiQAyIATGwbwxIkF/vVQ6uMuEvBsSAGBADYkAMiAExIAbEgBg4PQYkyK84Qf6pT31KgtytFMWAGBADYkAMiAExIAbEgBgQA2LgRsZAjml1xpzeGcOQoRgQA2JADIgBMSAGxIAYEANi4PpiQIL8ihPkDz744I3sBNn3agLfc+WJGBADYkAMiAExIAbEgBgQA2Lgzo2BHNPqxLm+Thz27MWAGBADYkAMiAExIAbEgBgQA6fHgAT5FSfIv/Od71y8733vkyR3tYgYEANiQAyIATEgBsSAGBADYkAM3KgYeP/733+RY1qdMad3xjBkKAbEgBgQA2JADIgBMSAGxIAYuL4YkCC/4gR5gv0LX/jCjeoEcfXHnXv1h7bVtmJADIgBMSAGxIAYEANiQAzsGwNf/OIXJcd/cn0dODrP2IsBMSAGxIAYEANiQAyIATEgBs4TAxLk15AgT/B+9KMflSR3tYgYEANiQAyIATEgBsSAGBADYkAM3IgYuP/++yXHJcfFgBgQA2JADIgBMSAGxIAYEANi4I6IAQnya0qQ/+hHP7rIs9vuueeeG9EZsu8VBb7n6hMxIAbEgBgQA2JADIgBMSAGxMCdEwM5Zs2xa45hXalwnisVOHIUA2JADIgBMSAGxIAYEANiQAxcbwxIkF9TgrwC/xvf+MbFAw88cPHxj3/84oMf/KBkuatHxIAYEANiQAyIATEgBsSAGBADYuBaYyDHpjlGzbFqjlnr+NX4ejtw+PMXA2JADIgBMSAGxIAYEANiQAycJwYkyK85QS6QzxPIHDmKATEgBsSAGBADYkAMiAExIAbEgBgQA2JADIgBMSAGxIAYEANiQAyIATGwKwYkyCXIXQ3geRFiQAyIATEgBsSAGBADYkAMiAExIAbEgBgQA2JADIgBMSAGxIAYEANiQAzcihiQIJcgvxWBvutMEZ87m0gMiAExIAbEgBgQA2JADIgBMSAGxIAYEANiQAyIATEgBsSAGBADYkAM3PkxIEEuQS5B7mwgMSAGxIAYEANiQAyIATEgBsSAGBADYkAMiAExIAbEgBgQA2JADIgBMSAGbkUMSJCvlCB/+OGHL/wxEANiQAyIATEgBsSAGBADYkAMiAExIAbEgBgQA2JADIgBMSAGxIAYEANiQAyMEwMS5BLkEvlOZhADYkAMiAExIAbEgBgQA2JADIgBMSAGxIAYEANiQAyIATEgBsSAGBADYuBWxIAE+UoJcsUSIECAAAECBAgQIECAAAECBAgQIECAAAECBAgQIECAwFgCEuRjtYfaECBAgAABAgQIECBAgAABAgQIECBAgAABAgQIECBAgMBKAhLkK8EqlgABAgQIECBAgAABAgQIECBAgAABAgQIECBAgAABAgTGEpAgH6s91IYAAQIECBAgQIAAAQIECBAgQIAAAQIECBAgQIAAAQIEVhKQIF8JVrEECBAgQIAAAQIECBAgQIAAAQIECBAgQIAAAQIECBAgMJaABPlY7aE2BAgQIECAAAECBAgQIECAAAECBAgQIECAAAECBAgQILCSgAT5SrCKJUCAAAECBAgQIECAAAECBAgQIECAAAECBAgQIECAAIGxBCTIx2oPtSFAgAABAgQIECBAgAABAgQIECBAgAABAgQIECBAgACBlQQkyFeCVSwBAgQIECBAgAABAgQIECBAgAABAgQIECBAgAABAgQIjCUgQT5We6gNAQIECBAgQIAAAQIECBAgQIAAAQIECBAgQIAAAQIECKwkIEG+EqxiCRAgQIAAAQIECBAgQIAAAQIECBAgQIAAAQIECBAgQGAsAQnysdpDbQgQIECAAAECBAgQIECAAAECBAgQIECAAAECBAgQIEBgJQEJ8pVgFUuAAAECBAgQIECAAAECBAgQIECAAAECBAgQIECAAAECYwlIkI/VHmpDgAABAgQIECBAgAABAgQIECBAgAABAgQIECBAgAABAisJSJCvBKtYAgQIECBAgAABAgQIECBAgAABAgQIECBAgAABAgQIEBhLQIJ8rPZQGwIECBAgQIAAAQIECBAgQIAAAQIECBAgQIAAAQIECBBYSUCCfCVYxRIgQIAAAQIECBAgQIAAAQIECBAgQIAAAQIECBAgQIDAWAIS5GO1h9oQIECAAAECBAgQIECAAAECBAgQIECAAAECBAgQIECAwEoCEuQrwSqWAAECBAgQIECAAAECBAgQIECAAAECBAgQIECAAAECBMYSkCAfqz3UhgABAgQIECBAgAABAgQIECBAgAABAgQIECBAgAABAgRWEpAgXwlWsQQIECBAgAABAgQIECBAgAABAgQIECBAgAABAgQIECAwloAE+VjtoTYECBAgQIAAAQIECBAgQIAAAQIECBAgQIAAAQIECBAgsJKABPlKsIolQIAAAQIECBAgQIAAAQIECBAgQIAAAQIECBAgQIAAgbEEJMjHag+1IUCAAAECBAgQIECAAAECBAgQIECAAAECBAgQIECAAIGVBCTIV4JVLAECBAgQIECAAAECBAgQIECAAAECBAgQIECAAAECBAiMJSBBPlZ7qA0BAgQIECBAgAABAgQIECBAgAABAgQIECBAgAABAgQIrCQgQb4SrGIJECBAgAABAgQIECBAgAABAgQIECBAgAABAgQIECBAYCwBCfKx2kNtCBAgQIAAAQIECBAgQIAAAQIECBAgQIAAAQIECBDNBmnYAAAgAElEQVQgQGAlAQnylWAVS4AAAQIECBAgQIAAAQIECBAgQIAAAQIECBAgQIAAAQJjCUiQj9UeakOAAAECBAgQIECAAAECBAgQIECAAAECBAgQIECAAAECKwlIkK8Eq1gCBAgQIECAAAECBAgQIECAAAECBAgQIECAAAECBAgQGEtAgnys9lAbAgQIECBAgAABAgQIECBAgAABAgQIECBAgAABAgQIEFhJQIJ8JVjFEiBAgAABAgQIECBAgAABAgQIECBAgAABAgQIECBAgMBYAhLkY7WH2hAgQIAAAQIECBAgQIAAAQIECBAgQIAAAQIECBAgQIDASgIS5CvBKpYAAQIECBAgQIAAAQIECBAgQIAAAQIECBAgQIAAAQIExhKQIB+rPdSGAAECBAgQIECAAAECBAgQIECAAAECBAgQIECAAAECBFYSkCBfCVaxBAgQIECAAAECBAgQIECAAAECBAgQIECAAAECBAgQIDCWgAT5WO2hNgQIECBAgAABAgQIECBAgAABAgQIECBAgAABAgQIECCwkoAE+UqwiiVAgAABAgQIECBAgAABAgQIECBAgAABAgQIECBAgACBsQQkyMdqD7UhQIAAAQIECBAgQIAAAQIECBAgQIAAAQIECBAgQIAAgZUEJMhXglUsAQIECBAgQIAAAQIECBAgQIAAAQIECBAgQIAAAQIECIwlIEE+VnuoDQECBAgQIECAAAECBAgQIECAAAECBAgQIECAAAECBAisJCBBvhKsYgkQIECAAAECBAgQIECAAAECBAgQIECAAAECBAgQIEBgLAEJ8rHaQ20IECBAgAABAgQIECBAgAABAgQIECBAgAABAgQIECBAYCUBCfKVYBVLgAABAgQIECBAgAABAgQIECBAgAABAgQIECBAgAABAmMJSJCP1R5qQ4AAAQIECBAgQIAAAQIECBAgQIAAAQIECBAgQIAAAQIrCUiQrwSrWAIECBAgQIAAAQIECBAgQIAAAQIECBAgQIAAAQIECBAYS0CCfKz2UBsCBAgQIECAAAECBAgQIECAAAECBAgQIECAAAECBAgQWElAgnwlWMUSIECAAAECBAgQIECAAAECBAgQIECAAAECBAgQIECAwFgCEuRjtYfaECBAgAABAgQIECBAgAABAgQIECBAgAABAgQIECBAgMBKAhLkK8EqlgABAgQIECBAgAABAgQIECBAgAABAgQIECBAgAABAgTGEpAgH6s91IYAAQIECBAgQIAAAQIECBAgQIAAAQIECBAgQIAAAQIEVhKQIF8JVrEECBAgQIAAAQIECBAgQIAAAQIECBAgQIAAAQIECBAgMJaABPlY7aE2BAgQIECAAAECBAgQIECAAAECBAgQIECAAAECBAgQILCSgAT5SrCKJUCAAAECBAgQIECAAAECBAgQIECAAAECBAgQIECAAIGxBCTIx2oPtSFAgAABAgQIECBAgAABAgQIECBAgAABAgQIECBAgACBlQQkyFeCVSwBAgQIECBAgAABAgQIECBAgAABAgQIECBAgAABAgQIjCUgQT5We6gNAQIECBAgQIAAAQIECBAgQIAAAQIECBAgQIAAAQIECKwkIEG+EqxiCRAgQIAAAQIECBAgQIAAAQIECBAgQIAAAQIECBAgQGAsAQnysdpDbQgQIECAAAECBAgQIECAAAECBAgQIECAAAECBAgQIEBgJQEJ8pVgFUuAAAECBAgQIECAAAECBAgQIECAAAECBAgQIECAAAECYwlIkI/VHmpDgAABAgQIECBAgAABAgQIECBAgAABAgQIECBAgAABAisJSJCvBKtYAgQIECBAgAABAgQIECBAgAABAgQIECBAgAABAgQIEBhLQIJ8rPZQGwIECBAgQIAAAQIECBAgQIAAAQIECBAgQIAAAQIECBBYSUCCfCVYxRIgQIAAAQIECBAgQIAAAQIECBAgQIAAAQIECBAgQIDAWAIS5GO1h9oQIECAAAECBAgQIECAAAECBAgQIECAAAECBAgQIECAwEoCEuQrwSqWAAECBAgQIECAAAECBAgQIECAAAECBAgQIECAAAECBMYSkCAfqz3UhgABAgQIECBAgAABAgQIECBAgAABAgQIECBAgAABAgRWEpAgXwlWsQQIECBAgAABAgQIECBAgAABAgQIECBAgAABAgQIECAwloAE+VjtoTYECBAgQIAAAQIECBAgQIAAAQIECBAgQIAAAQIECBAgsJKABPlKsIolQIAAAQIECBAgQIAAAQIECBAgQIAAAQIECBAgQIAAgbEEJMjHag+1IUCAAAECBAgQIECAAAECBAgQIECAAAECBAgQIECAAIGVBCTIV4JVLAECBAgQIECAAAECBAgQIECAAAECBAgQIECAAAECBAiMJSBBPlZ7qA0BAgQIECBAgAABAgQIECBAgAABAgQIECBAgAABAgQIrCQgQb4SrGIJECBAgAABAgQIECBAgAABAgQIECBAgAABAgQIECBAYCwBCfKx2kNtCBAgQIAAAQIECBAgQIAAAQIECBAgQIAAAQIECBAgQGAlAQnylWAVS4AAAQIECBAgQIAAAQIECBAgQIAAAQIECBAgQIAAAQJjCUiQj9UeakOAAAECBAgQIECAAAECBAgQIECAAAECBAgQIECAAAECKwlIkK8Eq1gCBAgQIECAAAECBAgQIECAAAECBAgQIECAAAECBAgQGEtAgnys9lAbAgQIECBAgAABAgQIECBAgAABAgQIECBAgAABAgQIEFhJQIJ8JVjFEiBAgAABAgQIECBAgAABAgQIECBAgAABAgQIECBAgMBYAhLkY7WH2hAgQIAAAQIECBAgQIAAAQIECBAgQIAAAQIECBAgQIDASgIS5CvBKpYAAQIECBAgQIAAAQIECBAgQIAAAQIECBAgQIAAAQIExhKQIB+rPdSGAAECBAgQIECAAAECBAgQIECAAAECBAgQIECAAAECBFYSkCBfCVaxBAgQIECAAAECBAgQIECAAAECBAgQIECAAAECBAgQIDCWgAT5WO2hNgQIECBAgAABAgQIECBAgAABAgQIECBAgAABAgQIECCwkoAE+UqwiiVAgAABAgQIECBAgAABAgQIECBAgAABAgQIECBAgACBsQQkyMdqD7UhQIAAAQIECBAgQIAAAQIECBAgQIAAAQIECBAgQIAAgZUEJMhXglUsAQIECBAgQIAAAQIECBAgQIAAAQIECBAgQIAAAQIECIwlIEE+VnuoDQECBAgQIECAAAECBAgQIECAAAECBAgQIECAAAECBAisJCBBvhKsYgkQIECAAAECBAgQIECAAAECBAgQIECAAAECBAgQIEBgLAEJ8rHaQ20IECBAgAABAgQIECBAgAABAgQIECBAgAABAgQIECBAYCUBCfKVYBVLgAABAgQIECBAgAABAgQIECBAgAABAgQIECBAgAABAmMJSJCP1R5qQ4AAAQIECBAgQIAAAQIECBAgQIAAAQIECBAgQIAAAQIrCUiQrwSrWAIECBAgQIAAAQIECBAgQIAAAQIECBAgQIAAAQIECBAYS0CCfKz2UBsCBAgQIECAAAECBAgQIECAAAECBAgQIECAAAECBAgQWElAgnwlWMUSIECAAAECBAgQIECAAAECBAgQIECAAAECBAgQIECAwFgCEuRjtYfaECBAgAABAgQIECBAgAABAgQIECBAgAABAgQIECBAgMBKAhLkK8EqlgABAgQIECBAgAABAgQIECBAgAABAgQIECBAgAABAgTGEpAgH6s91IYAAQIECBAgQIAAAQIECBAgQIAAAQIECBAgQIAAAQIEVhKQIF8JVrEECBAgQIAAAQIECBAgQIAAAQIECBAgQIAAAQIECBAgMJaABPlY7aE2BAgQIECAAAECBAgQIECAAAECBAgQIECAAAECBAgQILCSgAT5SrCKJUCAAAECBAgQIECAAAECBAgQIECAAAECBAgQIECAAIGxBCTIx2oPtSFAgAABAgQIECBAgAABAgQIECBAgAABAgQIECBAgACBlQQkyFeCVSwBAgQIECBAgAABAgQIECBAgAABAgQIECBAgAABAgQIjCUgQT5We6gNAQIECBAgQIAAAQIECBAgQIAAAQIECBAgQIAAAQIECKwkIEG+EqxiCRAgQIAAAQIECBAgQIAAAQIECBAgQIAAAQIECBAgQGAsAQnysdpDbQgQIECAAAECBAgQIECAAAECBAgQIECAAAECBAgQIEBgJQEJ8pVgFUuAAAECBAgQIECAAAECBAgQIECAAAECBAgQIECAAAECYwlIkI/VHmpDgAABAgQIECBAgAABAgQIECBAgAABAgQIECBAgAABAisJSJCvBKtYAgQIECBAgAABAgQIECBAgAABAgQIECBAgAABAgQIEBhLQIJ8rPZQGwIECBAgQIAAAQIECBAgQIAAAQIECBAgQIAAAQIECBBYSUCCfCVYxRIgQIAAAQIECBAgQIAAAQIECBAgQIAAAQIECBAgQIDAWAIS5GO1h9oQIECAAAECBAgQIECAAAECBAgQIECAAAECBAgQIECAwEoCEuQrwSqWAAECBAgQIECAAAECBAgQIECAAAECBAgQIECAAAECBMYSkCAfqz3UhgABAgQIECBAgAABAgQIECBAgAABAgQIECBAgAABAgRWEpAgXwlWsQQIECBAgAABAgQIECBAgAABAgQIECBAgAABAgQIECAwloAE+VjtoTYECBAgQIAAAQIECBAgQIAAAQIECBAgQIAAAQIECBAgsJKABPlKsIolQIAAAQIECBAgQIAAAQIECBAgQIAAAQIECBAgQIAAgbEEJMjHag+1IUCAAAECBAgQIECAAAECBAgQIECAAAECBAgQIECAAIGVBCTIV4JVLAECBAgQIECAAAECBAgQIECAAAECBAgQIECAAAECBAiMJSBBPlZ7qA0BAgQIECBAgAABAgQIECBAgAABAgQIECBAgAABAgQIrCQgQb4SrGIJECBAgAABAgQIECBAgAABAgQIECBAgAABAgQIECBAYCwBCfKx2kNtCBAgQIAAAQIECBAgQIAAAQIECBAgQIAAAQIECBAgQGAlAQnylWAVS4AAAQIECBAgQIAAAQIECBAgQIAAAQIECBAgQIAAAQJjCUiQj9UeakOAAAECBAgQIECAAAECBAgQIECAAAECBAgQIECAAAECKwlIkK8Eq1gCBAgQIECAAAECBAgQIECAAAECBAgQIECAAAECBAgQGEtAgnys9lAbAgQIECBAgAABAgQIECBAgAABAgQIECBAgAABAgQIEFhJQIJ8JVjFEiBAgAABAgQIECBAgAABAgQIECBAgAABAgQIECBAgMBYAhLkY7WH2hAgQIAAAQIECBAgQIAAAQIECBAgQIAAAQIECBAgQIDASgIS5CvBKpYAAQIECBAgQIAAAQIECBAgQIAAAQIECBAgQIAAAQIExhKQIB+rPdSGAAECBAgQIECAAAECBAgQIECAAAECBAgQIECAAAECBFYSkCBfCVaxBAgQIECAAAECBAgQIECAAAECBAgQIECAAAECBAgQIDCWgAT5WO2hNgQIECBAgAABAgQIECBAgAABAgQIECBAgAABAgQIECCwkoAE+UqwiiVAgAABAgQIECBAgAABAgQIECBAgAABAgQIECBAgACBsQQkyMdqD7UhQIAAAQIECBAgQIAAAQIECBAgQIAAAQIECBAgQIAAgZUEJMhXglUsAQIECBAgQIAAAQIECBAgQIAAAQIECBAgQIAAAQIECIwlIEE+VnuoDQECBAgQIECAAAECBAgQIECAAAECBAgQIECAAAECBAisJCBBvhKsYgkQIECAAAECBAgQIECAAAECBAgQIECAAAECBAgQIEBgLAEJ8rHaQ20IECBAgAABAgQIECBAgAABAgQIECBAgAABAgQIECBAYCUBCfKVYBVLgAABAgQIECBAgAABAgQIECBAgAABAgQIECBAgAABAmMJSJCP1R5qQ4AAAQIECBAgQIAAAQIECBAgQIAAAQIECBAgQIAAAQIrCUiQrwSrWAIECBAgQIAAAQIECBAgQIAAAQIECBAgQIAAAQIECBAYS0CCfKz2UBsCBAgQIECAAAECBAgQIECAAAECBAgQIECAAAECBAgQWElAgnwlWMUSIECAAAECBAgQIECAAAECBAgQIECAAAECBAgQIECAwFgCEuRjtYfaECBAgAABAgQIECBAgAABAgQIECBAgAABAgQIECBAgMBKAhLkK8EqlgABAgQIECBAgAABAgQIECBAgAABAgQIECBAgAABAgTGEpAgH6s91IYAAQIECBAgQIAAAQIECBAgQIAAAQIECBAgQIAAAQIEVhKQIF8JVrEECBAgQIAAAQIECBAgQIAAAQIECBAgQIAAAQIECBAgMJaABPlY7aE2BAgQIECAAAECBAgQIECAAAECBAgQIECAAAECBAgQILCSgAT5SrCKJUCAAAECBAgQIECAAAECBAgQIECAAAECBAgQIECAAIGxBCTIx2oPtSFAgAABAgQIECBAgAABAgQIECBAgAABAgQIECBAgACBlQQkyFeCVSwBAgQIECBAgAABAgQIECBAgAABAgQIECBAgAABAgQIjCUgQT5We6gNAQIECBAgQIAAAQIECBAgQIAAAQIECBAgQIAAAQIECKwkIEG+EqxiCRAgQIAAAQIECBAgQIAAAQIECBAgQIAAAQIECBAgQGAsAQnysdpDbQgQIECAAAECBAgQIECAAAECBAgQIECAAAECBAgQIEBgJQEJ8pVgFUuAAAECBAgQIECAAAECBAgQIECAAAECBAgQIECAAAECYwlIkI/VHmpDgAABAgQIECBAgAABAgQIECBAgAABAgQIECBAgAABAisJSJCvBKtYAgQIECBAgAABAgQIECBAgAABAgQIECBAgAABAgQIEBhLQIJ8rPZQGwIECBAgQIAAAQIECBAgQIAAAQIECBAgQIAAAQIECBBYSUCCfCVYxRIgQIAAAQIECBAgQIAAAQIECBAgQIAAAQIECBAgQIDAWAIS5GO1h9oQIECAAAECBAgQIECAAAECBAgQIECAAAECBAgQIECAwEoCEuQrwSqWAAECBAgQIECAAAECBAgQIECAAAECBAgQIECAAAECBMYSkCAfqz3UhgABAgQIECBAgAABAgQIECBAgAABAgQIECBAgAABAgRWEpAgXwlWsQQIECBAgAABAgQIECBAgAABAgQIECBAgAABAgQIECAwloAE+VjtoTYECBAgQIAAAQIECBAgQIAAAQIECBAgQIAAAQIECBAgsJKABPlKsIolQIAAAQIECBAgQIAAAQIECBAgQIAAAQIECBAgQIAAgbEEJMjHag+1IUCAAAECBAgQIECAAAECBAgQIECAAAECBAgQIECAAIGVBCTIV4JVLAECBAgQIECAAAECBAgQIECAAAECBAgQIECAAAECBAiMJSBBPlZ7qA0BAgQIECBAgAABAgQIECBAgAABAgQIECBAgAABAgQIrCQgQb4SrGIJECBAgAABAgQIECBAgAABAgQIECBAgAABAgQIECBAYCwBCfKx2kNtCBAgQIAAAQIECBAgQIAAAQIECBAgQIAAAQIECBAgQGAlAQnylWAVS4AAAQIECBAgQIAAAQIECBAgQIAAAQIECBAgQIAAAQJjCUiQj9UeakOAAAECBAgQIECAAAECBAgQIECAAAECBAgQIECAAAECKwlIkK8Eq1gCBAgQIECAAAECBAgQIECAAAECBAgQIECAAAECBAgQGEtAgnys9lAbAgQIECBAgAABAgQIECBAgAABAgQIECBAgAABAgQIEFhJQIJ8JVjFEiBAgAABAgQIECBAgAABAgQIECBAgAABAgQIECBAgMBYAhLkY7WH2hAgQIAAAQIECBAgQIAAAQIECBAgQIAAAQIECBAgQIDASgIS5CvBKpYAAQIECBAgQIAAAQIECBAgQIAAAQIECBAgQIAAAQIExhKQIB+rPdSGAAECBAgQIECAAAECBAgQIECAAAECBAgQIECAAAECBFYSkCBfCVaxBAgQIECAAAECBAgQIECAAAECBAgQIECAAAECBAgQIDCWgAT5WO2hNgQIECBAgAABAgQIECBAgAABAgQIECBAgAABAgQIECCwkoAE+UqwiiVAgAABAgQIECBAgAABAgQIECBAgAABAgQIECBAgACBsQQkyMdqD7UhQIAAAQIECBAgQIAAAQIECBAgQIAAAQIECBAgQIAAgZUEJMhXglUsAQIECBAgQIAAAQIECBAgQIAAAQIECBAgQIAAAQIECIwlIEE+VnuoDQECBAgQIECAAAECBAgQIECAAAECBAgQIECAAAECBAisJCBBvhKsYgkQIECAAAECBAgQIECAAAECBAgQIECAAAECBAgQIEBgLAEJ8rHaQ20IECBAgAABAgQIECBAgAABAgQIECBAgAABAgQIECBAYCUBCfKVYBVLgAABAgQIECBAgAABAgQIECBAgAABAgQIECBAgAABAmMJSJCP1R5qQ4AAAQIECBAgQIAAAQIECBAgQIAAAQIECBAgQIAAAQIrCUiQrwSrWAIECBAgQIAAAQIECBAgQIAAAQIECBAgQIAAAQIECBAYS0CCfKz2UBsCBAgQIECAAAECBAgQIECAAAECBAgQIECAAAECBAgQWElAgnwlWMUSIECAAAECBAgQIECAAAECBAgQIECAAAECBAgQIECAwFgCEuRjtYfaECBAgAABAgQIECBAgAABAgQIECBAgAABAgQIECBAgMBKAhLkK8EqlgABAgQIECBAgAABAgQIECBAgAABAgQIECBAgAABAgTGEpAgH6s91IYAAQIECBAgQIAAAQIECBAgQIAAAQIECBAgQIAAAQIEVhKQIF8JVrEECBAgQIAAAQIECBAgQIAAAQIECBAgQIAAAQIECBAgMJaABPlY7aE2BAgQIECAAAECBAgQIECAAAECBAgQIECAAAECBAgQILCSgAT5SrCKJUCAAAECBAgQIECAAAECBAgQIECAAAECBAgQIECAAIGxBCTIx2oPtSFAgAABAgQIECBAgAABAgQIECBAgAABAgQIECBAgACBlQQkyFeCVSwBAgQIECBAgAABAgQIECBAgAABAgQIECBAgAABAgQIjCUgQT5We6gNAQIECBAgQIAAAQIECBAgQIAAAQIECBAgQIAAAQIECKwkIEG+EqxiCRAgQIAAAQIECBAgQIAAAQIECBAgQIAAAQIECBAgQGAsAQnysdpDbQgQIECAAAECBAgQIECAAAECBAgQIECAAAECBAgQIEBgJQEJ8pVgFUuAAAECBAgQIECAAAECBAgQIECAAAECBAgQIECAAAECYwlIkI/VHmpDgAABAgQIECBAgAABAgQIECBAgAABAgQIECBAgAABAisJSJCvBKtYAgQIECBAgAABAgQIECBAgAABAgQIECBAgAABAgQIEBhLQIJ8rPZQGwIECBAgQIAAAQIECBAgQIAAAQIECBAgQIAAAQIECBBYSUCCfCVYxRIgQIAAAQIECBAgQIAAAQIECBAgQIAAAQIECBAgQIDAWAIS5GO1h9oQIECAAAECBAgQIECAAAECBAgQIECAAAECBAgQIECAwEoCEuQrwSqWAAECBAgQIECAAAECBAgQIECAAAECBAgQIECAAAECBMYSkCAfqz3UhgABAgQIECBAgAABAgQIECBAgAABAgQIECBAgAABAgRWEvi5z3/+8xf+GIgBMSAGxIAYEANiQAyIATEgBsSAGBADYkAMiAExIAbEgBgQA2JADIgBMSAGxMCdHgMS5E4QcIKEGBADYkAMiAExIAbEgBgQA2JADIgBMSAGxIAYEANiQAyIATEgBsSAGBADYuBWxMDPrXRlumIJECBAgAABAgQIECBAgAABAgQIECBAgAABAgQIECBAgMBQAhLkQzWHyhAgQIAAAQIECBAgQIAAAQIECBAgQIAAAQIECBAgQIDAWgIS5GvJKpcAAQIECBAgQIAAAQIECBAgQIAAAQIECBAgQIAAAQIEhhKQIB+qOVSGAAECBAgQIECAAAECBAgQIECAAAECBAgQIECAAAECBNYSkCBfS1a5BAgQIECAAAECBAgQIECAAAECBAgQIECAAAECBAgQIDCUgAT5UM2hMgQIECBAgAABAgQIECBAgAABAgQIECBAgAABAgQIECCwloAE+VqyyiVAgAABAgQIECBAgAABAgQIECBAgAABAgQIECBAgACBoQQkyIdqDpUhQIAAAQIECBAgQIAAAQIECBAgQIAAAQIECBAgQIAAgbUEJMjXklUuAQIECBAgQIAAAQIECBAgQIAAAQIECBAgQIAAAQIECAwlIEE+VHOoDAECBAgQIECAAAECBAgQIECAAAECBAgQIECAAAECBAisJSBBvpascm+9wPe///1bbwBgt8B///d/X/zkJz/Z/UXfuOME/ud//ufihz/84eV8fe9737vj5s8MnUegYqPG5ylVKacKVHvU+NTyTH/nCVRs1PjOm0NzdF0CP/jBDy6yDyG21m0B+2nr+ir99grUuqvGt1fCnBMgQIAAAQIECFy3gAT5dbeA378jBd7//vdf/PZv//bFj3/84zty/szU+QQSK0960pMu/vM///N8hSrpbAI//elPL3ISw7mHb3zjGxe/+7u/e/GKV7zi4j/+4z8ufvmXf/ni3nvvPffPKO8GC+TEmec///mXcfK///u/F7/6q7968apXveoirw3XJ6Bdrs/+Jv3yO97xjsv1+o9+9KOLpz/96RdPe9rTJDNvUgP+/7omQZo2HGl44IEHLrcHn/rUp8TWig1jP21FXEXfWgH7ULe26c04AQIECBAgQGBYAQnyYZtGxUognVM3aXj7299+8Vu/9VuXf//2b/+2WPXM165Ex2GFYCwAACAASURBVHe/+92LP/zDP7z8u+eeexbLus4PMg83rY2u02v626985SsvYyUnVFxlknyf+JvW9ZD/P/zhD2+Wgy9/+cubSb/2ta9t3n/Pe96zeX+kF7mq+yUvecnFox71qItf/MVfvPzLMv3CF77w4iMf+cjJVf3Wt7512bmdsn//93//4kMf+tDmd9773veeXL4C9hP4q7/6q8tYfNzjHveICZZi9xFfWvmfLJ85cabi7+tf//rm9Z/92Z+t/Ot3bvHb1j9ZFrOcv/jFL14E0C6LNFf6wdIyuq19r7KCr33tazfL6+c///mLRz/60Zf/P/axjx0u2XqVLqf+1tIyurQuP/b3clJc2rDvA+QktrTfs571rIs3v/nNF1knX8fwmc98ZhNbr3vd68TWQiOcuo6wn7YAu+Xtcx0Lfuc739kcJ+SY2nDnCNiHunPa0pwQIECAAAECBO4kAQnyK2rNJECe+tSn7v33yU9+8opqNvbP5Oq5dFinE+gmDB//+Mc3B/VveMMbfqbK//Vf/3XZ+Z7ERyXR8/qlL33pRa5UmA55r773xje+cfrx2f+/7777NjGaq5+Whtw+/jWvec3Fk5/85E39Mh8vf/nLL7797W8vTTbM++n8TCdnlsm77rrrot8O/+GHH94Y7LvMntKBk9/+vd/7vUvHjHNSxFpDOlb/6I/+6OLXf/3XNx2s6fD90z/904ttJ3McU5+YVHIvVzvVkGR5vT/icp326D5V1xo/8YlPrFk5apwrJ3IyRMrLFcFZJ+Qkk7RL/Ub3OupHTLSXwB//8R9vzPsES7Hbv7P26z//8z/f1O3++++//Lm3vOUtm/fe9KY3rV2FO7L8beufX/mVX7n0TRJuadAuSzJX+/7SMrqtfa+qhknM1bo8idsM//zP/7x5Lyc97jo58qrqetN+Z2kZXVqXHzN/aZsnPOEJm/aqtpyO3/e+9x1T/EnT5CTKJOpTl8c//vGXj+cRW/Okp6wj7KfNm257t/ZhX/ayl2372l6f5TislrdzlLfXj/rSlQjYh7oSZj9CgAABAgQIECBwoIAE+YFgx379b//2bzeJxEp4bhuPerXwsfO/NN0//dM/XV6R+elPf/pnvpLbk5dREkqjD+lQ+Z3f+Z3LOs9dgfaud71rMz81X9PxJz7xiUfM5lUmyJPYjnPVqTp2H1Ghi4uLdED379X3a5zPRk/w5eSFqm/GuVKkhtzuun+2z+ucGHDK8O///u+b38wtt889JDaTBK8Op6VxOi7O1XF/Sufkuef/kPJylXj5/MZv/MblyTm5Wuzuu+++yP9Ly0VOasp6u5KZS7+Zsqr8LEs15Kr1ulotVxueqx2qfOOfFVhKqizF7s+WsM47OVmlYuSd73znI34kcVifpRPZcJjAtgTqUvKtfkG7lMT1j5eW0W3texW1zn5rxVGW1T5kWa5lNyfNGg4XKNvpSSxL6/LDf+HiEXd0STL6RS960eXjT3LHm9y9o9rwXAnybOtTVvYfHnzwwa1VzskV+f3sK2SfoQaxVRL/Nz5lHWE/7f8c93mVRxDUcpFl5tRBgvxUweOmz7Fw1kP5y91Yzj3Yhzq3qPIIECBAgAABAgTOJSBBfi7JHeX0BHmSp7n6a9vfl770pR0l3hkf5wrdJCBztcbckGRUks7p6Bh9yK2RK5naE66pd67wqM8yToL2H//xHy/y/MAXvOAFm8+SXP7mN7+5mdWrTJDX1fpVz7lEYBKtuYK2vpPOwiT1Mx9JLNb7ebZyvyp7M0MDvEgHetWzxr29fvCDH1y8+93v3vn3jGc8Y1PO9MSGY2Yzna9Vn3NehZ/O13Qm986rtHU6VPObWR/VZxnP3fngmPk5pXPymN871zT96vG+LO4qP8tu/JJEXxpy54JcNZ7vzZ1E88UvfnHTFp5HvqR4vveXkipLsXu+X95eUl2J9Zu/+Zs/c6JEOqK3xdD2kn26LYG6lHwrNe1SEtc/XlpGt7XvVdS612vurkA9hq6iPnfabywto0vr8mPmv+8TTR8D87GPfWyzjT5XgjwnVdQ+2LbHZ+S4sL43t38gth7Z2n1Z7Cft7lpH2E97pOO+/z3vec+7PDkojyY4dZAgP1XwuOlzF7xaxyRJfu6hr6OmJwHbtz23tvIIECBAgAABAgQOEZAgP0TrhO/2BPm//Mu/nFDSnTXprgT5TZnbn/70p5vbZM8lGHPVRyU/59o/VyDX5//wD/+wme2rSpD3W8NXPeYS5Lnivz5PYn869Pk4x7Oap+Wf+n+effaUpzxlMw81Lz1Bvu9v9NidHujvW0b/Xq4Gqvq8/vWv7x+d9Dp3LqgOjyR/0zk4Hb7yla9sbtuZ7+aK9lOHYzsn9/ndtGPiMydmnHPoV8HkJI9Dhn0S5HlsQXxzhc3SSRD53Xwn5Z0y5BmO6bDMLdwN8wJLSZWl2J0v5bzvZlms5XXpxJtXvvKVm++knY8d1lqOjq3PVUy3LTmylHxLvbTLVbTO/r+xtIxua9/9Sz/um9kPrBOs5vafUmpOjKzlO/tdpwxJYNy2Ry0sLaNL6/JjfPPooGqj6SNvrjNB/vSnP/2yXjlpeG44Z2zlSs9cOZ/k/U0djl1H2E+7/haXIL+eNlgzQX6V+1DXo+dXCRAgQIAAAQIEbrKABPkVtd4xCfIk3XLFbv5yRvvckA7u+k5ezw25IvYLX/jC5VXM3/ve9+a+MvtekrO53V8Sutum2/X76TTs89DnqxLHefZyldOTjZnvvJ8y+jD3fq5YzlUCSe4tefUy8vrrX//65TQ9QTpX9nS66f955mQlN6dXnfZbxT/3uc+dTnr5f+pR0+d55DUsJcjTeZBk9Ve/+tWLpXavMnaN41a3hu9Xh8918L71rW/d1DNXxU+Hhx56aPP59CqCat+qb9o5ybu02dLV5ondxF/a9BwddX/3d3+3qV+f197+03ma+//zn//8ppx+QsP0u4mlPDMybZVxDLYNf/mXf3lZbpKjmfdzDNVhnw7ff/3Xf10ssj/feFuCPm2Vts/zzKedx73wYzsnexlzrxM3WUayvMTpHEnylJn4yi0Fq2M8V9nnvfzVOinrofxf7VjT5b3UJ9PGezpd5iNxn6vL851tV4klnqoO6fA+Zsj6OldqpE65e8BNTZJnvZhl53Of+9zWWOtGaZMsa4mLPC5h27ZgKamyFLv9d9Z6/axnPeuy/bfdiSDtWTGSZPkxQ5zOvRwdU4/pNDlJJXdSyCML0qFa24vp96b/5wSjxErWzUsnn2SabQnUpeRbprvt7TL13vV/TtzIdiLrsCzHtQ7dNV22xVl2s8/abyE9nW5pGd3WvtMyzv1/rjau5TLzPDfEobbJh56E1cv7wAc+cLl+zzp+lCR5ltWsc9N+SbBmWd5nyHY1388+xa5YWVpGl9bl+/x+fSfbimy7s2+YdsyJbLUtr+3IvgnyfbZD8Ur52Y+quMl6pn6z6pVxtmn1naUrO88VW1n/JjYTW895znMu69Prcq7XI64j7sT9tCyHOc7K8XxiK0NiZS7Olt7vbZ7930w7d1w+936fdt91xK4Eea9nLZv9d455nXJyl4asv5ZuL17L7Lb5rPVIvpN6Toe8V/uo2V6lzH2GffeNus1SudM2rDrnzhS1nsnJ1ZmHbb7po/jsZz97GVu71vdXtQ+1NM/eJ0CAAAECBAgQILBNQIJ8m84ZPzsmQZ7Og3RQ1N+0wy0HQXUVa74zfaZhElnVAV5lZJxkdDqSl4Z8NneVbZLZ6cTqQw7yquwkH+eGJIPynboiMgdTNc3cOLcqr6ESt8985jPrrctx5iHT5irm1OlJT3rSz5SZDtSlA89YVdlVh3QIpYMuHW15Lwdz+w71+3GbDt3obW972/Tjy/+TDK169FsvTxPk6RSd1jv/zz3DffaHZt7sV30nGV31mEuQx7Q+n7vKOB199fnf/M3fbH4tsVvvp31zlX3iod7LOJ2S6ZjLkPmZi8GUmQP2Y4Ykler38qztlFX/H5ogT2xk2szDXH2y7OUEgSq/j//6r/96MYHTE+9Ly9Mh854OsersSIxuG3qH1PT5npkuSdd0llZ5NU5nf5JZ02HNBEY6iMv0HEnyLPc1P3Pjus1qf4575jfzPff9ei8GNWSdU+/P3R61vpekUH1vrh3qe9vGWe/1df9NS5LHNbcXL4cap82zjMwNWYZzUkCSGvX9Gr/iFa+YTdYsJVWWYnfud8/5Xtb3Vee+HZj7jWwD893M766Oybnp8965l6Ol39nn/axH85iOmv8+Xmq/lJtlM8/j7d/P66wXcmLFdNiWQF1Kvt3mdpn67fo/+zv1nOTeJrHt+3a9nCRaXvayl20eHdCnyzp3LlmxtIxua9/+m2u8fvSjH30Zh1l3bRte9apXbeJ1aX22bfp8lv3eSmJmvXjdSfKcYFePfujtl3Vs9i3mhpyw97jHPW5jUdOlnNrmTqdbWkaX1uXT6bf9P1f/qlOdsLQrQX7Idij72FX+3DixXENfN247MfEcsZVjzzrBLrF17iT5yOuIO2k/LbGYfb9pbD3taU+76HeW6o906+vVpXVT7WOl/6EPS8tmfeeQdUQ/Hsm2oQ9J2Pa7PGQbccqQvpQcr9V8lVf+z3o1n9fQl/+s76d9DDlBvpeTE4b6kH3/uf2VHFMu7ccdum90TBumH6HmezrO/EyHxEydSNS/n23S3Am5V70PNa2v/wkQIECAAAECBAjsEpAg3yV0ps+PSZDnp/tzradXHb7//e/fJIlygNgP4tLhmPcqiTQ3nuuASofV3Hf7e/22rzn4q8+WEnrpXMl30mGdYVeCvNerksFLCfKUWb8/N57rkH3zm9+8dZoqZ/qbS6HQk9vHdlImIVy/25PoPUFeny+NpwfiS/Xt7yeBUOXFpc/LXII8V3XV9+eunE7nQX3ek/Y9QV6fz43T3jGc+6zeO+aKySwbf/Inf3JZbmImHYzHJshzVWPVZe5K63Te3HXXXZvv1Hf7OB0Lc1eIp54V89Plvbfbvq+z3qnOizxzfNeQjpX4T9s28/T4xz9+U1aV2cc9bvM7vZPmkOc/7qpjfX7O5N6uBHl5ZJ1a85x6ZF1Y/8+Nu0nuDlDfWeoIq3mr35nrmKrv7Brf1CR5YqWclsbTEwxypeq25EbKSYf/dFhKqizF7nT6c/9/3333beY9VzFtG/7+7/9+893piWvbppt+ds7laFr2vv9nvZf2WWrvvJ/1dr9iLdPkEQLbpsln07tmbEugLnXw39Z22bf96nu5cr/ukrHULtMTP5LEmUuS9ulzEtb0LjNLy+i29q16rjFO/arOOaFj29BvNZv9rmOHUZLkfT+jDPo427HpSQ49Qde/21/njkXTYWkZXVqXT6ff9v+2bcg+CfJDt0O7EuQ9cVknjCUBtW04V2ytlSQffR1xp+yn5SSEbfHcl7M6MTlx1derSwnymvaQBPmh64ilBHn2a/uynuOSuqPTtuVi22e7lsP8Xh/6vsp0/V377jHKySp96LcvL8M+TuJ8evLLMftGx7ThIQnyrMtrPdzrX6+zvu/HfDG4jn2obu81AQIECBAgQIAAgV0CEuS7hM70+bEJ8hwcVWIvCba65W6u5uzJ4enV5X/xF3+xSdAloZhOyBxE5gCtEnCVKKxZzO2667P8Vs6kz+8kmfO+971vU16mq1uYHpMgzwFuys1fXSWcTp96r3eCV32myeq6grySjvFNZ1KugE7nZL2f6fvQryLOd5LUz3ynUymva7qMp7/Zy+mv0yFb01X79M/3eZ2rQ6qM3pbTBHmckvTPfCQ5lzrWdNOO512/m7PSn/CEJ1xOn4RtkqC7EuSJx9Qhv5k4yMkONaSzttorn/Urq6cJ8nQixCqdIImzfieEmp9caZ32TKz1W9jn88TzIUOP35SV4dgEeV+2prfTT7lJptY83H333ZcdBXHNspeOlvosvz831PK+64rvuWmn7+XKi+q0mLvKe/r9pf+f8YxnbMrJcykTl2nfWFZHSTpFar2QcnonTe8sOWcC41zJvayT0iGcuyKUV07syXv5q3VS7/zKPNZ0+U51YKdTsqbLMlVDXVWZZWPX0J8x3U13TTf9PPW7SVeSp1O34intkGUpHYa5qr4nhBNrfR3QE2yvfvWrL2+jne1JTraq2xmnvOky0Dtau91S7PbvrPE6na0Vf7tOosj6s76bdegpw7mWo2PrkG1XzUuueEuHfZa5rCuyjarP+klbOYGg3s8ylZMmYpa7ZvTE+XQfYNv6p2JveueG29ouh7RntgexrjbJticd6VkHZrlbWg6zna9p8ozl3MEoZeVku35SVm/71GtpGd3WvofMz6Hfzf5PzUfqvm1IbNd3s+93ynDdSfKPfOQjm3lJG2e9lOUw+0Z9ue7LYfaHav6zzCVZnu9nv/aNb3zj5rN8Z3pixNIyurQuP8Q2v5Vtd8VdtjO1La969CtIs1/Zh0O3QzkmS/nZPy6P7GPUb2Z/u4bUJd+ZXk1bn9f4nLGVepzzSvKbsI64U/bT+vKQ7WNOFIt/kt41jxVzayfIj1lHzCXIszw8+9nP3iwrma9tj+GoZWLbuJ+ok+U+248sQ9mPqH36OPULA7JPXstjxjkeytD3yR772Mc+4tbkWU/XNFlPZpuYbWO2kf24Yrqd6+vQffeN+rZx35Mc4pjlPRdeVFyknLyXfekash6sO6Xke9kvz3vZT3/d6163mbav7zPtde1DVb2NCRAgQIAAAQIECOwSkCDfJXSmz3uCPAnGJL+W/nKA1oeeXExncQ6qetKjrm6saZKMqiRcvjcd+tXK6YyqIR2VNV0O9KbDBz/4wc3nlWQ8JkHey63EaOZrbshBVuo0TVb3BHnVpU9fid9M2w/uenIzSYHpkLLKYPqb0+/W/+kwq2mSaD90SOK0pn/JS17yiMl7gjydAdOrxJMkqmkPTaj2BHE6AzLsSpDnO+nE7L6J594eabN+5Uum6TE8d/V03Go+Mp46pIx+EsG2RwTku31Ix2vsUm4SvTX0+e/Jtvp8btzbY+mEhCSQa16m7ZWO46rL9OqL+r2UW9P3DtL6/JBxPfMtHRlzt8Tfp6ze6ZOk8XS4//77N50ivXOnd9KslSBPXc6Z3EvHV3UO5Tb806F3ZE0/S7tm2rrSbPp5dSrNXck8/e473vGOTT1yVdopw01Kkue57+U/l2TqnZl1p5GeXJhLNvU4nF7R0zuRu3Gfpsdu/84ar1P/zH86UncNWbeUVR5ZcepwzuXokLpk/VzzkW1H4rUPWWfWLUnTsVxD7rBR003X3ymjEmn5Tj9RZVsCtaaZJshvY7uU877j3rE+l8TrJx/1x9fUFedZP063d72tso/Rh6VltE+TDvurGvqtmXvCaen3K9YO3W+bK+86k+S1bGadNV0OU9d+cl1dRZ51TS27Oa6YDn29nLu79KHcpston6Z//5jXaZPUb249vJQgP2U7lMRleczdOajvl8xdVT+dxzI6R2ydM0l+E9YRd8J+Wl/XZv2a+OpDtodZfirm+vqqr1f3Ta5W2RV302XzmHXEXII8++RV57RTYvOUoS93qWPfT0i52TeppHZOfulDj+Wc2JVpaz5Tx+mda3KcXHWfHhdmu1fHD/lO9Vkcu290Shv2q9zn+kj6ybtzd+jLsXvNZz8h9Tr3oXq7eU2AAAECBAgQIEBgSUCCfEnmzO/3BHklv5bGlazsVXj3u9+9SZr1q4bTKTTtVMzBUZU912GVcusq4J4Erqu5556jnWlyAFjl1tWvOdCr9/a9xXqfr1MT5EtJxv78556srflOR/z0YLjqVQnMblOfzY37led1lcnc9+be64nh1KkOjOu7PSG71NmbqwGqDWq6XeN+q/ScGFHDPgnyfDfJqfrN6TjxNx16gnx6S7r6bk+6P/TQQ/X2ZpwrBOu30jmx75AOx5ou9ajhmAR5n6bHVZWZcT/RZO7kjSzfSTovJT5z2/aq79Ly239v2+veOZ0Op2OGLEvV4VFXSkzLqVs59o6x3knTk4xrJDDOldzrHdHnTJBnHV2GSydWdNPeSXVIrPcy+uubkiSvK3Yynhuyzi7H3Ao1Q2xz9Ur+5m61mfdrmn6CTKZdSqosxe5cnc75XnVa5+qjXUPv3M0V0+cYzrUcHVKXfoLN9Nb5Vc5rXvOaTRvWNjKJ87Rt/V/frXHvTM9JXTVsW/8sdfDfxnYpr33H/dbEWY/ODdnGZ1nsy3ddfZb2nBuyLGSabGP6sLSMbmvfPv25X/er55Zisv9mJUSWTqjq393n9XUkyTOftW5d2q7lLkP1nVq+sx6vdfb0hJjMa/abapqcFNWHpWV0aV3ep9339TEJ8lO2Q31dPpcgT6KyPMpw27ycO7bOlSQffR1xp+yn9bvtLB2X56S6iqk1E+THriOmCfKc3Fj1zYlyS8ci25aL6Wc5Lqkyp3eDqO/2Y6jERx/S/1DT1zoj//dj6nw/67j63nOf+9xexOZ1P/mzjpeO3Tfq28ZDT3Loxx5zCfJ67vjSdiv7WjWvvc/iuvehNtBeECBAgAABAgQIEFgQkCBfgDn32z1BnoOnPA946W+uczEHZukAqsRZjXN78OnQE4JJZM79VTIy4wzpsKoyD3nG83UnyJeuxuzPbs9tuqfzOHel4eWXLi42V/jumyB/+ctfvrGrMvYZ5+zwStjHfi5h2hPk/Wr/Xn7mpdquv7/0OrePe/KTn3w5TX4/SfEadiXIE4c9gZuD5dzSOAmMdBBUPdKZkd+pYZ8EeToOavqaro/TAVyfz5253r9br9PBUNNMn8Hdk937JKLTkV8nT+Q26EtDOoTrNzPOVbG5umzfDp252F36rV3v9yvIe5Jo13T98347xjxTe+6vrgLsnSa9k6Y6fFLuWgmMcyT31kqQ96vL9rnatxvlBIVzDKMnyZPcro61bevnbRZZp+aOKlkfZblL/PdlYPQEeS1H+175V1c3ZT18ruEcy9EhdelXJM3t++wqK9uk3G79LW95y+WdR6rN60rAxFRf9/Vlq3fg5neWkm+3sV12uU8/z75ErON+zJAkYbaTWT/m5IZqx4rx0RPk2e+u9dc+89+fYztNvOwz/dx3rjpJ3u8uc+xjHpKcS0Ivx0W5Q03avZIw8bwpCfLeHoduh3YlyLNOrtiaO07ov53Xa8TWOZLko68j7pT9tP5opTy2Zm64qgT5seuIniCvE3CzDGR7sDRPc/O57b1+2+/c/Wru2KYnvqfHcDlurO1TLZ/Z/qU/pQ9ZL9fnSarP/U4/oa9Oij1236gfe50zQZ7tVM1v5nNuPnKHi5rXfuLmCPtQvU28JkCAAAECBAgQIDAVkCCfiqz0f0+QV8L20J9KJ29PvC2dGZ4rkfv3dr1OPXI1bH1vqdy5+t6kBHkOuGsek0BZGioJum+C/NAEdX43ydaeUP7ABz4wW501EuRJJJRDvwVaKrArQZ561rS5GqQnwZOAywF9fZ6D9BquI0GeKxdqWUiSd3ql0qEJ8sxPzVsSMtuGdBbXd/s4nSM5YaW7Tcvpt+zf9TvTaaf/v+IVr9h0VhxyW/peTiWNqtNj17im7Z00tz1B3pNySye6lFvGPVFfV0r3z495PXqCPLekrNjKSTiHDHl+Yk9QVTnT8egJ8lrWcgLTPkMlgfsVuftMt+07V50g7yfgbKvX3Gc5AaoMpm3d/z81QX4b22XOe9t71XG+78kdvawka8q4t1t/PXqC/NArmLPfWPN36J2Hul1/fdUJ8p5gWkrE9Pr117kNdE+El8V0fJMS5Mduh3YlyPu+1NwdxrprXq8RW+dIkI++jrhT9tP6o4CW7sxxVQnyY9cRPUE+XSfsswxMl4m5/7vT9Dfm/p87OSUnZPbvztWtPzKpf3fpddomw7H7Rn19sbRert+e3oVv2xXk6e+p6fYZ932B2r5f577tXAx4jwABAgQIECBAgEAJSJCXxMrjcyTIc3DWk21LV3pXgjffzQHWtr+77rrrcs7TMVBl52qOfYeblCDvyeZc9bw0lN++CfJcLV12S50R/bdypWSu8KhpkrBeGnqdlxJrhyToc+Z9/W7G6bzof/3W9DmQrc+qAzcH05kuRnPzmsRvPY88V4vUcB0J8v68+STPal5qXPOS+Uk85P10DswNuSKgku2568I+V3yl7dJRUY8u6O7pTF96fl4/CWH6HLu5um17L8n46shYuoVgnz7xkY7rnlCqTs2U0+dh7nWMauidNGsnyM+V1OuJ6XPeYr3f5jvP6Ns1pB2q3aZXue6adu7z0ZPjqXO/yqY6COfmZe69xz/+8RuvXKmSK6hyoleeb5vlqSxHT5DX7aSzbO0z1JVV/dEG+0y39J1zLUdL5c+9n/Vwtc/c50vv5eShmi7jlPOmN73p8gSknKD0tKc9bfN5X5/1JMh02apO3KnnbWyXJfel92s70TvFl77b3++3zk0ZuZNM9omyvUo71pVnoyfI+xWASZTuGu6+++5NfO6zP7GrvKtOjqc+Oa6pZXAuebRU51xhXctaps9+Q05YTDI8bZ6ryavcm5QgP3Y7tCtB3m85n5OCdg3njq1zJMdT59HXEXfKflqeiV3Lz/Rq5oqdq0qQH7uO2JYgzy3W65i05ueYcU9A5yTDuWOa/t7cY7X6419iPvdYrRxbVntkO9bLnHudpHuGY/eN+rHXORPk/STWLMtzde/vvehFL9o0y3XvQ20q4gUBAgQIECBAgACBBQEJ8gWYc799aoI8HSh1W/R+ADLXKVUJubp9+j7zkg69Kncp8T5XTk+Q56BsbshtE1N2kqrToZKUS3WtpOQ0WV1J2ENusZ4kUc3jXPKr6nZogrw/H753xFd5fZw69FuJb0vUZ7pzJ8jTRmVwyLhuaVc2224xntuqVdmJ2wzXkSCvOhwyzskGc0NueVfl7Ht7915OrmZPx2Ytmylr6crg3kZLSfRe9rbXuWq8OmZyksC2IR1OymRGsAAAFsRJREFU9d2+rKbjKO8nUXHI0Dtp1kyQnzOpt1aCPG7VOZzOy11DvKotkuQ9ZbgJyfHMX+5eUfPcO9Z2zXu/hWe2B5nfPiT5VOWOniCvDtEkj/YZar5yO/lTh3MuR4fUpT+X9pD1Xd2uNwZzncD99qR9u3xMgvw2tsshbZjv1nYiV/TvO/Rl/lGPetTlnTOm02ZfL208eoK8J4KyX7xrqGeyZr5PHa4jOZ46Z5+m1kFziaGl+erL5twJon2dflMS5L3Oh26HdiXI+8ljuRp113DO2DpXcjx1vgnriDthPy23C6/lsm/7etzskyDv++192io728U+1Ekv/QSzY9cR0wR56tJP/Fg69u/12fX6xS9+8cYpx9qHDnk8RFnUOAbT/Zh777138726ffo+v3XsvtHSsVf/zarvtA23XUHenyffb5/ey116fZ37UEt18j4BAgQIECBAgACBLiBB3jVWfH1qgjwdSpWg61f5pvOwkpBV/SR/67tJTO47VDI6Sby5IYmGHHjnCsiPfOQjl1/pic+lpPOzn/3sy/r0pFuVn4Om1PUqEuT5zUqsp3N96TbXlQSeJuWrztNxrmQr77kTFvr341ffzcH5riuHzp0gz8Fv2mPpLwmkql+M6nv1jO68l8+XYiTzWu2d71WyqsdJzqafG/qJA3Ofp5Ow6rZPkjpJo6r/3LjmJWXmVnv5zlznY9qoTk5JbEyXt17XJJnT8ZS/uVua5wqVmocsb3PtnysS6ju97GNe5yr/6rRKh0i141xZ/Sql3Jq9hn4bwqXOtvpuHy910mxLUPXp93l97qTemgny6hzOVWa7ht6hdspdBG5Kcrw8KlZjNTdkeUnHXJ5Tm7bPkKuAq7Nv7pEEWc/X56MnyHuH6Ny6oZv0zspcOX3KcO7l6JC65I411T733Xff7KR57EQ9k7ruXFLTZD0+N/SrUPt6a9v6p+Kvd/Cn7NvYLnOm297r24msR+eGxGnaMftBGXJiQ7Vj3+b0aR/3uMddfmf0BHlit+bls5/9bJ+F2de1PfiDP/iD2c/3ffO6kuOpX+42U/OcZWRuyLJXy27dfrgSuJl27grXfneIm5IgP2U7tCtB3k9e3HVSbdrgXLF1zuR46nUT1hFld5P30975zndulsu8nhuWEuT9luFzx0Mpq5b5aXJ1bvt57DqiJ8jrrkvZ9ueEovr9HGOcMvRbn+duW4cM2a+sWEl9+v5G4rwP/dbkOc7cdzh23+iUNtyWIE+9q41zwnQd3+8zP9e1D7VP3XyHAAECBAgQIECAQAQkyK8oDk5JkPdbq+eWYOk4z4FdJdGmV3wn0VWf5ertuY72T3ziExe5Sq/fpiwHoTVdroaYDp/+9Kc3n9dt/nKAVNPMJfyS3KnP5xLkudV0Ps9nc/WspP00WV2J7qWzyJNArd/tz3xP51K9P5dkzYFlfT79zalH/d+voi+X+qyPewzkIHmfg8tzJ8h7feZe73oGea5CLp+52831RHhitYb+/lUlyOu3l8b7PoM8HQY1z+lU2jak06ROsEhszsV0XKq8uc/rjgv7PqttW33yWU9U57fnEvy5g0TdyjadPf3KkX6b9nTmz9U5Cd10CiVpV0P/3V7etgRVTbvPeI2k3ikJ8iTqYpcrkOaMEg/5fJ8rBpNIynfz1033canv3LTkeOqdRErN90c/+tGalc24X42UW6dn6LevrMRbTZB26GVOOy6Xnhu8FLtV7lrj/rvbTmbJ7/fbXWb5O3ZYYzk6pC79cQLZ3k+3i7VO7ctO2rWu9Mv7OfGoD7Hpn6eTvoZt65/q/J0myG9ju5TXvuO+naiERp82CY9qk7rjQY/htP10SHK01gdpmz70Nllj+9J/a5/XPa5q3bQ0XWK8LHKi5LHDdSbHU+fMR99vmFtn9cRIXaWZ/ZBq1xyL9CHLct2ON9+ZPvJpaRldWpf3svd9nccE5LfTRtMhJ+tU3ftja07ZDuUkgSozj4aYGypeatmZ+07eO1dsnTs5nrrdhHXEnbCflpNSKp6yfNZJZRUzOQaoO3Pke7kSuoac3FPTzh1f9ztl7JMgP3Yd0RPkeWRODX09m3pmHXjs0BPXOQFrbl/7K1/5ykXWB9Pj3fQllFOdHJRjtnqv31FjajB3x5scg2UdlkdM1HDMvlGmPaUN+50w5u7u0fen546Hs2+Wk93yl/muoW+v57YT9b2M+37BKfu2vUyvCRAgQIAAAQIECOwSkCDfJXSmz3tyNM9GzUHItr+vfvWrl79cB7KVUKuDtHQa52Cs3u9XLucAJQe29VluS/aFL3zh8iA54yRf6rN+S+k8F7Dezzi3AsuBTA4i8/zrSvxlnOdo11BXgWeaF7zgBZfJtfxObj1e0+SzvJ4OvS7pPEkHWj9IPXeCfDqPOQDM/OUgu9cl9d03QZ42yvfzNz1ZoeY3HWn1nTjkADlGS391ADlagrwni5MQTBIrJ1kksZ4TKOpK68xrPwHhJifI77rrrk3bVbtUu86N0+FdbZ2r4mOWmM6JGj0pP03Wpax0KNQys6sjdO63597LuqJ3YmeZSgd+OtHS+ZMEWb8qY3rrvKxP6iq+dP6kjbO+SYdOxv3KiXTw1NA7RM6dwFgrqXdKgjwdQtU59ra3ve3ia1/72iMSd+nkq893xdG2Dvry3TZOHL30pS/dxGESfv0q2m3TXudnvVM0VjkRLOvAbPeS/K4kQcZ1okd/jEDezzON00GY7Uk5lnuWyz4sJVWWYrdPu8brnnzpHaVzv7V0Bdjcd5feW2s5Wvq9pff7rU6zfkkHaRJl2Qfpz/XN3XNqyPeqXZ/4xCdePm8+V55mG1xxUp/3E9d6B/u+zyC/re1S1vuMs53oV9SlTbNvleU3+1l9G1Tbg54YTFtl2xPrtFe2f9V+Nc42p4alZXRb+9a0a4yThKp69v3qud/KdrO++9a3vnXuKzvfu+7keFUwd5OqecmzgWt/J8c3ORG0PssyWkN/bm/2PdKWWY/nOCm36K9pMp6ebDFqgvyU7VBc+gl2n/zkJy+31/3q+uwXxmPXIwzOEVtrJMczjzdhHXGn7KflRNtajuqYM8dqn/nMZy6yLNZnGfcEeba7/bMkf7Ouybb15S9/+SM+2ydBnnY/Zh3R9wV7gjzl9Suks13J8eexQ/Yra36z/sq2J8drOTbKyTm1L5EEeo6lMvRbq+f92i71ExOynup3UsmJQPU7GWedl3lMn0T29fq2M9uwGo7ZNzqlDft2LHGTtu/HDjl2KZPMR+4cmBMQE1tZb/V96vR11XDV+1D1u8YECBAgQIAAAQIE9hWQIN9X6sTv9QR5Jc+2jV//+tdf/mK/tXo6/vuQhFuVMb3V+kMPPfSIZGV9r49zIDM9sMyBWv/O9HWSa/2K7NQnHUPT7839n4Ot6ZCDr+l3+1nL506Q5/f7M8Onv93/3zdBnjJjmWlT337WdM1vTxz331h6XYmA0RLkmZ8kRJfqXe9Pk6w3NUGeW4LWPNVVAtWmS+N0ePSrxGv6Ps6y0Dulqqy+TO+6Cq2m2Wecjpie5O4dNf111iP95JcqOx0gPcHRp6nX6eDtJ7eslcBIJ2slf+M4d1vtqveh41MS5P12wWWSREAN/cqM2CwNPWmUk5uOGdIOdZLUTUmO13z2zs9y7ON0PFaCrabpnXL9u/+vvXPnkZqHwvCPpqfbioKOCtFQ09ACFRKIiouEhKBFoqDkB+ynZ6V3dD7LyTizc8lkH0srzyaOL4+vOcfH6f2m/cTV53INf6rt1jCn+E29RfjYs96qaUbIjVC3N+fUsL3fp+xHvfTmriHQZe7s1VeuYblUFUasHXJvn88Gv7g5BeqU8u2h1kuYjfpsbAjDqTqpQnPirX1t6plczxHd7XN1PJir39FyHBouSk4YzPVJ1ncpE5sIDnGsD7KmYHPnJV1vM0PKh08+WRfF8d6xbz2R59uTdNK+2lMepsbypLnEz8YqxuLWVUVPtSAnXM1D8j/l13mIZ+sR7XmGd6s43gVzvSrQcj/+MdoWa1PaMvWGojWb0ZLGffy1jxFbWafxzlU3vqbt9Pz2XaQqjXvhc21UQU57WTpGzCnIia9aMvc2G4+2URTCWUulXK3PmBNGKMmrMrtaipNm7ceMB9WNcG2/UX7I2og0R9KinG0d8ixja8ugloMyZ53ahsv/KM7rGHfONVTNq78lIAEJSEACEpCABCQwSkAF+Sipe4ZD6Rth1oiPdRhWcwmL8Di7lGtW2NGdMO1xVwg1EKqgREoYfF4Gud5ThBE3yrAoV/IccWANy0t3z2E1EmV2fQZhaFVmtc/yAlUtbnm2pyDnZbi6KJzbF9CEqRbbCNJbR35zTHvyS5w/fvzYsWrTbOOo/yNUSTxVWJswyW/C7POzQaJavE8dTV6/OZ/0DvURFiRvKMKnHPxoRwkbH6a8PNcXY+JA2JEwbBbpOQQoCdO7j7V97mP5eF+HIDHxYTHTc3yGIGHqMb29sPUafQuL4raNERdxcnRez6HIIQzCyVgr9MIdco34EJq0FloINLiGYKatt5oObQPLuFYwghCOMrVC1Pr9vHqkIJYZEaKkndd0Rn6jfKAsx1SOk261vGBcat3Tp093eW/vwa7ep4xVQU54xlGuU79TDiuM8JkThE89n+u0aTaqVOuP3DvUx7pm5I/v8Y6ES5iqCCBvCCPbDR20O4R5vfLQNutJBuHHnARD+mGuVet9BKu5Xpm0bZe+w2kZye8+f2n569hSLdgoV8+hYEq+5zZb9J6t147dj2C9j029Xy2syAvrkijAUj6OW56aM5hrGS8TFp92wvGnjA25ztwSNzf+JG0UZK17SPVS62jfb/pFVQYz7tCv2nmCPsjY1nOc9hD2qTM2fnC8KhtDc+3Dhw+7x9s+mhu9+mV82VeO3F/ad+vYVZWnrAmnXMa2qfXr1HPtddZBx1SOh8GIX8cs8kXdtEpv6pA1Q28c412ip1Cm7bAxNHXO+qK6tJO2j7ZjOeP8SDkSppYnRyWTVuvq/Nwqsw6dh0iDMlfFG+WvbYt+FSaMk1PuWG2L96beum4q3SXX1zhG1Pxf+zotZUEpyZH9aTfx2XhZFahR/uY5xvN6ykOeo38zxqWft5v4pvpm4l0yRvDum3TJa+voa/Vdhvfj9OURv649WLuzjmK8Spr4WIdTxrrmZC2SMO3mHfLIJr6ar3bOY15o+zlzJe/TbdiU+ZC10aF1SJqMO6nLlDV5iQ+TjJMJg0/fmVqvnXMNlXzqS0ACEpCABCQgAQlIYJSACvJRUlceDmERCvf6zfF9RUIpgLARC5c5xVmNh5darGCrEqLen/rNyyrPITSrwtap8Me6TrpYNIQLgpsoROcUxL30b25u7p5l08JDcShFUYrQttrTCB4Kg33lpG3RthEoVAvI9jk2wCBcoP3x7dVTOoRLKK0RCs/laSoPCHPpNwjgdP8nwBiI4o76bscyFD4RJk1tNmIzDWE4hWBtLnk/to9AseeYgxDeMsaMzEGZs2jbPaVML42Ra1VYO1L2VtC67xkUEXHMnQk/tRGITzUQBiHm1Ea3xHdOf5+VWMoVv7W+Sl6Zl+lDo+ML8zZ1XgXZietY/kOql6XtF/6to79SH1h9j8wxhGdMpN6r8qKN95D/Ry0p0y6X+O3YFeXHs2fPullF+ZD4e5s3uw+d6WLyNeLXMatmj3GXY76n5rcalt+EhwPjfDtftmGX/I/yeqQcCTNVniVpJuyh8xB9gM2T9AHWWO2cl+OWUVD23JrbVi+/axojav6ufZ1Wy8Jv+hV9jHUUbRM38okWnkMGwNw6Ohe3aff+XzpG9OJorx1r7cH7Gu82o+NXm4/R/5kTeW/mHazt53NxLF0bHVqH5I8xmfl7ru7JOzIiNrDvW4te8xpqrk68JwEJSEACEpCABCSwDQIqyLdRj5ZiAQGE8lPWPW/fvt0pyKeUE1NJYUkV5fopBfVT6Xv9ugnklAmU5K019nWXzNyHAMKkWJfwfdbWVQE3Qsm1ORSyp/jjO9NrdigAl5QbJdmS8O1mrAh7Uey1ykUEuLHOPfQEhlOxZnPYknJjjXZN7qHUy6NHjxbV45wAfQ31y4kdS9rlkrDt2IWVZJSuvePTswGqtYBeA6cl5W7HrDXkv+aBkwC2VB7KhtIubYtTF1q35rbV5nXN/1/7Om2E7YiCfCSetYTZ+tpjLZzvm49rXUPdt9w+LwEJSEACEpCABCSwfgIqyNdfR+bwiASwzIgSmyPVYqnELuv6TUeUlEut4Ikjx45zhN2SXeFHLKJRXSEBNlTEerx+YuAKi2KW9xBg402E3N+/f9+FxqqGsYl7CLp1D5cA40HaCMeFVxcBI0pyT+2oZE7/23o5PeNrT4F1YCzWGcfrOpA1Zvo1m6F0ElhKgJMJaEMo/+vJDbatpSTnw299nbY1Bfl8bXp3LQRcQ62lJsyHBCQgAQlIQAISkEBLQAV5S8T/N02Ao3L5jm2U5PhYF9X/+f3x48eDOHCEXeJau4XNQQX0oaMToE3mW+V8kzNHIB49ISNcDQE20CDkRsmZYy+xKIzg++/fv6vJqxm5DIE3b97slGnv37+/y0T9Lui1WV9fhuLxU7Vejs90azFynHEU4WxowX379m137SF9hmdrdXvp8nCCSE6hYVMlm6RsW6eplS2v01SQn6bNGOt+Aq6h9jMyhAQkIAEJSEACEpDA+QmoID8/c1O8MAGOrEV5HYvdKLTxsfi5r2XPly9fdkpyvj2tk8AcAYTlaXv//v2bC+q9jRDgW31szEGJwqkTKECjUOGUC50EIPDy5ctdu6jH63rKxGXbh/VyWf7XkHr9jjFjOt+NZox/8uTJ/6zKr6Es5nFdBLDCxIKc9vTq1Svb1omqZ8vrNBXkJ2o0RjtEwDXUECYDSUACEpCABCQgAQmckYAK8jPCNql1EeDoyz9//tx++vTpzgIDoRPHYx7DYUF0c3OjNfAxYG48js+fP99iZeZxyRuv6KZ4bNR5/vz57evXr+8+58B3q3///t2E8t+HTuDdu3d3SjU4cNIE39bVXZ6A9XL5Olh7Dn7+/HnLuM5Y/+LFi1tOgKhHrq89/+ZvvQQ4eejx48e3v379sm2dsJq2uk5jw93Xr1/v/vi8j04C5ybgGurcxE1PAhKQgAQkIAEJSGCOgAryOTrek4AEJCABCUhAAhKQgAQkIAEJSEACEpCABCQgAQlIQAISkIAEJCCBzRBQQb6ZqrQgEpCABCQgAQlIQAISkIAEJCABCUhAAhKQgAQkIAEJSEACEpCABCQwR0AF+Rwd70lAAhKQgAQkIAEJSEACEpCABCQgAQlIQAISkIAEJCABCUhAAhKQwGYIqCDfTFVaEAlIQAISkIAEJCABCUhAAhKQgAQkIAEJSEACEpCABCQgAQlIQAISmCOggnyOjvckIAEJSEACEpCABCQgAQlIQAISkIAEJCABCUhAAhKQgAQkIAEJSGAzBFSQb6YqLYgEJCABCUhAAhKQgAQkIAEJSEACEpCABCQgAQlIQAISkIAEJCABCcwRUEE+R8d7EpCABCQgAQlIQAISkIAEJCABCUhAAhKQgAQkIAEJSEACEpCABCSwGQIqyDdTlRZEAhKQgAQkIAEJSEACEpCABCQgAQlIQAISkIAEJCABCUhAAhKQgATmCKggn6PjPQlIQAISkIAEJCABCUhAAhKQgAQkIAEJSEACEpCABCQgAQlIQAIS2AwBFeSbqUoLIgEJSEACEpCABCQgAQlIQAISkIAEJCABCUhAAhKQgAQkIAEJSEACcwT+A1ap9CCqlSejAAAAAElFTkSuQmCC)"
      ]
    },
    {
      "cell_type": "markdown",
      "metadata": {
        "id": "q45fWTUhOGSd"
      },
      "source": [
        "# Building on the Topic Layer\n",
        "\n",
        "##Adding softmax of 1000 units and freezing the layers for this base model.\n",
        "\n",
        "![image.png](data:image/png;base64,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)\n",
        "\n",
        "This will be used as input for the mail topic layer model\n",
        "\n"
      ]
    },
    {
      "cell_type": "code",
      "metadata": {
        "id": "hoKAbgl2OMBA"
      },
      "source": [
        "base_model = ResNet50(weights='imagenet', include_top=False, input_shape=(224, 224, 3))\n",
        "x = base_model.output\n",
        "x = AveragePooling2D(pool_size=(7,7))(x)\n",
        "x = Flatten(name =\"flatten\")(x)\n",
        "x = Dense(1024,activation=\"relu\")(x)\n",
        "x = Dropout(0.5)(x)\n",
        "preds = Dense(1000,activation=\"softmax\")(x)\n"
      ],
      "execution_count": null,
      "outputs": []
    },
    {
      "cell_type": "code",
      "metadata": {
        "id": "XZf6bgkiObrC"
      },
      "source": [
        "model = Model(inputs = base_model.input,outputs = preds)\n",
        "\n",
        "for layer in model.layers:\n",
        "      layer.trainable = False\n"
      ],
      "execution_count": null,
      "outputs": []
    },
    {
      "cell_type": "code",
      "metadata": {
        "id": "UcTMaSWYlWNd"
      },
      "source": [
        "model.summary()\n",
        "#All parameters set to non trainable"
      ],
      "execution_count": null,
      "outputs": []
    },
    {
      "cell_type": "markdown",
      "metadata": {
        "id": "qY5e1dcU341d"
      },
      "source": [
        "###Decentralized approach\n",
        "* For each topic layer : \n",
        "  *   Dense layer of 1000 neurons(number of objects) with tanh activation\n",
        "  *   50% Dropout layer\n",
        "  *   Dense layer of 1024 units(tanh activation)\n",
        "  *   50% Drop out layer\n",
        "  *   Soft-max layer containing the 24 classes required\n",
        "* The output of the softmax is returned individually for each topic\n",
        "\n",
        "**The decoding and predictions might work better than the centralized model but adds the number of parameters significantly**\n",
        "\n"
      ]
    },
    {
      "cell_type": "code",
      "metadata": {
        "id": "Mb3o8IzUPajd"
      },
      "source": [
        "# model.summary()\n",
        "y = Dense(1000,activation='tanh',)(model.output)\n",
        "\n",
        "k_1 = Dense(1000)(y)\n",
        "k_1 = Dropout(0.5)(k_1)\n",
        "k_1 = Dense(1024,activation='tanh')(k_1)\n",
        "k_1 = Dropout(0.5)(k_1)\n",
        "k_1 = Dense(24,activation='softmax')(k_1)\n",
        "\n",
        "k_2 = Dense(1000)(y)\n",
        "k_2 = Dropout(0.5)(k_2)\n",
        "k_2 = Dense(1024,activation='tanh')(k_2)\n",
        "k_2 = Dropout(0.5)(k_2)\n",
        "k_2 = Dense(24,activation='softmax')(k_2)\n",
        "\n",
        "k_3 = Dense(1000)(y)\n",
        "k_3 = Dropout(0.5)(k_3)\n",
        "k_3 = Dense(1024,activation='tanh')(k_3)\n",
        "k_3 = Dropout(0.5)(k_3)\n",
        "k_3 = Dense(24,activation='softmax')(k_3)\n",
        "\n",
        "k_4 = Dense(1000)(y)\n",
        "k_4 = Dropout(0.5)(k_4)\n",
        "k_4 = Dense(1024,activation='tanh')(k_4)\n",
        "k_4 = Dropout(0.5)(k_4)\n",
        "k_4 = Dense(24,activation='softmax')(k_4)\n",
        "\n",
        "decen_model = Model(inputs = base_model.input,outputs = [k_1,k_2,k_3,k_4])"
      ],
      "execution_count": null,
      "outputs": []
    },
    {
      "cell_type": "code",
      "metadata": {
        "id": "iH2kGd_x8vAV"
      },
      "source": [
        "decen_model.summary()"
      ],
      "execution_count": null,
      "outputs": []
    },
    {
      "cell_type": "markdown",
      "metadata": {
        "id": "kD6xCH6qksaL"
      },
      "source": [
        "##Centralized approach (a)\n",
        "###Creating n topic layers.\n",
        "\n",
        "####a. Each individual layer contains...\n",
        "\n",
        "1. Dense layer of 1000 neurons(number of objects) : Activation => tanh\n",
        "2. 50% drop out layer\n",
        "3. Dense layer of 1024 neurons : Activation => tanh\n",
        "4. 50% Drop out layer  \n",
        "5. Softmax layer for the number of classes\n",
        "\n",
        "####b. Concatenating these layers \n",
        "1. The final layer contains 96 units with the following:\n",
        "  *   k_1 = First 24 units\n",
        "  *   k_2 = Second 24 units\n",
        "  *   k_3 = Third 24 units\n",
        "  *   k_4 = Final 24 units\n",
        "\n",
        "**Issue: Could be hard to devise a learning function. Currently unable to visualize the output format and how it can be decoded in this format**"
      ]
    },
    {
      "cell_type": "code",
      "metadata": {
        "id": "DAXuZWFHkxqu"
      },
      "source": [
        "y = Dense(1000,activation='tanh',)(model.output)\n",
        "\n",
        "k_1 = Dense(1000)(y)\n",
        "k_1 = Dropout(0.5)(k_1)\n",
        "k_1 = Dense(1024,activation='tanh')(k_1)\n",
        "k_1 = Dropout(0.5)(k_1)\n",
        "k_1 = Dense(24,activation='softmax')(k_1)\n",
        "\n",
        "k_2 = Dense(1000)(y)\n",
        "k_2 = Dropout(0.5)(k_2)\n",
        "k_2 = Dense(1024,activation='tanh')(k_2)\n",
        "k_2 = Dropout(0.5)(k_2)\n",
        "k_2 = Dense(24,activation='softmax')(k_2)\n",
        "\n",
        "k_3 = Dense(1000)(y)\n",
        "k_3 = Dropout(0.5)(k_3)\n",
        "k_3 = Dense(1024,activation='tanh')(k_3)\n",
        "k_3 = Dropout(0.5)(k_3)\n",
        "k_3 = Dense(24,activation='softmax')(k_3)\n",
        "\n",
        "k_4 = Dense(1000)(y)\n",
        "k_4 = Dropout(0.5)(k_4)\n",
        "k_4 = Dense(1024,activation='tanh')(k_4)\n",
        "k_4 = Dropout(0.5)(k_4)\n",
        "k_4 = Dense(24,activation='softmax')(k_4)\n",
        "\n",
        "conc = Concatenate(name = \"Conc_2\")([k_1,k_2,k_3,k_4])\n",
        "\n",
        "cent_model = Model(inputs = base_model.input,outputs = conc)"
      ],
      "execution_count": null,
      "outputs": []
    },
    {
      "cell_type": "code",
      "metadata": {
        "id": "GNOZYXZkoF6m"
      },
      "source": [
        "cent_model.summary()"
      ],
      "execution_count": null,
      "outputs": []
    },
    {
      "cell_type": "markdown",
      "metadata": {
        "id": "NANLvkYev21I"
      },
      "source": [
        "##Centralized approach (b)\n",
        "###Creating n topic layers.\n",
        "\n",
        "####a. Each individual layer contains...\n",
        "\n",
        "1. Dense layer of 1000 neurons(number of objects) : Activation => tanh\n",
        "2. 50% drop out layer\n",
        "3. Dense layer of 1024 neurons : Activation => tanh\n",
        "4. 50% Drop out layer  \n",
        "5. Softmax layer for the number of classes\n",
        "\n",
        "####b. Concatenating these layers \n",
        "1. The final layer contains 96 units with the following:\n",
        "  *   k_1 = First 24 units\n",
        "  *   k_2 = Second 24 units\n",
        "  *   k_3 = Third 24 units\n",
        "  *   k_4 = Final 24 units\n",
        "2. These concatenated layer are flattened in order to give with 96(24*4) neurons(24 classes for each topic when k=4).\n",
        "\n",
        "**Issue : Could be hard to map the softmax outputs individually to the corresponding topic with this approach**\n"
      ]
    },
    {
      "cell_type": "code",
      "metadata": {
        "id": "tCreyK2yr1sR"
      },
      "source": [
        "y = Dense(1000,activation='tanh')(model.output)\n",
        "\n",
        "k_1 = Dense(1000)(y)\n",
        "k_1 = Dropout(0.5)(k_1)\n",
        "k_1 = Dense(1024,activation='tanh')(k_1)\n",
        "k_1 = Dropout(0.5)(k_1)\n",
        "k_1 = Dense(24,activation='softmax')(k_1)\n",
        "\n",
        "k_2 = Dense(1000)(y)\n",
        "k_2 = Dropout(0.5)(k_2)\n",
        "k_2 = Dense(1024,activation='tanh')(k_2)\n",
        "k_2 = Dropout(0.5)(k_2)\n",
        "k_2 = Dense(24,activation='softmax')(k_2)\n",
        "\n",
        "k_3 = Dense(1000)(y)\n",
        "k_3 = Dropout(0.5)(k_3)\n",
        "k_3 = Dense(1024,activation='tanh')(k_3)\n",
        "k_3 = Dropout(0.5)(k_3)\n",
        "k_3 = Dense(24,activation='softmax')(k_3)\n",
        "\n",
        "k_4 = Dense(1000)(y)\n",
        "k_4 = Dropout(0.5)(k_4)\n",
        "k_4 = Dense(1024,activation='tanh')(k_4)\n",
        "k_4 = Dropout(0.5)(k_4)\n",
        "k_4 = Dense(24,activation='softmax')(k_4)\n",
        "\n",
        "flat = Concatenate(name = \"Conc\")([k_1,k_2,k_3,k_4])\n",
        "flat = Flatten(name = \"flat_2\")(flat)\n",
        "\n",
        "cent_model_b = Model(inputs = base_model.input,outputs = flat)"
      ],
      "execution_count": null,
      "outputs": []
    },
    {
      "cell_type": "code",
      "metadata": {
        "id": "qgcznhCusHCT"
      },
      "source": [
        "cent_model_b.summary()"
      ],
      "execution_count": null,
      "outputs": []
    },
    {
      "cell_type": "markdown",
      "metadata": {
        "id": "yuUNa04h0Xko"
      },
      "source": [
        "##Centralized approach (c) {Looks closest to the schematic on the slides}\n",
        "\n",
        "* Taking the output of the resnet soft max into k_1,k_2,k_3 and k_4 \n",
        "* Concatenating the layers in order to get 4000 neurons with the 1000 objects for each topic(k=4)\n",
        "* Flattening the different topics into Dense layer of 4000 neurons(4 topics*1000 objects)\n",
        "* Adding a dense layer of 4000 neurons with tanh activation\n",
        "* Adding 50% Dropout rate\n",
        "* Using softmax in order to get the places(p = 24 i.e num_classes)\n",
        "\n",
        "**Issue : Does not give places probabilities for each topic individually as it is being flattened and fed to softmax with only 24 units for each class**"
      ]
    },
    {
      "cell_type": "code",
      "metadata": {
        "id": "nnsnZZ2v2ZfM"
      },
      "source": [
        "#Using the output from the resnet model in order to create topics\n",
        "#Defining the model\n",
        "base_model = ResNet50(weights='imagenet', include_top=False, input_shape=(224, 224, 3))\n",
        "x = base_model.output\n",
        "x = AveragePooling2D(pool_size=(7,7))(x)\n",
        "x = Flatten(name =\"flatten\")(x)\n",
        "x = Dense(1024,activation=\"relu\")(x)\n",
        "x = Dropout(0.5)(x)\n",
        "preds = Dense(1000,activation=\"softmax\")(x)\n",
        "\n",
        "#Activating the model\n",
        "\n",
        "model = Model(inputs = base_model.input,outputs = preds)\n",
        "\n",
        "#predictions = Dense(26,activation='softmax')(x)\n",
        "#Using softmax for base classification\n",
        "#model = Model(inputs=base_model.input, outputs=predictions)\n",
        "\n",
        "for layer in base_model.layers:\n",
        "    layer.trainable = False\n",
        "for layer in model.layers:\n",
        "    layer.trainable = False\n",
        "# y = Dense(1)(model.output)\n",
        "k_1 = Dense(20,name = 'topic_1')(model.output)\n",
        "k_2 = Dense(20,name = 'topic_2')(model.output)\n",
        "k_3 = Dense(20,name = 'topic_3')(model.output)\n",
        "k_4 = Dense(20,name = 'topic_4')(model.output)\n",
        "wt_add = Wt_Topics(1)\n",
        "sum_layer = wt_add(k_1,k_2,k_3,k_4)\n",
        "flat_2 = Flatten(name = 'flat_c')(sum_layer)\n",
        "# w_1 = tf.Variable(1.0,name='weight_topic_1',trainable=True )\n",
        "# w_2 = tf.Variable(1.0 ,name='weight_topic_2',trainable=True)\n",
        "# w_3 = tf.Variable(1.0 ,name='weight_topic_3',trainable=True )\n",
        "# w_4 = tf.Variable(1.0 ,name='weight_topic_4',trainable=True)\n",
        "# conc2 = Concatenate(name = 'conc_c')([k_1,k_2,k_3,k_4])\n",
        "# flat_2 = Flatten(name = 'flat_c')(conc2)\n",
        "# #Adding the Dense layers now\n",
        "# topic = Dense(4000,activation='tanh')(flat_2)\n",
        "# topic = Dropout(0.5)(topic)\n",
        "topic = Dense(128,activation='tanh')(flat_2)\n",
        "topic = Dropout(0.2)(topic)\n",
        "final = Dense(24,activation='softmax')(topic)\n"
      ],
      "execution_count": null,
      "outputs": []
    },
    {
      "cell_type": "code",
      "metadata": {
        "id": "sRnkFP25N2Bu"
      },
      "source": [
        "# conc2 = Concatenate(name = 'conc_c')([k_1*w_1,k_2*w_2,k_3*w_3,k_4*w_4])"
      ],
      "execution_count": null,
      "outputs": []
    },
    {
      "cell_type": "code",
      "metadata": {
        "id": "gz4hjYPf3tTW"
      },
      "source": [
        "cent_model_c = Model(inputs = base_model.input,outputs = final)"
      ],
      "execution_count": null,
      "outputs": []
    },
    {
      "cell_type": "code",
      "metadata": {
        "id": "RDZ6l-P132ff"
      },
      "source": [
        "cent_model_c.summary()"
      ],
      "execution_count": null,
      "outputs": []
    },
    {
      "cell_type": "code",
      "metadata": {
        "id": "ewp-EtgVDn83"
      },
      "source": [
        "opti = tf.keras.optimizers.Adadelta(learning_rate=1e-1, rho=0.95, epsilon=1e-07, name=\"Adadelta\")\n",
        "cent_model_c.compile(optimizer=opti,metrics=[tf.keras.metrics.CategoricalAccuracy(),keras.metrics.Precision(),keras.metrics.Recall()],loss='categorical_crossentropy')"
      ],
      "execution_count": null,
      "outputs": []
    },
    {
      "cell_type": "code",
      "metadata": {
        "id": "AHIFKgdIVW4x"
      },
      "source": [
        "class Wt_Topics(keras.layers.Layer):\n",
        "  def __init__(self, units):\n",
        "    super(Wt_Topics, self).__init__()\n",
        "    self.units = units \n",
        "    # self.name = name      \n",
        "\n",
        "  def build(self,input_shape):\n",
        "    \n",
        "    w_init = tf.random_normal_initializer()\n",
        "    self.w1 = tf.Variable(\n",
        "        initial_value=w_init(shape=(1, self.units), dtype=\"float32\"),\n",
        "        trainable=True,name = 'weight_topic_1'\n",
        "    )\n",
        "    self.w2 = tf.Variable(\n",
        "        initial_value=w_init(shape=(1, self.units), dtype=\"float32\"),\n",
        "        trainable=True,name = 'weight_topic_2'\n",
        "    )  \n",
        "    self.w3 = tf.Variable(\n",
        "        initial_value=w_init(shape=(1, self.units), dtype=\"float32\"),\n",
        "        trainable=True,name = 'weight_topic_3'\n",
        "    )       \n",
        "    self.w4 = tf.Variable(\n",
        "        initial_value=w_init(shape=(1, self.units), dtype=\"float32\"),\n",
        "        trainable=True,name = 'weight_topic_4'\n",
        "    )\n",
        "  def call(self, input1, input2, input3,input4):\n",
        "    #name = 'tops'\n",
        "    return tf.multiply(input1,self.w1) + tf.multiply(input2, self.w2) + tf.multiply(input3, self.w3)+tf.multiply(input4, self.w4)"
      ],
      "execution_count": null,
      "outputs": []
    },
    {
      "cell_type": "code",
      "metadata": {
        "id": "-cjAo4nJLusL"
      },
      "source": [
        "top_1 = cent_model_c.get_layer( index=-5)\n",
        "topic_layer_weights = top_1.get_weights()\n",
        "topic_1 = cent_model_c.get_layer(name = 'topic_1')\n",
        "topic_1_weights = topic_1.get_weights()\n",
        "topic_1_weights[0].shape\n",
        "topic_layer_weights\n",
        "cent_model_c.layers[-5].get_weights()"
      ],
      "execution_count": null,
      "outputs": []
    },
    {
      "cell_type": "markdown",
      "metadata": {
        "id": "5ZhctmjkUh8Z"
      },
      "source": [
        "# Making function for predicting the model"
      ]
    },
    {
      "cell_type": "code",
      "metadata": {
        "id": "HHcWOg1YUpln"
      },
      "source": [
        "#model = tf.keras.models.load_model('')\n",
        "test_file = '/content/test.csv'\n",
        "test_ds = pd.read_csv(test_file)\n",
        "test_ds['Image'] = test_ds['Image'].str.replace('/data/s4133366/data','/content/gdrive/MyDrive/data')\n",
        "test_dataset = tf.keras.preprocessing.image_dataset_from_directory(\n",
        "  '/content/gdrive/MyDrive/data/train',\n",
        "  seed=123,\n",
        "  image_size=(224, 224),\n",
        "  batch_size=64,color_mode = 'rgb',shuffle = True,label_mode = 'categorical')"
      ],
      "execution_count": null,
      "outputs": []
    },
    {
      "cell_type": "markdown",
      "metadata": {
        "id": "2k73StT198JN"
      },
      "source": [
        "#Testing"
      ]
    },
    {
      "cell_type": "code",
      "metadata": {
        "id": "9Le-LSm2BBXp"
      },
      "source": [
        "wt_add = Wt_Add(1,1)\n",
        "sum_layer = wt_add(k_1,k_2,k_3,k_4)"
      ],
      "execution_count": null,
      "outputs": []
    },
    {
      "cell_type": "code",
      "metadata": {
        "id": "UZC3-pxAqw75"
      },
      "source": [
        "# new_model.summary()\n",
        "#test_model = Model(inputs = model.input,outputs = k_1)\n",
        "for layer in test_model.layers:\n",
        "  weights = layer.get_weights()"
      ],
      "execution_count": null,
      "outputs": []
    },
    {
      "cell_type": "code",
      "metadata": {
        "id": "NbwPSSASCvio"
      },
      "source": [
        "weights"
      ],
      "execution_count": null,
      "outputs": []
    },
    {
      "cell_type": "code",
      "metadata": {
        "id": "3WKBD7VJ5q_u"
      },
      "source": [
        "np.random.seed(7)\n",
        "lr = 1e-2\n",
        "num_epochs = 10\n",
        "opti = Adam(learning_rate= lr,decay = lr/num_epochs)\n",
        "model.compile(optimizer=opti,metrics=['accuracy'],loss='categorical_crossentropy')"
      ],
      "execution_count": null,
      "outputs": []
    },
    {
      "cell_type": "code",
      "metadata": {
        "id": "gThgxgVhqgNb"
      },
      "source": [
        "test_model.predict(testGen)"
      ],
      "execution_count": null,
      "outputs": []
    },
    {
      "cell_type": "markdown",
      "metadata": {
        "id": "uvqa5McvseM_"
      },
      "source": [
        "testing stuff"
      ]
    },
    {
      "cell_type": "code",
      "metadata": {
        "id": "c9bMCvd1sYqN"
      },
      "source": [
        "img_gen = tf.keras.preprocessing.image.ImageDataGenerator(rescale=1./255, rotation_range=20)\n",
        "\n",
        "images, labels = next(img_gen.flow_from_directory(flowers))\n",
        "\n",
        "Found 3670 images belonging to 5 classes.\n",
        "\n",
        "print(images.dtype, images.shape)\n",
        "print(labels.dtype, labels.shape)\n",
        "\n",
        "float32 (32, 256, 256, 3)\n",
        "float32 (32, 5)\n",
        "\n",
        "ds = tf.data.Dataset.from_generator(\n",
        "    lambda: img_gen.flow_from_directory(flowers), \n",
        "    output_types=(tf.float32, tf.float32), \n",
        "    output_shapes=([32,256,256,3], [32,5])\n",
        ")\n",
        "\n",
        "ds.element_spec"
      ],
      "execution_count": null,
      "outputs": []
    },
    {
      "cell_type": "code",
      "metadata": {
        "id": "xi5MyoUoOqAH"
      },
      "source": [
        "len(test_labels)"
      ],
      "execution_count": null,
      "outputs": []
    },
    {
      "cell_type": "code",
      "metadata": {
        "id": "0rBnCBep3ylr"
      },
      "source": [
        "test_labels = pd.read_csv('/content/train.csv')\n",
        "test_labels.head(1)\n",
        "class_names_meta = test_labels['Label'].unique()\n",
        "class_names_meta\n",
        "len(class_names_meta)"
      ],
      "execution_count": null,
      "outputs": []
    },
    {
      "cell_type": "code",
      "metadata": {
        "id": "KnuEfFaASgwL"
      },
      "source": [
        "Y = train['Label']\n",
        "X = train['Path']"
      ],
      "execution_count": null,
      "outputs": []
    },
    {
      "cell_type": "code",
      "metadata": {
        "id": "E4CWrQt8323C"
      },
      "source": [
        "sorted(class_names_meta)\n",
        "for class_name in class_names_meta:\n",
        "  class_name_rep = class_name.replace(\" \",\"_\")\n",
        "  class_name_rep = class_name_rep.replace(\"/\",\"_\")\n",
        "  class_name_rep = class_name_rep.replace(\" \",\"\")\n",
        "  class_name_rep = class_name_rep.replace(\",_\",\"_\")\n",
        "  class_name_rep = class_name_rep.replace(\",\",\"_\")\n",
        "  #print(class_name_rep)\n",
        "  h = \"df_\" + str(class_name_rep)\n",
        "  vars()[h] = test_labels[test_labels['Label'] == class_name]\n",
        "  print(\"Created: \",h,' ',len(vars()[h]))"
      ],
      "execution_count": null,
      "outputs": []
    },
    {
      "cell_type": "code",
      "metadata": {
        "id": "5JXJWoLF8B0g"
      },
      "source": [
        "df_Office_updated = df_Office.sample(3000)\n",
        "df_Transportation_updated = df_Transportation.sample(3000)\n",
        "df_Education_science_updated = df_Education_science.sample(3000)\n",
        "df_Pathways_updated = df_Pathways.sample(3000)\n",
        "df_Restaurant_Bar_updated = df_Restaurant_Bar.sample(3000)\n"
      ],
      "execution_count": null,
      "outputs": []
    },
    {
      "cell_type": "code",
      "metadata": {
        "id": "Yb17gOK1_Ane"
      },
      "source": [
        "df_list = [df_Bedroom,df_Office_updated,df_Other_rooms,df_Living_room,df_Noise,df_Bathroom,df_Pathways_updated,df_Shop,df_Buildings,df_Others,df_Sport_fields,df_Kitchen,df_Garden,df_Balcony,df_Beach,df_Recreation,df_Museum,df_Hospital,df_Water,df_Forest_field_jungle,df_Mountains_hills_desert_sky,df_Transportation_updated,df_Education_science_updated,df_Restaurant_Bar_updated]\n",
        "train_df = pd.concat(df_list)\n",
        "len(train_df)"
      ],
      "execution_count": null,
      "outputs": []
    },
    {
      "cell_type": "code",
      "metadata": {
        "id": "nGvPmnbBPQpd"
      },
      "source": [
        "train_df.head"
      ],
      "execution_count": null,
      "outputs": []
    },
    {
      "cell_type": "code",
      "metadata": {
        "id": "QncwxiFQF9W5"
      },
      "source": [
        "train_df.head(1)"
      ],
      "execution_count": null,
      "outputs": []
    },
    {
      "cell_type": "code",
      "metadata": {
        "id": "OHhBEiZwB2oD"
      },
      "source": [
        "num_epochs =20"
      ],
      "execution_count": null,
      "outputs": []
    },
    {
      "cell_type": "code",
      "metadata": {
        "id": "-JfHR9oDCvHC"
      },
      "source": [
        "tr_df = train_df \n",
        "num_epochs = 10\n",
        "tr_df['Image'] = tr_df['Image'].str.replace('/data/s4133366/data','/content/gdrive/MyDrive/data')\n",
        "tr_df = shuffle(tr_df)\n",
        "\n",
        "datagen = ImageDataGenerator(rescale=1./255)\n",
        "train = datagen.flow_from_dataframe(tr_df,'/content/gdrive/MyDrive/data/train',x_col=\"Image\",y_col=\"Label\",target_size=(224,224),color_mode='rgb',batch_size=151,shuffle=True,class_mode='categorical',seed=42)\n",
        "STEP_SIZE_TRAIN = train.n//train.batch_size"
      ],
      "execution_count": null,
      "outputs": []
    },
    {
      "cell_type": "code",
      "metadata": {
        "id": "P0Npy6fKF2qM"
      },
      "source": [
        "save_dir = '/content/gdrive/MyDrive/saved_models'\n",
        "callbacks = [\n",
        "    ModelCheckpoint(\n",
        "        \n",
        "        filepath=os.path.join(save_dir,'test_base'),\n",
        "        save_best_only=True,  # Only save a model if `val_loss` has improved.\n",
        "        monitor=\"categorical_accuracy\",\n",
        "        verbose=1,\n",
        "        save_freq = 197,mode = 'max'\n",
        "    ),\n",
        "    EarlyStopping(\n",
        "    monitor=\"loss\",\n",
        "    min_delta=0,\n",
        "    patience=5,\n",
        "    verbose=1,\n",
        "    mode=\"auto\",\n",
        "    baseline=None,\n",
        "    restore_best_weights=False,\n",
        "    )\n",
        "    #, ReduceLROnPlateau(monitor='loss', factor=0.1,\n",
        "    #                           patience=3, min_lr=1e-4,verbose=1)\n",
        "    ]"
      ],
      "execution_count": null,
      "outputs": []
    },
    {
      "cell_type": "code",
      "metadata": {
        "id": "GMJ6putaM4US"
      },
      "source": [
        "np.random.seed(7)\n",
        "lr = 1e-1\n",
        "num_epochs = 10\n",
        "opti = Adam(learning_rate= lr)\n",
        "model.compile(optimizer=opti,metrics=[tf.keras.metrics.Accuracy(),tf.keras.metrics.Precision(),tf.keras.metrics.Recall()],loss='categorical_crossentropy')"
      ],
      "execution_count": null,
      "outputs": []
    },
    {
      "cell_type": "code",
      "metadata": {
        "id": "k5gLayD4HR53"
      },
      "source": [
        "model = tf.keras.models.load_model('/content/gdrive/MyDrive/saved_models/base_short')\n",
        "history = model.fit(train,epochs = num_epochs,steps_per_epoch=STEP_SIZE_TRAIN,callbacks = callbacks,verbose = 1,workers = 4,use_multiprocessing = False)"
      ],
      "execution_count": null,
      "outputs": []
    },
    {
      "cell_type": "code",
      "metadata": {
        "id": "Yr7uylInHcrf"
      },
      "source": [
        "save_d = '/content/gdrive/MyDrive/saved_models'\n",
        "#model.save(os.path.join(save_d,'base_short_1'))"
      ],
      "execution_count": null,
      "outputs": []
    },
    {
      "cell_type": "code",
      "metadata": {
        "id": "qTu9-06LUi4Z"
      },
      "source": [
        "model = tf.keras.models.load_model('/content/gdrive/MyDrive/saved_models/base_short_3')\n",
        "history = model.fit(train,epochs = num_epochs,steps_per_epoch=STEP_SIZE_TRAIN,callbacks = callbacks,verbose = 1,workers = 4,use_multiprocessing = False)\n",
        "model.save(os.path.join(save_d,'base_short_3'))"
      ],
      "execution_count": null,
      "outputs": []
    },
    {
      "cell_type": "code",
      "metadata": {
        "id": "AAO6cnhTL88t"
      },
      "source": [
        "model.save(os.path.join(save_d,'base_short_3'))"
      ],
      "execution_count": null,
      "outputs": []
    },
    {
      "cell_type": "code",
      "metadata": {
        "id": "h_HB9g9uRWZt"
      },
      "source": [
        "model = tf.keras.models.load_model('/content/gdrive/MyDrive/saved_models/base_short_4')\n",
        "history = model.fit(train,epochs = num_epochs,steps_per_epoch=STEP_SIZE_TRAIN,callbacks = callbacks,verbose = 1,workers = 4,use_multiprocessing = False,shuffle = True)\n",
        "model.save(os.path.join(save_d,'base_short_5'))"
      ],
      "execution_count": null,
      "outputs": []
    },
    {
      "cell_type": "code",
      "metadata": {
        "id": "6nJ1KGlWNHg5"
      },
      "source": [
        "reduced_mod_1 = history.history"
      ],
      "execution_count": null,
      "outputs": []
    },
    {
      "cell_type": "code",
      "metadata": {
        "id": "ee1f4na_PpLS"
      },
      "source": [
        "reduced_mod_1"
      ],
      "execution_count": null,
      "outputs": []
    },
    {
      "cell_type": "code",
      "metadata": {
        "id": "FjQ2v2W7NP-N"
      },
      "source": [
        "np.save('/content/gdrive/MyDrive/history/history_2.npy', reduced_mod_1) "
      ],
      "execution_count": null,
      "outputs": []
    },
    {
      "cell_type": "code",
      "metadata": {
        "id": "O1GjQuhQvEkV"
      },
      "source": [
        "read_dictionary = np.load('/content/gdrive/MyDrive/history/history_1.npy',allow_pickle='TRUE').item()"
      ],
      "execution_count": null,
      "outputs": []
    },
    {
      "cell_type": "code",
      "metadata": {
        "id": "23h77NvcO5Z_"
      },
      "source": [
        "read_dictionary"
      ],
      "execution_count": null,
      "outputs": []
    },
    {
      "cell_type": "code",
      "metadata": {
        "id": "EJzcwRozGcpa"
      },
      "source": [
        "\n",
        "train = shuffle(train)"
      ],
      "execution_count": null,
      "outputs": []
    },
    {
      "cell_type": "markdown",
      "metadata": {
        "id": "zYdJOgLE_ynD"
      },
      "source": [
        "# Testing out k fold with tensors"
      ]
    },
    {
      "cell_type": "code",
      "metadata": {
        "id": "dF9npB7dA8l5"
      },
      "source": [
        "train_meta = pd.read_csv('/content/gdrive/MyDrive/train_names.csv')\n",
        "val_meta = pd.read_csv('/content/gdrive/MyDrive/val_names.csv')\n",
        "test_meta = pd.read_csv('/content/gdrive/MyDrive/test_names.csv')"
      ],
      "execution_count": null,
      "outputs": []
    },
    {
      "cell_type": "code",
      "metadata": {
        "id": "fCJXIpugNl0T"
      },
      "source": [
        ""
      ],
      "execution_count": null,
      "outputs": []
    },
    {
      "cell_type": "code",
      "metadata": {
        "id": "Luv2OuQ7A-J-"
      },
      "source": [
        "train_meta.columns = ['ID','Path']\n",
        "train_met = train_meta.Path\n",
        "val_meta.columns = ['ID','Path']\n",
        "val_met = val_meta.Path"
      ],
      "execution_count": null,
      "outputs": []
    },
    {
      "cell_type": "code",
      "metadata": {
        "id": "K_FVqNL3BbG8"
      },
      "source": [
        "train_met = pd.DataFrame(train_met)\n",
        "val_met = pd.DataFrame(val_met)\n"
      ],
      "execution_count": null,
      "outputs": []
    },
    {
      "cell_type": "markdown",
      "metadata": {
        "id": "StSQYkDQNkxa"
      },
      "source": [
        ""
      ]
    },
    {
      "cell_type": "code",
      "metadata": {
        "id": "3r9uZsVkLHU8"
      },
      "source": [
        "tv = [train_met,val_met]\n",
        "tnv = pd.concat(tv)"
      ],
      "execution_count": null,
      "outputs": []
    },
    {
      "cell_type": "code",
      "metadata": {
        "id": "tWAnHFz2NiZz"
      },
      "source": [
        "tnv"
      ],
      "execution_count": null,
      "outputs": []
    },
    {
      "cell_type": "code",
      "metadata": {
        "id": "Sxq2J52gLrm6"
      },
      "source": [
        "tnv = tnv.sample(frac=1,random_state = 42)"
      ],
      "execution_count": null,
      "outputs": []
    },
    {
      "cell_type": "code",
      "metadata": {
        "id": "1bEGZvP-M_vr"
      },
      "source": [
        "tnv"
      ],
      "execution_count": null,
      "outputs": []
    },
    {
      "cell_type": "code",
      "metadata": {
        "id": "Dvamy4_9F1_N"
      },
      "source": [
        "#Function to get labels\n",
        "def kfold_label_maker(meta):\n",
        "\n",
        "  meta['PicName'] = meta['Path'].apply(lambda x: x.split('/')[-1])\n",
        "  meta['Label'] = meta['Path'].apply(lambda x: x.split('/')[-2])\n",
        "  #meta['Image'] = meta['Image'].str.replace('/content/gdrive/MyDrive','/data/s4133366')\n",
        "  kfold = meta[['Path','Label']]\n",
        "  return kfold"
      ],
      "execution_count": null,
      "outputs": []
    },
    {
      "cell_type": "code",
      "metadata": {
        "id": "-N1q8f2NFs0V"
      },
      "source": [
        "train = kfold_label_maker(tnv)"
      ],
      "execution_count": null,
      "outputs": []
    },
    {
      "cell_type": "code",
      "metadata": {
        "id": "FDAOQPJ1Gb29"
      },
      "source": [
        "Y = train['Label']\n",
        "X = train['Path']"
      ],
      "execution_count": null,
      "outputs": []
    },
    {
      "cell_type": "code",
      "metadata": {
        "id": "JIcRsjXuQXLN"
      },
      "source": [
        "def get_label(file_path):\n",
        "  # convert the path to a list of path components separated by sep\n",
        "  parts = tf.strings.split(file_path, os.path.sep)\n",
        "  # The second to last is the class-directory\n",
        "  one_hot = parts[-2] == class_names\n",
        "  # Integer encode the label\n",
        "  return tf.cast(one_hot, tf.int32)\n",
        "\n",
        "def decode_img(img):\n",
        "  # convert the compressed string to a 3D uint8 tensor\n",
        "  img = tf.image.decode_jpeg(img, channels=3)  \n",
        "  # resize the image to the desired size\n",
        "  return tf.image.resize(img, [224, 224])\n",
        "\n",
        "def process_TL(file_path):\n",
        "  label = get_label(file_path) \n",
        "  img = tf.io.read_file(file_path) \n",
        "  img = decode_img(img)\n",
        "  img = preprocess_input(img)\n",
        "  img = tf.cast(img/255. ,tf.float32)\n",
        "  return img, label\n"
      ],
      "execution_count": null,
      "outputs": []
    },
    {
      "cell_type": "code",
      "metadata": {
        "id": "SxSwiTROhehO"
      },
      "source": [
        "def get_model_name(k):\n",
        "    return 'model_'+str(k)+"
      ],
      "execution_count": null,
      "outputs": []
    },
    {
      "cell_type": "code",
      "metadata": {
        "id": "46oTSTxqQs_D"
      },
      "source": [
        "class_names = np.array(sorted([dir1 for dir1 in os.listdir('/content/gdrive/MyDrive/data/test')]))\n",
        "len(class_names)"
      ],
      "execution_count": null,
      "outputs": []
    },
    {
      "cell_type": "code",
      "metadata": {
        "id": "D0HHnpFa_8n-"
      },
      "source": [
        "\n",
        "num_folds = 4\n",
        "batch_size = 64\n",
        "skfold = StratifiedKFold(n_splits=num_folds, shuffle=True,random_state=42)\n",
        "fold_no = 1\n",
        "history_path = '/content/gdrive/MyDrive/history'\n",
        "print('LOADING THE DATA ON TO TENSORS......')\n",
        "save_dir = '/content/gdrive/MyDrive/saved_models'\n",
        "\n",
        "for train_index, val_index in skfold.split(X,Y):\n",
        "  training_data = train.iloc[train_index]\n",
        "  valid_data = train.iloc[val_index]\n",
        "  print(len(training_data))\n",
        "  print(len(valid_data))\n",
        "  train_data = training_data['Path']\n",
        "  train_labels = training_data['Label']\n",
        "  val_labels = valid_data['Label']\n",
        "  val_data = valid_data['Path']\n",
        "  train_tensor = tf.data.Dataset.from_tensors(train_data)\n",
        "  val_tensor = tf.data.Dataset.from_tensors(val_data)\n",
        "  train_tensor.shuffle(len(train_data))\n",
        "  val_tensor.shuffle(len(val_data))\n",
        "  print(train_tensor)\n",
        "  tra_tens = train_tensor.unbatch().map(process_TL)\n",
        "  val_tens = val_tensor.unbatch().map(process_TL)\n",
        "  print(tra_tens,' ',tf.data.experimental.cardinality(tra_tens))\n",
        "  train_cache = tra_tens.cache()\n",
        "  val_cache = val_tens.cache()\n",
        "  #normalization_layer = tf.keras.layers.experimental.preprocessing.Rescaling(1./255)\n",
        "  val_batch = val_tens.batch(batch_size)\n",
        "  train_batch= tra_tens.batch(batch_size)\n",
        "  train_ds = train_batch.prefetch(buffer_size=tf.data.experimental.AUTOTUNE)\n",
        "  val_ds = val_batch.prefetch(buffer_size=tf.data.experimental.AUTOTUNE)\n",
        "  print(train_ds)\n",
        "  \n",
        "\n",
        "  # class_weights = class_weight.compute_class_weight(\n",
        "  #          'balanced',\n",
        "  #           np.unique(ktrainGen.classes), \n",
        "  #           ktrainGen.classes)\n",
        "\n",
        "  # train_class_weights = dict(enumerate(class_weights))\n",
        "\n",
        "    #Create model\n",
        "  base_model = ResNet50(weights='imagenet', include_top=False, input_shape=(224, 224, 3))\n",
        "  x = base_model.output\n",
        "  x = AveragePooling2D(pool_size=(7,7))(x)\n",
        "  x = Flatten(name =\"flatten\")(x)\n",
        "  x = Dense(128,activation=\"relu\")(x)\n",
        "  x = Dropout(0.5)(x)\n",
        "  preds = Dense(24,activation=\"softmax\")(x)\n",
        "\n",
        "  # #Activating the model\n",
        "\n",
        "  model = Model(inputs = base_model.input,outputs = preds)\n",
        "\n",
        "\n",
        "  for layer in base_model.layers:\n",
        "      layer.trainable = False\n",
        "\n",
        "  lr = 1e-2\n",
        "  num_epochs = 1\n",
        "  opti = tf.keras.optimizers.Adadelta(learning_rate=lr, rho=0.95, epsilon=1e-07, name=\"Adadelta\")\n",
        "  model.compile(optimizer=opti,metrics=[tf.keras.metrics.CategoricalAccuracy(),keras.metrics.Precision(),keras.metrics.Recall()],loss='categorical_crossentropy')\n",
        "\n",
        "  callbacks = [\n",
        "    ModelCheckpoint(\n",
        "        \n",
        "        filepath=os.path.join(save_dir,'base_m'+str(fold_no)),\n",
        "        save_best_only=True,  # Only save a model if `val_loss` has improved.\n",
        "        monitor=\"accuracy\",\n",
        "        verbose=1,\n",
        "        save_freq = 442,mode = 'max'\n",
        "    ),\n",
        "    EarlyStopping(\n",
        "    monitor=\"loss\",\n",
        "    min_delta=0,\n",
        "    patience=2,\n",
        "    verbose=0,\n",
        "    mode=\"auto\",\n",
        "    baseline=None,\n",
        "    restore_best_weights=False,\n",
        "    ),\n",
        "    ReduceLROnPlateau(monitor='loss', factor=0.1,\n",
        "                              patience=3, min_lr=1e-5,verbose=1)\n",
        "    ]\n",
        "\n",
        "  print('------------------------------------------------------------------------')\n",
        "  print(f'Training for fold {fold_no} ...')\n",
        "\n",
        "  history = model.fit(train_ds,epochs=1,callbacks=callbacks,verbose=1,workers=8,use_multiprocessing = False,shuffle=True)\n",
        "  model.save('/content/gdrive/MyDrive/saved_models/train_tf_kfold_'+str(fold_no))\n",
        "  report = history.history\n",
        "  np.save(os.path.join(history_path,'history'+str(fold_no)+'.npy'), report)\n",
        "  print('Results saved to disk ...')\n",
        "  print('Evaluating the model ...') \n",
        "  model = keras.models.load_model(\"/content/gdrive/MyDrive/saved_models/train_tf_kfold_\"+str(fold_no))\n",
        "  results = model.evaluate(val_ds,workers = 4)\n",
        "  results = dict(zip(model.metrics_names,results))\n",
        "  np.save(os.path.join(history_path,'results_'+str(fold_no)+'.npy'), results)\n",
        "  \n",
        "\n",
        "\n",
        "\n",
        "  # tf.keras.backend.clear_session()\n",
        "\n",
        "  fold_no += 1\n",
        "\n",
        "  print('Going to next fold................')\n",
        "\n"
      ],
      "execution_count": null,
      "outputs": []
    },
    {
      "cell_type": "code",
      "metadata": {
        "id": "aczpvkVwZW_y"
      },
      "source": [
        "train_cache"
      ],
      "execution_count": null,
      "outputs": []
    },
    {
      "cell_type": "code",
      "metadata": {
        "id": "xYBk94AiTK7F"
      },
      "source": [
        "class_weights = class_weight.compute_class_weight(\n",
        "           'balanced',\n",
        "            np.unique(train_labels), \n",
        "            train_labels)\n",
        "\n",
        "  #train_class_weights = dict(enumerate(class_weights))"
      ],
      "execution_count": null,
      "outputs": []
    },
    {
      "cell_type": "code",
      "metadata": {
        "id": "RWUBMkZ8b4Um"
      },
      "source": [
        "train_class_weights = dict(enumerate(class_weights))"
      ],
      "execution_count": null,
      "outputs": []
    },
    {
      "cell_type": "code",
      "metadata": {
        "id": "JBJXd1XQfMMw"
      },
      "source": [
        "history_path = '/content/gdrive/MyDrive/history'\n",
        "np.save(os.path.join(history_path,'dummy_'+str(fold_no)+'.npy'), train_class_weights) "
      ],
      "execution_count": null,
      "outputs": []
    },
    {
      "cell_type": "code",
      "metadata": {
        "id": "_QhaFdtmcJSZ"
      },
      "source": [
        "train_ds"
      ],
      "execution_count": null,
      "outputs": []
    },
    {
      "cell_type": "markdown",
      "metadata": {
        "id": "slR5rmwjTc5E"
      },
      "source": [
        "# Training Places 365 object"
      ]
    },
    {
      "cell_type": "code",
      "metadata": {
        "id": "Y8K0gDH0TlM_"
      },
      "source": [
        "import urllib.request\n",
        "import tarfile\n",
        "thetarfile = 'http://data.csail.mit.edu/places/places365/places365standard_easyformat.tar'\n",
        "ftpstream = urllib.request.urlopen(thetarfile)\n",
        "print(ftpstream)\n",
        "#thetarfile = tarfile.open(fileobj=ftpstream, mode=\"r\")\n",
        "#thetarfile.extractall(places_365_path)"
      ],
      "execution_count": null,
      "outputs": []
    },
    {
      "cell_type": "code",
      "metadata": {
        "id": "sn1HVZ0GWL2Z"
      },
      "source": [
        "import tarfile\n",
        "  \n",
        "# open file\n",
        "file = tarfile.open('http://data.csail.mit.edu/places/places365/places365standard_easyformat.tar')\n",
        "  \n",
        "# extracting file\n",
        "file.extractall('./Destination_FolderName')\n",
        "  \n",
        "file.close()"
      ],
      "execution_count": null,
      "outputs": []
    },
    {
      "cell_type": "markdown",
      "metadata": {
        "id": "ZW4XFN2rdWio"
      },
      "source": [
        "##Plot metrics declaration here ..."
      ]
    },
    {
      "cell_type": "code",
      "metadata": {
        "id": "lJUNOSZEdVpz"
      },
      "source": [
        "plot_dir = '/content/gdrive/MyDrive/plots'\n",
        "#For peregrine\n",
        "#plot_dir = '/data/s4133366/saved_models/history/plots'\n",
        "def plot_metrics(history_path,results_path,model_name):\n",
        "  read_train = np.load(history_path,allow_pickle=True).item()\n",
        "  read_test = np.load(results_path,allow_pickle=True).item()\n",
        "  history_path = os.path.split(history_path)[-1]\n",
        "  get_fold = history_path[-5]\n",
        "  history_path = history_path.replace('.npy','')\n",
        "  if not os.path.isdir(plot_dir):\n",
        "    print('Plot directory '+plot_dir+' does not exist at the moment. Creating ....')\n",
        "    os.mkdir(plot_dir)\n",
        "    print(plot_dir+' created ...')\n",
        "  if not os.path.isdir(os.path.join(plot_dir,history_path)) :\n",
        "    os.mkdir(os.path.join(plot_dir,history_path))\n",
        "    folder_path = os.path.join(plot_dir,history_path)\n",
        "    print(folder_path+' created...')\n",
        "  else:\n",
        "    folder_path = os.path.join(plot_dir,history_path)\n",
        "    print(folder_path,' exists ...')  \n",
        "  print('Adding the metric plots to ',folder_path)\n",
        "  \n",
        "  #summarize history for accuracy\n",
        "  \n",
        "  plt.plot(read_train['categorical_accuracy'])\n",
        "  plt.axhline(read_test['categorical_accuracy'], color='g', linestyle='--')\n",
        "  plt.plot(read_test['categorical_accuracy'])\n",
        "  plt.title('model accuracy for '+model_name)\n",
        "  plt.ylabel('Categorical Accuracy')\n",
        "  plt.xlabel('Epoch')\n",
        "  plt.legend(['train', 'test'], loc='upper left')\n",
        "  plt.savefig(os.path.join(folder_path,'accuracy_'+str(history_path)+'.png'))\n",
        "  plt.clf()\n",
        "  print('Accuracy plot created ...')\n",
        "  \n",
        "  # summarize history for loss\n",
        "  \n",
        "  plt.plot(read_train['loss'])\n",
        "  plt.axhline(read_test['loss'], color='g', linestyle='--')\n",
        "  plt.title('model loss for '+model_name)\n",
        "  plt.ylabel('Loss')\n",
        "  plt.xlabel('Epoch')\n",
        "  plt.legend(['train', 'test'], loc='upper left')\n",
        "  #plt.show()\n",
        "  plt.savefig(os.path.join(folder_path,'loss_'+str(history_path)+'.png'))\n",
        "  plt.clf()\n",
        "  print('Loss plot created ...')\n",
        "  #summarize history for Precision \n",
        "  plt.plot(read_train['precision'])\n",
        "  plt.axhline(read_test['precision'], color='g', linestyle='--')\n",
        "  plt.title('model precision for '+str(model_name))\n",
        "  plt.ylabel('Precision')\n",
        "  plt.xlabel('Epoch')\n",
        "  plt.legend(['train', 'test'], loc='upper left')\n",
        "  plt.savefig(os.path.join(folder_path,'precision_'+str(history_path)+'.png'))\n",
        "  plt.clf()\n",
        "  print('Precision plot created ...')\n",
        "  #summarize history for Recall \n",
        "  \n",
        "  plt.plot(read_train['recall'])\n",
        "  plt.axhline(read_test['recall'], color='g', linestyle='--')\n",
        "  plt.title('Model Recall for '+str(model_name))\n",
        "  plt.ylabel('Recall')\n",
        "  plt.xlabel('Epoch')\n",
        "  plt.legend(['train', 'test'], loc='upper left')\n",
        "  plt.savefig(os.path.join(folder_path,'recall_'+str(history_path)+'.png'))\n",
        "  plt.clf()\n",
        "  print('Recall plot created ...')\n",
        "  plt.plot(read_train['lr'])\n",
        "  plt.title('Model Learning rate for :'+str(model_name))\n",
        "  plt.ylabel('Recall')\n",
        "  plt.xlabel('Epoch')\n",
        "  plt.legend(['train'], loc='upper left')\n",
        "  plt.savefig(os.path.join(folder_path,'lr_'+str(history_path)+'.png'))\n",
        "  plt.clf()\n",
        "  print('Learning rate plot created ...')"
      ],
      "execution_count": null,
      "outputs": []
    },
    {
      "cell_type": "code",
      "metadata": {
        "id": "7Q_ZDDUccssu"
      },
      "source": [
        "model_name = 'baseline'\n",
        "model_name_fds = 'baseline full fds'\n",
        "his = np.load('/content/history_baseline.npy',allow_pickle=True).item()\n",
        "print(his)\n",
        "res = np.load('/content/results_baseline.npy',allow_pickle = True)\n",
        "print(res)\n",
        "\n",
        "his_fds = np.load('/content/history_baseline_full_ds.npy',allow_pickle=True).item()\n",
        "print(his_fds)\n",
        "res_fds = np.load('/content/results_baseline_full_ds.npy',allow_pickle = True)\n",
        "print(res_fds)\n"
      ],
      "execution_count": null,
      "outputs": []
    },
    {
      "cell_type": "code",
      "metadata": {
        "id": "Q5XZVt_yfICH"
      },
      "source": [
        "model_name = 'baseline'\n",
        "model_name_fds = 'topic 1000 full fds'\n",
        "his_name = '/content/history_baseline.npy'\n",
        "res_name = '/content/results_baseline.npy'\n",
        "his_fds = '/content/history_topic_1000_full_ds.npy'\n",
        "res_fds = '/content/results_topic_1000_full_ds.npy'\n"
      ],
      "execution_count": null,
      "outputs": []
    },
    {
      "cell_type": "code",
      "metadata": {
        "id": "f0FLTlEeVI03"
      },
      "source": [
        "np.load(res_fds,allow_pickle=True)"
      ],
      "execution_count": null,
      "outputs": []
    },
    {
      "cell_type": "code",
      "metadata": {
        "id": "sIybawz7duFM"
      },
      "source": [
        "#plot_metrics(his_name,res_name,model_name)\n",
        "plot_metrics(his_fds,res_fds,model_name_fds)"
      ],
      "execution_count": null,
      "outputs": []
    },
    {
      "cell_type": "code",
      "metadata": {
        "id": "hEyQaTrvjJSk"
      },
      "source": [
        "shutil.rmtree('/content/gdrive/MyDrive/plots/history_baseline')"
      ],
      "execution_count": null,
      "outputs": []
    },
    {
      "cell_type": "code",
      "metadata": {
        "id": "RCOPA_GUj-IL"
      },
      "source": [
        "#Download the metric files\n",
        "!zip -r /content/history_baseline_full_ds.zip /content/gdrive/MyDrive/plots/history_baseline_full_ds"
      ],
      "execution_count": null,
      "outputs": []
    },
    {
      "cell_type": "code",
      "metadata": {
        "id": "qmFcXY_SnmAw"
      },
      "source": [
        "item_list = ['/content/history_baseline_full_ds.zip','/content/history_baseline.zip']\n",
        "for item in item_list:\n",
        "  files.download(item)"
      ],
      "execution_count": null,
      "outputs": []
    },
    {
      "cell_type": "markdown",
      "metadata": {
        "id": "cB_S1Gj6yndC"
      },
      "source": [
        "#Places 365"
      ]
    },
    {
      "cell_type": "code",
      "metadata": {
        "id": "kHcaH0A4sJ4E"
      },
      "source": [
        "!wget 'http://data.csail.mit.edu/places/places365/places365standard_easyformat.tar'"
      ],
      "execution_count": null,
      "outputs": []
    },
    {
      "cell_type": "code",
      "metadata": {
        "id": "tvl6pTWFuIiv"
      },
      "source": [
        "import tarfile\n",
        "my_tar = tarfile.open('/content/places365standard_easyformat.tar')\n",
        "my_tar.extractall('/content/gdrive/MyDrive/Places365') # specify which folder to extract to\n",
        "my_tar.close()"
      ],
      "execution_count": null,
      "outputs": []
    },
    {
      "cell_type": "code",
      "metadata": {
        "id": "3q7TTorvyd8k"
      },
      "source": [
        "import os\n",
        "arch = 'resnet50'\n",
        "model_file = '%s_places365.pth.tar' % arch\n",
        "if not os.access(model_file, os.W_OK):\n",
        "    weight_url = 'http://places2.csail.mit.edu/models_places365/' + model_file\n",
        "    test = os.system('wget ' + weight_url)\n"
      ],
      "execution_count": null,
      "outputs": []
    },
    {
      "cell_type": "code",
      "metadata": {
        "id": "ee2KJ4tntB2p"
      },
      "source": [
        "weight_url"
      ],
      "execution_count": null,
      "outputs": []
    },
    {
      "cell_type": "code",
      "metadata": {
        "id": "QdWK7bGstYtk"
      },
      "source": [
        "import torch\n",
        "model_dict=torch.load(\"/content/resnet18_places365.pth.tar\")\n",
        "type(model)"
      ],
      "execution_count": null,
      "outputs": []
    },
    {
      "cell_type": "code",
      "metadata": {
        "id": "mXupjGzD89jF"
      },
      "source": [
        "model_dict"
      ],
      "execution_count": null,
      "outputs": []
    },
    {
      "cell_type": "code",
      "metadata": {
        "id": "269GJ28UtvmK"
      },
      "source": [
        "from collections import OrderedDict\n",
        "new_state_dict = OrderedDict()"
      ],
      "execution_count": null,
      "outputs": []
    },
    {
      "cell_type": "code",
      "metadata": {
        "id": "3yJYSagb06bm"
      },
      "source": [
        "import torchvision.models as models\n",
        "\n",
        "from collections import OrderedDict\n",
        "\n",
        "\n",
        "cudnn.benchmark = True\n",
        "model_dict=\n",
        "#resnet18.load_state_dict(checkpoint['state_dict'])\n",
        "\n",
        "pretrained_dict = model.state_dict()\n",
        "#model_dict = model.state_dict()\n",
        "# 1. filter out unnecessary keys\n",
        "pretrained_dict = {k: v for k, v in pretrained_dict.items() if k in model_dict}\n",
        "# 2. overwrite entries in the existing state dict\n",
        "model_dict.update(pretrained_dict)\n",
        "# 3. load the new state dict\n",
        "resnet18.load_state_dict(model_dict)\n",
        "\n",
        "#resnet18.load_state_dict(model['state_dict'],strict=False)"
      ],
      "execution_count": null,
      "outputs": []
    },
    {
      "cell_type": "code",
      "metadata": {
        "id": "ecozeF9C6nb3"
      },
      "source": [
        "Checkpoint = torch.load(\"/content/resnet18_places365.pth.tar\") \n",
        "import torchvision.models as models\n",
        "model = models.resnet18()\n",
        " #modelpath is the address of the model file you want to load.\n",
        "# model.load_state_dict(Checkpoint['state_dict'])\n",
        "# output = model(x)\n",
        "state_dict =Checkpoint['state_dict']\n",
        "from collections import OrderedDict\n",
        "new_state_dict = OrderedDict()\n",
        "\n",
        "for k, v in state_dict.items():\n",
        "    if 'module' not in k:\n",
        "        k = 'module.'+k\n",
        "    else:\n",
        "        k = k.replace('features.module.', 'module.features.')\n",
        "    new_state_dict[k]=v\n",
        "\n",
        "model.load_state_dict(new_state_dict)"
      ],
      "execution_count": null,
      "outputs": []
    },
    {
      "cell_type": "code",
      "metadata": {
        "id": "G-NiG0rVeoth"
      },
      "source": [
        "torch.save({\n",
        "    'state_dict': model.state_dict(),\n",
        "    'optimizer' : optimizer.state_dict(),\n",
        "}, '/content/resnet18_places365.pth.tar')\n",
        "\n",
        "# to load\n",
        "checkpoint = torch.load('/content/resnet18_places365.pth.tar')\n",
        "model.load_state_dict(checkpoint['state_dict'])\n",
        "optimizer.load_state_dict(checkpoint['optimizer'])"
      ],
      "execution_count": null,
      "outputs": []
    },
    {
      "cell_type": "code",
      "metadata": {
        "id": "ZArXBTidHwDU"
      },
      "source": [
        "train_path_places = '/content/gdrive/MyDrive/Places365/places365_standard/train'\n",
        "test = os.listdir(train_path_places)"
      ],
      "execution_count": null,
      "outputs": []
    },
    {
      "cell_type": "code",
      "metadata": {
        "id": "_nO6VXsrAvzE"
      },
      "source": [
        "test"
      ],
      "execution_count": null,
      "outputs": []
    },
    {
      "cell_type": "code",
      "metadata": {
        "id": "0PGKDE2h4wuF"
      },
      "source": [
        "#/content/gdrive/MyDrive/Places365/places365_standard/train/airfield\n",
        "\n",
        "train_folders = []\n",
        "for folder in test:\n",
        "  train_folders.append(os.path.join(train_path_places,folder))\n",
        "print(train_folders)\n",
        "#for t_files in train_folders:\n",
        "  #create_df = 'df_'+t_files\n",
        " # print(t_files) \n",
        "   "
      ],
      "execution_count": null,
      "outputs": []
    },
    {
      "cell_type": "code",
      "metadata": {
        "id": "hWBmI_ZF7J37"
      },
      "source": [
        "folder_dir = '/content/gdrive/MyDrive/Places365/places365_standard/train/museum-indoor'\n",
        "list_files = os.listdir(folder_dir)\n",
        "file_names = map(lambda x:os.path.join('/content/gdrive/MyDrive/Places365/places365_standard/train/museum-indoor',x),list_files)"
      ],
      "execution_count": null,
      "outputs": []
    },
    {
      "cell_type": "code",
      "metadata": {
        "id": "aki9Ay9OC0X_"
      },
      "source": [
        "def get_df(folder_dir):\n",
        "  train_dir = '/content/gdrive/MyDrive/Places365/places365_standard/train/'\n",
        "  folder_name = os.path.join(train_dir,folder_dir)\n",
        "  print('Folder name: ',folder_name)\n",
        "  list_files = os.listdir(folder_name)\n",
        "  print(str(len(list_files))+'files found in ',folder_name)\n",
        "  file_names = map(lambda x:os.path.join(folder_name,x),list_files)\n",
        "  list_file_names = list(file_names)\n",
        "  df_name = 'df_'+folder_dir\n",
        "  df_name = df_name.replace('-','_')\n",
        "  vars()[df_name] = pd.DataFrame({'Image':list_file_names})\n",
        "  #print(vars()[df_name]+' created ...')\n",
        "  print(df_name)\n",
        "  return vars()[df_name]\n"
      ],
      "execution_count": null,
      "outputs": []
    },
    {
      "cell_type": "code",
      "metadata": {
        "id": "LNCZyNjwQ7OL"
      },
      "source": [
        "for folders in os.listdir(train_path_places):\n",
        "  get_df(folders)\n",
        "\n"
      ],
      "execution_count": null,
      "outputs": []
    },
    {
      "cell_type": "code",
      "metadata": {
        "id": "CVaufrLgXpO5"
      },
      "source": [
        "os.listdir(train_path_places)"
      ],
      "execution_count": null,
      "outputs": []
    },
    {
      "cell_type": "markdown",
      "metadata": {
        "id": "_EanY-1KY0kg"
      },
      "source": [
        "##Subsampling Places 365"
      ]
    },
    {
      "cell_type": "code",
      "metadata": {
        "id": "uk9866VdW3I0"
      },
      "source": [
        "df_list = []\n",
        "for folders in os.listdir(train_path_places):\n",
        "  \n",
        "  train_dir = '/content/gdrive/MyDrive/Places365/places365_standard/train/'\n",
        "  folder_name = os.path.join(train_dir,folders)\n",
        "  print('Folder name: ',folder_name)\n",
        "  list_files = os.listdir(folder_name)\n",
        "  print(str(len(list_files))+'files found in ',folder_name)\n",
        "  file_names = map(lambda x:os.path.join(folder_name,x),list_files)\n",
        "  list_file_names = list(file_names)\n",
        "  df_name = 'df_'+folders\n",
        "  df_name = df_name.replace('-','_')\n",
        "  vars()[df_name] = pd.DataFrame({'Image':list_file_names})\n",
        "  #print(vars()[df_name]+' created ...')\n",
        "  df_list.append(df_name)\n",
        "  print(df_name)\n"
      ],
      "execution_count": null,
      "outputs": []
    },
    {
      "cell_type": "code",
      "metadata": {
        "id": "g_o1kvFkPniE"
      },
      "source": [
        "[lambda x:get_df(x) for x in folders)]\n"
      ],
      "execution_count": null,
      "outputs": []
    },
    {
      "cell_type": "code",
      "metadata": {
        "id": "Ku8Sd6gEMatF"
      },
      "source": [
        "get_df('museum-indoor')"
      ],
      "execution_count": null,
      "outputs": []
    },
    {
      "cell_type": "code",
      "metadata": {
        "id": "VbPePXNHAyHs"
      },
      "source": [
        "list_file_names = list(file_names)\n",
        "#get_df(list_file_names)\n",
        "print(list_file_names)\n",
        "df_name = os.path.split(folder_dir)[-1]\n",
        "df_name = df_name.replace('-','_')\n",
        "df_string = 'df_'+df_name\n",
        "vars()[df_string] = pd.DataFrame({'Image':list_file_names})\n",
        "#test =list_file_names\n",
        "print(vars()[df_string]+' created ...')\n",
        "#pd.DataFrame({'Image':test})"
      ],
      "execution_count": null,
      "outputs": []
    },
    {
      "cell_type": "code",
      "metadata": {
        "id": "aP0GyDxCZDI0"
      },
      "source": [
        "def df_add_label(df):\n",
        "  #print(df['Image'][1])\n",
        "  element = str(df['Image'].head(1))\n",
        "  print(element)\n",
        "  label = element.split('/')[-2]\n",
        "  print('Label : ',label)\n",
        "  df['Label'] = label\n"
      ],
      "execution_count": null,
      "outputs": []
    },
    {
      "cell_type": "code",
      "metadata": {
        "id": "4S60ba1_dcrF"
      },
      "source": [
        "df_bazaar_outdoor_test = df_bazaar_outdoor\n",
        "df_add_label(df_bazaar_outdoor_test)"
      ],
      "execution_count": null,
      "outputs": []
    },
    {
      "cell_type": "code",
      "metadata": {
        "id": "jZfR_Pz4eA6K"
      },
      "source": [
        "df_bazaar_outdoor_test.head()"
      ],
      "execution_count": null,
      "outputs": []
    },
    {
      "cell_type": "code",
      "metadata": {
        "id": "85t0JY9NHopn"
      },
      "source": [
        "for x in df_list:\n",
        "  df_add_label(x) \n",
        "#df_add_label(df_airplane_cabin_test)\n"
      ],
      "execution_count": null,
      "outputs": []
    },
    {
      "cell_type": "markdown",
      "metadata": {
        "id": "B0LmrmCKA7W6"
      },
      "source": [
        "### Editing the places 365 csv files\n"
      ]
    },
    {
      "cell_type": "code",
      "metadata": {
        "id": "SebqPz3obcl9"
      },
      "source": [
        "import numpy as np\n",
        "import pandas as pd\n",
        "\n",
        "train = pd.read_csv('/content/train_places365_sampled.csv')\n",
        "#val = pd.read_csv('/content/val_places365_sampled.csv')\n"
      ],
      "execution_count": null,
      "outputs": []
    },
    {
      "cell_type": "code",
      "metadata": {
        "id": "H1G3IBd9P1Ns"
      },
      "source": [
        "class_names_meta = np.unique(final['Label'])\n",
        "class_names_meta\n"
      ],
      "execution_count": null,
      "outputs": []
    },
    {
      "cell_type": "code",
      "metadata": {
        "id": "bzTewIXMmd80"
      },
      "source": [
        "places_365_dict = {}\n",
        "places_365_dict = dict(list(enumerate(class_names_meta)))"
      ],
      "execution_count": null,
      "outputs": []
    },
    {
      "cell_type": "code",
      "metadata": {
        "id": "WNiZAWk7mpG4"
      },
      "source": [
        "places_365_dict"
      ],
      "execution_count": null,
      "outputs": []
    },
    {
      "cell_type": "markdown",
      "metadata": {
        "id": "yO_bckIcjjOd"
      },
      "source": [
        "##DF Sampler Dec"
      ]
    },
    {
      "cell_type": "code",
      "metadata": {
        "id": "bFV4Gk8iPtCl"
      },
      "source": [
        "def df_sampler(df,amount):\n",
        "  df = pd.read_csv(df_file)\n",
        "  class_names_meta = np.unique(df['Label'])\n",
        "  sorted(class_names_meta)\n",
        "  df_list_names = []\n",
        "  df_list = []\n",
        "  for class_name in class_names_meta:\n",
        "    class_name_rep = class_name.replace(\" \",\"_\")\n",
        "    class_name_rep = class_name_rep.replace(\"/\",\"_\")\n",
        "    class_name_rep = class_name_rep.replace(\" \",\"\")\n",
        "    class_name_rep = class_name_rep.replace(\",_\",\"_\")\n",
        "    class_name_rep = class_name_rep.replace(\",\",\"_\")\n",
        "    #print(class_name_rep)\n",
        "    h = \"df_\" + str(class_name_rep)\n",
        "    vars()[h] = df[df['Label'] == class_name]\n",
        "    vars()[h] = vars()[h].sample(amount)\n",
        "    print(\"Created: \",h,' ',len(vars()[h]))\n",
        "    df_list.append(vars()[h])\n",
        "    df_list_names.append(h)\n",
        "  final = pd.concat(df_list)\n",
        "  return final"
      ],
      "execution_count": null,
      "outputs": []
    },
    {
      "cell_type": "code",
      "metadata": {
        "id": "B4lrHGBqTBuF"
      },
      "source": [
        "final = pd.concat(df_list)\n"
      ],
      "execution_count": null,
      "outputs": []
    },
    {
      "cell_type": "code",
      "metadata": {
        "id": "wHklAR85TT6m"
      },
      "source": [
        "final['Image'] = final['Image'].apply(lambda x:x.replace('places365_standard','places365_sampled'))"
      ],
      "execution_count": null,
      "outputs": []
    },
    {
      "cell_type": "code",
      "metadata": {
        "id": "q96_7sKXSBm9"
      },
      "source": [
        "from random import sample"
      ],
      "execution_count": null,
      "outputs": []
    },
    {
      "cell_type": "code",
      "metadata": {
        "id": "lE1iBi5QSenN"
      },
      "source": [
        "len(df_zen_garden)"
      ],
      "execution_count": null,
      "outputs": []
    },
    {
      "cell_type": "code",
      "metadata": {
        "id": "n-gV90bDRJ0A"
      },
      "source": [
        "for name,dataframe in zip(df_list_names,df_list):\n",
        "  dataframe = dataframe.sample(500)"
      ],
      "execution_count": null,
      "outputs": []
    },
    {
      "cell_type": "code",
      "metadata": {
        "id": "7SU9rIcLBDDV"
      },
      "source": [
        "checkpoint = torch.load('filename.pth.tar')\n",
        "model.load_state_dict(checkpoint['state_dict'])\n",
        "optimizer.load_state_dict(checkpoint['optimizer'])"
      ],
      "execution_count": null,
      "outputs": []
    },
    {
      "cell_type": "code",
      "metadata": {
        "id": "ZBdhAcHDUDI9"
      },
      "source": [
        "final.to_csv('short_p365.csv')"
      ],
      "execution_count": null,
      "outputs": []
    },
    {
      "cell_type": "markdown",
      "metadata": {
        "id": "HrCgo1e9ZlwR"
      },
      "source": [
        "##Getting the disjoint of the two dataframes"
      ]
    },
    {
      "cell_type": "code",
      "metadata": {
        "id": "ZFc2efUhZo-9"
      },
      "source": [
        "big_df = pd.read_csv('/content/train_places365_sampled.csv')\n",
        "small_df = pd.read_csv('/content/short_p365.csv')"
      ],
      "execution_count": null,
      "outputs": []
    },
    {
      "cell_type": "code",
      "metadata": {
        "id": "86XwMIFkZ3pK"
      },
      "source": [
        "len(big_df)-len(small_df)"
      ],
      "execution_count": null,
      "outputs": []
    },
    {
      "cell_type": "code",
      "metadata": {
        "id": "MRUjrSe8Z7ld"
      },
      "source": [
        "df = big_df[~big_df['Image'].isin(small_df['Image'])]"
      ],
      "execution_count": null,
      "outputs": []
    },
    {
      "cell_type": "code",
      "metadata": {
        "id": "CtN6XTejaj_H"
      },
      "source": [
        "\n",
        "big_df['Image'] = big_df['Image'].apply(lambda x:x.replace('/Volumes/Backup Plus/Places365_data','/data/s4133366'))\n",
        "big_df['Image'] = big_df['Image'].apply(lambda x:x.replace('places365_standard','places365_sampled'))"
      ],
      "execution_count": null,
      "outputs": []
    },
    {
      "cell_type": "code",
      "metadata": {
        "id": "ply4FYQKayKL"
      },
      "source": [
        "pd.read_csv('short_p365_test.csv')\n",
        "#files.download('short_p365_test.csv')"
      ],
      "execution_count": null,
      "outputs": []
    },
    {
      "cell_type": "code",
      "metadata": {
        "id": "Lrby0Wb2hns3"
      },
      "source": [
        "s1 = pd.merge(small_df, final, how='inner', on=['Image'])"
      ],
      "execution_count": null,
      "outputs": []
    },
    {
      "cell_type": "code",
      "metadata": {
        "id": "9gxS8jNmht91"
      },
      "source": [
        ""
      ],
      "execution_count": null,
      "outputs": []
    },
    {
      "cell_type": "markdown",
      "metadata": {
        "id": "MEFgFvTwcytg"
      },
      "source": [
        "#Making predictions on the baseline model for Places 365 Dataset"
      ]
    },
    {
      "cell_type": "code",
      "metadata": {
        "id": "CRIiLkxLc5Mv"
      },
      "source": [
        "\n",
        "########################\n",
        "model_name = 'baseline_places365_latest_3'\n",
        "model_string = 'Baseline Model for '\n",
        "db_name = 'Places 365 '\n",
        "predictions_csv_file = str(model_name)+'_predictions_tens.csv'\n",
        "data_dir = '/content/drive/places365_sampled/train'\n",
        "cr_name = 'Classification_Report_'+model_name+'_tens.csv'\n",
        "cm_name = 'Confusion matrix_'+model_name+'_tens.png'\n",
        "num_classes = 365\n",
        "test_csv_file = 'short_p365_test.csv'\n",
        "csv_dir = '/content/drive/places365_sampled'\n",
        "save_dir = '/content/drive/MyDrive/saved_models'\n",
        "model_dir = os.path.join(save_dir,model_name)\n",
        "pred_dir = os.path.join(model_dir,'predictions')\n",
        "cr_path = os.path.join(pred_dir,cr_name)\n",
        "cm_path = os.path.join(pred_dir,cm_name)\n",
        "\n",
        "\n",
        "batch_size = 125\n",
        "#############################\n",
        "#Try using the other workflow i.e from csv ...\n",
        "print('Loading CSVs')\n",
        "\n",
        "#For purging the cache ....\n",
        "\n",
        "test_csv = pd.read_csv('/content/short_p365_test.csv')\n",
        "\n",
        "\n"
      ],
      "execution_count": null,
      "outputs": []
    },
    {
      "cell_type": "code",
      "metadata": {
        "id": "Uyk--Y9mkE19"
      },
      "source": [
        "# test_csv = test_csv[['Image','Label']]\n",
        "test_csv['Image'] = test_csv['Image'].apply(lambda x: x.replace('/content/drive/MyDrive','/content/drive/MyDrive/'))"
      ],
      "execution_count": null,
      "outputs": []
    },
    {
      "cell_type": "code",
      "metadata": {
        "id": "4ugdWbcyoxjj"
      },
      "source": [
        "test_csv.head(1) #/content/drive/MyDrive/places365_sampled"
      ],
      "execution_count": null,
      "outputs": []
    },
    {
      "cell_type": "code",
      "metadata": {
        "id": "y8_wy64Jj4S2"
      },
      "source": [
        "testing_data = test_csv\n",
        "\n",
        "print(len(testing_data))\n",
        "\n",
        "\n",
        "\n",
        "print('Data read and loading onto tensors.....')\n",
        "\n",
        "def get_label(file_path):\n",
        "# convert the path to a list of path components separated by sep\n",
        "  parts = tf.strings.split(file_path, os.path.sep)\n",
        "  # The second to last is the class-directory\n",
        "  one_hot = parts[-2] == class_names\n",
        "  # Integer encode the label\n",
        "  return tf.cast(one_hot, tf.int32)\n",
        "\n",
        "def decode_img(img):\n",
        "# convert the compressed string to a 3D uint8 tensor\n",
        "  img = tf.image.decode_jpeg(img, channels=3)  \n",
        "  # resize the image to the desired size\n",
        "  return tf.image.resize(img, [224, 224])\n",
        "\n",
        "\n",
        "def process_TL_Test(file_path):\n",
        "  label = get_label(file_path) \n",
        "  img = tf.io.read_file(file_path) \n",
        "  img = decode_img(img)\n",
        "  img = preprocess_input(img)\n",
        "  img = tf.cast(img/255. ,tf.float32)\n",
        "  return img\n",
        "def process_TL_Labels(file_path):\n",
        "  label = get_label(file_path) \n",
        "  img = tf.io.read_file(file_path) \n",
        "  img = decode_img(img)\n",
        "  img = preprocess_input(img)\n",
        "  img = tf.cast(img/255. ,tf.float32)\n",
        "  return label\n",
        "class_names = np.array(sorted([dir1 for dir1 in os.listdir('/content/drive/MyDrive/places365_sampled/train')]))\n",
        "\n"
      ],
      "execution_count": null,
      "outputs": []
    },
    {
      "cell_type": "code",
      "metadata": {
        "id": "y0IyCbRa2doe"
      },
      "source": [
        "label_dict = dict(list(enumerate(class_names)))\n",
        "label_dict\n",
        "test_labels = testing_data['Label']\n"
      ],
      "execution_count": null,
      "outputs": []
    },
    {
      "cell_type": "code",
      "metadata": {
        "id": "lg9ulIoz3Mh7"
      },
      "source": [
        "class_names = list(sorted([dir1 for dir1 in os.listdir('/content/drive/MyDrive/places365_sampled/train')]))"
      ],
      "execution_count": null,
      "outputs": []
    },
    {
      "cell_type": "code",
      "metadata": {
        "id": "k_bbmy7q3N_t"
      },
      "source": [
        "\n",
        "y_true_test = pd.factorize(test_labels)[0]\n",
        "len(test_labels),len(y_true_test)"
      ],
      "execution_count": null,
      "outputs": []
    },
    {
      "cell_type": "code",
      "metadata": {
        "id": "KsVsrOaN5pbu"
      },
      "source": [
        "len(class_names)"
      ],
      "execution_count": null,
      "outputs": []
    },
    {
      "cell_type": "code",
      "metadata": {
        "id": "hECuqYnjkiCw"
      },
      "source": [
        "\n",
        "\n",
        "\n",
        "print('Converting labels to integers')\n",
        "\n",
        "test_labels = testing_data['Label']\n",
        "test_labels = test_labels.map(label_dict)\n",
        "test_labels = test_labels.to_list()\n",
        "labels = label_dict.keys()\n",
        "\n",
        "print('Labels used in cm plotting: ',labels)\n",
        "\n",
        "print('LOADING THE DATA ON TO TENSORS......')\n",
        "\n",
        "test_data = testing_data['Image']\n",
        "\n",
        "print('Cleaning prior cache ...')\n",
        "\n",
        "\n",
        "print('test cache cleared ....')\n",
        "testing_data = test_csv\n",
        "print(len(testing_data))\n",
        "\n",
        "\n",
        "\n",
        "print(len(test_data))\n",
        "\n",
        "\n",
        "\n",
        "\n",
        "test_tensor = tf.data.Dataset.from_tensors(test_data)\n",
        "\n",
        "\n",
        "test_tensor = test_tensor.unbatch()\n",
        "\n",
        "\n",
        "\n",
        "test_tens = test_tensor.map(process_TL_Test)\n",
        "\n",
        "\n",
        "print('test_tens:',tf.data.experimental.cardinality(test_tens))\n",
        "\n",
        "test_cache = test_tens.cache()\n",
        "\n",
        "#print(tf.data.experimental.cardinality(test_cache))\n",
        "\n",
        "print('Created cache ...')\n",
        "\n",
        "test_batch = test_cache.batch(batch_size)\n",
        "\n",
        "test_ds = test_batch.prefetch(buffer_size=tf.data.experimental.AUTOTUNE)\n",
        "\n",
        "\n"
      ],
      "execution_count": null,
      "outputs": []
    },
    {
      "cell_type": "code",
      "metadata": {
        "id": "eERNJ3YrlPK5"
      },
      "source": [
        "test_ds"
      ],
      "execution_count": null,
      "outputs": []
    },
    {
      "cell_type": "code",
      "metadata": {
        "id": "o43_63FwkxrK"
      },
      "source": [
        "\n",
        "\n",
        "############################\n",
        "model = keras.models.load_model('/content/drive/MyDrive/saved_models/baseline_places365_latest_3_eval')\n",
        "print('Model Loaded: '+os.path.join(model_dir,model_name)+' ...')\n",
        "print(\"Predicting the model\")\n",
        "\n",
        "predictions = model.predict(test_ds,verbose=1,workers = 4,use_multiprocessing = False)\n",
        "################################################\n"
      ],
      "execution_count": null,
      "outputs": []
    },
    {
      "cell_type": "code",
      "metadata": {
        "id": "Hwfqtw8npjNu"
      },
      "source": [
        "predictions.shape"
      ],
      "execution_count": null,
      "outputs": []
    },
    {
      "cell_type": "code",
      "metadata": {
        "id": "-GLW9nVioPTw"
      },
      "source": [
        "\n",
        "\n",
        "#### CHANGE THIS WITH RESPECT TO THE TYPE OF DATA AUG USED #############\n",
        "y_true = y_true_test\n",
        "predictions_test = np.argmax(predictions,axis=1)\n",
        "y_pred = predictions_test\n",
        "\n",
        "#########################################################################################################\n",
        "########################################################################################################\n",
        "\n"
      ],
      "execution_count": null,
      "outputs": []
    },
    {
      "cell_type": "code",
      "metadata": {
        "id": "Cse15SFe2HcC"
      },
      "source": [
        "len(predictions_test)"
      ],
      "execution_count": null,
      "outputs": []
    },
    {
      "cell_type": "code",
      "metadata": {
        "id": "xzxpf1vd4-JB"
      },
      "source": [
        "class_report"
      ],
      "execution_count": null,
      "outputs": []
    },
    {
      "cell_type": "code",
      "metadata": {
        "id": "GCs-riA-2ClB"
      },
      "source": [
        "\n",
        "class_report = classification_report( y_true, y_pred,target_names=class_names,output_dict=True)\n",
        "df_cr = pd.DataFrame(class_report).transpose()\n",
        "df_cr.to_csv('class_report.csv')\n",
        "print('Classification report saved to: '+cr_path)\n",
        "print(classification_report(y_true, y_pred,target_names=class_names))\n",
        "\n"
      ],
      "execution_count": null,
      "outputs": []
    },
    {
      "cell_type": "code",
      "metadata": {
        "id": "XDu_IeZT4ozD"
      },
      "source": [
        "import seaborn as sn\n",
        "print('Plotting the confusion matrix ....')\n",
        "cm = confusion_matrix(y_true,y_pred,labels =  list(range(0,num_classes)) )\n",
        "\n",
        "df_cm = pd.DataFrame(cm,index = class_names  ,columns = class_names  )\n",
        "plt.figure(figsize=(20,20))\n",
        "sn.set(font_scale=1.4) # for label size\n",
        "sn.heatmap(df_cm, annot=False, annot_kws={\"size\": 15},cmap=\"BuPu\") # font size\n",
        "plt.title('Confusion matrix for '+model_string+' using '+db_name+'Dataset')\n",
        "print('Saving plot in '+cm_path+' ...')\n",
        "plt.savefig('confusion_matrix_baseline_p365',bbox_inches=\"tight\")\n",
        "print('Model predicted ....')\n",
        "\n",
        "print('Clearning cache ...')\n",
        "#purge(cache_dir,regu_te) \n",
        "\n",
        "print('Job ended ...')"
      ],
      "execution_count": null,
      "outputs": []
    },
    {
      "cell_type": "code",
      "metadata": {
        "id": "x73mNQ5Sdi2v"
      },
      "source": [
        " weight_list = model.get_weights()\n",
        "len(weight_list)"
      ],
      "execution_count": null,
      "outputs": []
    },
    {
      "cell_type": "code",
      "metadata": {
        "id": "4Pe_uCFKH2gS"
      },
      "source": [
        "weight_list"
      ],
      "execution_count": null,
      "outputs": []
    },
    {
      "cell_type": "code",
      "metadata": {
        "id": "vt8Mtc-9BpBD"
      },
      "source": [
        "outp=model.layers[-2].output\n",
        "\n",
        "model1=keras.models.Model(model.input,outp)\n"
      ],
      "execution_count": null,
      "outputs": []
    },
    {
      "cell_type": "code",
      "metadata": {
        "id": "SnsSw3p8OvjG"
      },
      "source": [
        "model1.save('/content/drive/MyDrive/saved_models/baseline_without_top')"
      ],
      "execution_count": null,
      "outputs": []
    },
    {
      "cell_type": "code",
      "metadata": {
        "id": "AUeFqp5_OZdV"
      },
      "source": [
        "model1.layers[-2].get_weights()"
      ],
      "execution_count": null,
      "outputs": []
    },
    {
      "cell_type": "code",
      "metadata": {
        "id": "0GAn8uZENbDj"
      },
      "source": [
        "model.layers[-3].get_weights()"
      ],
      "execution_count": null,
      "outputs": []
    },
    {
      "cell_type": "code",
      "metadata": {
        "id": "f8Ggsz9FMJFT"
      },
      "source": [
        "for i in model1.layers:\n",
        "  model1.set_weights(model.layers[i].get_weights)"
      ],
      "execution_count": null,
      "outputs": []
    },
    {
      "cell_type": "code",
      "metadata": {
        "id": "FAtcRKURF585"
      },
      "source": [
        "hidden_layer = model.layers[-2].output"
      ],
      "execution_count": null,
      "outputs": []
    },
    {
      "cell_type": "code",
      "metadata": {
        "id": "zyAQ8kcHF9sH"
      },
      "source": [
        "model1.summary()"
      ],
      "execution_count": null,
      "outputs": []
    },
    {
      "cell_type": "code",
      "metadata": {
        "id": "pqz-dwAKg9ZB"
      },
      "source": [
        "weight_list = []\n",
        "for i in model.layers:\n",
        "  weight_list.append(model.layers[i].get_weights())"
      ],
      "execution_count": null,
      "outputs": []
    }
  ]
}